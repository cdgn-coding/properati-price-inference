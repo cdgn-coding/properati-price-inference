{
 "cells": [
  {
   "cell_type": "markdown",
   "metadata": {},
   "source": [
    "# Análisis exploratorio y limpieza de Properati"
   ]
  },
  {
   "cell_type": "markdown",
   "metadata": {},
   "source": [
    "## Precio por metro cuadrado de las propiedades"
   ]
  },
  {
   "cell_type": "markdown",
   "metadata": {},
   "source": [
    "### Exploración de datos faltantes"
   ]
  },
  {
   "cell_type": "markdown",
   "metadata": {},
   "source": [
    "Importamos el dataset."
   ]
  },
  {
   "cell_type": "code",
   "execution_count": 260,
   "metadata": {},
   "outputs": [],
   "source": [
    "import pandas as pd\n",
    "df = pd.read_csv(\"properati.csv\")"
   ]
  },
  {
   "cell_type": "markdown",
   "metadata": {},
   "source": [
    "Inspeccionamos las columnas del dataset"
   ]
  },
  {
   "cell_type": "code",
   "execution_count": 261,
   "metadata": {},
   "outputs": [
    {
     "data": {
      "text/plain": [
       "Index(['Unnamed: 0', 'operation', 'property_type', 'place_name',\n",
       "       'place_with_parent_names', 'country_name', 'state_name', 'geonames_id',\n",
       "       'lat-lon', 'lat', 'lon', 'price', 'currency',\n",
       "       'price_aprox_local_currency', 'price_aprox_usd', 'surface_total_in_m2',\n",
       "       'surface_covered_in_m2', 'price_usd_per_m2', 'price_per_m2', 'floor',\n",
       "       'rooms', 'expenses', 'properati_url', 'description', 'title',\n",
       "       'image_thumbnail'],\n",
       "      dtype='object')"
      ]
     },
     "execution_count": 261,
     "metadata": {},
     "output_type": "execute_result"
    }
   ],
   "source": [
    "df.columns"
   ]
  },
  {
   "cell_type": "markdown",
   "metadata": {},
   "source": [
    "Vemos que el dataset contiene las columnas\n",
    "\n",
    "* ```price``` y ```currency``` que describren el precio (junto a su moneda) con la que fue publicada\n",
    "* ```price_aprox_local_currency``` y ```price_aprox_usd``` contienen los estimados, segun alguna tasa de cambio, a pesos y dólares respectivamente.\n",
    "* ```price_usd_per_m2```, ```price_per_m2``` para el precio por metros cuadrados en dólares y pesos respectivamente\n",
    "* ```surface_covered_in_m2```, ```surface_total_in_m2``` con el tamaño de la propiedad en metros cuadrados. Consideramos que estas columnas podrían ser útiles para entender e imputar los precios por metros cuadrados."
   ]
  },
  {
   "cell_type": "markdown",
   "metadata": {},
   "source": [
    "**¿Cuantos nulos hay en cada una de estas columnas y cuanto representa sobre el total de registros?**"
   ]
  },
  {
   "cell_type": "markdown",
   "metadata": {},
   "source": [
    "Primero, vamos a extraer las columnas que necesitamos para responder esta pregunta y guardarlo en un DataFrame, el cual podremos seguir utilizando más adelante."
   ]
  },
  {
   "cell_type": "code",
   "execution_count": 112,
   "metadata": {},
   "outputs": [],
   "source": [
    "price_related_columns = [\n",
    "    'price',\n",
    "    'currency',\n",
    "    'price_aprox_local_currency',\n",
    "    'price_aprox_usd',\n",
    "    'price_usd_per_m2',\n",
    "    'price_per_m2',\n",
    "    'surface_covered_in_m2',\n",
    "    'surface_total_in_m2'\n",
    "]\n",
    "price_related_df = df.loc[:, price_related_columns]"
   ]
  },
  {
   "cell_type": "code",
   "execution_count": 113,
   "metadata": {},
   "outputs": [
    {
     "data": {
      "text/markdown": [
       "* ```price``` tiene 20410 nulos, lo cual representa el 16.84%"
      ],
      "text/plain": [
       "<IPython.core.display.Markdown object>"
      ]
     },
     "metadata": {},
     "output_type": "display_data"
    },
    {
     "data": {
      "text/markdown": [
       "* ```currency``` tiene 20411 nulos, lo cual representa el 16.84%"
      ],
      "text/plain": [
       "<IPython.core.display.Markdown object>"
      ]
     },
     "metadata": {},
     "output_type": "display_data"
    },
    {
     "data": {
      "text/markdown": [
       "* ```price_aprox_local_currency``` tiene 20410 nulos, lo cual representa el 16.84%"
      ],
      "text/plain": [
       "<IPython.core.display.Markdown object>"
      ]
     },
     "metadata": {},
     "output_type": "display_data"
    },
    {
     "data": {
      "text/markdown": [
       "* ```price_aprox_usd``` tiene 20410 nulos, lo cual representa el 16.84%"
      ],
      "text/plain": [
       "<IPython.core.display.Markdown object>"
      ]
     },
     "metadata": {},
     "output_type": "display_data"
    },
    {
     "data": {
      "text/markdown": [
       "* ```price_usd_per_m2``` tiene 52603 nulos, lo cual representa el 43.39%"
      ],
      "text/plain": [
       "<IPython.core.display.Markdown object>"
      ]
     },
     "metadata": {},
     "output_type": "display_data"
    },
    {
     "data": {
      "text/markdown": [
       "* ```price_per_m2``` tiene 33562 nulos, lo cual representa el 27.69%"
      ],
      "text/plain": [
       "<IPython.core.display.Markdown object>"
      ]
     },
     "metadata": {},
     "output_type": "display_data"
    },
    {
     "data": {
      "text/markdown": [
       "* ```surface_covered_in_m2``` tiene 19907 nulos, lo cual representa el 16.42%"
      ],
      "text/plain": [
       "<IPython.core.display.Markdown object>"
      ]
     },
     "metadata": {},
     "output_type": "display_data"
    },
    {
     "data": {
      "text/markdown": [
       "* ```surface_total_in_m2``` tiene 39328 nulos, lo cual representa el 32.44%"
      ],
      "text/plain": [
       "<IPython.core.display.Markdown object>"
      ]
     },
     "metadata": {},
     "output_type": "display_data"
    }
   ],
   "source": [
    "from IPython.display import Markdown, display\n",
    "\n",
    "nulls_by_column = price_related_df.isnull().sum()\n",
    "dataset_size = df.shape[0]\n",
    "\n",
    "for column in nulls_by_column.index:\n",
    "    column_nulls = nulls_by_column[column]\n",
    "    null_percentage = 100 * column_nulls / dataset_size\n",
    "    display(Markdown(f\"* ```{column}``` tiene {column_nulls} nulos, lo cual representa el {null_percentage:.2f}%\"))"
   ]
  },
  {
   "cell_type": "markdown",
   "metadata": {},
   "source": [
    "Vemos que, en cada uno de estos casos tenemos una cantidad importante de elementos nulos. En especial, notamos que hay más registros con *precio por metro cuadrado* nulo que registros con el *precio* nulo, por lo que creemos que podríamos imputar una parte del precio por metro cuadrado sin introducir sesgos con la propia imputación."
   ]
  },
  {
   "cell_type": "markdown",
   "metadata": {},
   "source": [
    "Dado que vemos la posibilidad imputar el precio por metro cuadrado utilizando las variables *precio* y *superficie*, nos planteamos que tanto nos mejora el dataset que tenemos, por lo tanto nos preguntamos:"
   ]
  },
  {
   "cell_type": "markdown",
   "metadata": {},
   "source": [
    "**¿Cuantos registros no tienen precio por metro cuadrado pero sí precio y superficie? \\\n",
    "¿Cómo es esta cantidad respecto el total?**"
   ]
  },
  {
   "cell_type": "code",
   "execution_count": 114,
   "metadata": {},
   "outputs": [
    {
     "data": {
      "text/markdown": [
       "\n",
       "Utilizando imputación por precio y superficie conseguiremos imputar 24557\n",
       "registros, lo cual representa un 20.26% del total de registros\n",
       "y además un 46.68% de los registros con precios por metros\n",
       "cuadrados nulos. Habiéndolo hecho, sólo quedarán 28046, es decir, \n",
       "23.14% del dataset\n"
      ],
      "text/plain": [
       "<IPython.core.display.Markdown object>"
      ]
     },
     "metadata": {},
     "output_type": "display_data"
    }
   ],
   "source": [
    "# Predicates that describe the question\n",
    "has_price = ~df.price.isnull()\n",
    "has_surface_covered_in_m2 = ~df.surface_covered_in_m2.isnull()\n",
    "has_surface_total_in_m2 = ~df.surface_total_in_m2.isnull()\n",
    "has_null_price_usd_per_m2 = df.price_usd_per_m2.isnull()\n",
    "\n",
    "imputable_price_m2_by_price_surface_mask = has_price & (has_surface_covered_in_m2 | has_surface_total_in_m2) & has_null_price_usd_per_m2\n",
    "imputable_price_m2_by_price_surface_quantity = df.loc[imputable_price_m2_by_price_surface_mask].shape[0]\n",
    "\n",
    "imputable_price_m2_by_price_surface_total_relation = 100 * imputable_price_m2_by_price_surface_quantity / dataset_size\n",
    "\n",
    "nulls_in_price_m2_usd = nulls_by_column['price_usd_per_m2']\n",
    "imputable_price_m2_by_price_surface_null_relation = 100 * imputable_price_m2_by_price_surface_quantity / nulls_in_price_m2_usd\n",
    "\n",
    "left_to_impute_price_m2 = nulls_in_price_m2_usd - imputable_price_m2_by_price_surface_quantity\n",
    "left_to_impute_price_m2_percentage = 100 * (nulls_in_price_m2_usd - imputable_price_m2_by_price_surface_quantity) / dataset_size\n",
    "\n",
    "display(Markdown(f\"\"\"\n",
    "Utilizando imputación por precio y superficie conseguiremos imputar {imputable_price_m2_by_price_surface_quantity}\n",
    "registros, lo cual representa un {imputable_price_m2_by_price_surface_total_relation:.2f}% del total de registros\n",
    "y además un {imputable_price_m2_by_price_surface_null_relation:.2f}% de los registros con precios por metros\n",
    "cuadrados nulos. Habiéndolo hecho, sólo quedarán {left_to_impute_price_m2}, es decir, \n",
    "{left_to_impute_price_m2_percentage:.2f}% del dataset\n",
    "\"\"\"))"
   ]
  },
  {
   "cell_type": "code",
   "execution_count": 115,
   "metadata": {},
   "outputs": [
    {
     "data": {
      "text/markdown": [
       "\n",
       "Sin embargo, queremos ver que podemos hacer con ese 23% de datos. Veamos como están estos datos. \n",
       "\n",
       "Hay 15677 registros con precio pero con superficie nula y\n",
       "7636 registros con superficie pero con el precio nulo. \n",
       "\n",
       "Esto vendría a representar 19.23% del dataset.\n"
      ],
      "text/plain": [
       "<IPython.core.display.Markdown object>"
      ]
     },
     "metadata": {},
     "output_type": "display_data"
    }
   ],
   "source": [
    "price_without_surface = df.loc[~has_price & (has_surface_covered_in_m2 | has_surface_total_in_m2)].shape[0]\n",
    "surface_without_price = df.loc[has_price & ~(has_surface_covered_in_m2 | has_surface_total_in_m2)].shape[0]\n",
    "\n",
    "problematic_imputation_price_m2 = (100 * (price_without_surface + surface_without_price) / dataset_size)\n",
    "\n",
    "display(Markdown(f\"\"\"\n",
    "Sin embargo, queremos ver que podemos hacer con ese 23% de datos. Veamos como están estos datos. \\n\n",
    "Hay {price_without_surface} registros con precio pero con superficie nula y\n",
    "{surface_without_price} registros con superficie pero con el precio nulo. \\n\n",
    "Esto vendría a representar {problematic_imputation_price_m2:.2f}% del dataset.\n",
    "\"\"\"))"
   ]
  },
  {
   "cell_type": "markdown",
   "metadata": {},
   "source": [
    "*Supongamos* que podamos obtener un estimado de superficie dado una cierta cantidad de ambientes de la propiedad.\n",
    "\n",
    "**¿Cuantos podríamos imputar, al menos por tipo de propiedad?**"
   ]
  },
  {
   "cell_type": "code",
   "execution_count": 116,
   "metadata": {},
   "outputs": [
    {
     "data": {
      "text/markdown": [
       "\n",
       "Podemos imputar 10213 registros de superficie utilizando los ambientes de la propiedad.\n",
       "Representando un 8.43% del total.\n",
       "En este sentido, quedarían 10.81% de precios  por metro cuadrado que quedan por imputar.\n"
      ],
      "text/plain": [
       "<IPython.core.display.Markdown object>"
      ]
     },
     "metadata": {},
     "output_type": "display_data"
    }
   ],
   "source": [
    "has_rooms = df.rooms.isnull()\n",
    "has_rooms_but_not_specified_surface_mask = has_rooms & ~has_price & (has_surface_covered_in_m2 | has_surface_total_in_m2)\n",
    "has_rooms_but_not_specified_surface = df.loc[has_rooms_but_not_specified_surface_mask]\n",
    "imputable_surface_by_rooms = has_rooms_but_not_specified_surface.shape[0]\n",
    "imputable_surface_by_rooms_percentage = 100 * (imputable_surface_by_rooms / dataset_size)\n",
    "left_to_impute_percentage = problematic_imputation_price_m2 - imputable_surface_by_rooms_percentage\n",
    "\n",
    "display(Markdown(f\"\"\"\n",
    "Podemos imputar {imputable_surface_by_rooms} registros de superficie utilizando los ambientes de la propiedad.\n",
    "Representando un {imputable_surface_by_rooms_percentage:.2f}% del total.\n",
    "En este sentido, quedarían {left_to_impute_percentage:.2f}% de precios  por metro cuadrado que quedan por imputar.\n",
    "\"\"\"))"
   ]
  },
  {
   "cell_type": "markdown",
   "metadata": {},
   "source": [
    "Quiere decir que si planteamos una estrategia de imputación de la superficie, solo nos quedarían por imputar un 10% más.\n",
    "\n",
    "Por otro lado, aunque hemos hecho ciertos cálculos sobre la efectividad que tienen distintos approach de imputación, reconocemos que el cálculo puede no ser del todo exacto, esto es porque relaciones entre precio, superficie cubierta y total pueden depender de la zona o el  tipo de propiedad."
   ]
  },
  {
   "cell_type": "markdown",
   "metadata": {},
   "source": [
    "**Aclaración acerca la comparación de precios de propiedades**\n",
    "\n",
    "Para poder comparar dos datos de la forma más efectiva, estos deben estar en una unidad inmutable. No obstante, para el caso de los precios esto no es del todo posible, dado que se expresa en una moneda en concreto, cuyo valor fluctúa en el tiempo."
   ]
  },
  {
   "cell_type": "markdown",
   "metadata": {},
   "source": [
    "**¿Cual es la tasa de cambio a dólares para los inmuebles en pesos?**"
   ]
  },
  {
   "cell_type": "code",
   "execution_count": 121,
   "metadata": {},
   "outputs": [],
   "source": [
    "currency_conversions = (df.price[df.currency == 'ARS'] / df.price_aprox_usd[df.currency == 'ARS'])"
   ]
  },
  {
   "cell_type": "code",
   "execution_count": 122,
   "metadata": {},
   "outputs": [
    {
     "data": {
      "text/plain": [
       "count    13219.000000\n",
       "mean        17.814183\n",
       "std          0.102316\n",
       "min         17.143000\n",
       "25%         17.830500\n",
       "50%         17.830501\n",
       "75%         17.830502\n",
       "max         17.830531\n",
       "dtype: float64"
      ]
     },
     "execution_count": 122,
     "metadata": {},
     "output_type": "execute_result"
    }
   ],
   "source": [
    "currency_conversions.describe()"
   ]
  },
  {
   "cell_type": "markdown",
   "metadata": {},
   "source": [
    "**¿Cual es la tasa de cambio a dólares para los inmuebles en dólares?**"
   ]
  },
  {
   "cell_type": "code",
   "execution_count": 118,
   "metadata": {},
   "outputs": [
    {
     "data": {
      "text/plain": [
       "count    8.758700e+04\n",
       "mean     1.764450e+01\n",
       "std      1.236618e-08\n",
       "min      1.764450e+01\n",
       "25%      1.764450e+01\n",
       "50%      1.764450e+01\n",
       "75%      1.764450e+01\n",
       "max      1.764450e+01\n",
       "dtype: float64"
      ]
     },
     "execution_count": 118,
     "metadata": {},
     "output_type": "execute_result"
    }
   ],
   "source": [
    "(df.price_aprox_local_currency[df.currency == 'USD'] / df.price[df.currency == 'USD']).describe()"
   ]
  },
  {
   "cell_type": "markdown",
   "metadata": {},
   "source": [
    "**Aclaración acerca de las tasas de cambio**"
   ]
  },
  {
   "cell_type": "markdown",
   "metadata": {},
   "source": [
    "Notamos en la sección anterior que se describen precios en dólares en torno a los 17 pesos por dólar (variando en decimales) y con una cierta desviación típica que, aunque parezca pequeña (en torno a 0.1), para el valor de las propiedades puede significar una gran diferencia.\n",
    "\n",
    "Para ejemplificar este hecho pongamos una propiedad A que vale 2.000.000 ARS a tasa de cambio 17, y pongamos otra propiedad B que vale 2.011.764 ARS a una tasa de cambio 17.1. Esto significa que, en realidad, A y B valen exactamente igual si expresamos el precio en dólares: 117.647 USD."
   ]
  },
  {
   "cell_type": "markdown",
   "metadata": {},
   "source": [
    "**Decisión de diseño y consideraciones**"
   ]
  },
  {
   "cell_type": "markdown",
   "metadata": {},
   "source": [
    "Estamos considerando el USD como una moneda relativamente inmutable, esto no es del todo cierto, dado que sufre en torno al 2% de inflación anual. En consecuencia, estimar el valor de una propiedad en dólares utilizando la muestra que tenemos puede llevar a un cierto margen de error que aunque podamos estimarlo con diversos indicadores econmómicos."
   ]
  },
  {
   "cell_type": "markdown",
   "metadata": {},
   "source": [
    "### Estrategia de imputación"
   ]
  },
  {
   "cell_type": "markdown",
   "metadata": {},
   "source": [
    "Con la exploración que hicimos anteriormente en torno al valor de los precios, creemos ya conveniente definir la estrategia de imputación, dividido en pasos.\n",
    "\n",
    "1. Establecer una regla de conversión de pesos a dólares\n",
    "2. Imputación de la columna ```surface_total_in_m2``` utilizando ```surface_covered_in_m2```\n",
    "3. Imputar las columnas ```surface_total_in_m2``` y ```surface_covered_in_m2``` utilizando otras variables disponibles, como la cantidad de ambientes y el tipo de propiedad.\n",
    "4. Imputación de la columna ```price_usd_per_m2``` utilizando la columna ```price``` y ```surface_total_in_m2```\n",
    "4. Imputar el resto de precios utilizando una simulación, en caso que lo veamos conveniente.\n",
    "\n",
    "En cada imputación, agregaremos la columna con los datos calculados y además, una nueva columna que identificará si se ha imputado o no, da tal forma que pueda ser analizado a posteriori."
   ]
  },
  {
   "cell_type": "markdown",
   "metadata": {},
   "source": [
    "#### 1. Establecer una regla de conversión de pesos a dólares"
   ]
  },
  {
   "cell_type": "markdown",
   "metadata": {},
   "source": [
    "**¿Qué tasa de cambio tomamos? ¿Cómo es la distribución de tasas de cambio?**"
   ]
  },
  {
   "cell_type": "code",
   "execution_count": 180,
   "metadata": {},
   "outputs": [
    {
     "data": {
      "text/html": [
       "<div>\n",
       "<style scoped>\n",
       "    .dataframe tbody tr th:only-of-type {\n",
       "        vertical-align: middle;\n",
       "    }\n",
       "\n",
       "    .dataframe tbody tr th {\n",
       "        vertical-align: top;\n",
       "    }\n",
       "\n",
       "    .dataframe thead tr th {\n",
       "        text-align: left;\n",
       "    }\n",
       "\n",
       "    .dataframe thead tr:last-of-type th {\n",
       "        text-align: right;\n",
       "    }\n",
       "</style>\n",
       "<table border=\"1\" class=\"dataframe\">\n",
       "  <thead>\n",
       "    <tr>\n",
       "      <th></th>\n",
       "      <th colspan=\"8\" halign=\"left\">conversion_to_dolar</th>\n",
       "    </tr>\n",
       "    <tr>\n",
       "      <th></th>\n",
       "      <th>count</th>\n",
       "      <th>mean</th>\n",
       "      <th>std</th>\n",
       "      <th>min</th>\n",
       "      <th>25%</th>\n",
       "      <th>50%</th>\n",
       "      <th>75%</th>\n",
       "      <th>max</th>\n",
       "    </tr>\n",
       "    <tr>\n",
       "      <th>currency</th>\n",
       "      <th></th>\n",
       "      <th></th>\n",
       "      <th></th>\n",
       "      <th></th>\n",
       "      <th></th>\n",
       "      <th></th>\n",
       "      <th></th>\n",
       "      <th></th>\n",
       "    </tr>\n",
       "  </thead>\n",
       "  <tbody>\n",
       "    <tr>\n",
       "      <th>ARS</th>\n",
       "      <td>13219.0</td>\n",
       "      <td>17.814183</td>\n",
       "      <td>1.023164e-01</td>\n",
       "      <td>17.143</td>\n",
       "      <td>17.8305</td>\n",
       "      <td>17.830501</td>\n",
       "      <td>17.830502</td>\n",
       "      <td>17.830531</td>\n",
       "    </tr>\n",
       "    <tr>\n",
       "      <th>PEN</th>\n",
       "      <td>2.0</td>\n",
       "      <td>3.244000</td>\n",
       "      <td>3.916455e-08</td>\n",
       "      <td>3.244</td>\n",
       "      <td>3.2440</td>\n",
       "      <td>3.244000</td>\n",
       "      <td>3.244000</td>\n",
       "      <td>3.244000</td>\n",
       "    </tr>\n",
       "    <tr>\n",
       "      <th>USD</th>\n",
       "      <td>87587.0</td>\n",
       "      <td>1.000000</td>\n",
       "      <td>0.000000e+00</td>\n",
       "      <td>1.000</td>\n",
       "      <td>1.0000</td>\n",
       "      <td>1.000000</td>\n",
       "      <td>1.000000</td>\n",
       "      <td>1.000000</td>\n",
       "    </tr>\n",
       "    <tr>\n",
       "      <th>UYU</th>\n",
       "      <td>1.0</td>\n",
       "      <td>28.285000</td>\n",
       "      <td>NaN</td>\n",
       "      <td>28.285</td>\n",
       "      <td>28.2850</td>\n",
       "      <td>28.285000</td>\n",
       "      <td>28.285000</td>\n",
       "      <td>28.285000</td>\n",
       "    </tr>\n",
       "  </tbody>\n",
       "</table>\n",
       "</div>"
      ],
      "text/plain": [
       "         conversion_to_dolar                                            \\\n",
       "                       count       mean           std     min      25%   \n",
       "currency                                                                 \n",
       "ARS                  13219.0  17.814183  1.023164e-01  17.143  17.8305   \n",
       "PEN                      2.0   3.244000  3.916455e-08   3.244   3.2440   \n",
       "USD                  87587.0   1.000000  0.000000e+00   1.000   1.0000   \n",
       "UYU                      1.0  28.285000           NaN  28.285  28.2850   \n",
       "\n",
       "                                           \n",
       "                50%        75%        max  \n",
       "currency                                   \n",
       "ARS       17.830501  17.830502  17.830531  \n",
       "PEN        3.244000   3.244000   3.244000  \n",
       "USD        1.000000   1.000000   1.000000  \n",
       "UYU       28.285000  28.285000  28.285000  "
      ]
     },
     "execution_count": 180,
     "metadata": {},
     "output_type": "execute_result"
    }
   ],
   "source": [
    "import seaborn as sns\n",
    "import pandas as pd\n",
    "import matplotlib.pyplot as plt\n",
    "\n",
    "currency_conversions = df.price / df.price_aprox_usd\n",
    "data = df.copy()\n",
    "data['conversion_to_dolar'] = currency_conversions\n",
    "\n",
    "conversion_description = data.loc[:, ['currency', 'conversion_to_dolar']].groupby('currency').describe()\n",
    "conversion_description"
   ]
  },
  {
   "cell_type": "code",
   "execution_count": 294,
   "metadata": {},
   "outputs": [
    {
     "name": "stdout",
     "output_type": "stream",
     "text": [
      "\n",
      "El skew value es -6.304800967952982\n",
      "\n"
     ]
    }
   ],
   "source": [
    "print(f\"\"\"\n",
    "El skew value es {ars_conversion.skew()}\n",
    "\"\"\")"
   ]
  },
  {
   "cell_type": "markdown",
   "metadata": {},
   "source": [
    "Como el skew es menor que -1, podemos afirmar que hay outliers hacia la izquierda. Esto también se puede ver de manera gráfica:"
   ]
  },
  {
   "cell_type": "code",
   "execution_count": 286,
   "metadata": {},
   "outputs": [
    {
     "data": {
      "text/plain": [
       "<matplotlib.axes._subplots.AxesSubplot at 0x1d6bfac3e08>"
      ]
     },
     "execution_count": 286,
     "metadata": {},
     "output_type": "execute_result"
    },
    {
     "data": {
      "image/png": "[encoded data removed]",
      "text/plain": [
       "<Figure size 432x288 with 1 Axes>"
      ]
     },
     "metadata": {
      "needs_background": "light"
     },
     "output_type": "display_data"
    }
   ],
   "source": [
    "ars_conversion = data.loc[(data.currency == 'ARS'), 'conversion_to_dolar']\n",
    "sns.boxplot(ars_conversion)"
   ]
  },
  {
   "cell_type": "markdown",
   "metadata": {},
   "source": [
    "**¿Cómo sería la distribución quitando los outliers?**"
   ]
  },
  {
   "cell_type": "code",
   "execution_count": 285,
   "metadata": {},
   "outputs": [
    {
     "data": {
      "image/png": "[encoded data removed]",
      "text/plain": [
       "<Figure size 432x288 with 1 Axes>"
      ]
     },
     "metadata": {
      "needs_background": "light"
     },
     "output_type": "display_data"
    }
   ],
   "source": [
    "q1 = ars_conversion.quantile(0.25)\n",
    "q2 = ars_conversion.quantile(0.5)\n",
    "q3 = ars_conversion.quantile(0.75)\n",
    "\n",
    "iqr = q3 - q1\n",
    "\n",
    "up_threshold = q3 + 1.5 * iqr\n",
    "low_threshold = q1 - 1.5* iqr\n",
    "\n",
    "no_outliers_mask = (ars_conversion > low_threshold) & (ars_conversion < up_threshold)\n",
    "\n",
    "ax = sns.boxplot(ars_conversion[no_outliers_mask], orient = 'v').set(\n",
    "    xlabel='', \n",
    "    ylabel='Tasa de conversión'\n",
    ")"
   ]
  },
  {
   "cell_type": "code",
   "execution_count": 296,
   "metadata": {},
   "outputs": [
    {
     "name": "stdout",
     "output_type": "stream",
     "text": [
      "El skew es 0.0 cuando quitamos los outliers\n"
     ]
    }
   ],
   "source": [
    "print(f\"El skew es {ars_conversion[no_outliers_mask].skew()} cuando quitamos los outliers\")"
   ]
  },
  {
   "cell_type": "code",
   "execution_count": 373,
   "metadata": {},
   "outputs": [
    {
     "data": {
      "text/plain": [
       "count    1.243400e+04\n",
       "mean     1.783050e+01\n",
       "std      8.698432e-07\n",
       "min      1.783050e+01\n",
       "25%      1.783050e+01\n",
       "50%      1.783050e+01\n",
       "75%      1.783050e+01\n",
       "max      1.783050e+01\n",
       "Name: conversion_to_dolar, dtype: float64"
      ]
     },
     "execution_count": 373,
     "metadata": {},
     "output_type": "execute_result"
    }
   ],
   "source": [
    "ars_conversion[no_outliers_mask].describe()"
   ]
  },
  {
   "cell_type": "code",
   "execution_count": 455,
   "metadata": {},
   "outputs": [
    {
     "name": "stdout",
     "output_type": "stream",
     "text": [
      "\n",
      "Sin outliers hemos tomado un 94.06% de los datos que teníamos.\n",
      "Considerando solamente 785 registros como outliers\n",
      "\n"
     ]
    }
   ],
   "source": [
    "n_without_outliers = ars_conversion[no_outliers_mask].shape[0]\n",
    "n_including_outliers = ars_conversion.shape[0]\n",
    "\n",
    "taken_percentage = 100 * n_without_outliers / n_including_outliers\n",
    "print(f\"\"\"\n",
    "Sin outliers hemos tomado un {taken_percentage:.2f}% de los datos que teníamos.\n",
    "Considerando solamente {n_including_outliers - n_without_outliers} registros como outliers\n",
    "\"\"\")"
   ]
  },
  {
   "cell_type": "markdown",
   "metadata": {},
   "source": [
    "Podemos ver que, quitando los outliers utilizando el rango intercuartil obtuvimos un rango de tasas de cambio más acotado y con una desviación típica en el orden de $10^{-7}$. Significando que, para un precio en pesos en el orden de $10^{7}$ (decenas de millones de pesos o cientos de miles de dólares), tendríamos un error típicamente en el orden de las *unidades* de dólares, lo cual consideramos aceptable.\n",
    "\n",
    "Por esta razón, decidimos continuar con la media truncada como estrategia de conversión para los datos faltantes. El cálculo de la media truncada lo vamos a encapsular en una función para usarla más adeante."
   ]
  },
  {
   "cell_type": "code",
   "execution_count": 454,
   "metadata": {},
   "outputs": [],
   "source": [
    "def get_ars_2_usd_trimmed_mean(df):\n",
    "    # Compute conversion for ARS\n",
    "    currency_conversions_all = df.price / df.price_aprox_usd\n",
    "    ars_conversion = currency_conversions[df.currency == 'ARS']\n",
    "\n",
    "    # Compute quartiles\n",
    "    q1 = ars_conversion.quantile(0.25)\n",
    "    q2 = ars_conversion.quantile(0.5)\n",
    "    q3 = ars_conversion.quantile(0.75)\n",
    "\n",
    "    # Compute interquartile range\n",
    "    iqr = q3 - q1\n",
    "\n",
    "    # Compute outlier thresholds\n",
    "    up_threshold = q3 + 1.5 * iqr\n",
    "    low_threshold = q1 - 1.5* iqr\n",
    "\n",
    "    # Filter outliers\n",
    "    no_outliers_mask = (ars_conversion > low_threshold) & (ars_conversion < up_threshold)\n",
    "    ars_conversion_without_outliers = ars_conversion[no_outliers_mask]\n",
    "    \n",
    "    ars_conversion_trimmed_mean = ars_conversion_without_outliers.mean()\n",
    "    return ars_conversion_trimmed_mean"
   ]
  },
  {
   "cell_type": "markdown",
   "metadata": {},
   "source": [
    "#### 2. Imputación de la columna ```surface_total_in_m2``` utilizando ```surface_covered_in_m2```"
   ]
  },
  {
   "cell_type": "markdown",
   "metadata": {},
   "source": [
    "Estudiemos qué está sucediendo con los registros sin superficie total especificada, pero con superficie cubierta."
   ]
  },
  {
   "cell_type": "markdown",
   "metadata": {},
   "source": [
    "**¿Cual es el % de nulos por tipo de propiedad?**"
   ]
  },
  {
   "cell_type": "code",
   "execution_count": 467,
   "metadata": {},
   "outputs": [],
   "source": [
    "data = df.loc[:, ['property_type', 'surface_total_in_m2', 'surface_covered_in_m2']]"
   ]
  },
  {
   "cell_type": "markdown",
   "metadata": {},
   "source": [
    "**¿Existe relación entre estas variables?**"
   ]
  },
  {
   "cell_type": "code",
   "execution_count": 468,
   "metadata": {},
   "outputs": [
    {
     "data": {
      "text/html": [
       "<div>\n",
       "<style scoped>\n",
       "    .dataframe tbody tr th:only-of-type {\n",
       "        vertical-align: middle;\n",
       "    }\n",
       "\n",
       "    .dataframe tbody tr th {\n",
       "        vertical-align: top;\n",
       "    }\n",
       "\n",
       "    .dataframe thead th {\n",
       "        text-align: right;\n",
       "    }\n",
       "</style>\n",
       "<table border=\"1\" class=\"dataframe\">\n",
       "  <thead>\n",
       "    <tr style=\"text-align: right;\">\n",
       "      <th></th>\n",
       "      <th></th>\n",
       "      <th>surface_total_in_m2</th>\n",
       "      <th>surface_covered_in_m2</th>\n",
       "    </tr>\n",
       "    <tr>\n",
       "      <th>property_type</th>\n",
       "      <th></th>\n",
       "      <th></th>\n",
       "      <th></th>\n",
       "    </tr>\n",
       "  </thead>\n",
       "  <tbody>\n",
       "    <tr>\n",
       "      <th rowspan=\"2\" valign=\"top\">PH</th>\n",
       "      <th>surface_total_in_m2</th>\n",
       "      <td>1.000000</td>\n",
       "      <td>0.260985</td>\n",
       "    </tr>\n",
       "    <tr>\n",
       "      <th>surface_covered_in_m2</th>\n",
       "      <td>0.260985</td>\n",
       "      <td>1.000000</td>\n",
       "    </tr>\n",
       "    <tr>\n",
       "      <th rowspan=\"2\" valign=\"top\">apartment</th>\n",
       "      <th>surface_total_in_m2</th>\n",
       "      <td>1.000000</td>\n",
       "      <td>0.014793</td>\n",
       "    </tr>\n",
       "    <tr>\n",
       "      <th>surface_covered_in_m2</th>\n",
       "      <td>0.014793</td>\n",
       "      <td>1.000000</td>\n",
       "    </tr>\n",
       "    <tr>\n",
       "      <th rowspan=\"2\" valign=\"top\">house</th>\n",
       "      <th>surface_total_in_m2</th>\n",
       "      <td>1.000000</td>\n",
       "      <td>0.093926</td>\n",
       "    </tr>\n",
       "    <tr>\n",
       "      <th>surface_covered_in_m2</th>\n",
       "      <td>0.093926</td>\n",
       "      <td>1.000000</td>\n",
       "    </tr>\n",
       "    <tr>\n",
       "      <th rowspan=\"2\" valign=\"top\">store</th>\n",
       "      <th>surface_total_in_m2</th>\n",
       "      <td>1.000000</td>\n",
       "      <td>0.775905</td>\n",
       "    </tr>\n",
       "    <tr>\n",
       "      <th>surface_covered_in_m2</th>\n",
       "      <td>0.775905</td>\n",
       "      <td>1.000000</td>\n",
       "    </tr>\n",
       "  </tbody>\n",
       "</table>\n",
       "</div>"
      ],
      "text/plain": [
       "                                     surface_total_in_m2  \\\n",
       "property_type                                              \n",
       "PH            surface_total_in_m2               1.000000   \n",
       "              surface_covered_in_m2             0.260985   \n",
       "apartment     surface_total_in_m2               1.000000   \n",
       "              surface_covered_in_m2             0.014793   \n",
       "house         surface_total_in_m2               1.000000   \n",
       "              surface_covered_in_m2             0.093926   \n",
       "store         surface_total_in_m2               1.000000   \n",
       "              surface_covered_in_m2             0.775905   \n",
       "\n",
       "                                     surface_covered_in_m2  \n",
       "property_type                                               \n",
       "PH            surface_total_in_m2                 0.260985  \n",
       "              surface_covered_in_m2               1.000000  \n",
       "apartment     surface_total_in_m2                 0.014793  \n",
       "              surface_covered_in_m2               1.000000  \n",
       "house         surface_total_in_m2                 0.093926  \n",
       "              surface_covered_in_m2               1.000000  \n",
       "store         surface_total_in_m2                 0.775905  \n",
       "              surface_covered_in_m2               1.000000  "
      ]
     },
     "execution_count": 468,
     "metadata": {},
     "output_type": "execute_result"
    }
   ],
   "source": [
    "data.groupby('property_type').corr()"
   ]
  },
  {
   "cell_type": "code",
   "execution_count": 473,
   "metadata": {},
   "outputs": [
    {
     "data": {
      "image/png": "[encoded data removed]",
      "text/plain": [
       "<Figure size 432x288 with 1 Axes>"
      ]
     },
     "metadata": {
      "needs_background": "light"
     },
     "output_type": "display_data"
    }
   ],
   "source": [
    "sns.scatterplot(\n",
    "    data.loc[data.property_type == 'apartment', 'surface_covered_in_m2'],\n",
    "    data.loc[data.property_type == 'apartment', 'surface_total_in_m2']);"
   ]
  },
  {
   "cell_type": "code",
   "execution_count": 479,
   "metadata": {},
   "outputs": [
    {
     "data": {
      "text/plain": [
       "<matplotlib.axes._subplots.AxesSubplot at 0x1d6cb6961c8>"
      ]
     },
     "execution_count": 479,
     "metadata": {},
     "output_type": "execute_result"
    },
    {
     "data": {
      "image/png": "[encoded data removed]",
      "text/plain": [
       "<Figure size 432x288 with 1 Axes>"
      ]
     },
     "metadata": {
      "needs_background": "light"
     },
     "output_type": "display_data"
    }
   ],
   "source": [
    "df.loc[data.property_type == 'apartment', 'surface_covered_in_m2'].hist()"
   ]
  },
  {
   "cell_type": "code",
   "execution_count": 480,
   "metadata": {},
   "outputs": [
    {
     "data": {
      "text/plain": [
       "<matplotlib.axes._subplots.AxesSubplot at 0x1d6cc90e1c8>"
      ]
     },
     "execution_count": 480,
     "metadata": {},
     "output_type": "execute_result"
    },
    {
     "data": {
      "image/png": "[encoded data removed]",
      "text/plain": [
       "<Figure size 432x288 with 1 Axes>"
      ]
     },
     "metadata": {
      "needs_background": "light"
     },
     "output_type": "display_data"
    }
   ],
   "source": [
    "sns.boxplot(df.loc[data.property_type == 'apartment', 'surface_covered_in_m2'])"
   ]
  },
  {
   "cell_type": "code",
   "execution_count": null,
   "metadata": {},
   "outputs": [],
   "source": []
  }
 ],
 "metadata": {
  "kernelspec": {
   "display_name": "Python 3",
   "language": "python",
   "name": "python3"
  },
  "language_info": {
   "codemirror_mode": {
    "name": "ipython",
    "version": 3
   },
   "file_extension": ".py",
   "mimetype": "text/x-python",
   "name": "python",
   "nbconvert_exporter": "python",
   "pygments_lexer": "ipython3",
   "version": "3.7.6"
  }
 },
 "nbformat": 4,
 "nbformat_minor": 4
}
