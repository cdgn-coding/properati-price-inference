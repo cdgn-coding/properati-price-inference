{
 "cells": [
  {
   "cell_type": "code",
   "execution_count": 6,
   "metadata": {},
   "outputs": [],
   "source": [
    "import pandas as pd\n",
    "\n",
    "def load_dataset(orig = False):\n",
    "    if orig:\n",
    "        return pd.read_csv(\"properati.csv\")\n",
    "    return pd.read_csv(\"properati_clean.csv\")"
   ]
  },
  {
   "cell_type": "code",
   "execution_count": 10,
   "metadata": {},
   "outputs": [],
   "source": [
    "from sklearn.linear_model import LinearRegression\n",
    "from sklearn.linear_model import Lasso\n",
    "from sklearn.linear_model import Ridge\n",
    "\n",
    "from sklearn.preprocessing import StandardScaler\n",
    "\n",
    "from sklearn.model_selection import train_test_split\n",
    "\n",
    "from sklearn.metrics import r2_score\n",
    "from sklearn.metrics import mean_absolute_error as mae\n",
    "from sklearn.metrics import mean_squared_error as mse\n",
    "\n",
    "import seaborn as sns\n",
    "import matplotlib.pyplot as plt\n",
    "\n",
    "def prepare_data(data, dicotomical, categorical, numerical, target):\n",
    "    # Append dummy columns\n",
    "    for column in dicotomical + categorical:\n",
    "        dummies = pd.get_dummies(data[column], prefix = column, drop_first = True)\n",
    "        data = data.join(dummies)\n",
    "    \n",
    "    dicotomical_dummy_cols = [name + '_True' for name in dicotomical]\n",
    "    categorical_dummy_cols = [column for name in categorical for column in data.columns if name + '_' in column]\n",
    "    \n",
    "    feature_cols = dicotomical_dummy_cols + categorical_dummy_cols + numerical\n",
    "    \n",
    "    data = data.loc[:, feature_cols + [target]].dropna()\n",
    "    index_train, index_test = train_test_split(data.index)\n",
    "    \n",
    "    # Aplico standard scaler a las numericas\n",
    "    columns_to_scale = numerical\n",
    "    scaler = StandardScaler()\n",
    "    scaler.fit(data.loc[index_train, columns_to_scale])\n",
    "    scaled_matrix = scaler.transform(data.loc[:, columns_to_scale])\n",
    "    scaled_columns = [column + '_scaled' for column in columns_to_scale]\n",
    "    scaled_dataframe = pd.DataFrame(scaled_matrix, columns = scaled_columns, index = data.index)\n",
    "    \n",
    "    data = data.join(scaled_dataframe)\n",
    "    \n",
    "    feature_cols_scaled = dicotomical_dummy_cols + categorical_dummy_cols + scaled_columns\n",
    "    \n",
    "    return data.loc[:, feature_cols_scaled + [target]]"
   ]
  },
  {
   "cell_type": "code",
   "execution_count": 18,
   "metadata": {},
   "outputs": [],
   "source": [
    "data = load_dataset()\n",
    "data = data.loc[data.state_name == 'Capital Federal']\n",
    "\n",
    "prepared_data = prepare_data(\n",
    "    data,\n",
    "    [\n",
    "        'pileta',\n",
    "        'galeria',\n",
    "        'seguridad',\n",
    "        'sotano',\n",
    "        'amenities',\n",
    "        'terraza',\n",
    "        'metrobus',\n",
    "        'subte',\n",
    "        'cochera',\n",
    "        'consultorio'\n",
    "    ],\n",
    "    [\n",
    "        'property_type',\n",
    "        'place_name',\n",
    "    ],\n",
    "    [\n",
    "        'surface_covered_in_m2',\n",
    "        'surface_total_in_m2',\n",
    "        'rooms_3'\n",
    "    ],\n",
    "    'price_usd_per_m2'\n",
    ")"
   ]
  },
  {
   "cell_type": "code",
   "execution_count": 19,
   "metadata": {},
   "outputs": [
    {
     "data": {
      "text/html": [
       "<div>\n",
       "<style scoped>\n",
       "    .dataframe tbody tr th:only-of-type {\n",
       "        vertical-align: middle;\n",
       "    }\n",
       "\n",
       "    .dataframe tbody tr th {\n",
       "        vertical-align: top;\n",
       "    }\n",
       "\n",
       "    .dataframe thead th {\n",
       "        text-align: right;\n",
       "    }\n",
       "</style>\n",
       "<table border=\"1\" class=\"dataframe\">\n",
       "  <thead>\n",
       "    <tr style=\"text-align: right;\">\n",
       "      <th></th>\n",
       "      <th>pileta_True</th>\n",
       "      <th>galeria_True</th>\n",
       "      <th>seguridad_True</th>\n",
       "      <th>sotano_True</th>\n",
       "      <th>amenities_True</th>\n",
       "      <th>terraza_True</th>\n",
       "      <th>metrobus_True</th>\n",
       "      <th>subte_True</th>\n",
       "      <th>cochera_True</th>\n",
       "      <th>consultorio_True</th>\n",
       "      <th>...</th>\n",
       "      <th>place_name_Villa Real</th>\n",
       "      <th>place_name_Villa Riachuelo</th>\n",
       "      <th>place_name_Villa Santa Rita</th>\n",
       "      <th>place_name_Villa Soldati</th>\n",
       "      <th>place_name_Villa Urquiza</th>\n",
       "      <th>place_name_Villa del Parque</th>\n",
       "      <th>surface_covered_in_m2_scaled</th>\n",
       "      <th>surface_total_in_m2_scaled</th>\n",
       "      <th>rooms_3_scaled</th>\n",
       "      <th>price_usd_per_m2</th>\n",
       "    </tr>\n",
       "  </thead>\n",
       "  <tbody>\n",
       "    <tr>\n",
       "      <th>0</th>\n",
       "      <td>0</td>\n",
       "      <td>0</td>\n",
       "      <td>0</td>\n",
       "      <td>0</td>\n",
       "      <td>0</td>\n",
       "      <td>0</td>\n",
       "      <td>0</td>\n",
       "      <td>0</td>\n",
       "      <td>0</td>\n",
       "      <td>0</td>\n",
       "      <td>...</td>\n",
       "      <td>0</td>\n",
       "      <td>0</td>\n",
       "      <td>0</td>\n",
       "      <td>0</td>\n",
       "      <td>0</td>\n",
       "      <td>0</td>\n",
       "      <td>-0.221609</td>\n",
       "      <td>-0.204539</td>\n",
       "      <td>0.165540</td>\n",
       "      <td>1127.272727</td>\n",
       "    </tr>\n",
       "    <tr>\n",
       "      <th>2</th>\n",
       "      <td>0</td>\n",
       "      <td>0</td>\n",
       "      <td>0</td>\n",
       "      <td>0</td>\n",
       "      <td>0</td>\n",
       "      <td>0</td>\n",
       "      <td>0</td>\n",
       "      <td>0</td>\n",
       "      <td>0</td>\n",
       "      <td>0</td>\n",
       "      <td>...</td>\n",
       "      <td>0</td>\n",
       "      <td>0</td>\n",
       "      <td>0</td>\n",
       "      <td>0</td>\n",
       "      <td>0</td>\n",
       "      <td>0</td>\n",
       "      <td>-0.155212</td>\n",
       "      <td>-0.204539</td>\n",
       "      <td>0.165540</td>\n",
       "      <td>1309.090909</td>\n",
       "    </tr>\n",
       "    <tr>\n",
       "      <th>7</th>\n",
       "      <td>1</td>\n",
       "      <td>0</td>\n",
       "      <td>0</td>\n",
       "      <td>0</td>\n",
       "      <td>0</td>\n",
       "      <td>0</td>\n",
       "      <td>0</td>\n",
       "      <td>0</td>\n",
       "      <td>0</td>\n",
       "      <td>0</td>\n",
       "      <td>...</td>\n",
       "      <td>0</td>\n",
       "      <td>0</td>\n",
       "      <td>0</td>\n",
       "      <td>0</td>\n",
       "      <td>0</td>\n",
       "      <td>0</td>\n",
       "      <td>-0.221609</td>\n",
       "      <td>-0.243512</td>\n",
       "      <td>0.165540</td>\n",
       "      <td>3066.666667</td>\n",
       "    </tr>\n",
       "    <tr>\n",
       "      <th>8</th>\n",
       "      <td>1</td>\n",
       "      <td>0</td>\n",
       "      <td>0</td>\n",
       "      <td>0</td>\n",
       "      <td>0</td>\n",
       "      <td>0</td>\n",
       "      <td>0</td>\n",
       "      <td>0</td>\n",
       "      <td>0</td>\n",
       "      <td>0</td>\n",
       "      <td>...</td>\n",
       "      <td>0</td>\n",
       "      <td>0</td>\n",
       "      <td>0</td>\n",
       "      <td>0</td>\n",
       "      <td>0</td>\n",
       "      <td>0</td>\n",
       "      <td>-0.133080</td>\n",
       "      <td>-0.165565</td>\n",
       "      <td>0.165540</td>\n",
       "      <td>3000.000000</td>\n",
       "    </tr>\n",
       "    <tr>\n",
       "      <th>13</th>\n",
       "      <td>1</td>\n",
       "      <td>0</td>\n",
       "      <td>0</td>\n",
       "      <td>0</td>\n",
       "      <td>0</td>\n",
       "      <td>1</td>\n",
       "      <td>0</td>\n",
       "      <td>0</td>\n",
       "      <td>0</td>\n",
       "      <td>0</td>\n",
       "      <td>...</td>\n",
       "      <td>0</td>\n",
       "      <td>0</td>\n",
       "      <td>0</td>\n",
       "      <td>0</td>\n",
       "      <td>0</td>\n",
       "      <td>0</td>\n",
       "      <td>-0.265873</td>\n",
       "      <td>-0.224025</td>\n",
       "      <td>-1.512910</td>\n",
       "      <td>2234.000000</td>\n",
       "    </tr>\n",
       "    <tr>\n",
       "      <th>...</th>\n",
       "      <td>...</td>\n",
       "      <td>...</td>\n",
       "      <td>...</td>\n",
       "      <td>...</td>\n",
       "      <td>...</td>\n",
       "      <td>...</td>\n",
       "      <td>...</td>\n",
       "      <td>...</td>\n",
       "      <td>...</td>\n",
       "      <td>...</td>\n",
       "      <td>...</td>\n",
       "      <td>...</td>\n",
       "      <td>...</td>\n",
       "      <td>...</td>\n",
       "      <td>...</td>\n",
       "      <td>...</td>\n",
       "      <td>...</td>\n",
       "      <td>...</td>\n",
       "      <td>...</td>\n",
       "      <td>...</td>\n",
       "      <td>...</td>\n",
       "    </tr>\n",
       "    <tr>\n",
       "      <th>119669</th>\n",
       "      <td>0</td>\n",
       "      <td>0</td>\n",
       "      <td>0</td>\n",
       "      <td>0</td>\n",
       "      <td>0</td>\n",
       "      <td>0</td>\n",
       "      <td>0</td>\n",
       "      <td>0</td>\n",
       "      <td>0</td>\n",
       "      <td>0</td>\n",
       "      <td>...</td>\n",
       "      <td>0</td>\n",
       "      <td>0</td>\n",
       "      <td>0</td>\n",
       "      <td>0</td>\n",
       "      <td>0</td>\n",
       "      <td>0</td>\n",
       "      <td>0.296286</td>\n",
       "      <td>0.192988</td>\n",
       "      <td>0.165540</td>\n",
       "      <td>2611.464968</td>\n",
       "    </tr>\n",
       "    <tr>\n",
       "      <th>119718</th>\n",
       "      <td>0</td>\n",
       "      <td>0</td>\n",
       "      <td>0</td>\n",
       "      <td>0</td>\n",
       "      <td>0</td>\n",
       "      <td>0</td>\n",
       "      <td>0</td>\n",
       "      <td>0</td>\n",
       "      <td>0</td>\n",
       "      <td>0</td>\n",
       "      <td>...</td>\n",
       "      <td>0</td>\n",
       "      <td>0</td>\n",
       "      <td>0</td>\n",
       "      <td>0</td>\n",
       "      <td>0</td>\n",
       "      <td>0</td>\n",
       "      <td>0.296286</td>\n",
       "      <td>0.192988</td>\n",
       "      <td>0.165540</td>\n",
       "      <td>2611.464968</td>\n",
       "    </tr>\n",
       "    <tr>\n",
       "      <th>119724</th>\n",
       "      <td>1</td>\n",
       "      <td>0</td>\n",
       "      <td>1</td>\n",
       "      <td>0</td>\n",
       "      <td>0</td>\n",
       "      <td>0</td>\n",
       "      <td>0</td>\n",
       "      <td>0</td>\n",
       "      <td>1</td>\n",
       "      <td>0</td>\n",
       "      <td>...</td>\n",
       "      <td>0</td>\n",
       "      <td>0</td>\n",
       "      <td>0</td>\n",
       "      <td>0</td>\n",
       "      <td>0</td>\n",
       "      <td>0</td>\n",
       "      <td>0.012993</td>\n",
       "      <td>0.021506</td>\n",
       "      <td>-0.673685</td>\n",
       "      <td>7699.115044</td>\n",
       "    </tr>\n",
       "    <tr>\n",
       "      <th>119726</th>\n",
       "      <td>0</td>\n",
       "      <td>0</td>\n",
       "      <td>0</td>\n",
       "      <td>0</td>\n",
       "      <td>1</td>\n",
       "      <td>1</td>\n",
       "      <td>0</td>\n",
       "      <td>1</td>\n",
       "      <td>1</td>\n",
       "      <td>0</td>\n",
       "      <td>...</td>\n",
       "      <td>0</td>\n",
       "      <td>0</td>\n",
       "      <td>0</td>\n",
       "      <td>0</td>\n",
       "      <td>1</td>\n",
       "      <td>0</td>\n",
       "      <td>-0.226035</td>\n",
       "      <td>-0.239614</td>\n",
       "      <td>0.165540</td>\n",
       "      <td>2858.695652</td>\n",
       "    </tr>\n",
       "    <tr>\n",
       "      <th>119728</th>\n",
       "      <td>0</td>\n",
       "      <td>0</td>\n",
       "      <td>0</td>\n",
       "      <td>0</td>\n",
       "      <td>0</td>\n",
       "      <td>0</td>\n",
       "      <td>0</td>\n",
       "      <td>0</td>\n",
       "      <td>0</td>\n",
       "      <td>0</td>\n",
       "      <td>...</td>\n",
       "      <td>0</td>\n",
       "      <td>0</td>\n",
       "      <td>0</td>\n",
       "      <td>0</td>\n",
       "      <td>0</td>\n",
       "      <td>0</td>\n",
       "      <td>-0.057830</td>\n",
       "      <td>-0.118798</td>\n",
       "      <td>0.165540</td>\n",
       "      <td>1675.324675</td>\n",
       "    </tr>\n",
       "  </tbody>\n",
       "</table>\n",
       "<p>27870 rows × 78 columns</p>\n",
       "</div>"
      ],
      "text/plain": [
       "        pileta_True  galeria_True  seguridad_True  sotano_True  \\\n",
       "0                 0             0               0            0   \n",
       "2                 0             0               0            0   \n",
       "7                 1             0               0            0   \n",
       "8                 1             0               0            0   \n",
       "13                1             0               0            0   \n",
       "...             ...           ...             ...          ...   \n",
       "119669            0             0               0            0   \n",
       "119718            0             0               0            0   \n",
       "119724            1             0               1            0   \n",
       "119726            0             0               0            0   \n",
       "119728            0             0               0            0   \n",
       "\n",
       "        amenities_True  terraza_True  metrobus_True  subte_True  cochera_True  \\\n",
       "0                    0             0              0           0             0   \n",
       "2                    0             0              0           0             0   \n",
       "7                    0             0              0           0             0   \n",
       "8                    0             0              0           0             0   \n",
       "13                   0             1              0           0             0   \n",
       "...                ...           ...            ...         ...           ...   \n",
       "119669               0             0              0           0             0   \n",
       "119718               0             0              0           0             0   \n",
       "119724               0             0              0           0             1   \n",
       "119726               1             1              0           1             1   \n",
       "119728               0             0              0           0             0   \n",
       "\n",
       "        consultorio_True  ...  place_name_Villa Real  \\\n",
       "0                      0  ...                      0   \n",
       "2                      0  ...                      0   \n",
       "7                      0  ...                      0   \n",
       "8                      0  ...                      0   \n",
       "13                     0  ...                      0   \n",
       "...                  ...  ...                    ...   \n",
       "119669                 0  ...                      0   \n",
       "119718                 0  ...                      0   \n",
       "119724                 0  ...                      0   \n",
       "119726                 0  ...                      0   \n",
       "119728                 0  ...                      0   \n",
       "\n",
       "        place_name_Villa Riachuelo  place_name_Villa Santa Rita  \\\n",
       "0                                0                            0   \n",
       "2                                0                            0   \n",
       "7                                0                            0   \n",
       "8                                0                            0   \n",
       "13                               0                            0   \n",
       "...                            ...                          ...   \n",
       "119669                           0                            0   \n",
       "119718                           0                            0   \n",
       "119724                           0                            0   \n",
       "119726                           0                            0   \n",
       "119728                           0                            0   \n",
       "\n",
       "        place_name_Villa Soldati  place_name_Villa Urquiza  \\\n",
       "0                              0                         0   \n",
       "2                              0                         0   \n",
       "7                              0                         0   \n",
       "8                              0                         0   \n",
       "13                             0                         0   \n",
       "...                          ...                       ...   \n",
       "119669                         0                         0   \n",
       "119718                         0                         0   \n",
       "119724                         0                         0   \n",
       "119726                         0                         1   \n",
       "119728                         0                         0   \n",
       "\n",
       "        place_name_Villa del Parque  surface_covered_in_m2_scaled  \\\n",
       "0                                 0                     -0.221609   \n",
       "2                                 0                     -0.155212   \n",
       "7                                 0                     -0.221609   \n",
       "8                                 0                     -0.133080   \n",
       "13                                0                     -0.265873   \n",
       "...                             ...                           ...   \n",
       "119669                            0                      0.296286   \n",
       "119718                            0                      0.296286   \n",
       "119724                            0                      0.012993   \n",
       "119726                            0                     -0.226035   \n",
       "119728                            0                     -0.057830   \n",
       "\n",
       "        surface_total_in_m2_scaled  rooms_3_scaled  price_usd_per_m2  \n",
       "0                        -0.204539        0.165540       1127.272727  \n",
       "2                        -0.204539        0.165540       1309.090909  \n",
       "7                        -0.243512        0.165540       3066.666667  \n",
       "8                        -0.165565        0.165540       3000.000000  \n",
       "13                       -0.224025       -1.512910       2234.000000  \n",
       "...                            ...             ...               ...  \n",
       "119669                    0.192988        0.165540       2611.464968  \n",
       "119718                    0.192988        0.165540       2611.464968  \n",
       "119724                    0.021506       -0.673685       7699.115044  \n",
       "119726                   -0.239614        0.165540       2858.695652  \n",
       "119728                   -0.118798        0.165540       1675.324675  \n",
       "\n",
       "[27870 rows x 78 columns]"
      ]
     },
     "execution_count": 19,
     "metadata": {},
     "output_type": "execute_result"
    }
   ],
   "source": [
    "prepared_data"
   ]
  },
  {
   "cell_type": "code",
   "execution_count": 24,
   "metadata": {},
   "outputs": [
    {
     "data": {
      "text/plain": [
       "{'pileta_True': 0.02486414556073281,\n",
       " 'galeria_True': -0.005459915270283747,\n",
       " 'seguridad_True': 0.02607282835224596,\n",
       " 'sotano_True': 0.0024420481874853272,\n",
       " 'amenities_True': 0.015875624048324585,\n",
       " 'terraza_True': 0.0025865666863339773,\n",
       " 'metrobus_True': -0.009192895462903932,\n",
       " 'subte_True': 0.0034874914595517917,\n",
       " 'cochera_True': 0.004095630010611896,\n",
       " 'consultorio_True': -0.0003205557124423542,\n",
       " 'property_type_apartment': 0.008710384505368174,\n",
       " 'property_type_house': -0.02178897924406413,\n",
       " 'property_type_store': 0.01358645295543808,\n",
       " 'place_name_Agronomía': -0.0017665441914556399,\n",
       " 'place_name_Almagro': -0.006280441105557279,\n",
       " 'place_name_Balvanera': -0.011886126679481713,\n",
       " 'place_name_Barracas': -0.009124434113455855,\n",
       " 'place_name_Barrio Norte': -0.0022917640900930315,\n",
       " 'place_name_Belgrano': -0.00170696940772619,\n",
       " 'place_name_Boca': -0.005899054838054334,\n",
       " 'place_name_Boedo': 0.07617322964269127,\n",
       " 'place_name_Caballito': -0.01173445390383644,\n",
       " 'place_name_Capital Federal': -0.01600618953283468,\n",
       " 'place_name_Catalinas': -0.0004307681408146173,\n",
       " 'place_name_Centro / Microcentro': -0.0017764563726118928,\n",
       " 'place_name_Chacarita': -0.005502355634664616,\n",
       " 'place_name_Coghlan': -0.00421391600437468,\n",
       " 'place_name_Colegiales': -0.004818063350201828,\n",
       " 'place_name_Congreso': -0.002737753461015103,\n",
       " 'place_name_Constitución': -0.007660081437304892,\n",
       " 'place_name_Flores': -0.01447631929514376,\n",
       " 'place_name_Floresta': -0.0101821275307246,\n",
       " 'place_name_Las Cañitas': 0.000985734744638981,\n",
       " 'place_name_Liniers': -0.009015975207211866,\n",
       " 'place_name_Mataderos': -0.010529194870954094,\n",
       " 'place_name_Monserrat': -0.006606423224106005,\n",
       " 'place_name_Monte Castro': -0.0019008205739306362,\n",
       " 'place_name_Nuñez': -0.0007444409616720366,\n",
       " 'place_name_Once': -0.004152363962603704,\n",
       " 'place_name_Palermo': 0.0039810851140226625,\n",
       " 'place_name_Palermo Chico': 0.007874381451027822,\n",
       " 'place_name_Palermo Hollywood': -0.0005955486435947439,\n",
       " 'place_name_Palermo Soho': -0.000639554990114351,\n",
       " 'place_name_Palermo Viejo': -0.000522811596637789,\n",
       " 'place_name_Parque Avellaneda': -0.004035227037986338,\n",
       " 'place_name_Parque Centenario': -0.002926798577431557,\n",
       " 'place_name_Parque Chacabuco': -0.004729741699077825,\n",
       " 'place_name_Parque Chas': -0.0017625042620952412,\n",
       " 'place_name_Parque Patricios': -0.007437966527649523,\n",
       " 'place_name_Paternal': -9.593752532545146e-05,\n",
       " 'place_name_Pompeya': -0.003719533445654088,\n",
       " 'place_name_Puerto Madero': 0.06534536399026449,\n",
       " 'place_name_Recoleta': 0.0016690345021171382,\n",
       " 'place_name_Retiro': 0.00027761459559143747,\n",
       " 'place_name_Saavedra': -0.006086896249842821,\n",
       " 'place_name_San Cristobal': 0.04690715060941063,\n",
       " 'place_name_San Nicolás': -0.0041057901014845185,\n",
       " 'place_name_San Telmo': -0.010486091334330335,\n",
       " 'place_name_Tribunales': -0.001972440090146809,\n",
       " 'place_name_Velez Sarsfield': -0.0022051103877533586,\n",
       " 'place_name_Versalles': -0.0024545435638735082,\n",
       " 'place_name_Villa Crespo': -0.007944419548805651,\n",
       " 'place_name_Villa Devoto': 0.0017608852451740918,\n",
       " 'place_name_Villa General Mitre': -0.0030855831151175217,\n",
       " 'place_name_Villa Lugano': -0.006422759782807063,\n",
       " 'place_name_Villa Luro': -0.0058398587072857585,\n",
       " 'place_name_Villa Ortuzar': -0.0027024168545153647,\n",
       " 'place_name_Villa Pueyrredón': -0.004934796676028002,\n",
       " 'place_name_Villa Real': -0.0035878563341101635,\n",
       " 'place_name_Villa Riachuelo': -0.0005486064809814516,\n",
       " 'place_name_Villa Santa Rita': 0.010314001522081222,\n",
       " 'place_name_Villa Soldati': -0.0031852845583125234,\n",
       " 'place_name_Villa Urquiza': -0.006961531902083341,\n",
       " 'place_name_Villa del Parque': 0.0019382702077191205,\n",
       " 'surface_covered_in_m2_scaled': -0.003804564204493334,\n",
       " 'surface_total_in_m2_scaled': -0.004973381875925171,\n",
       " 'rooms_3_scaled': -0.021184590734481226,\n",
       " 'price_usd_per_m2': 1.0}"
      ]
     },
     "execution_count": 24,
     "metadata": {},
     "output_type": "execute_result"
    }
   ],
   "source": [
    "prepared_data.corr().price_usd_per_m2.to_dict()"
   ]
  },
  {
   "cell_type": "code",
   "execution_count": 21,
   "metadata": {},
   "outputs": [
    {
     "data": {
      "text/plain": [
       "<matplotlib.axes._subplots.AxesSubplot at 0x22a8d6d6f08>"
      ]
     },
     "execution_count": 21,
     "metadata": {},
     "output_type": "execute_result"
    },
    {
     "data": {
      "image/png": "[encoded data removed]",
      "text/plain": [
       "<Figure size 432x288 with 1 Axes>"
      ]
     },
     "metadata": {
      "needs_background": "light"
     },
     "output_type": "display_data"
    }
   ],
   "source": [
    "sns.boxplot(prepared_data.price_usd_per_m2)"
   ]
  },
  {
   "cell_type": "code",
   "execution_count": 17,
   "metadata": {},
   "outputs": [
    {
     "data": {
      "text/plain": [
       "<matplotlib.axes._subplots.AxesSubplot at 0x22a972ce088>"
      ]
     },
     "execution_count": 17,
     "metadata": {},
     "output_type": "execute_result"
    },
    {
     "data": {
      "image/png": "[encoded data removed]",
      "text/plain": [
       "<Figure size 432x288 with 1 Axes>"
      ]
     },
     "metadata": {
      "needs_background": "light"
     },
     "output_type": "display_data"
    }
   ],
   "source": [
    "prepared_data.price_aprox_usd"
   ]
  },
  {
   "cell_type": "code",
   "execution_count": 29,
   "metadata": {},
   "outputs": [
    {
     "data": {
      "text/plain": [
       "0             (3.208, 1974.469]\n",
       "2             (3.208, 1974.469]\n",
       "7         (3065.976, 2600000.0]\n",
       "8          (2461.538, 3065.976]\n",
       "13         (1974.469, 2461.538]\n",
       "                  ...          \n",
       "119669     (2461.538, 3065.976]\n",
       "119718     (2461.538, 3065.976]\n",
       "119724    (3065.976, 2600000.0]\n",
       "119726     (2461.538, 3065.976]\n",
       "119728        (3.208, 1974.469]\n",
       "Name: price_usd_per_m2, Length: 27870, dtype: category\n",
       "Categories (4, interval[float64]): [(3.208, 1974.469] < (1974.469, 2461.538] < (2461.538, 3065.976] < (3065.976, 2600000.0]]"
      ]
     },
     "execution_count": 29,
     "metadata": {},
     "output_type": "execute_result"
    }
   ],
   "source": [
    "pd.qcut(prepared_data.price_usd_per_m2, q = 4)"
   ]
  },
  {
   "cell_type": "code",
   "execution_count": 32,
   "metadata": {},
   "outputs": [
    {
     "data": {
      "text/plain": [
       "6036.46534090909"
      ]
     },
     "execution_count": 32,
     "metadata": {},
     "output_type": "execute_result"
    }
   ],
   "source": [
    "prepared_data.price_usd_per_m2.quantile(.95)"
   ]
  },
  {
   "cell_type": "code",
   "execution_count": 37,
   "metadata": {},
   "outputs": [
    {
     "data": {
      "text/plain": [
       "6775.7009345794395"
      ]
     },
     "execution_count": 37,
     "metadata": {},
     "output_type": "execute_result"
    }
   ],
   "source": [
    "prepared_data.price_usd_per_m2.quantile(.96)"
   ]
  },
  {
   "cell_type": "code",
   "execution_count": 39,
   "metadata": {},
   "outputs": [
    {
     "data": {
      "text/plain": [
       "Index(['Unnamed: 0', 'Unnamed: 0.1', 'operation', 'property_type',\n",
       "       'place_name', 'place_with_parent_names', 'country_name', 'state_name',\n",
       "       'geonames_id', 'lat-lon', 'lat', 'lon', 'price', 'currency',\n",
       "       'price_aprox_local_currency', 'price_aprox_usd', 'surface_total_in_m2',\n",
       "       'surface_covered_in_m2', 'price_usd_per_m2', 'price_per_m2', 'floor',\n",
       "       'rooms', 'expenses', 'properati_url', 'description', 'title',\n",
       "       'image_thumbnail', 'surface_total_in_m2_reliable',\n",
       "       'surface_covered_in_m2_reliable', 'rooms_number', 'rooms_1',\n",
       "       'rooms_number_2', 'rooms_2', 'rooms_3', 'pileta', 'galeria',\n",
       "       'seguridad', 'sotano', 'amenities', 'terraza', 'metrobus', 'subte',\n",
       "       'cochera', 'consultorio'],\n",
       "      dtype='object')"
      ]
     },
     "execution_count": 39,
     "metadata": {},
     "output_type": "execute_result"
    }
   ],
   "source": [
    "data.columns"
   ]
  },
  {
   "cell_type": "code",
   "execution_count": 40,
   "metadata": {},
   "outputs": [],
   "source": [
    "data['superficie_descubierta'] = data['surface_total_in_m2'] - data['surface_covered_in_m2']"
   ]
  },
  {
   "cell_type": "code",
   "execution_count": 44,
   "metadata": {},
   "outputs": [],
   "source": [
    "data['interaccion_superficie_multiplicacion'] = data['surface_total_in_m2']*data['surface_covered_in_m2']\n",
    "data['interaccion_superficie_division'] = data['surface_total_in_m2']/data['surface_covered_in_m2']"
   ]
  },
  {
   "cell_type": "code",
   "execution_count": 46,
   "metadata": {},
   "outputs": [],
   "source": [
    "data.to_csv('properati_interacciones.csv')"
   ]
  },
  {
   "cell_type": "code",
   "execution_count": 48,
   "metadata": {},
   "outputs": [
    {
     "data": {
      "text/plain": [
       "<matplotlib.axes._subplots.AxesSubplot at 0x22a94436688>"
      ]
     },
     "execution_count": 48,
     "metadata": {},
     "output_type": "execute_result"
    },
    {
     "data": {
      "image/png": "[encoded data removed]",
      "text/plain": [
       "<Figure size 432x288 with 1 Axes>"
      ]
     },
     "metadata": {
      "needs_background": "light"
     },
     "output_type": "display_data"
    }
   ],
   "source": [
    "sns.boxplot(data['superficie_descubierta'])"
   ]
  },
  {
   "cell_type": "code",
   "execution_count": 49,
   "metadata": {},
   "outputs": [
    {
     "data": {
      "text/plain": [
       "26824"
      ]
     },
     "execution_count": 49,
     "metadata": {},
     "output_type": "execute_result"
    }
   ],
   "source": []
  },
  {
   "cell_type": "code",
   "execution_count": 57,
   "metadata": {},
   "outputs": [
    {
     "data": {
      "text/plain": [
       "804.2799999999988"
      ]
     },
     "execution_count": 57,
     "metadata": {},
     "output_type": "execute_result"
    }
   ],
   "source": [
    "data.surface_total_in_m2.quantile(.99)"
   ]
  },
  {
   "cell_type": "code",
   "execution_count": 58,
   "metadata": {},
   "outputs": [
    {
     "data": {
      "text/html": [
       "<div>\n",
       "<style scoped>\n",
       "    .dataframe tbody tr th:only-of-type {\n",
       "        vertical-align: middle;\n",
       "    }\n",
       "\n",
       "    .dataframe tbody tr th {\n",
       "        vertical-align: top;\n",
       "    }\n",
       "\n",
       "    .dataframe thead th {\n",
       "        text-align: right;\n",
       "    }\n",
       "</style>\n",
       "<table border=\"1\" class=\"dataframe\">\n",
       "  <thead>\n",
       "    <tr style=\"text-align: right;\">\n",
       "      <th></th>\n",
       "      <th>count</th>\n",
       "      <th>mean</th>\n",
       "      <th>std</th>\n",
       "      <th>min</th>\n",
       "      <th>25%</th>\n",
       "      <th>50%</th>\n",
       "      <th>75%</th>\n",
       "      <th>max</th>\n",
       "    </tr>\n",
       "    <tr>\n",
       "      <th>property_type</th>\n",
       "      <th></th>\n",
       "      <th></th>\n",
       "      <th></th>\n",
       "      <th></th>\n",
       "      <th></th>\n",
       "      <th></th>\n",
       "      <th></th>\n",
       "      <th></th>\n",
       "    </tr>\n",
       "  </thead>\n",
       "  <tbody>\n",
       "    <tr>\n",
       "      <th>PH</th>\n",
       "      <td>1768.0</td>\n",
       "      <td>115.614253</td>\n",
       "      <td>85.868027</td>\n",
       "      <td>1.0</td>\n",
       "      <td>60.0</td>\n",
       "      <td>93.0</td>\n",
       "      <td>150.0</td>\n",
       "      <td>1183.0</td>\n",
       "    </tr>\n",
       "    <tr>\n",
       "      <th>apartment</th>\n",
       "      <td>26434.0</td>\n",
       "      <td>94.811833</td>\n",
       "      <td>1688.311287</td>\n",
       "      <td>1.0</td>\n",
       "      <td>40.0</td>\n",
       "      <td>56.0</td>\n",
       "      <td>89.0</td>\n",
       "      <td>200000.0</td>\n",
       "    </tr>\n",
       "    <tr>\n",
       "      <th>house</th>\n",
       "      <td>1498.0</td>\n",
       "      <td>471.680908</td>\n",
       "      <td>627.784151</td>\n",
       "      <td>10.0</td>\n",
       "      <td>195.0</td>\n",
       "      <td>303.0</td>\n",
       "      <td>550.0</td>\n",
       "      <td>16000.0</td>\n",
       "    </tr>\n",
       "    <tr>\n",
       "      <th>store</th>\n",
       "      <td>1294.0</td>\n",
       "      <td>275.972952</td>\n",
       "      <td>667.459645</td>\n",
       "      <td>1.0</td>\n",
       "      <td>40.0</td>\n",
       "      <td>120.0</td>\n",
       "      <td>247.0</td>\n",
       "      <td>10958.0</td>\n",
       "    </tr>\n",
       "  </tbody>\n",
       "</table>\n",
       "</div>"
      ],
      "text/plain": [
       "                 count        mean          std   min    25%    50%    75%  \\\n",
       "property_type                                                                \n",
       "PH              1768.0  115.614253    85.868027   1.0   60.0   93.0  150.0   \n",
       "apartment      26434.0   94.811833  1688.311287   1.0   40.0   56.0   89.0   \n",
       "house           1498.0  471.680908   627.784151  10.0  195.0  303.0  550.0   \n",
       "store           1294.0  275.972952   667.459645   1.0   40.0  120.0  247.0   \n",
       "\n",
       "                    max  \n",
       "property_type            \n",
       "PH               1183.0  \n",
       "apartment      200000.0  \n",
       "house           16000.0  \n",
       "store           10958.0  "
      ]
     },
     "execution_count": 58,
     "metadata": {},
     "output_type": "execute_result"
    }
   ],
   "source": [
    "data.groupby('property_type').surface_total_in_m2.describe()"
   ]
  },
  {
   "cell_type": "code",
   "execution_count": 61,
   "metadata": {},
   "outputs": [
    {
     "data": {
      "text/plain": [
       "24096    Departamento venta\n",
       "Name: title, dtype: object"
      ]
     },
     "execution_count": 61,
     "metadata": {},
     "output_type": "execute_result"
    }
   ],
   "source": [
    "data[data.surface_total_in_m2 == 200000.0].title"
   ]
  },
  {
   "cell_type": "code",
   "execution_count": 63,
   "metadata": {},
   "outputs": [
    {
     "data": {
      "text/plain": [
       "24096    dsdffhghvcvbcdfdfghdfhghkjhkhjklhjkfgvghfghnfg...\n",
       "Name: description, dtype: object"
      ]
     },
     "execution_count": 63,
     "metadata": {},
     "output_type": "execute_result"
    }
   ],
   "source": [
    "data[data.surface_total_in_m2 == 200000.0].description"
   ]
  },
  {
   "cell_type": "code",
   "execution_count": 64,
   "metadata": {},
   "outputs": [
    {
     "data": {
      "text/plain": [
       "(27870, 78)"
      ]
     },
     "execution_count": 64,
     "metadata": {},
     "output_type": "execute_result"
    }
   ],
   "source": [
    "prepared_data.shape"
   ]
  },
  {
   "cell_type": "code",
   "execution_count": null,
   "metadata": {},
   "outputs": [],
   "source": []
  }
 ],
 "metadata": {
  "kernelspec": {
   "display_name": "Python 3",
   "language": "python",
   "name": "python3"
  },
  "language_info": {
   "codemirror_mode": {
    "name": "ipython",
    "version": 3
   },
   "file_extension": ".py",
   "mimetype": "text/x-python",
   "name": "python",
   "nbconvert_exporter": "python",
   "pygments_lexer": "ipython3",
   "version": "3.7.7"
  }
 },
 "nbformat": 4,
 "nbformat_minor": 4
}
