{
 "cells": [
  {
   "cell_type": "code",
   "execution_count": 100,
   "metadata": {},
   "outputs": [],
   "source": [
    "import pandas as pd\n",
    "import numpy as np"
   ]
  },
  {
   "cell_type": "markdown",
   "metadata": {},
   "source": [
    "## Regresión capital"
   ]
  },
  {
   "cell_type": "code",
   "execution_count": 101,
   "metadata": {},
   "outputs": [],
   "source": [
    "def load_dataset(orig = False):\n",
    "    if orig:\n",
    "        return pd.read_csv(\"properati.csv\")\n",
    "    return pd.read_csv(\"properati_interacciones.csv\")"
   ]
  },
  {
   "cell_type": "code",
   "execution_count": 102,
   "metadata": {},
   "outputs": [],
   "source": [
    "data = load_dataset()"
   ]
  },
  {
   "cell_type": "code",
   "execution_count": 103,
   "metadata": {},
   "outputs": [
    {
     "data": {
      "text/plain": [
       "0         62000.0\n",
       "1         72000.0\n",
       "2         95000.0\n",
       "3        138000.0\n",
       "4        195000.0\n",
       "           ...   \n",
       "32187    410000.0\n",
       "32188    410000.0\n",
       "32189    870000.0\n",
       "32190    131500.0\n",
       "32191    129000.0\n",
       "Name: price_aprox_usd, Length: 32192, dtype: float64"
      ]
     },
     "execution_count": 103,
     "metadata": {},
     "output_type": "execute_result"
    }
   ],
   "source": [
    "data[data.state_name == 'Capital Federal'].price_aprox_usd"
   ]
  },
  {
   "cell_type": "code",
   "execution_count": 115,
   "metadata": {},
   "outputs": [],
   "source": [
    "from sklearn.linear_model import LinearRegression\n",
    "from sklearn.linear_model import Lasso\n",
    "from sklearn.linear_model import Ridge\n",
    "\n",
    "from sklearn.preprocessing import StandardScaler\n",
    "\n",
    "from sklearn.model_selection import train_test_split\n",
    "\n",
    "from sklearn.metrics import r2_score\n",
    "from sklearn.metrics import mean_absolute_error as mae\n",
    "from sklearn.metrics import mean_squared_error as mse\n",
    "\n",
    "import seaborn as sns\n",
    "import matplotlib.pyplot as plt\n",
    "\n",
    "palette = sns.color_palette(\"coolwarm\", 2)\n",
    "\n",
    "def train_test_error(dicotomical, categorical, numerical, target, Estimator = LinearRegression):\n",
    "    # Filter to only check for capital federal\n",
    "    data = load_dataset()\n",
    "    mask = (data.state_name == 'Capital Federal') & (data.price_usd_per_m2 < 10000)\n",
    "    #cluster = 'place_name'\n",
    "    data = data.loc[mask]\n",
    "    \n",
    "    # Append dummy columns\n",
    "    for column in dicotomical + categorical:\n",
    "        dummies = pd.get_dummies(data[column], prefix = column, drop_first = True)\n",
    "        data = data.join(dummies)\n",
    "    \n",
    "    dicotomical_dummy_cols = [name + '_True' for name in dicotomical]\n",
    "    categorical_dummy_cols = [column for name in categorical for column in data.columns if name + '_' in column]\n",
    "    \n",
    "    feature_cols = dicotomical_dummy_cols + categorical_dummy_cols + numerical\n",
    "    \n",
    "    data = data.loc[:, feature_cols + [target]].dropna()\n",
    "    index_train, index_test = train_test_split(data.index)\n",
    "    \n",
    "    # Aplico standard scaler a las numericas\n",
    "    columns_to_scale = numerical\n",
    "    scaler = StandardScaler()\n",
    "    scaler.fit(data.loc[index_train, columns_to_scale])\n",
    "    scaled_matrix = scaler.transform(data.loc[:, columns_to_scale])\n",
    "    scaled_columns = [column + '_scaled' for column in columns_to_scale]\n",
    "    scaled_dataframe = pd.DataFrame(scaled_matrix, columns = scaled_columns, index = data.index)\n",
    "    \n",
    "    data = data.join(scaled_dataframe)\n",
    "    \n",
    "    feature_cols_scaled = dicotomical_dummy_cols + categorical_dummy_cols + scaled_columns\n",
    "    \n",
    "    X = data.loc[:, feature_cols_scaled]\n",
    "    y = data.loc[:, [target]]\n",
    "    \n",
    "    X_train, X_test, y_train, y_test = X.loc[index_train], X.loc[index_test], y.loc[index_train], y.loc[index_test]\n",
    "    \n",
    "    model = Estimator()\n",
    "    model.fit(X_train, y_train)\n",
    "    \n",
    "\n",
    "    y_pred_train = model.predict(X_train)\n",
    "    y_pred_test = model.predict(X_test)\n",
    "    \n",
    "    train_r2 = r2_score(y_train, y_pred_train)\n",
    "    test_r2 = r2_score(y_test, y_pred_test)\n",
    "    \n",
    "    train_mae = mae(y_train, y_pred_train)\n",
    "    test_mae = mae(y_test, y_pred_test)\n",
    "    \n",
    "    train_mse = mse(y_train, y_pred_train)\n",
    "    test_mse = mse(y_test, y_pred_test)\n",
    "    \n",
    "    print(\"Train R2:\", train_r2)\n",
    "    print(\"Train MAE:\", train_mae)\n",
    "    print(\"Train MSE:\", train_mse)\n",
    "    print()\n",
    "    print(\"Test R2:\", test_r2)\n",
    "    print(\"Test MAE:\", test_mae)\n",
    "    print(\"Test MSE:\", test_mse)\n",
    "    \n",
    "    sns.barplot(x = [train_r2, test_r2], y = ['Train R2', 'Test R2'], palette = palette)\n",
    "    plt.show()\n",
    "    sns.barplot(x = [train_mse, test_mse], y = ['Train MSE', 'Test MSE'], palette = palette)\n",
    "    plt.show()\n",
    "    sns.barplot(x = [train_mae, test_mae], y = ['Train MAE', 'Test MAE'], palette = palette)\n",
    "    \n",
    "    return dict(zip(feature_cols_scaled, model.coef_[0]))"
   ]
  },
  {
   "cell_type": "code",
   "execution_count": 116,
   "metadata": {},
   "outputs": [
    {
     "name": "stdout",
     "output_type": "stream",
     "text": [
      "Train R2: 0.475726920602512\n",
      "Train MAE: 122926.36993676136\n",
      "Train MSE: 115083474343.19588\n",
      "\n",
      "Test R2: 0.4050515342841734\n",
      "Test MAE: 119235.30940633861\n",
      "Test MSE: 58115891946.11338\n"
     ]
    },
    {
     "data": {
      "image/png": "[encoded data removed]",
      "text/plain": [
       "<Figure size 432x288 with 1 Axes>"
      ]
     },
     "metadata": {
      "needs_background": "light"
     },
     "output_type": "display_data"
    },
    {
     "data": {
      "image/png": "[encoded data removed]",
      "text/plain": [
       "<Figure size 432x288 with 1 Axes>"
      ]
     },
     "metadata": {
      "needs_background": "light"
     },
     "output_type": "display_data"
    },
    {
     "data": {
      "text/plain": [
       "{'pileta_True': 42794.55033243658,\n",
       " 'galeria_True': -99791.105785162,\n",
       " 'seguridad_True': 46462.50139580836,\n",
       " 'sotano_True': 19227.208403195764,\n",
       " 'amenities_True': -4478.844098964473,\n",
       " 'terraza_True': 10496.898814257409,\n",
       " 'metrobus_True': -27061.548241180426,\n",
       " 'subte_True': -33785.35815672105,\n",
       " 'cochera_True': 74404.3906857415,\n",
       " 'consultorio_True': -24525.53340470454,\n",
       " 'property_type_apartment': 7303.76496433618,\n",
       " 'property_type_house': 154387.68380034732,\n",
       " 'property_type_store': 293442.7840729253,\n",
       " 'place_name_Agronomía': -21349.832616251588,\n",
       " 'place_name_Almagro': 6304.33839925786,\n",
       " 'place_name_Balvanera': -27.886898257755092,\n",
       " 'place_name_Barracas': -19107.94616417765,\n",
       " 'place_name_Barrio Norte': 91442.77869785212,\n",
       " 'place_name_Belgrano': 116674.37914514804,\n",
       " 'place_name_Boca': -3112.4627003593923,\n",
       " 'place_name_Boedo': 31906.040783473232,\n",
       " 'place_name_Caballito': 1508.9977178485642,\n",
       " 'place_name_Capital Federal': -4267.266310105639,\n",
       " 'place_name_Catalinas': 72442.36401736806,\n",
       " 'place_name_Centro / Microcentro': 23404.47315429511,\n",
       " 'place_name_Chacarita': 2879.3270622174605,\n",
       " 'place_name_Coghlan': -18341.740037990083,\n",
       " 'place_name_Colegiales': 17451.82399889068,\n",
       " 'place_name_Congreso': -14036.84371023826,\n",
       " 'place_name_Constitución': -13832.865035982126,\n",
       " 'place_name_Flores': -12981.82492675558,\n",
       " 'place_name_Floresta': -48558.26280908071,\n",
       " 'place_name_Las Cañitas': 131434.07282108866,\n",
       " 'place_name_Liniers': -42885.48019318224,\n",
       " 'place_name_Mataderos': -51371.85986148759,\n",
       " 'place_name_Monserrat': -24794.318266482936,\n",
       " 'place_name_Monte Castro': -40841.67437346271,\n",
       " 'place_name_Nuñez': 161132.42123489061,\n",
       " 'place_name_Once': 81288.30421945016,\n",
       " 'place_name_Palermo': 130790.07953325602,\n",
       " 'place_name_Palermo Chico': 628647.7966129343,\n",
       " 'place_name_Palermo Hollywood': 53908.67943506097,\n",
       " 'place_name_Palermo Soho': 59054.547054414856,\n",
       " 'place_name_Palermo Viejo': 116753.3775216507,\n",
       " 'place_name_Parque Avellaneda': -46798.0046322278,\n",
       " 'place_name_Parque Centenario': 23715.874688706346,\n",
       " 'place_name_Parque Chacabuco': -24461.9203140443,\n",
       " 'place_name_Parque Chas': 3315.416285525571,\n",
       " 'place_name_Parque Patricios': -15327.733578636293,\n",
       " 'place_name_Paternal': -34764.92874503459,\n",
       " 'place_name_Pompeya': -69861.3143166102,\n",
       " 'place_name_Puerto Madero': 644269.6195423919,\n",
       " 'place_name_Recoleta': 183264.48840802704,\n",
       " 'place_name_Retiro': 165141.37423582294,\n",
       " 'place_name_Saavedra': -20437.63896119689,\n",
       " 'place_name_San Cristobal': -3020.958701398893,\n",
       " 'place_name_San Nicolás': -5686.464250758014,\n",
       " 'place_name_San Telmo': 1175.573587207773,\n",
       " 'place_name_Tribunales': 9993.22477585619,\n",
       " 'place_name_Velez Sarsfield': -31704.36112061078,\n",
       " 'place_name_Versalles': -60848.420359398166,\n",
       " 'place_name_Villa Crespo': 7018.936093114564,\n",
       " 'place_name_Villa Devoto': 13115.761105091537,\n",
       " 'place_name_Villa General Mitre': -17150.005422281403,\n",
       " 'place_name_Villa Lugano': -89313.04250842123,\n",
       " 'place_name_Villa Luro': -23811.837250166558,\n",
       " 'place_name_Villa Ortuzar': 26050.787047320962,\n",
       " 'place_name_Villa Pueyrredón': -5118.677281499011,\n",
       " 'place_name_Villa Real': -5994.8378013051915,\n",
       " 'place_name_Villa Riachuelo': -109144.2266675543,\n",
       " 'place_name_Villa Santa Rita': -6760.241980856001,\n",
       " 'place_name_Villa Soldati': 369344.62907181575,\n",
       " 'place_name_Villa Urquiza': -12131.37516585162,\n",
       " 'place_name_Villa del Parque': -15699.295457438202,\n",
       " 'surface_covered_in_m2_scaled': -1067658.5804316627,\n",
       " 'surface_total_in_m2_scaled': 1320606.9094669516,\n",
       " 'rooms_3_scaled': 87465.924091934}"
      ]
     },
     "execution_count": 116,
     "metadata": {},
     "output_type": "execute_result"
    },
    {
     "data": {
      "image/png": "[encoded data removed]",
      "text/plain": [
       "<Figure size 432x288 with 1 Axes>"
      ]
     },
     "metadata": {
      "needs_background": "light"
     },
     "output_type": "display_data"
    }
   ],
   "source": [
    "train_test_error(\n",
    "    [\n",
    "        'pileta',\n",
    "        'galeria',\n",
    "        'seguridad',\n",
    "        'sotano',\n",
    "        'amenities',\n",
    "        'terraza',\n",
    "        'metrobus',\n",
    "        'subte',\n",
    "        'cochera',\n",
    "        'consultorio'\n",
    "    ],\n",
    "    [\n",
    "        'property_type',\n",
    "        'place_name',\n",
    "    ],\n",
    "    [\n",
    "        'surface_covered_in_m2',\n",
    "        'surface_total_in_m2',\n",
    "        'rooms_3'\n",
    "    ],\n",
    "    'price_aprox_usd'\n",
    ")"
   ]
  },
  {
   "cell_type": "code",
   "execution_count": 117,
   "metadata": {},
   "outputs": [
    {
     "name": "stdout",
     "output_type": "stream",
     "text": [
      "Train R2: 0.4759625111921292\n",
      "Train MAE: 120102.14741715489\n",
      "Train MSE: 111615243915.68909\n",
      "\n",
      "Test R2: 0.4139932933080446\n",
      "Test MAE: 123828.4777236001\n",
      "Test MSE: 68716553292.44774\n"
     ]
    },
    {
     "name": "stderr",
     "output_type": "stream",
     "text": [
      "C:\\Users\\carlm\\anaconda3\\lib\\site-packages\\sklearn\\linear_model\\_coordinate_descent.py:531: ConvergenceWarning: Objective did not converge. You might want to increase the number of iterations. Duality gap: 1128353187647905.8, tolerance: 432648521924.8574\n",
      "  positive)\n"
     ]
    },
    {
     "data": {
      "image/png": "[encoded data removed]",
      "text/plain": [
       "<Figure size 432x288 with 1 Axes>"
      ]
     },
     "metadata": {
      "needs_background": "light"
     },
     "output_type": "display_data"
    },
    {
     "data": {
      "image/png": "[encoded data removed]",
      "text/plain": [
       "<Figure size 432x288 with 1 Axes>"
      ]
     },
     "metadata": {
      "needs_background": "light"
     },
     "output_type": "display_data"
    },
    {
     "ename": "TypeError",
     "evalue": "zip argument #2 must support iteration",
     "output_type": "error",
     "traceback": [
      "\u001b[1;31m---------------------------------------------------------------------------\u001b[0m",
      "\u001b[1;31mTypeError\u001b[0m                                 Traceback (most recent call last)",
      "\u001b[1;32m<ipython-input-117-716c485e7e2f>\u001b[0m in \u001b[0;36m<module>\u001b[1;34m\u001b[0m\n\u001b[0;32m     22\u001b[0m     ],\n\u001b[0;32m     23\u001b[0m     \u001b[1;34m'price_aprox_usd'\u001b[0m\u001b[1;33m,\u001b[0m\u001b[1;33m\u001b[0m\u001b[1;33m\u001b[0m\u001b[0m\n\u001b[1;32m---> 24\u001b[1;33m     \u001b[0mEstimator\u001b[0m \u001b[1;33m=\u001b[0m \u001b[0mLasso\u001b[0m\u001b[1;33m\u001b[0m\u001b[1;33m\u001b[0m\u001b[0m\n\u001b[0m\u001b[0;32m     25\u001b[0m )\n",
      "\u001b[1;32m<ipython-input-115-1350a7eb8e3d>\u001b[0m in \u001b[0;36mtrain_test_error\u001b[1;34m(dicotomical, categorical, numerical, target, Estimator)\u001b[0m\n\u001b[0;32m     83\u001b[0m     \u001b[0msns\u001b[0m\u001b[1;33m.\u001b[0m\u001b[0mbarplot\u001b[0m\u001b[1;33m(\u001b[0m\u001b[0mx\u001b[0m \u001b[1;33m=\u001b[0m \u001b[1;33m[\u001b[0m\u001b[0mtrain_mae\u001b[0m\u001b[1;33m,\u001b[0m \u001b[0mtest_mae\u001b[0m\u001b[1;33m]\u001b[0m\u001b[1;33m,\u001b[0m \u001b[0my\u001b[0m \u001b[1;33m=\u001b[0m \u001b[1;33m[\u001b[0m\u001b[1;34m'Train MAE'\u001b[0m\u001b[1;33m,\u001b[0m \u001b[1;34m'Test MAE'\u001b[0m\u001b[1;33m]\u001b[0m\u001b[1;33m,\u001b[0m \u001b[0mpalette\u001b[0m \u001b[1;33m=\u001b[0m \u001b[0mpalette\u001b[0m\u001b[1;33m)\u001b[0m\u001b[1;33m\u001b[0m\u001b[1;33m\u001b[0m\u001b[0m\n\u001b[0;32m     84\u001b[0m \u001b[1;33m\u001b[0m\u001b[0m\n\u001b[1;32m---> 85\u001b[1;33m     \u001b[1;32mreturn\u001b[0m \u001b[0mdict\u001b[0m\u001b[1;33m(\u001b[0m\u001b[0mzip\u001b[0m\u001b[1;33m(\u001b[0m\u001b[0mfeature_cols_scaled\u001b[0m\u001b[1;33m,\u001b[0m \u001b[0mmodel\u001b[0m\u001b[1;33m.\u001b[0m\u001b[0mcoef_\u001b[0m\u001b[1;33m[\u001b[0m\u001b[1;36m0\u001b[0m\u001b[1;33m]\u001b[0m\u001b[1;33m)\u001b[0m\u001b[1;33m)\u001b[0m\u001b[1;33m\u001b[0m\u001b[1;33m\u001b[0m\u001b[0m\n\u001b[0m",
      "\u001b[1;31mTypeError\u001b[0m: zip argument #2 must support iteration"
     ]
    },
    {
     "data": {
      "image/png": "[encoded data removed]",
      "text/plain": [
       "<Figure size 432x288 with 1 Axes>"
      ]
     },
     "metadata": {
      "needs_background": "light"
     },
     "output_type": "display_data"
    }
   ],
   "source": [
    "train_test_error(\n",
    "    [\n",
    "        'pileta',\n",
    "        'galeria',\n",
    "        'seguridad',\n",
    "        'sotano',\n",
    "        'amenities',\n",
    "        'terraza',\n",
    "        'metrobus',\n",
    "        'subte',\n",
    "        'cochera',\n",
    "        'consultorio'\n",
    "    ],\n",
    "    [\n",
    "        'property_type',\n",
    "        'place_name',\n",
    "    ],\n",
    "    [\n",
    "        'surface_covered_in_m2',\n",
    "        'surface_total_in_m2',\n",
    "        'rooms_3'\n",
    "    ],\n",
    "    'price_aprox_usd',\n",
    "    Estimator = Lasso\n",
    ")"
   ]
  },
  {
   "cell_type": "code",
   "execution_count": null,
   "metadata": {},
   "outputs": [],
   "source": [
    "train_test_error(\n",
    "    [\n",
    "        'pileta',\n",
    "        'galeria',\n",
    "        'seguridad',\n",
    "        'sotano',\n",
    "        'amenities',\n",
    "        'terraza',\n",
    "        'metrobus',\n",
    "        'subte',\n",
    "        'cochera',\n",
    "        'consultorio'\n",
    "    ],\n",
    "    [\n",
    "        'property_type',\n",
    "        'place_name',\n",
    "    ],\n",
    "    [\n",
    "        'surface_covered_in_m2',\n",
    "        'surface_total_in_m2',\n",
    "        'rooms_3'\n",
    "    ],\n",
    "    'price_aprox_usd',\n",
    "    Estimator = Ridge\n",
    ")"
   ]
  },
  {
   "cell_type": "code",
   "execution_count": null,
   "metadata": {},
   "outputs": [],
   "source": [
    "train_test_error(\n",
    "    [\n",
    "        'pileta',\n",
    "        'galeria',\n",
    "        'seguridad',\n",
    "        'sotano',\n",
    "        'amenities',\n",
    "        'terraza',\n",
    "        'metrobus',\n",
    "        'subte',\n",
    "        'cochera',\n",
    "        'consultorio'\n",
    "    ],\n",
    "    [\n",
    "        'property_type',\n",
    "        'place_name',\n",
    "    ],\n",
    "    [\n",
    "        'surface_covered_in_m2',\n",
    "        'surface_total_in_m2',\n",
    "        'rooms_3'\n",
    "    ],\n",
    "    'price_usd_per_m2'\n",
    ")"
   ]
  },
  {
   "cell_type": "code",
   "execution_count": null,
   "metadata": {},
   "outputs": [],
   "source": [
    "train_test_error(\n",
    "    [\n",
    "        'pileta',\n",
    "        'galeria',\n",
    "        'seguridad',\n",
    "        'sotano',\n",
    "        'amenities',\n",
    "        'terraza',\n",
    "        'metrobus',\n",
    "        'subte',\n",
    "        'cochera',\n",
    "        'consultorio'\n",
    "    ],\n",
    "    [\n",
    "        'property_type',\n",
    "        'place_name',\n",
    "    ],\n",
    "    [\n",
    "        'surface_covered_in_m2',\n",
    "        'surface_total_in_m2',\n",
    "        'rooms_3'\n",
    "    ],\n",
    "    'price_usd_per_m2',\n",
    "    Estimator = Lasso\n",
    ")"
   ]
  },
  {
   "cell_type": "code",
   "execution_count": null,
   "metadata": {},
   "outputs": [],
   "source": [
    "train_test_error(\n",
    "    [\n",
    "        'pileta',\n",
    "        'galeria',\n",
    "        'seguridad',\n",
    "        'sotano',\n",
    "        'amenities',\n",
    "        'terraza',\n",
    "        'metrobus',\n",
    "        'subte',\n",
    "        'cochera',\n",
    "        'consultorio'\n",
    "    ],\n",
    "    [\n",
    "        'property_type',\n",
    "        'place_name',\n",
    "    ],\n",
    "    [\n",
    "        'surface_covered_in_m2',\n",
    "        'surface_total_in_m2',\n",
    "        'rooms_3'\n",
    "    ],\n",
    "    'price_usd_per_m2',\n",
    "    Estimator = Ridge\n",
    ")"
   ]
  },
  {
   "cell_type": "markdown",
   "metadata": {},
   "source": [
    "## Sin superficie cubierta"
   ]
  },
  {
   "cell_type": "code",
   "execution_count": 123,
   "metadata": {},
   "outputs": [
    {
     "name": "stdout",
     "output_type": "stream",
     "text": [
      "Train R2: 0.4508220720069398\n",
      "Train MAE: 554.5745553146623\n",
      "Train MSE: 749504.6086154758\n",
      "\n",
      "Test R2: 0.462750792427405\n",
      "Test MAE: 561.5171452078208\n",
      "Test MSE: 774836.1966718164\n"
     ]
    },
    {
     "data": {
      "image/png": "[encoded data removed]",
      "text/plain": [
       "<Figure size 432x288 with 1 Axes>"
      ]
     },
     "metadata": {
      "needs_background": "light"
     },
     "output_type": "display_data"
    },
    {
     "data": {
      "image/png": "[encoded data removed]",
      "text/plain": [
       "<Figure size 432x288 with 1 Axes>"
      ]
     },
     "metadata": {
      "needs_background": "light"
     },
     "output_type": "display_data"
    },
    {
     "data": {
      "image/png": "[encoded data removed]",
      "text/plain": [
       "<Figure size 432x288 with 1 Axes>"
      ]
     },
     "metadata": {
      "needs_background": "light"
     },
     "output_type": "display_data"
    }
   ],
   "source": [
    "model = train_test_error(\n",
    "    [\n",
    "        'pileta',\n",
    "        #'galeria',\n",
    "        #'seguridad',\n",
    "        'sotano',\n",
    "        #'amenities',\n",
    "        'terraza',\n",
    "        'metrobus',\n",
    "        'subte',\n",
    "        'cochera',\n",
    "        'consultorio'\n",
    "    ],\n",
    "    [\n",
    "        'property_type',\n",
    "        'place_name',\n",
    "    ],\n",
    "    [\n",
    "        # 'surface_covered_in_m2',\n",
    "        # 'surface_total_in_m2',\n",
    "        #'interaccion_superficie_division',\n",
    "        'rooms_3'\n",
    "    ],\n",
    "    'price_usd_per_m2'\n",
    ")"
   ]
  },
  {
   "cell_type": "code",
   "execution_count": 119,
   "metadata": {},
   "outputs": [
    {
     "data": {
      "text/plain": [
       "{'pileta_True': 294.71470590423263,\n",
       " 'galeria_True': -258.4444475317604,\n",
       " 'seguridad_True': 208.19467020283005,\n",
       " 'sotano_True': -125.58440965805406,\n",
       " 'amenities_True': 133.7982911016818,\n",
       " 'terraza_True': -110.80511288767002,\n",
       " 'metrobus_True': -60.107321752857615,\n",
       " 'subte_True': -92.02442742925132,\n",
       " 'cochera_True': 226.5192948021401,\n",
       " 'consultorio_True': -113.00534665627606,\n",
       " 'property_type_apartment': 144.52487825682897,\n",
       " 'property_type_house': -714.2889471050963,\n",
       " 'property_type_store': 665.512953705037,\n",
       " 'place_name_Agronomía': -3.7149916026831686,\n",
       " 'place_name_Almagro': 212.7666581127415,\n",
       " 'place_name_Balvanera': -54.82748933063897,\n",
       " 'place_name_Barracas': -61.256488239348414,\n",
       " 'place_name_Barrio Norte': 923.8666215315877,\n",
       " 'place_name_Belgrano': 968.8180672506603,\n",
       " 'place_name_Boca': -343.5324710757368,\n",
       " 'place_name_Boedo': 462.1812944543567,\n",
       " 'place_name_Caballito': 299.0685414182192,\n",
       " 'place_name_Capital Federal': -18.478513557507426,\n",
       " 'place_name_Catalinas': 558.5207504491882,\n",
       " 'place_name_Centro / Microcentro': 266.09955844911343,\n",
       " 'place_name_Chacarita': 98.80675432956346,\n",
       " 'place_name_Coghlan': 367.9460943058079,\n",
       " 'place_name_Colegiales': 470.5728746465012,\n",
       " 'place_name_Congreso': -111.79497152714006,\n",
       " 'place_name_Constitución': -237.224752171011,\n",
       " 'place_name_Flores': -47.659548656952154,\n",
       " 'place_name_Floresta': -59.48654114233264,\n",
       " 'place_name_Las Cañitas': 1278.7125464607495,\n",
       " 'place_name_Liniers': -112.89911704973278,\n",
       " 'place_name_Mataderos': -131.216743061201,\n",
       " 'place_name_Monserrat': 56.23832093417249,\n",
       " 'place_name_Monte Castro': -50.286782989014526,\n",
       " 'place_name_Nuñez': 987.928892514013,\n",
       " 'place_name_Once': 1.8243481128036478,\n",
       " 'place_name_Palermo': 1133.1959394353821,\n",
       " 'place_name_Palermo Chico': 2366.8778725007633,\n",
       " 'place_name_Palermo Hollywood': 978.5791918095524,\n",
       " 'place_name_Palermo Soho': 970.4127075941676,\n",
       " 'place_name_Palermo Viejo': 989.1545775727905,\n",
       " 'place_name_Parque Avellaneda': -150.44493200582923,\n",
       " 'place_name_Parque Centenario': 283.53435280073694,\n",
       " 'place_name_Parque Chacabuco': -88.02517397235083,\n",
       " 'place_name_Parque Chas': -143.08918202283115,\n",
       " 'place_name_Parque Patricios': -114.47498403914436,\n",
       " 'place_name_Paternal': 174.34622825436696,\n",
       " 'place_name_Pompeya': -643.8527543287069,\n",
       " 'place_name_Puerto Madero': 3572.946646636725,\n",
       " 'place_name_Recoleta': 1171.1371187694058,\n",
       " 'place_name_Retiro': 922.2694286559461,\n",
       " 'place_name_Saavedra': 260.97705732465096,\n",
       " 'place_name_San Cristobal': 215.50392891770946,\n",
       " 'place_name_San Nicolás': 186.15286967376352,\n",
       " 'place_name_San Telmo': 74.95143591623368,\n",
       " 'place_name_Tribunales': 21.003865094796566,\n",
       " 'place_name_Velez Sarsfield': -181.08725268587804,\n",
       " 'place_name_Versalles': 209.71058523320607,\n",
       " 'place_name_Villa Crespo': 469.63800018177204,\n",
       " 'place_name_Villa Devoto': 269.5376298964168,\n",
       " 'place_name_Villa General Mitre': 47.53622872459876,\n",
       " 'place_name_Villa Lugano': -510.71125596533153,\n",
       " 'place_name_Villa Luro': 38.26294435814585,\n",
       " 'place_name_Villa Ortuzar': 284.9615148792719,\n",
       " 'place_name_Villa Pueyrredón': 202.30544921208872,\n",
       " 'place_name_Villa Real': -269.4003345188569,\n",
       " 'place_name_Villa Riachuelo': 1537.2000331658894,\n",
       " 'place_name_Villa Santa Rita': 373.2098230725163,\n",
       " 'place_name_Villa Soldati': -1227.8420696016071,\n",
       " 'place_name_Villa Urquiza': 381.9661892798827,\n",
       " 'place_name_Villa del Parque': 182.2374545011586,\n",
       " 'rooms_3_scaled': -27.1301645109084}"
      ]
     },
     "execution_count": 119,
     "metadata": {},
     "output_type": "execute_result"
    }
   ],
   "source": [
    "model"
   ]
  },
  {
   "cell_type": "code",
   "execution_count": null,
   "metadata": {},
   "outputs": [],
   "source": []
  }
 ],
 "metadata": {
  "kernelspec": {
   "display_name": "Python 3",
   "language": "python",
   "name": "python3"
  },
  "language_info": {
   "codemirror_mode": {
    "name": "ipython",
    "version": 3
   },
   "file_extension": ".py",
   "mimetype": "text/x-python",
   "name": "python",
   "nbconvert_exporter": "python",
   "pygments_lexer": "ipython3",
   "version": "3.7.7"
  }
 },
 "nbformat": 4,
 "nbformat_minor": 4
}
