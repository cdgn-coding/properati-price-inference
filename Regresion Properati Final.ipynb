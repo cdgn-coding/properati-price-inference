{
 "cells": [
  {
   "cell_type": "markdown",
   "metadata": {},
   "source": [
    "## Importamos el dataset"
   ]
  },
  {
   "cell_type": "code",
   "execution_count": 317,
   "metadata": {},
   "outputs": [],
   "source": [
    "import pandas as pd\n",
    "import numpy as np\n",
    "dataset = pd.read_csv(\"properati_clean.csv\", index_col = 'Unnamed: 0')"
   ]
  },
  {
   "cell_type": "code",
   "execution_count": 318,
   "metadata": {},
   "outputs": [],
   "source": [
    "dataset = dataset.loc[dataset.state_name == 'Capital Federal']"
   ]
  },
  {
   "cell_type": "code",
   "execution_count": 319,
   "metadata": {},
   "outputs": [
    {
     "data": {
      "text/html": [
       "<div>\n",
       "<style scoped>\n",
       "    .dataframe tbody tr th:only-of-type {\n",
       "        vertical-align: middle;\n",
       "    }\n",
       "\n",
       "    .dataframe tbody tr th {\n",
       "        vertical-align: top;\n",
       "    }\n",
       "\n",
       "    .dataframe thead th {\n",
       "        text-align: right;\n",
       "    }\n",
       "</style>\n",
       "<table border=\"1\" class=\"dataframe\">\n",
       "  <thead>\n",
       "    <tr style=\"text-align: right;\">\n",
       "      <th></th>\n",
       "      <th>Unnamed: 0.1</th>\n",
       "      <th>operation</th>\n",
       "      <th>property_type</th>\n",
       "      <th>place_name</th>\n",
       "      <th>place_with_parent_names</th>\n",
       "      <th>country_name</th>\n",
       "      <th>state_name</th>\n",
       "      <th>geonames_id</th>\n",
       "      <th>lat-lon</th>\n",
       "      <th>lat</th>\n",
       "      <th>...</th>\n",
       "      <th>pileta</th>\n",
       "      <th>galeria</th>\n",
       "      <th>seguridad</th>\n",
       "      <th>sotano</th>\n",
       "      <th>amenities</th>\n",
       "      <th>terraza</th>\n",
       "      <th>metrobus</th>\n",
       "      <th>subte</th>\n",
       "      <th>cochera</th>\n",
       "      <th>consultorio</th>\n",
       "    </tr>\n",
       "  </thead>\n",
       "  <tbody>\n",
       "    <tr>\n",
       "      <th>98498</th>\n",
       "      <td>98498</td>\n",
       "      <td>sell</td>\n",
       "      <td>apartment</td>\n",
       "      <td>Liniers</td>\n",
       "      <td>|Argentina|Capital Federal|Liniers|</td>\n",
       "      <td>Argentina</td>\n",
       "      <td>Capital Federal</td>\n",
       "      <td>3431333.0</td>\n",
       "      <td>NaN</td>\n",
       "      <td>NaN</td>\n",
       "      <td>...</td>\n",
       "      <td>False</td>\n",
       "      <td>False</td>\n",
       "      <td>False</td>\n",
       "      <td>False</td>\n",
       "      <td>False</td>\n",
       "      <td>False</td>\n",
       "      <td>False</td>\n",
       "      <td>False</td>\n",
       "      <td>False</td>\n",
       "      <td>False</td>\n",
       "    </tr>\n",
       "    <tr>\n",
       "      <th>57339</th>\n",
       "      <td>57339</td>\n",
       "      <td>sell</td>\n",
       "      <td>apartment</td>\n",
       "      <td>Palermo</td>\n",
       "      <td>|Argentina|Capital Federal|Palermo|</td>\n",
       "      <td>Argentina</td>\n",
       "      <td>Capital Federal</td>\n",
       "      <td>3430234.0</td>\n",
       "      <td>-34.5978339,-58.411794</td>\n",
       "      <td>-34.597834</td>\n",
       "      <td>...</td>\n",
       "      <td>True</td>\n",
       "      <td>False</td>\n",
       "      <td>False</td>\n",
       "      <td>False</td>\n",
       "      <td>False</td>\n",
       "      <td>False</td>\n",
       "      <td>False</td>\n",
       "      <td>False</td>\n",
       "      <td>False</td>\n",
       "      <td>False</td>\n",
       "    </tr>\n",
       "    <tr>\n",
       "      <th>74487</th>\n",
       "      <td>74487</td>\n",
       "      <td>sell</td>\n",
       "      <td>apartment</td>\n",
       "      <td>Villa Crespo</td>\n",
       "      <td>|Argentina|Capital Federal|Villa Crespo|</td>\n",
       "      <td>Argentina</td>\n",
       "      <td>Capital Federal</td>\n",
       "      <td>3427458.0</td>\n",
       "      <td>-34.6007250867,-58.4308895892</td>\n",
       "      <td>-34.600725</td>\n",
       "      <td>...</td>\n",
       "      <td>False</td>\n",
       "      <td>False</td>\n",
       "      <td>False</td>\n",
       "      <td>False</td>\n",
       "      <td>True</td>\n",
       "      <td>True</td>\n",
       "      <td>False</td>\n",
       "      <td>False</td>\n",
       "      <td>True</td>\n",
       "      <td>False</td>\n",
       "    </tr>\n",
       "  </tbody>\n",
       "</table>\n",
       "<p>3 rows × 43 columns</p>\n",
       "</div>"
      ],
      "text/plain": [
       "       Unnamed: 0.1 operation property_type    place_name  \\\n",
       "98498         98498      sell     apartment       Liniers   \n",
       "57339         57339      sell     apartment       Palermo   \n",
       "74487         74487      sell     apartment  Villa Crespo   \n",
       "\n",
       "                        place_with_parent_names country_name       state_name  \\\n",
       "98498       |Argentina|Capital Federal|Liniers|    Argentina  Capital Federal   \n",
       "57339       |Argentina|Capital Federal|Palermo|    Argentina  Capital Federal   \n",
       "74487  |Argentina|Capital Federal|Villa Crespo|    Argentina  Capital Federal   \n",
       "\n",
       "       geonames_id                        lat-lon        lat  ...  pileta  \\\n",
       "98498    3431333.0                            NaN        NaN  ...   False   \n",
       "57339    3430234.0         -34.5978339,-58.411794 -34.597834  ...    True   \n",
       "74487    3427458.0  -34.6007250867,-58.4308895892 -34.600725  ...   False   \n",
       "\n",
       "       galeria seguridad  sotano  amenities  terraza  metrobus  subte  \\\n",
       "98498    False     False   False      False    False     False  False   \n",
       "57339    False     False   False      False    False     False  False   \n",
       "74487    False     False   False       True     True     False  False   \n",
       "\n",
       "       cochera  consultorio  \n",
       "98498    False        False  \n",
       "57339    False        False  \n",
       "74487     True        False  \n",
       "\n",
       "[3 rows x 43 columns]"
      ]
     },
     "execution_count": 319,
     "metadata": {},
     "output_type": "execute_result"
    }
   ],
   "source": [
    "dataset.sample(3)"
   ]
  },
  {
   "cell_type": "markdown",
   "metadata": {},
   "source": [
    "## Agrupacion de barrios con pocos datos en la muestra"
   ]
  },
  {
   "cell_type": "markdown",
   "metadata": {},
   "source": [
    "Vemos que en la columna de barrios, hay algunos que tienen pocos registros"
   ]
  },
  {
   "cell_type": "code",
   "execution_count": 320,
   "metadata": {},
   "outputs": [
    {
     "data": {
      "text/plain": [
       "Belgrano           2984\n",
       "Palermo            2867\n",
       "Caballito          2271\n",
       "Villa Urquiza      1626\n",
       "Recoleta           1543\n",
       "                   ... \n",
       "Velez Sarsfield      39\n",
       "Villa Real           37\n",
       "Villa Soldati        15\n",
       "Villa Riachuelo       6\n",
       "Catalinas             4\n",
       "Name: place_name, Length: 62, dtype: int64"
      ]
     },
     "execution_count": 320,
     "metadata": {},
     "output_type": "execute_result"
    }
   ],
   "source": [
    "dataset.place_name.value_counts()"
   ]
  },
  {
   "cell_type": "markdown",
   "metadata": {},
   "source": [
    "En particular, vemos que barrios como Villa Soldati, Velez Sarsfield, Villa Riachuelo, etc. tienen pocos registros"
   ]
  },
  {
   "cell_type": "code",
   "execution_count": 321,
   "metadata": {},
   "outputs": [
    {
     "data": {
      "text/plain": [
       "count      62.000000\n",
       "mean      519.225806\n",
       "std       651.674902\n",
       "min         4.000000\n",
       "25%        88.250000\n",
       "50%       252.500000\n",
       "75%       592.500000\n",
       "max      2984.000000\n",
       "Name: place_name, dtype: float64"
      ]
     },
     "execution_count": 321,
     "metadata": {},
     "output_type": "execute_result"
    }
   ],
   "source": [
    "dataset.place_name.value_counts().describe()"
   ]
  },
  {
   "cell_type": "code",
   "execution_count": 322,
   "metadata": {},
   "outputs": [
    {
     "data": {
      "text/plain": [
       "<matplotlib.axes._subplots.AxesSubplot at 0x1ba557ed048>"
      ]
     },
     "execution_count": 322,
     "metadata": {},
     "output_type": "execute_result"
    },
    {
     "data": {
      "image/png": "[encoded data removed]",
      "text/plain": [
       "<Figure size 432x288 with 1 Axes>"
      ]
     },
     "metadata": {
      "needs_background": "light"
     },
     "output_type": "display_data"
    }
   ],
   "source": [
    "import seaborn as sns\n",
    "sns.violinplot(dataset.place_name.value_counts())"
   ]
  },
  {
   "cell_type": "markdown",
   "metadata": {},
   "source": [
    "Para balancear un poco esta situacion, vamos a agrupar los barrios con pocos registros en uno solo llamado \"Otros barrios\". La columna place_name, pasara a llamarse \"place_name_raw\" y la aplicacion que haremos quedara en \"place_name\". Vamos a tomar todos los barrios cuya cantidad de datos esta por debajo del percentil 25."
   ]
  },
  {
   "cell_type": "code",
   "execution_count": 323,
   "metadata": {},
   "outputs": [],
   "source": [
    "dataset[\"place_name_raw\"] = dataset.place_name.copy()"
   ]
  },
  {
   "cell_type": "code",
   "execution_count": 324,
   "metadata": {},
   "outputs": [],
   "source": [
    "barrios_por_presencia = dataset.place_name.value_counts()\n",
    "percentil = barrios_por_presencia.quantile(.25)"
   ]
  },
  {
   "cell_type": "code",
   "execution_count": 325,
   "metadata": {},
   "outputs": [],
   "source": [
    "barrios_para_agrupar = barrios_por_presencia[barrios_por_presencia < percentil].index.tolist()"
   ]
  },
  {
   "cell_type": "code",
   "execution_count": 326,
   "metadata": {},
   "outputs": [
    {
     "name": "stdout",
     "output_type": "stream",
     "text": [
      "Vamos a agrupar los siguientes varrios ['Villa Ortuzar', 'Monte Castro', 'Parque Centenario', 'Pompeya', 'Villa Santa Rita', 'Parque Avellaneda', 'Versalles', 'Villa General Mitre', 'Parque Chas', 'Agronomía', 'Palermo Viejo', 'Velez Sarsfield', 'Villa Real', 'Villa Soldati', 'Villa Riachuelo', 'Catalinas']\n"
     ]
    }
   ],
   "source": [
    "print(f\"Vamos a agrupar los siguientes varrios {barrios_para_agrupar}\")"
   ]
  },
  {
   "cell_type": "code",
   "execution_count": 327,
   "metadata": {},
   "outputs": [],
   "source": [
    "dataset[\"place_name\"] = np.where(dataset.place_name.isin(barrios_para_agrupar), \"Otros barrios\", dataset.place_name)"
   ]
  },
  {
   "cell_type": "code",
   "execution_count": 328,
   "metadata": {},
   "outputs": [
    {
     "data": {
      "text/plain": [
       "<matplotlib.axes._subplots.AxesSubplot at 0x1ba525aa488>"
      ]
     },
     "execution_count": 328,
     "metadata": {},
     "output_type": "execute_result"
    },
    {
     "data": {
      "image/png": "[encoded data removed]",
      "text/plain": [
       "<Figure size 432x288 with 1 Axes>"
      ]
     },
     "metadata": {
      "needs_background": "light"
     },
     "output_type": "display_data"
    }
   ],
   "source": [
    "sns.violinplot(dataset.place_name.value_counts())"
   ]
  },
  {
   "cell_type": "markdown",
   "metadata": {},
   "source": [
    "## Eliminacion de outliers"
   ]
  },
  {
   "cell_type": "markdown",
   "metadata": {},
   "source": [
    "Eliminamos outliers en precio por metro cuadrado utilizando los rangos intercuartiles"
   ]
  },
  {
   "cell_type": "code",
   "execution_count": 329,
   "metadata": {},
   "outputs": [],
   "source": [
    "def get_outlier_bounds(series):\n",
    "    # Compute quartiles\n",
    "    q1 = series.quantile(0.25)\n",
    "    q2 = series.quantile(0.5)\n",
    "    q3 = series.quantile(0.75)\n",
    "\n",
    "    # Compute interquartile range\n",
    "    iqr = q3 - q1\n",
    "\n",
    "    # Compute outlier thresholds\n",
    "    up_threshold = q3 + 1.5 * iqr\n",
    "    low_threshold = q1 - 1.5* iqr\n",
    "    \n",
    "    return low_threshold, up_threshold"
   ]
  },
  {
   "cell_type": "code",
   "execution_count": 330,
   "metadata": {},
   "outputs": [],
   "source": [
    "lower, upper = get_outlier_bounds(dataset.price_usd_per_m2)"
   ]
  },
  {
   "cell_type": "code",
   "execution_count": 331,
   "metadata": {},
   "outputs": [],
   "source": [
    "def price_m2_is_not_outlier(price_usd_per_m2):\n",
    "    return (lower <= price_usd_per_m2) & (price_usd_per_m2 <= upper)\n",
    "\n",
    "price_m2_is_not_outlier_mask = dataset.price_usd_per_m2.apply(price_m2_is_not_outlier)"
   ]
  },
  {
   "cell_type": "code",
   "execution_count": 332,
   "metadata": {},
   "outputs": [
    {
     "data": {
      "text/plain": [
       "<matplotlib.axes._subplots.AxesSubplot at 0x1ba461a9748>"
      ]
     },
     "execution_count": 332,
     "metadata": {},
     "output_type": "execute_result"
    },
    {
     "data": {
      "image/png": "[encoded data removed]",
      "text/plain": [
       "<Figure size 432x288 with 1 Axes>"
      ]
     },
     "metadata": {
      "needs_background": "light"
     },
     "output_type": "display_data"
    }
   ],
   "source": [
    "import seaborn as sns\n",
    "sns.violinplot(dataset[price_m2_is_not_outlier_mask].price_usd_per_m2)"
   ]
  },
  {
   "cell_type": "code",
   "execution_count": 333,
   "metadata": {},
   "outputs": [
    {
     "data": {
      "text/plain": [
       "<matplotlib.axes._subplots.AxesSubplot at 0x1ba48275988>"
      ]
     },
     "execution_count": 333,
     "metadata": {},
     "output_type": "execute_result"
    },
    {
     "data": {
      "image/png": "[encoded data removed]",
      "text/plain": [
       "<Figure size 432x288 with 1 Axes>"
      ]
     },
     "metadata": {
      "needs_background": "light"
     },
     "output_type": "display_data"
    }
   ],
   "source": [
    "import seaborn as sns\n",
    "sns.violinplot(dataset.price_usd_per_m2)"
   ]
  },
  {
   "cell_type": "markdown",
   "metadata": {},
   "source": [
    "Exploramos la distribución en la cantidad de ambientes"
   ]
  },
  {
   "cell_type": "code",
   "execution_count": 334,
   "metadata": {
    "scrolled": true
   },
   "outputs": [
    {
     "data": {
      "text/plain": [
       "<matplotlib.axes._subplots.AxesSubplot at 0x1ba4c16f448>"
      ]
     },
     "execution_count": 334,
     "metadata": {},
     "output_type": "execute_result"
    },
    {
     "data": {
      "image/png": "[encoded data removed]",
      "text/plain": [
       "<Figure size 432x288 with 1 Axes>"
      ]
     },
     "metadata": {
      "needs_background": "light"
     },
     "output_type": "display_data"
    }
   ],
   "source": [
    "import seaborn as sns\n",
    "sns.violinplot(dataset.rooms_3)"
   ]
  },
  {
   "cell_type": "code",
   "execution_count": 335,
   "metadata": {},
   "outputs": [
    {
     "data": {
      "text/plain": [
       "<matplotlib.axes._subplots.AxesSubplot at 0x1ba468759c8>"
      ]
     },
     "execution_count": 335,
     "metadata": {},
     "output_type": "execute_result"
    },
    {
     "data": {
      "image/png": "[encoded data removed]",
      "text/plain": [
       "<Figure size 432x288 with 1 Axes>"
      ]
     },
     "metadata": {
      "needs_background": "light"
     },
     "output_type": "display_data"
    }
   ],
   "source": [
    "import seaborn as sns\n",
    "sns.violinplot(np.log(1 + dataset.rooms_3))"
   ]
  },
  {
   "cell_type": "markdown",
   "metadata": {},
   "source": [
    "Exploramos la distribución de superficie"
   ]
  },
  {
   "cell_type": "code",
   "execution_count": 336,
   "metadata": {},
   "outputs": [
    {
     "data": {
      "text/plain": [
       "<matplotlib.axes._subplots.AxesSubplot at 0x1ba48531648>"
      ]
     },
     "execution_count": 336,
     "metadata": {},
     "output_type": "execute_result"
    },
    {
     "data": {
      "image/png": "[encoded data removed]",
      "text/plain": [
       "<Figure size 432x288 with 1 Axes>"
      ]
     },
     "metadata": {
      "needs_background": "light"
     },
     "output_type": "display_data"
    }
   ],
   "source": [
    "sns.violinplot(dataset.surface_covered_in_m2)"
   ]
  },
  {
   "cell_type": "code",
   "execution_count": 337,
   "metadata": {},
   "outputs": [
    {
     "data": {
      "text/plain": [
       "<matplotlib.axes._subplots.AxesSubplot at 0x1ba42521988>"
      ]
     },
     "execution_count": 337,
     "metadata": {},
     "output_type": "execute_result"
    },
    {
     "data": {
      "image/png": "[encoded data removed]",
      "text/plain": [
       "<Figure size 432x288 with 1 Axes>"
      ]
     },
     "metadata": {
      "needs_background": "light"
     },
     "output_type": "display_data"
    }
   ],
   "source": [
    "sns.violinplot(dataset.surface_total_in_m2)"
   ]
  },
  {
   "cell_type": "code",
   "execution_count": 338,
   "metadata": {},
   "outputs": [
    {
     "data": {
      "text/plain": [
       "<matplotlib.axes._subplots.AxesSubplot at 0x1ba56667f88>"
      ]
     },
     "execution_count": 338,
     "metadata": {},
     "output_type": "execute_result"
    },
    {
     "data": {
      "image/png": "[encoded data removed]",
      "text/plain": [
       "<Figure size 432x288 with 1 Axes>"
      ]
     },
     "metadata": {
      "needs_background": "light"
     },
     "output_type": "display_data"
    }
   ],
   "source": [
    "sns.violinplot(np.log(dataset.surface_total_in_m2))"
   ]
  },
  {
   "cell_type": "markdown",
   "metadata": {},
   "source": [
    "Elimino efectivamente los outliers de precio"
   ]
  },
  {
   "cell_type": "code",
   "execution_count": 339,
   "metadata": {},
   "outputs": [
    {
     "name": "stdout",
     "output_type": "stream",
     "text": [
      "Consideramos 20.80% como outliers\n"
     ]
    }
   ],
   "source": [
    "outlier = (~price_m2_is_not_outlier_mask).sum()\n",
    "total = dataset.shape[0]\n",
    "outlier_percentage = 100 * outlier / total\n",
    "print(f\"Consideramos {outlier_percentage:.2f}% como outliers\")"
   ]
  },
  {
   "cell_type": "markdown",
   "metadata": {},
   "source": [
    "En lugar de truncar el dataset, los valores outliers los capeamos"
   ]
  },
  {
   "cell_type": "code",
   "execution_count": 340,
   "metadata": {},
   "outputs": [],
   "source": [
    "dataset = dataset[price_m2_is_not_outlier_mask]"
   ]
  },
  {
   "cell_type": "code",
   "execution_count": 341,
   "metadata": {},
   "outputs": [
    {
     "data": {
      "text/plain": [
       "<matplotlib.axes._subplots.AxesSubplot at 0x1ba519cba88>"
      ]
     },
     "execution_count": 341,
     "metadata": {},
     "output_type": "execute_result"
    },
    {
     "data": {
      "image/png": "[encoded data removed]",
      "text/plain": [
       "<Figure size 432x288 with 1 Axes>"
      ]
     },
     "metadata": {
      "needs_background": "light"
     },
     "output_type": "display_data"
    }
   ],
   "source": [
    "sns.violinplot(dataset['price_usd_per_m2'])"
   ]
  },
  {
   "cell_type": "markdown",
   "metadata": {},
   "source": [
    "## Feature engineering"
   ]
  },
  {
   "cell_type": "markdown",
   "metadata": {},
   "source": [
    "Creo una columna con el cuadrado de la cantidad de ambientes"
   ]
  },
  {
   "cell_type": "code",
   "execution_count": 342,
   "metadata": {},
   "outputs": [
    {
     "name": "stderr",
     "output_type": "stream",
     "text": [
      "C:\\Users\\carlm\\anaconda3\\lib\\site-packages\\pandas\\core\\series.py:726: RuntimeWarning: invalid value encountered in log\n",
      "  result = getattr(ufunc, method)(*inputs, **kwargs)\n"
     ]
    }
   ],
   "source": [
    "dataset['rooms_log'] = np.log(1 + dataset['rooms_3'])\n",
    "dataset['rooms_log_squared'] = dataset['rooms_log'] ** 2\n",
    "dataset['surface_uncovered'] = dataset['surface_total_in_m2'] - dataset['surface_covered_in_m2']\n",
    "dataset['surface_uncovered_log'] = np.log(1 + dataset.surface_uncovered)\n",
    "dataset['has_surface_uncovered'] = dataset['surface_uncovered'] > 0\n",
    "dataset['surface_total_log'] = np.log(dataset.surface_total_in_m2)\n",
    "dataset['surface_total_log_squared'] = np.log(dataset.surface_total_in_m2) ** 2"
   ]
  },
  {
   "cell_type": "code",
   "execution_count": 343,
   "metadata": {},
   "outputs": [
    {
     "data": {
      "text/plain": [
       "<matplotlib.axes._subplots.AxesSubplot at 0x1ba52241588>"
      ]
     },
     "execution_count": 343,
     "metadata": {},
     "output_type": "execute_result"
    },
    {
     "data": {
      "image/png": "[encoded data removed]",
      "text/plain": [
       "<Figure size 432x288 with 1 Axes>"
      ]
     },
     "metadata": {
      "needs_background": "light"
     },
     "output_type": "display_data"
    }
   ],
   "source": [
    "sns.violinplot(np.log(dataset.surface_total_in_m2))"
   ]
  },
  {
   "cell_type": "code",
   "execution_count": 344,
   "metadata": {},
   "outputs": [
    {
     "data": {
      "text/plain": [
       "<matplotlib.axes._subplots.AxesSubplot at 0x1ba5556e608>"
      ]
     },
     "execution_count": 344,
     "metadata": {},
     "output_type": "execute_result"
    },
    {
     "data": {
      "image/png": "[encoded data removed]",
      "text/plain": [
       "<Figure size 432x288 with 1 Axes>"
      ]
     },
     "metadata": {
      "needs_background": "light"
     },
     "output_type": "display_data"
    }
   ],
   "source": [
    "sns.violinplot(dataset[dataset.has_surface_uncovered].surface_uncovered_log)"
   ]
  },
  {
   "cell_type": "code",
   "execution_count": 345,
   "metadata": {},
   "outputs": [
    {
     "data": {
      "text/plain": [
       "count    25432.000000\n",
       "mean        18.844448\n",
       "std         94.182652\n",
       "min       -300.000000\n",
       "25%          0.000000\n",
       "50%          4.000000\n",
       "75%          9.000000\n",
       "max       3721.000000\n",
       "Name: surface_uncovered, dtype: float64"
      ]
     },
     "execution_count": 345,
     "metadata": {},
     "output_type": "execute_result"
    }
   ],
   "source": [
    "dataset.surface_uncovered.describe()"
   ]
  },
  {
   "cell_type": "code",
   "execution_count": 346,
   "metadata": {},
   "outputs": [
    {
     "data": {
      "text/plain": [
       "True     15382\n",
       "False    10114\n",
       "Name: has_surface_uncovered, dtype: int64"
      ]
     },
     "execution_count": 346,
     "metadata": {},
     "output_type": "execute_result"
    }
   ],
   "source": [
    "dataset.has_surface_uncovered.value_counts()"
   ]
  },
  {
   "cell_type": "code",
   "execution_count": 347,
   "metadata": {},
   "outputs": [
    {
     "data": {
      "text/html": [
       "<div>\n",
       "<style scoped>\n",
       "    .dataframe tbody tr th:only-of-type {\n",
       "        vertical-align: middle;\n",
       "    }\n",
       "\n",
       "    .dataframe tbody tr th {\n",
       "        vertical-align: top;\n",
       "    }\n",
       "\n",
       "    .dataframe thead th {\n",
       "        text-align: right;\n",
       "    }\n",
       "</style>\n",
       "<table border=\"1\" class=\"dataframe\">\n",
       "  <thead>\n",
       "    <tr style=\"text-align: right;\">\n",
       "      <th></th>\n",
       "      <th>count</th>\n",
       "      <th>mean</th>\n",
       "      <th>std</th>\n",
       "      <th>min</th>\n",
       "      <th>25%</th>\n",
       "      <th>50%</th>\n",
       "      <th>75%</th>\n",
       "      <th>max</th>\n",
       "    </tr>\n",
       "    <tr>\n",
       "      <th>has_surface_uncovered</th>\n",
       "      <th></th>\n",
       "      <th></th>\n",
       "      <th></th>\n",
       "      <th></th>\n",
       "      <th></th>\n",
       "      <th></th>\n",
       "      <th></th>\n",
       "      <th></th>\n",
       "    </tr>\n",
       "  </thead>\n",
       "  <tbody>\n",
       "    <tr>\n",
       "      <th>False</th>\n",
       "      <td>10114.0</td>\n",
       "      <td>2413.958360</td>\n",
       "      <td>769.699766</td>\n",
       "      <td>343.51145</td>\n",
       "      <td>1914.285714</td>\n",
       "      <td>2345.454545</td>\n",
       "      <td>2857.142857</td>\n",
       "      <td>4690.666667</td>\n",
       "    </tr>\n",
       "    <tr>\n",
       "      <th>True</th>\n",
       "      <td>15382.0</td>\n",
       "      <td>2415.973944</td>\n",
       "      <td>783.269776</td>\n",
       "      <td>340.00000</td>\n",
       "      <td>1934.620366</td>\n",
       "      <td>2400.000000</td>\n",
       "      <td>2879.310345</td>\n",
       "      <td>4695.652174</td>\n",
       "    </tr>\n",
       "  </tbody>\n",
       "</table>\n",
       "</div>"
      ],
      "text/plain": [
       "                         count         mean         std        min  \\\n",
       "has_surface_uncovered                                                \n",
       "False                  10114.0  2413.958360  769.699766  343.51145   \n",
       "True                   15382.0  2415.973944  783.269776  340.00000   \n",
       "\n",
       "                               25%          50%          75%          max  \n",
       "has_surface_uncovered                                                      \n",
       "False                  1914.285714  2345.454545  2857.142857  4690.666667  \n",
       "True                   1934.620366  2400.000000  2879.310345  4695.652174  "
      ]
     },
     "execution_count": 347,
     "metadata": {},
     "output_type": "execute_result"
    }
   ],
   "source": [
    "dataset.groupby('has_surface_uncovered').price_usd_per_m2.describe()"
   ]
  },
  {
   "cell_type": "markdown",
   "metadata": {},
   "source": [
    "## Crear variables dummies"
   ]
  },
  {
   "cell_type": "code",
   "execution_count": 348,
   "metadata": {},
   "outputs": [],
   "source": [
    "dicotomical = [\n",
    "    'pileta',\n",
    "    'galeria',\n",
    "    'seguridad',\n",
    "    'sotano',\n",
    "    'amenities',\n",
    "    'terraza',\n",
    "    'metrobus',\n",
    "    'subte',\n",
    "    'cochera',\n",
    "    'consultorio',\n",
    "    'has_surface_uncovered'\n",
    "]\n",
    "\n",
    "categorical = [\n",
    "    'property_type',\n",
    "    'place_name',\n",
    "]"
   ]
  },
  {
   "cell_type": "code",
   "execution_count": 349,
   "metadata": {},
   "outputs": [],
   "source": [
    "# Por cada columna categorica o dicotomica, agrego dummies\n",
    "for column in dicotomical + categorical:\n",
    "    dummies = pd.get_dummies(dataset[column], prefix = column, drop_first = True)\n",
    "    dataset = dataset.join(dummies)"
   ]
  },
  {
   "cell_type": "code",
   "execution_count": 350,
   "metadata": {},
   "outputs": [
    {
     "data": {
      "text/plain": [
       "Index(['Unnamed: 0.1', 'operation', 'property_type', 'place_name',\n",
       "       'place_with_parent_names', 'country_name', 'state_name', 'geonames_id',\n",
       "       'lat-lon', 'lat',\n",
       "       ...\n",
       "       'place_name_San Nicolás', 'place_name_San Telmo',\n",
       "       'place_name_Tribunales', 'place_name_Villa Crespo',\n",
       "       'place_name_Villa Devoto', 'place_name_Villa Lugano',\n",
       "       'place_name_Villa Luro', 'place_name_Villa Pueyrredón',\n",
       "       'place_name_Villa Urquiza', 'place_name_Villa del Parque'],\n",
       "      dtype='object', length=111)"
      ]
     },
     "execution_count": 350,
     "metadata": {},
     "output_type": "execute_result"
    }
   ],
   "source": [
    "dataset.columns"
   ]
  },
  {
   "cell_type": "markdown",
   "metadata": {},
   "source": [
    "Guardo el nombre de las columnas dummies para usarlas mas adelante"
   ]
  },
  {
   "cell_type": "code",
   "execution_count": 351,
   "metadata": {},
   "outputs": [],
   "source": [
    "dicotomical_features = [name + '_True' for name in dicotomical]\n",
    "categorical_features = [column for name in categorical for column in dataset.columns if name + '_' in column and \"_raw\" not in column]"
   ]
  },
  {
   "cell_type": "code",
   "execution_count": 352,
   "metadata": {},
   "outputs": [
    {
     "data": {
      "text/plain": [
       "['pileta_True',\n",
       " 'galeria_True',\n",
       " 'seguridad_True',\n",
       " 'sotano_True',\n",
       " 'amenities_True',\n",
       " 'terraza_True',\n",
       " 'metrobus_True',\n",
       " 'subte_True',\n",
       " 'cochera_True',\n",
       " 'consultorio_True',\n",
       " 'has_surface_uncovered_True']"
      ]
     },
     "execution_count": 352,
     "metadata": {},
     "output_type": "execute_result"
    }
   ],
   "source": [
    "dicotomical_features"
   ]
  },
  {
   "cell_type": "markdown",
   "metadata": {},
   "source": [
    "## Drop nulls para las columnas que nos interesan"
   ]
  },
  {
   "cell_type": "markdown",
   "metadata": {},
   "source": [
    "Columnas que ya teniamos que eran numericas"
   ]
  },
  {
   "cell_type": "code",
   "execution_count": 353,
   "metadata": {},
   "outputs": [],
   "source": [
    "numerical = [\n",
    "    # 'surface_covered_in_m2',\n",
    "    # 'surface_total_in_m2',\n",
    "    'rooms_log',\n",
    "    'rooms_log_squared',\n",
    "    'surface_covered_in_m2',\n",
    "    'surface_uncovered_log',\n",
    "    'surface_total_log',\n",
    "    'surface_total_log_squared'\n",
    "]"
   ]
  },
  {
   "cell_type": "markdown",
   "metadata": {},
   "source": [
    "Me guardo los nombres de las columnas que nos interesan, las categoricas, dicotomicas y numericas"
   ]
  },
  {
   "cell_type": "code",
   "execution_count": 354,
   "metadata": {},
   "outputs": [],
   "source": [
    "columns_to_use = categorical_features + dicotomical_features + numerical\n",
    "target_col = 'price_usd_per_m2'\n",
    "cluster = 'place_name'"
   ]
  },
  {
   "cell_type": "code",
   "execution_count": 355,
   "metadata": {},
   "outputs": [],
   "source": [
    "dataset = dataset.dropna(subset = columns_to_use + [target_col, cluster])"
   ]
  },
  {
   "cell_type": "markdown",
   "metadata": {},
   "source": [
    "## Dividir en train y test"
   ]
  },
  {
   "cell_type": "markdown",
   "metadata": {},
   "source": [
    "Divido en train y test, utilizando los índices que existen en el dataset. Notese que estratificamos por los barrios sin agrupacion, esto es porque aunque estamos agrupando para ayudar al algoritmo a aprender haciendo un barrio virtual mas grande, aun asi queremos testear el resultado de las predicciones sobre los barrios reales de capital."
   ]
  },
  {
   "cell_type": "code",
   "execution_count": 390,
   "metadata": {},
   "outputs": [
    {
     "name": "stdout",
     "output_type": "stream",
     "text": [
      "Shape train =  (20342,) Shape test =  (5086,)\n"
     ]
    }
   ],
   "source": [
    "from sklearn.model_selection import train_test_split\n",
    "\n",
    "index_train, index_test = train_test_split(dataset.index, test_size = .20, stratify = dataset.place_name_raw, random_state = 42)\n",
    "print('Shape train = ', index_train.shape, 'Shape test = ', index_test.shape)"
   ]
  },
  {
   "cell_type": "markdown",
   "metadata": {},
   "source": [
    "## Escalar variables continuas"
   ]
  },
  {
   "cell_type": "markdown",
   "metadata": {},
   "source": [
    "Columnas que crearemos que estarán escaladas"
   ]
  },
  {
   "cell_type": "code",
   "execution_count": 357,
   "metadata": {},
   "outputs": [],
   "source": [
    "numerical_features = [\n",
    "    # 'surface_covered_in_m2_scaled',\n",
    "    # 'surface_total_in_m2_scaled',\n",
    "    'rooms_log_scaled',\n",
    "    'rooms_log_squared_scaled',\n",
    "    'surface_covered_in_m2_scaled',\n",
    "    'surface_uncovered_log_scaled',\n",
    "    'surface_total_log_scaled',\n",
    "    'surface_total_log_squared_scaled'\n",
    "]"
   ]
  },
  {
   "cell_type": "markdown",
   "metadata": {},
   "source": [
    "Aprovecho que partimos en train y test usando índices para usarlos con el standard scaler, de tal forma que podemos fitear utilizando solo valores de train, y transformamos todos los valores en el dataset."
   ]
  },
  {
   "cell_type": "code",
   "execution_count": 358,
   "metadata": {},
   "outputs": [
    {
     "data": {
      "text/html": [
       "<div>\n",
       "<style scoped>\n",
       "    .dataframe tbody tr th:only-of-type {\n",
       "        vertical-align: middle;\n",
       "    }\n",
       "\n",
       "    .dataframe tbody tr th {\n",
       "        vertical-align: top;\n",
       "    }\n",
       "\n",
       "    .dataframe thead th {\n",
       "        text-align: right;\n",
       "    }\n",
       "</style>\n",
       "<table border=\"1\" class=\"dataframe\">\n",
       "  <thead>\n",
       "    <tr style=\"text-align: right;\">\n",
       "      <th></th>\n",
       "      <th>rooms_log_scaled</th>\n",
       "      <th>rooms_log_squared_scaled</th>\n",
       "      <th>surface_covered_in_m2_scaled</th>\n",
       "      <th>surface_uncovered_log_scaled</th>\n",
       "      <th>surface_total_log_scaled</th>\n",
       "      <th>surface_total_log_squared_scaled</th>\n",
       "    </tr>\n",
       "  </thead>\n",
       "  <tbody>\n",
       "    <tr>\n",
       "      <th>71931</th>\n",
       "      <td>0.298357</td>\n",
       "      <td>0.195598</td>\n",
       "      <td>-0.314832</td>\n",
       "      <td>-1.008503</td>\n",
       "      <td>-0.938992</td>\n",
       "      <td>-0.848191</td>\n",
       "    </tr>\n",
       "    <tr>\n",
       "      <th>5490</th>\n",
       "      <td>0.298357</td>\n",
       "      <td>0.195598</td>\n",
       "      <td>-0.126455</td>\n",
       "      <td>-0.063092</td>\n",
       "      <td>-0.046247</td>\n",
       "      <td>-0.117468</td>\n",
       "    </tr>\n",
       "    <tr>\n",
       "      <th>106546</th>\n",
       "      <td>0.298357</td>\n",
       "      <td>0.195598</td>\n",
       "      <td>-0.327391</td>\n",
       "      <td>-1.008503</td>\n",
       "      <td>-1.017426</td>\n",
       "      <td>-0.906578</td>\n",
       "    </tr>\n",
       "  </tbody>\n",
       "</table>\n",
       "</div>"
      ],
      "text/plain": [
       "        rooms_log_scaled  rooms_log_squared_scaled  \\\n",
       "71931           0.298357                  0.195598   \n",
       "5490            0.298357                  0.195598   \n",
       "106546          0.298357                  0.195598   \n",
       "\n",
       "        surface_covered_in_m2_scaled  surface_uncovered_log_scaled  \\\n",
       "71931                      -0.314832                     -1.008503   \n",
       "5490                       -0.126455                     -0.063092   \n",
       "106546                     -0.327391                     -1.008503   \n",
       "\n",
       "        surface_total_log_scaled  surface_total_log_squared_scaled  \n",
       "71931                  -0.938992                         -0.848191  \n",
       "5490                   -0.046247                         -0.117468  \n",
       "106546                 -1.017426                         -0.906578  "
      ]
     },
     "execution_count": 358,
     "metadata": {},
     "output_type": "execute_result"
    }
   ],
   "source": [
    "from sklearn.preprocessing import StandardScaler\n",
    "\n",
    "scaler = StandardScaler()\n",
    "scaler.fit(dataset.loc[index_train, numerical])\n",
    "\n",
    "dataframe_scaled = pd.DataFrame(scaler.transform(dataset.loc[:, numerical]), columns = numerical_features, index = dataset.index)\n",
    "\n",
    "dataframe_scaled.sample(3)"
   ]
  },
  {
   "cell_type": "code",
   "execution_count": 359,
   "metadata": {},
   "outputs": [
    {
     "data": {
      "text/html": [
       "<div>\n",
       "<style scoped>\n",
       "    .dataframe tbody tr th:only-of-type {\n",
       "        vertical-align: middle;\n",
       "    }\n",
       "\n",
       "    .dataframe tbody tr th {\n",
       "        vertical-align: top;\n",
       "    }\n",
       "\n",
       "    .dataframe thead th {\n",
       "        text-align: right;\n",
       "    }\n",
       "</style>\n",
       "<table border=\"1\" class=\"dataframe\">\n",
       "  <thead>\n",
       "    <tr style=\"text-align: right;\">\n",
       "      <th></th>\n",
       "      <th>Unnamed: 0.1</th>\n",
       "      <th>operation</th>\n",
       "      <th>property_type</th>\n",
       "      <th>place_name</th>\n",
       "      <th>place_with_parent_names</th>\n",
       "      <th>country_name</th>\n",
       "      <th>state_name</th>\n",
       "      <th>geonames_id</th>\n",
       "      <th>lat-lon</th>\n",
       "      <th>lat</th>\n",
       "      <th>...</th>\n",
       "      <th>place_name_Villa Luro</th>\n",
       "      <th>place_name_Villa Pueyrredón</th>\n",
       "      <th>place_name_Villa Urquiza</th>\n",
       "      <th>place_name_Villa del Parque</th>\n",
       "      <th>rooms_log_scaled</th>\n",
       "      <th>rooms_log_squared_scaled</th>\n",
       "      <th>surface_covered_in_m2_scaled</th>\n",
       "      <th>surface_uncovered_log_scaled</th>\n",
       "      <th>surface_total_log_scaled</th>\n",
       "      <th>surface_total_log_squared_scaled</th>\n",
       "    </tr>\n",
       "  </thead>\n",
       "  <tbody>\n",
       "    <tr>\n",
       "      <th>112067</th>\n",
       "      <td>112067</td>\n",
       "      <td>sell</td>\n",
       "      <td>apartment</td>\n",
       "      <td>Palermo Hollywood</td>\n",
       "      <td>|Argentina|Capital Federal|Palermo|Palermo Hol...</td>\n",
       "      <td>Argentina</td>\n",
       "      <td>Capital Federal</td>\n",
       "      <td>NaN</td>\n",
       "      <td>-34.5771819992,-58.439297513</td>\n",
       "      <td>-34.577182</td>\n",
       "      <td>...</td>\n",
       "      <td>0</td>\n",
       "      <td>0</td>\n",
       "      <td>0</td>\n",
       "      <td>0</td>\n",
       "      <td>0.298357</td>\n",
       "      <td>0.195598</td>\n",
       "      <td>-0.295995</td>\n",
       "      <td>0.318549</td>\n",
       "      <td>-0.632791</td>\n",
       "      <td>-0.611265</td>\n",
       "    </tr>\n",
       "    <tr>\n",
       "      <th>59563</th>\n",
       "      <td>59563</td>\n",
       "      <td>sell</td>\n",
       "      <td>apartment</td>\n",
       "      <td>Balvanera</td>\n",
       "      <td>|Argentina|Capital Federal|Balvanera|</td>\n",
       "      <td>Argentina</td>\n",
       "      <td>Capital Federal</td>\n",
       "      <td>6693228.0</td>\n",
       "      <td>-34.608036,-58.380586</td>\n",
       "      <td>-34.608036</td>\n",
       "      <td>...</td>\n",
       "      <td>0</td>\n",
       "      <td>0</td>\n",
       "      <td>0</td>\n",
       "      <td>0</td>\n",
       "      <td>0.298357</td>\n",
       "      <td>0.195598</td>\n",
       "      <td>-0.057384</td>\n",
       "      <td>-1.008503</td>\n",
       "      <td>0.104284</td>\n",
       "      <td>0.017726</td>\n",
       "    </tr>\n",
       "    <tr>\n",
       "      <th>58173</th>\n",
       "      <td>58173</td>\n",
       "      <td>sell</td>\n",
       "      <td>apartment</td>\n",
       "      <td>Almagro</td>\n",
       "      <td>|Argentina|Capital Federal|Almagro|</td>\n",
       "      <td>Argentina</td>\n",
       "      <td>Capital Federal</td>\n",
       "      <td>3436397.0</td>\n",
       "      <td>-34.617637,-58.414306</td>\n",
       "      <td>-34.617637</td>\n",
       "      <td>...</td>\n",
       "      <td>0</td>\n",
       "      <td>0</td>\n",
       "      <td>0</td>\n",
       "      <td>0</td>\n",
       "      <td>0.298357</td>\n",
       "      <td>0.195598</td>\n",
       "      <td>-0.176689</td>\n",
       "      <td>-1.008503</td>\n",
       "      <td>-0.284550</td>\n",
       "      <td>-0.324421</td>\n",
       "    </tr>\n",
       "  </tbody>\n",
       "</table>\n",
       "<p>3 rows × 117 columns</p>\n",
       "</div>"
      ],
      "text/plain": [
       "        Unnamed: 0.1 operation property_type         place_name  \\\n",
       "112067        112067      sell     apartment  Palermo Hollywood   \n",
       "59563          59563      sell     apartment          Balvanera   \n",
       "58173          58173      sell     apartment            Almagro   \n",
       "\n",
       "                                  place_with_parent_names country_name  \\\n",
       "112067  |Argentina|Capital Federal|Palermo|Palermo Hol...    Argentina   \n",
       "59563               |Argentina|Capital Federal|Balvanera|    Argentina   \n",
       "58173                 |Argentina|Capital Federal|Almagro|    Argentina   \n",
       "\n",
       "             state_name  geonames_id                       lat-lon        lat  \\\n",
       "112067  Capital Federal          NaN  -34.5771819992,-58.439297513 -34.577182   \n",
       "59563   Capital Federal    6693228.0         -34.608036,-58.380586 -34.608036   \n",
       "58173   Capital Federal    3436397.0         -34.617637,-58.414306 -34.617637   \n",
       "\n",
       "        ...  place_name_Villa Luro  place_name_Villa Pueyrredón  \\\n",
       "112067  ...                      0                            0   \n",
       "59563   ...                      0                            0   \n",
       "58173   ...                      0                            0   \n",
       "\n",
       "       place_name_Villa Urquiza  place_name_Villa del Parque  \\\n",
       "112067                        0                            0   \n",
       "59563                         0                            0   \n",
       "58173                         0                            0   \n",
       "\n",
       "        rooms_log_scaled  rooms_log_squared_scaled  \\\n",
       "112067          0.298357                  0.195598   \n",
       "59563           0.298357                  0.195598   \n",
       "58173           0.298357                  0.195598   \n",
       "\n",
       "        surface_covered_in_m2_scaled  surface_uncovered_log_scaled  \\\n",
       "112067                     -0.295995                      0.318549   \n",
       "59563                      -0.057384                     -1.008503   \n",
       "58173                      -0.176689                     -1.008503   \n",
       "\n",
       "        surface_total_log_scaled  surface_total_log_squared_scaled  \n",
       "112067                 -0.632791                         -0.611265  \n",
       "59563                   0.104284                          0.017726  \n",
       "58173                  -0.284550                         -0.324421  \n",
       "\n",
       "[3 rows x 117 columns]"
      ]
     },
     "execution_count": 359,
     "metadata": {},
     "output_type": "execute_result"
    }
   ],
   "source": [
    "dataset = dataset.join(dataframe_scaled)\n",
    "\n",
    "dataset.sample(3)"
   ]
  },
  {
   "cell_type": "markdown",
   "metadata": {},
   "source": [
    "## Prueba de modelos con KFold"
   ]
  },
  {
   "cell_type": "markdown",
   "metadata": {},
   "source": [
    "Creo particiones de fold utilizando los índices de train"
   ]
  },
  {
   "cell_type": "code",
   "execution_count": 360,
   "metadata": {},
   "outputs": [],
   "source": [
    "from sklearn.model_selection import KFold\n",
    "kf = KFold(n_splits = 3)"
   ]
  },
  {
   "cell_type": "markdown",
   "metadata": {},
   "source": [
    "Creo un vector X e y utilizando las features y el target, posteriormente podremos filtrar utilizando los índices del dataframe."
   ]
  },
  {
   "cell_type": "code",
   "execution_count": 361,
   "metadata": {},
   "outputs": [],
   "source": [
    "feature_cols = categorical_features + dicotomical_features + numerical_features"
   ]
  },
  {
   "cell_type": "code",
   "execution_count": 362,
   "metadata": {},
   "outputs": [],
   "source": [
    "X = dataset.loc[:, feature_cols]\n",
    "y = dataset[target_col]\n",
    "\n",
    "X_train_general = X.loc[index_train]"
   ]
  },
  {
   "cell_type": "markdown",
   "metadata": {},
   "source": [
    "### Prueba de Regresión Lineal Múltiple"
   ]
  },
  {
   "cell_type": "markdown",
   "metadata": {},
   "source": [
    "Realizamos Kfold ver la media de las metricas de performance de cada modelo. En el caso de Lasso y Ridge tambien usamos KFold para obtener el hiperparametro optimo"
   ]
  },
  {
   "cell_type": "code",
   "execution_count": 363,
   "metadata": {},
   "outputs": [],
   "source": [
    "from sklearn.linear_model import LinearRegression\n",
    "\n",
    "from sklearn.metrics import r2_score\n",
    "from sklearn.metrics import mean_absolute_error as mae\n",
    "from sklearn.metrics import mean_squared_error as mse\n",
    "\n",
    "import numpy as np\n",
    "\n",
    "# Creo un DataFrame vacío con estas columnas para guardar los resultados de cada entrenamiento\n",
    "# En la columna type me guardo si fueron resultados de train o test de cada Fold\n",
    "results_columns = ['R2', 'MAE', 'MSE', 'RMSE', 'type']\n",
    "results = pd.DataFrame(columns = results_columns)\n",
    "\n",
    "# Enumero el kfold para guardarlo en el DataFrame de resultados\n",
    "for i, (train_index, test_index) in enumerate(kf.split(X_train_general)):\n",
    "    # Guardo datos de train y test para este fold\n",
    "    X_train, X_test = X.iloc[train_index], X.iloc[test_index]\n",
    "    y_train, y_test = y.iloc[train_index], y.iloc[test_index]\n",
    "    \n",
    "    model = LinearRegression()\n",
    "    model.fit(X_train, y_train)\n",
    "    \n",
    "    y_pred_train = model.predict(X_train)\n",
    "    y_pred_test = model.predict(X_test)\n",
    "    \n",
    "    train_r2 = r2_score(y_train, y_pred_train)\n",
    "    test_r2 = r2_score(y_test, y_pred_test)\n",
    "    \n",
    "    train_mae = mae(y_train, y_pred_train)\n",
    "    test_mae = mae(y_test, y_pred_test)\n",
    "    \n",
    "    train_mse = mse(y_train, y_pred_train)\n",
    "    test_mse = mse(y_test, y_pred_test)\n",
    "    \n",
    "    train_rmse = np.sqrt(train_mse)\n",
    "    test_rmse = np.sqrt(test_mse)\n",
    "    \n",
    "    # Me guardo los resultados en un DataFrame\n",
    "    fold_results = [\n",
    "        [train_r2, test_r2],\n",
    "        [train_mae, test_mae],\n",
    "        [train_mse, test_rmse],\n",
    "        [train_rmse, test_rmse],\n",
    "        ['train', 'test']\n",
    "    ]\n",
    "    fold_dataframe = pd.DataFrame(dict(zip(results_columns, fold_results)))\n",
    "    results = pd.concat([results, fold_dataframe])"
   ]
  },
  {
   "cell_type": "code",
   "execution_count": 364,
   "metadata": {},
   "outputs": [
    {
     "data": {
      "text/html": [
       "<div>\n",
       "<style scoped>\n",
       "    .dataframe tbody tr th:only-of-type {\n",
       "        vertical-align: middle;\n",
       "    }\n",
       "\n",
       "    .dataframe tbody tr th {\n",
       "        vertical-align: top;\n",
       "    }\n",
       "\n",
       "    .dataframe thead th {\n",
       "        text-align: right;\n",
       "    }\n",
       "</style>\n",
       "<table border=\"1\" class=\"dataframe\">\n",
       "  <thead>\n",
       "    <tr style=\"text-align: right;\">\n",
       "      <th></th>\n",
       "      <th>R2</th>\n",
       "      <th>MAE</th>\n",
       "      <th>MSE</th>\n",
       "      <th>RMSE</th>\n",
       "    </tr>\n",
       "    <tr>\n",
       "      <th>type</th>\n",
       "      <th></th>\n",
       "      <th></th>\n",
       "      <th></th>\n",
       "      <th></th>\n",
       "    </tr>\n",
       "  </thead>\n",
       "  <tbody>\n",
       "    <tr>\n",
       "      <th>test</th>\n",
       "      <td>0.532175</td>\n",
       "      <td>400.233258</td>\n",
       "      <td>529.311525</td>\n",
       "      <td>529.311525</td>\n",
       "    </tr>\n",
       "    <tr>\n",
       "      <th>train</th>\n",
       "      <td>0.570121</td>\n",
       "      <td>385.304653</td>\n",
       "      <td>262805.220894</td>\n",
       "      <td>512.624275</td>\n",
       "    </tr>\n",
       "  </tbody>\n",
       "</table>\n",
       "</div>"
      ],
      "text/plain": [
       "             R2         MAE            MSE        RMSE\n",
       "type                                                  \n",
       "test   0.532175  400.233258     529.311525  529.311525\n",
       "train  0.570121  385.304653  262805.220894  512.624275"
      ]
     },
     "execution_count": 364,
     "metadata": {},
     "output_type": "execute_result"
    }
   ],
   "source": [
    "results.groupby('type').mean()"
   ]
  },
  {
   "cell_type": "markdown",
   "metadata": {},
   "source": [
    "### Prueba de Regresión Lasso"
   ]
  },
  {
   "cell_type": "code",
   "execution_count": 365,
   "metadata": {},
   "outputs": [],
   "source": [
    "from sklearn.linear_model import LassoCV\n",
    "\n",
    "alphas = np.linspace(1e-5, 1, 100)\n",
    "reg_lasso = LassoCV(cv=kf, alphas = alphas, tol = 0.001, max_iter = 1e6, random_state=0).fit(X, y)\n",
    "best_alpha_lasso = reg_lasso.alpha_"
   ]
  },
  {
   "cell_type": "code",
   "execution_count": 366,
   "metadata": {},
   "outputs": [
    {
     "data": {
      "text/plain": [
       "0.030312727272727272"
      ]
     },
     "execution_count": 366,
     "metadata": {},
     "output_type": "execute_result"
    }
   ],
   "source": [
    "best_alpha_lasso"
   ]
  },
  {
   "cell_type": "code",
   "execution_count": 367,
   "metadata": {},
   "outputs": [],
   "source": [
    "from sklearn.linear_model import Lasso\n",
    "\n",
    "# Creo un DataFrame vacío con estas columnas para guardar los resultados de cada entrenamiento\n",
    "# En la columna type me guardo si fueron resultados de train o test de cada Fold\n",
    "results_columns = ['R2', 'MAE', 'MSE', 'RMSE', 'type']\n",
    "results = pd.DataFrame(columns = results_columns)\n",
    "\n",
    "# Enumero el kfold para guardarlo en el DataFrame de resultados\n",
    "for i, (train_index, test_index) in enumerate(kf.split(X_train_general)):\n",
    "    # Guardo datos de train y test para este fold\n",
    "    X_train, X_test = X.iloc[train_index], X.iloc[test_index]\n",
    "    y_train, y_test = y.iloc[train_index], y.iloc[test_index]\n",
    "    \n",
    "    # Utilizo Lasso\n",
    "    model = Lasso(max_iter = 10000, alpha = best_alpha_lasso)\n",
    "    model.fit(X_train, y_train)\n",
    "    \n",
    "    y_pred_train = model.predict(X_train)\n",
    "    y_pred_test = model.predict(X_test)\n",
    "    \n",
    "    train_r2 = r2_score(y_train, y_pred_train)\n",
    "    test_r2 = r2_score(y_test, y_pred_test)\n",
    "    \n",
    "    train_mae = mae(y_train, y_pred_train)\n",
    "    test_mae = mae(y_test, y_pred_test)\n",
    "    \n",
    "    train_mse = mse(y_train, y_pred_train)\n",
    "    test_mse = mse(y_test, y_pred_test)\n",
    "    \n",
    "    train_rmse = np.sqrt(train_mse)\n",
    "    test_rmse = np.sqrt(test_mse)\n",
    "    \n",
    "    # Me guardo los resultados en un DataFrame\n",
    "    fold_results = [\n",
    "        [train_r2, test_r2],\n",
    "        [train_mae, test_mae],\n",
    "        [train_mse, test_rmse],\n",
    "        [train_rmse, test_rmse],\n",
    "        ['train', 'test']\n",
    "    ]\n",
    "    fold_dataframe = pd.DataFrame(dict(zip(results_columns, fold_results)))\n",
    "    results = pd.concat([results, fold_dataframe])"
   ]
  },
  {
   "cell_type": "code",
   "execution_count": 368,
   "metadata": {},
   "outputs": [
    {
     "data": {
      "text/html": [
       "<div>\n",
       "<style scoped>\n",
       "    .dataframe tbody tr th:only-of-type {\n",
       "        vertical-align: middle;\n",
       "    }\n",
       "\n",
       "    .dataframe tbody tr th {\n",
       "        vertical-align: top;\n",
       "    }\n",
       "\n",
       "    .dataframe thead th {\n",
       "        text-align: right;\n",
       "    }\n",
       "</style>\n",
       "<table border=\"1\" class=\"dataframe\">\n",
       "  <thead>\n",
       "    <tr style=\"text-align: right;\">\n",
       "      <th></th>\n",
       "      <th>R2</th>\n",
       "      <th>MAE</th>\n",
       "      <th>MSE</th>\n",
       "      <th>RMSE</th>\n",
       "    </tr>\n",
       "    <tr>\n",
       "      <th>type</th>\n",
       "      <th></th>\n",
       "      <th></th>\n",
       "      <th></th>\n",
       "      <th></th>\n",
       "    </tr>\n",
       "  </thead>\n",
       "  <tbody>\n",
       "    <tr>\n",
       "      <th>test</th>\n",
       "      <td>0.532184</td>\n",
       "      <td>400.202482</td>\n",
       "      <td>529.317743</td>\n",
       "      <td>529.317743</td>\n",
       "    </tr>\n",
       "    <tr>\n",
       "      <th>train</th>\n",
       "      <td>0.570099</td>\n",
       "      <td>385.304025</td>\n",
       "      <td>262818.442103</td>\n",
       "      <td>512.637203</td>\n",
       "    </tr>\n",
       "  </tbody>\n",
       "</table>\n",
       "</div>"
      ],
      "text/plain": [
       "             R2         MAE            MSE        RMSE\n",
       "type                                                  \n",
       "test   0.532184  400.202482     529.317743  529.317743\n",
       "train  0.570099  385.304025  262818.442103  512.637203"
      ]
     },
     "execution_count": 368,
     "metadata": {},
     "output_type": "execute_result"
    }
   ],
   "source": [
    "results.groupby('type').mean()"
   ]
  },
  {
   "cell_type": "markdown",
   "metadata": {},
   "source": [
    "### Prueba de Regresión Lineal Ridge"
   ]
  },
  {
   "cell_type": "code",
   "execution_count": 369,
   "metadata": {},
   "outputs": [],
   "source": [
    "from sklearn.linear_model import RidgeCV\n",
    "\n",
    "alphas = np.linspace(1e-5, 1, 100)\n",
    "reg_ridge = RidgeCV(cv=kf, alphas = alphas).fit(X, y)\n",
    "best_alpha_ridge = reg_ridge.alpha_"
   ]
  },
  {
   "cell_type": "code",
   "execution_count": 370,
   "metadata": {},
   "outputs": [
    {
     "data": {
      "text/plain": [
       "0.41414727272727275"
      ]
     },
     "execution_count": 370,
     "metadata": {},
     "output_type": "execute_result"
    }
   ],
   "source": [
    "best_alpha_ridge"
   ]
  },
  {
   "cell_type": "code",
   "execution_count": 371,
   "metadata": {
    "scrolled": true
   },
   "outputs": [],
   "source": [
    "from sklearn.linear_model import Ridge\n",
    "\n",
    "# Creo un DataFrame vacío con estas columnas para guardar los resultados de cada entrenamiento\n",
    "# En la columna type me guardo si fueron resultados de train o test de cada Fold\n",
    "results_columns = ['R2', 'MAE', 'MSE', 'RMSE', 'type']\n",
    "results = pd.DataFrame(columns = results_columns)\n",
    "\n",
    "# Enumero el kfold para guardarlo en el DataFrame de resultados\n",
    "for i, (train_index, test_index) in enumerate(kf.split(X_train_general)):\n",
    "    # Guardo datos de train y test para este fold\n",
    "    X_train, X_test = X.iloc[train_index], X.iloc[test_index]\n",
    "    y_train, y_test = y.iloc[train_index], y.iloc[test_index]\n",
    "    \n",
    "    # Utilizo Ridge\n",
    "    model = Ridge(max_iter = 10000, alpha = best_alpha_ridge)\n",
    "    model.fit(X_train, y_train)\n",
    "    \n",
    "    y_pred_train = model.predict(X_train)\n",
    "    y_pred_test = model.predict(X_test)\n",
    "    \n",
    "    train_r2 = r2_score(y_train, y_pred_train)\n",
    "    test_r2 = r2_score(y_test, y_pred_test)\n",
    "    \n",
    "    train_mae = mae(y_train, y_pred_train)\n",
    "    test_mae = mae(y_test, y_pred_test)\n",
    "    \n",
    "    train_mse = mse(y_train, y_pred_train)\n",
    "    test_mse = mse(y_test, y_pred_test)\n",
    "    \n",
    "    train_rmse = np.sqrt(train_mse)\n",
    "    test_rmse = np.sqrt(test_mse)\n",
    "    \n",
    "    # Me guardo los resultados en un DataFrame\n",
    "    fold_results = [\n",
    "        [train_r2, test_r2],\n",
    "        [train_mae, test_mae],\n",
    "        [train_mse, test_rmse],\n",
    "        [train_rmse, test_rmse],\n",
    "        ['train', 'test']\n",
    "    ]\n",
    "    fold_dataframe = pd.DataFrame(dict(zip(results_columns, fold_results)))\n",
    "    results = pd.concat([results, fold_dataframe])"
   ]
  },
  {
   "cell_type": "code",
   "execution_count": 372,
   "metadata": {},
   "outputs": [
    {
     "data": {
      "text/html": [
       "<div>\n",
       "<style scoped>\n",
       "    .dataframe tbody tr th:only-of-type {\n",
       "        vertical-align: middle;\n",
       "    }\n",
       "\n",
       "    .dataframe tbody tr th {\n",
       "        vertical-align: top;\n",
       "    }\n",
       "\n",
       "    .dataframe thead th {\n",
       "        text-align: right;\n",
       "    }\n",
       "</style>\n",
       "<table border=\"1\" class=\"dataframe\">\n",
       "  <thead>\n",
       "    <tr style=\"text-align: right;\">\n",
       "      <th></th>\n",
       "      <th>R2</th>\n",
       "      <th>MAE</th>\n",
       "      <th>MSE</th>\n",
       "      <th>RMSE</th>\n",
       "    </tr>\n",
       "    <tr>\n",
       "      <th>type</th>\n",
       "      <th></th>\n",
       "      <th></th>\n",
       "      <th></th>\n",
       "      <th></th>\n",
       "    </tr>\n",
       "  </thead>\n",
       "  <tbody>\n",
       "    <tr>\n",
       "      <th>test</th>\n",
       "      <td>0.532153</td>\n",
       "      <td>400.243685</td>\n",
       "      <td>529.32355</td>\n",
       "      <td>529.323550</td>\n",
       "    </tr>\n",
       "    <tr>\n",
       "      <th>train</th>\n",
       "      <td>0.570087</td>\n",
       "      <td>385.329769</td>\n",
       "      <td>262825.63435</td>\n",
       "      <td>512.644199</td>\n",
       "    </tr>\n",
       "  </tbody>\n",
       "</table>\n",
       "</div>"
      ],
      "text/plain": [
       "             R2         MAE           MSE        RMSE\n",
       "type                                                 \n",
       "test   0.532153  400.243685     529.32355  529.323550\n",
       "train  0.570087  385.329769  262825.63435  512.644199"
      ]
     },
     "execution_count": 372,
     "metadata": {},
     "output_type": "execute_result"
    }
   ],
   "source": [
    "results.groupby('type').mean()"
   ]
  },
  {
   "cell_type": "markdown",
   "metadata": {},
   "source": [
    "## Entrenamiento del modelo"
   ]
  },
  {
   "cell_type": "markdown",
   "metadata": {},
   "source": [
    "Como vimos que en los tres tipos de regresion que probamos obtenemos resultados muy similares, decidimos optar por la regresion Lineal sin regularizacion, de tal forma que mas adelante, tambien, podamos hacer un intervalo de prediccion."
   ]
  },
  {
   "cell_type": "code",
   "execution_count": 373,
   "metadata": {},
   "outputs": [],
   "source": [
    "X_train, y_train = X.loc[index_train], y.loc[index_train]\n",
    "X_test, y_test = X.loc[index_test], y.loc[index_test]"
   ]
  },
  {
   "cell_type": "code",
   "execution_count": 374,
   "metadata": {},
   "outputs": [],
   "source": [
    "model = LinearRegression()\n",
    "model.fit(X_train, y_train)\n",
    "    \n",
    "y_pred_train = model.predict(X_train)\n",
    "y_pred_test = model.predict(X_test)\n",
    "    \n",
    "train_r2 = r2_score(y_train, y_pred_train)\n",
    "test_r2 = r2_score(y_test, y_pred_test)\n",
    "    \n",
    "train_mae = mae(y_train, y_pred_train)\n",
    "test_mae = mae(y_test, y_pred_test)\n",
    "    \n",
    "train_mse = mse(y_train, y_pred_train)\n",
    "test_mse = mse(y_test, y_pred_test)\n",
    "    \n",
    "train_rmse = np.sqrt(train_mse)\n",
    "test_rmse = np.sqrt(test_mse)"
   ]
  },
  {
   "cell_type": "code",
   "execution_count": 375,
   "metadata": {},
   "outputs": [],
   "source": [
    "import matplotlib.pyplot as plt\n",
    "palette = sns.color_palette(\"coolwarm\", 2)\n",
    "\n",
    "def show_barplot_with_values(values, labels):\n",
    "    # Show barplot\n",
    "    ax = sns.barplot(x = values, y = labels, palette = palette)\n",
    "    values_to_show = [f\"{x:.2f}\" for x in values]\n",
    "    \n",
    "    # Show value on top of bar\n",
    "    for i, p in enumerate(ax.patches):\n",
    "        height = p.get_height()\n",
    "        width = p.get_width()\n",
    "        y = p.get_y()\n",
    "        ax.text(width / 2, y + height/2 + 0.1, values_to_show[i], ha=\"center\", size = \"large\")\n",
    "        \n",
    "    # Display plot\n",
    "    plt.show()"
   ]
  },
  {
   "cell_type": "code",
   "execution_count": 376,
   "metadata": {
    "scrolled": true
   },
   "outputs": [
    {
     "data": {
      "image/png": "[encoded data removed]",
      "text/plain": [
       "<Figure size 432x288 with 1 Axes>"
      ]
     },
     "metadata": {
      "needs_background": "light"
     },
     "output_type": "display_data"
    },
    {
     "data": {
      "image/png": "[encoded data removed]",
      "text/plain": [
       "<Figure size 432x288 with 1 Axes>"
      ]
     },
     "metadata": {
      "needs_background": "light"
     },
     "output_type": "display_data"
    },
    {
     "data": {
      "image/png": "[encoded data removed]",
      "text/plain": [
       "<Figure size 432x288 with 1 Axes>"
      ]
     },
     "metadata": {
      "needs_background": "light"
     },
     "output_type": "display_data"
    },
    {
     "data": {
      "image/png": "[encoded data removed]",
      "text/plain": [
       "<Figure size 432x288 with 1 Axes>"
      ]
     },
     "metadata": {
      "needs_background": "light"
     },
     "output_type": "display_data"
    }
   ],
   "source": [
    "show_barplot_with_values([train_r2, test_r2], ['Train R2', 'Test R2'])\n",
    "show_barplot_with_values([train_mse, test_mse], ['Train MSE', 'Test MSE'])\n",
    "show_barplot_with_values([train_mae, test_mae], ['Train MAE', 'Test MAE'])\n",
    "show_barplot_with_values([train_rmse, test_rmse], ['Train RMSE', 'Test RMSE'])"
   ]
  },
  {
   "cell_type": "markdown",
   "metadata": {},
   "source": [
    "### Exploración de métricas del modelo barrios"
   ]
  },
  {
   "cell_type": "code",
   "execution_count": 377,
   "metadata": {},
   "outputs": [],
   "source": [
    "indexed_dataset = dataset.set_index('Unnamed: 0.1')\n",
    "\n",
    "full_test_dataset = pd.concat([indexed_dataset.loc[index_test], X_test, y_test], axis = 1)\n",
    "full_test_dataset['y_pred'] = y_pred_test\n",
    "full_test_dataset['y_true'] = y_test"
   ]
  },
  {
   "cell_type": "code",
   "execution_count": 378,
   "metadata": {},
   "outputs": [],
   "source": [
    "rmse_by_place = {}\n",
    "\n",
    "for place in full_test_dataset.place_name.unique():\n",
    "    placemask = full_test_dataset.place_name == place\n",
    "    y_true = full_test_dataset.loc[placemask].y_true\n",
    "    y_pred = full_test_dataset.loc[placemask].y_pred\n",
    "    rmse_by_place[place] = np.sqrt(mse(y_true, y_pred))\n",
    "        \n",
    "rmse_by_place = pd.DataFrame(rmse_by_place, index = ['rmse']).transpose()"
   ]
  },
  {
   "cell_type": "code",
   "execution_count": 379,
   "metadata": {},
   "outputs": [
    {
     "data": {
      "text/plain": [
       "<matplotlib.axes._subplots.AxesSubplot at 0x1ba51753d48>"
      ]
     },
     "execution_count": 379,
     "metadata": {},
     "output_type": "execute_result"
    },
    {
     "data": {
      "image/png": "[encoded data removed]",
      "text/plain": [
       "<Figure size 432x288 with 2 Axes>"
      ]
     },
     "metadata": {
      "needs_background": "light"
     },
     "output_type": "display_data"
    }
   ],
   "source": [
    "sns.heatmap(rmse_by_place.sort_values(by = 'rmse', ascending = False))"
   ]
  },
  {
   "cell_type": "markdown",
   "metadata": {},
   "source": [
    "Exploramos los barrios con menor RMSE"
   ]
  },
  {
   "cell_type": "code",
   "execution_count": 380,
   "metadata": {},
   "outputs": [
    {
     "data": {
      "text/html": [
       "<div>\n",
       "<style scoped>\n",
       "    .dataframe tbody tr th:only-of-type {\n",
       "        vertical-align: middle;\n",
       "    }\n",
       "\n",
       "    .dataframe tbody tr th {\n",
       "        vertical-align: top;\n",
       "    }\n",
       "\n",
       "    .dataframe thead th {\n",
       "        text-align: right;\n",
       "    }\n",
       "</style>\n",
       "<table border=\"1\" class=\"dataframe\">\n",
       "  <thead>\n",
       "    <tr style=\"text-align: right;\">\n",
       "      <th></th>\n",
       "      <th>rmse</th>\n",
       "    </tr>\n",
       "  </thead>\n",
       "  <tbody>\n",
       "    <tr>\n",
       "      <th>Puerto Madero</th>\n",
       "      <td>323.017285</td>\n",
       "    </tr>\n",
       "    <tr>\n",
       "      <th>Floresta</th>\n",
       "      <td>364.101478</td>\n",
       "    </tr>\n",
       "    <tr>\n",
       "      <th>Boca</th>\n",
       "      <td>378.684078</td>\n",
       "    </tr>\n",
       "    <tr>\n",
       "      <th>Balvanera</th>\n",
       "      <td>383.528998</td>\n",
       "    </tr>\n",
       "    <tr>\n",
       "      <th>Almagro</th>\n",
       "      <td>392.501002</td>\n",
       "    </tr>\n",
       "    <tr>\n",
       "      <th>Villa Luro</th>\n",
       "      <td>402.820220</td>\n",
       "    </tr>\n",
       "    <tr>\n",
       "      <th>Colegiales</th>\n",
       "      <td>421.973587</td>\n",
       "    </tr>\n",
       "    <tr>\n",
       "      <th>Parque Patricios</th>\n",
       "      <td>422.848465</td>\n",
       "    </tr>\n",
       "    <tr>\n",
       "      <th>Villa Urquiza</th>\n",
       "      <td>423.046115</td>\n",
       "    </tr>\n",
       "    <tr>\n",
       "      <th>Abasto</th>\n",
       "      <td>424.774213</td>\n",
       "    </tr>\n",
       "  </tbody>\n",
       "</table>\n",
       "</div>"
      ],
      "text/plain": [
       "                        rmse\n",
       "Puerto Madero     323.017285\n",
       "Floresta          364.101478\n",
       "Boca              378.684078\n",
       "Balvanera         383.528998\n",
       "Almagro           392.501002\n",
       "Villa Luro        402.820220\n",
       "Colegiales        421.973587\n",
       "Parque Patricios  422.848465\n",
       "Villa Urquiza     423.046115\n",
       "Abasto            424.774213"
      ]
     },
     "execution_count": 380,
     "metadata": {},
     "output_type": "execute_result"
    }
   ],
   "source": [
    "less_error_places = rmse_by_place.sort_values(by = 'rmse').head(10)\n",
    "less_error_places"
   ]
  },
  {
   "cell_type": "markdown",
   "metadata": {},
   "source": [
    "Y la media de precios por metro cuadrado de esos barrios"
   ]
  },
  {
   "cell_type": "code",
   "execution_count": 381,
   "metadata": {},
   "outputs": [
    {
     "data": {
      "text/html": [
       "<div>\n",
       "<style scoped>\n",
       "    .dataframe tbody tr th:only-of-type {\n",
       "        vertical-align: middle;\n",
       "    }\n",
       "\n",
       "    .dataframe tbody tr th {\n",
       "        vertical-align: top;\n",
       "    }\n",
       "\n",
       "    .dataframe thead th {\n",
       "        text-align: right;\n",
       "    }\n",
       "</style>\n",
       "<table border=\"1\" class=\"dataframe\">\n",
       "  <thead>\n",
       "    <tr style=\"text-align: right;\">\n",
       "      <th></th>\n",
       "      <th>price_usd_per_m2</th>\n",
       "    </tr>\n",
       "  </thead>\n",
       "  <tbody>\n",
       "    <tr>\n",
       "      <th>Puerto Madero</th>\n",
       "      <td>4315.003745</td>\n",
       "    </tr>\n",
       "    <tr>\n",
       "      <th>Floresta</th>\n",
       "      <td>1830.808241</td>\n",
       "    </tr>\n",
       "    <tr>\n",
       "      <th>Boca</th>\n",
       "      <td>1589.681855</td>\n",
       "    </tr>\n",
       "    <tr>\n",
       "      <th>Balvanera</th>\n",
       "      <td>1919.229405</td>\n",
       "    </tr>\n",
       "    <tr>\n",
       "      <th>Almagro</th>\n",
       "      <td>2192.172405</td>\n",
       "    </tr>\n",
       "    <tr>\n",
       "      <th>Villa Luro</th>\n",
       "      <td>2115.772606</td>\n",
       "    </tr>\n",
       "    <tr>\n",
       "      <th>Colegiales</th>\n",
       "      <td>2511.093868</td>\n",
       "    </tr>\n",
       "    <tr>\n",
       "      <th>Parque Patricios</th>\n",
       "      <td>1803.721006</td>\n",
       "    </tr>\n",
       "    <tr>\n",
       "      <th>Villa Urquiza</th>\n",
       "      <td>2474.130102</td>\n",
       "    </tr>\n",
       "    <tr>\n",
       "      <th>Abasto</th>\n",
       "      <td>1980.424089</td>\n",
       "    </tr>\n",
       "  </tbody>\n",
       "</table>\n",
       "</div>"
      ],
      "text/plain": [
       "                  price_usd_per_m2\n",
       "Puerto Madero          4315.003745\n",
       "Floresta               1830.808241\n",
       "Boca                   1589.681855\n",
       "Balvanera              1919.229405\n",
       "Almagro                2192.172405\n",
       "Villa Luro             2115.772606\n",
       "Colegiales             2511.093868\n",
       "Parque Patricios       1803.721006\n",
       "Villa Urquiza          2474.130102\n",
       "Abasto                 1980.424089"
      ]
     },
     "execution_count": 381,
     "metadata": {},
     "output_type": "execute_result"
    }
   ],
   "source": [
    "mean_price_m2_by_place = full_test_dataset.groupby('place_name').mean()\\\n",
    "    .price_usd_per_m2.loc[less_error_places.index]\\\n",
    "    .iloc[:, [0]]\n",
    "\n",
    "mean_price_m2_by_place"
   ]
  },
  {
   "cell_type": "markdown",
   "metadata": {},
   "source": [
    "Exploro el ratio entre el rmse y la media de precio por metro cuadrado"
   ]
  },
  {
   "cell_type": "code",
   "execution_count": 382,
   "metadata": {},
   "outputs": [
    {
     "data": {
      "text/plain": [
       "Puerto Madero       0.074859\n",
       "Floresta            0.198875\n",
       "Boca                0.238214\n",
       "Balvanera           0.199835\n",
       "Almagro             0.179047\n",
       "Villa Luro          0.190389\n",
       "Colegiales          0.168044\n",
       "Parque Patricios    0.234431\n",
       "Villa Urquiza       0.170988\n",
       "Abasto              0.214486\n",
       "dtype: float64"
      ]
     },
     "execution_count": 382,
     "metadata": {},
     "output_type": "execute_result"
    }
   ],
   "source": [
    "less_error_places.rmse / mean_price_m2_by_place.price_usd_per_m2"
   ]
  },
  {
   "cell_type": "markdown",
   "metadata": {},
   "source": [
    "## Analisis de portafolio"
   ]
  },
  {
   "cell_type": "code",
   "execution_count": 383,
   "metadata": {},
   "outputs": [
    {
     "data": {
      "text/html": [
       "<div>\n",
       "<style scoped>\n",
       "    .dataframe tbody tr th:only-of-type {\n",
       "        vertical-align: middle;\n",
       "    }\n",
       "\n",
       "    .dataframe tbody tr th {\n",
       "        vertical-align: top;\n",
       "    }\n",
       "\n",
       "    .dataframe thead th {\n",
       "        text-align: right;\n",
       "    }\n",
       "</style>\n",
       "<table border=\"1\" class=\"dataframe\">\n",
       "  <thead>\n",
       "    <tr style=\"text-align: right;\">\n",
       "      <th></th>\n",
       "      <th>Unnamed: 0.1</th>\n",
       "      <th>operation</th>\n",
       "      <th>property_type</th>\n",
       "      <th>place_name</th>\n",
       "      <th>place_with_parent_names</th>\n",
       "      <th>country_name</th>\n",
       "      <th>state_name</th>\n",
       "      <th>geonames_id</th>\n",
       "      <th>lat-lon</th>\n",
       "      <th>lat</th>\n",
       "      <th>...</th>\n",
       "      <th>surface_covered_in_m2_scaled</th>\n",
       "      <th>surface_uncovered_log_scaled</th>\n",
       "      <th>surface_total_log_scaled</th>\n",
       "      <th>surface_total_log_squared_scaled</th>\n",
       "      <th>price_usd_per_m2_pred</th>\n",
       "      <th>price_aprox_usd_pred</th>\n",
       "      <th>sobrevaluado</th>\n",
       "      <th>subvaluado</th>\n",
       "      <th>magnitud_sobrevaluacion</th>\n",
       "      <th>magnitud_subvaluacion</th>\n",
       "    </tr>\n",
       "  </thead>\n",
       "  <tbody>\n",
       "    <tr>\n",
       "      <th>110357</th>\n",
       "      <td>110357</td>\n",
       "      <td>sell</td>\n",
       "      <td>apartment</td>\n",
       "      <td>Belgrano</td>\n",
       "      <td>|Argentina|Capital Federal|Belgrano|</td>\n",
       "      <td>Argentina</td>\n",
       "      <td>Capital Federal</td>\n",
       "      <td>3436077.0</td>\n",
       "      <td>-34.563643,-58.4594633</td>\n",
       "      <td>-34.563643</td>\n",
       "      <td>...</td>\n",
       "      <td>-0.164131</td>\n",
       "      <td>0.318549</td>\n",
       "      <td>-0.107244</td>\n",
       "      <td>-0.171266</td>\n",
       "      <td>3245.224408</td>\n",
       "      <td>214184.810945</td>\n",
       "      <td>False</td>\n",
       "      <td>False</td>\n",
       "      <td>0.929104</td>\n",
       "      <td>1.076306</td>\n",
       "    </tr>\n",
       "    <tr>\n",
       "      <th>22291</th>\n",
       "      <td>22291</td>\n",
       "      <td>sell</td>\n",
       "      <td>house</td>\n",
       "      <td>Villa Devoto</td>\n",
       "      <td>|Argentina|Capital Federal|Villa Devoto|</td>\n",
       "      <td>Argentina</td>\n",
       "      <td>Capital Federal</td>\n",
       "      <td>3427451.0</td>\n",
       "      <td>-34.5873108,-58.511576</td>\n",
       "      <td>-34.587311</td>\n",
       "      <td>...</td>\n",
       "      <td>0.746358</td>\n",
       "      <td>-1.008503</td>\n",
       "      <td>1.447962</td>\n",
       "      <td>1.377695</td>\n",
       "      <td>1958.482757</td>\n",
       "      <td>401488.965161</td>\n",
       "      <td>False</td>\n",
       "      <td>False</td>\n",
       "      <td>1.058560</td>\n",
       "      <td>0.944680</td>\n",
       "    </tr>\n",
       "    <tr>\n",
       "      <th>111784</th>\n",
       "      <td>111784</td>\n",
       "      <td>sell</td>\n",
       "      <td>apartment</td>\n",
       "      <td>Monserrat</td>\n",
       "      <td>|Argentina|Capital Federal|Monserrat|</td>\n",
       "      <td>Argentina</td>\n",
       "      <td>Capital Federal</td>\n",
       "      <td>3430570.0</td>\n",
       "      <td>-34.6197919041,-58.3813379478</td>\n",
       "      <td>-34.619792</td>\n",
       "      <td>...</td>\n",
       "      <td>-0.283436</td>\n",
       "      <td>0.318549</td>\n",
       "      <td>-0.573120</td>\n",
       "      <td>-0.563429</td>\n",
       "      <td>2317.407881</td>\n",
       "      <td>108918.170403</td>\n",
       "      <td>False</td>\n",
       "      <td>False</td>\n",
       "      <td>0.890577</td>\n",
       "      <td>1.122868</td>\n",
       "    </tr>\n",
       "  </tbody>\n",
       "</table>\n",
       "<p>3 rows × 123 columns</p>\n",
       "</div>"
      ],
      "text/plain": [
       "        Unnamed: 0.1 operation property_type    place_name  \\\n",
       "110357        110357      sell     apartment      Belgrano   \n",
       "22291          22291      sell         house  Villa Devoto   \n",
       "111784        111784      sell     apartment     Monserrat   \n",
       "\n",
       "                         place_with_parent_names country_name  \\\n",
       "110357      |Argentina|Capital Federal|Belgrano|    Argentina   \n",
       "22291   |Argentina|Capital Federal|Villa Devoto|    Argentina   \n",
       "111784     |Argentina|Capital Federal|Monserrat|    Argentina   \n",
       "\n",
       "             state_name  geonames_id                        lat-lon  \\\n",
       "110357  Capital Federal    3436077.0         -34.563643,-58.4594633   \n",
       "22291   Capital Federal    3427451.0         -34.5873108,-58.511576   \n",
       "111784  Capital Federal    3430570.0  -34.6197919041,-58.3813379478   \n",
       "\n",
       "              lat  ...  surface_covered_in_m2_scaled  \\\n",
       "110357 -34.563643  ...                     -0.164131   \n",
       "22291  -34.587311  ...                      0.746358   \n",
       "111784 -34.619792  ...                     -0.283436   \n",
       "\n",
       "        surface_uncovered_log_scaled surface_total_log_scaled  \\\n",
       "110357                      0.318549                -0.107244   \n",
       "22291                      -1.008503                 1.447962   \n",
       "111784                      0.318549                -0.573120   \n",
       "\n",
       "        surface_total_log_squared_scaled  price_usd_per_m2_pred  \\\n",
       "110357                         -0.171266            3245.224408   \n",
       "22291                           1.377695            1958.482757   \n",
       "111784                         -0.563429            2317.407881   \n",
       "\n",
       "        price_aprox_usd_pred  sobrevaluado  subvaluado  \\\n",
       "110357         214184.810945         False       False   \n",
       "22291          401488.965161         False       False   \n",
       "111784         108918.170403         False       False   \n",
       "\n",
       "        magnitud_sobrevaluacion  magnitud_subvaluacion  \n",
       "110357                 0.929104               1.076306  \n",
       "22291                  1.058560               0.944680  \n",
       "111784                 0.890577               1.122868  \n",
       "\n",
       "[3 rows x 123 columns]"
      ]
     },
     "execution_count": 383,
     "metadata": {},
     "output_type": "execute_result"
    }
   ],
   "source": [
    "portafolio = pd.read_csv(\"portafolio.csv\", index_col = 'Unnamed: 0')\n",
    "portafolio.head(3)"
   ]
  },
  {
   "cell_type": "code",
   "execution_count": 384,
   "metadata": {
    "scrolled": true
   },
   "outputs": [
    {
     "name": "stdout",
     "output_type": "stream",
     "text": [
      "Tengo 21702320.53 USD\n"
     ]
    }
   ],
   "source": [
    "equity = (portafolio.price_usd_per_m2 * portafolio.surface_total_in_m2).sum()\n",
    "print(f\"Tengo {equity:.2f} USD\")"
   ]
  },
  {
   "cell_type": "code",
   "execution_count": 385,
   "metadata": {},
   "outputs": [],
   "source": [
    "price_usd_per_m2_pred = model.predict(dataset.loc[:, feature_cols])\n",
    "dataset['price_usd_per_m2_pred'] = price_usd_per_m2_pred\n",
    "dataset['price_aprox_usd_pred'] = price_usd_per_m2_pred * dataset.surface_total_in_m2"
   ]
  },
  {
   "cell_type": "markdown",
   "metadata": {},
   "source": [
    "Armo un intervalo de prediccion con 95% de confianza"
   ]
  },
  {
   "cell_type": "code",
   "execution_count": 386,
   "metadata": {},
   "outputs": [],
   "source": [
    "import scipy.stats as stats\n",
    "\n",
    "N = len(y)\n",
    "k = len(model.coef_)\n",
    "\n",
    "freedom = N - k - 1\n",
    "t = stats.t.ppf(.05 / 2, df = freedom)"
   ]
  },
  {
   "cell_type": "code",
   "execution_count": 387,
   "metadata": {},
   "outputs": [],
   "source": [
    "y = dataset.price_usd_per_m2\n",
    "yhat = dataset['price_usd_per_m2_pred']\n",
    "\n",
    "sum_errs = np.sum((y - yhat)**2)\n",
    "stdev = np.sqrt(sum_errs/(N - 2))\n",
    "interval_size = abs(t * stdev)"
   ]
  },
  {
   "cell_type": "code",
   "execution_count": 388,
   "metadata": {},
   "outputs": [
    {
     "data": {
      "text/plain": [
       "1020.816582587946"
      ]
     },
     "execution_count": 388,
     "metadata": {},
     "output_type": "execute_result"
    }
   ],
   "source": [
    "interval_size"
   ]
  },
  {
   "cell_type": "code",
   "execution_count": 388,
   "metadata": {},
   "outputs": [
    {
     "ename": "KeyboardInterrupt",
     "evalue": "",
     "output_type": "error",
     "traceback": [
      "\u001b[1;31m---------------------------------------------------------------------------\u001b[0m",
      "\u001b[1;31mKeyboardInterrupt\u001b[0m                         Traceback (most recent call last)",
      "\u001b[1;32m~\\anaconda3\\lib\\site-packages\\IPython\\core\\async_helpers.py\u001b[0m in \u001b[0;36m_pseudo_sync_runner\u001b[1;34m(coro)\u001b[0m\n\u001b[0;32m     66\u001b[0m     \"\"\"\n\u001b[0;32m     67\u001b[0m     \u001b[1;32mtry\u001b[0m\u001b[1;33m:\u001b[0m\u001b[1;33m\u001b[0m\u001b[1;33m\u001b[0m\u001b[0m\n\u001b[1;32m---> 68\u001b[1;33m         \u001b[0mcoro\u001b[0m\u001b[1;33m.\u001b[0m\u001b[0msend\u001b[0m\u001b[1;33m(\u001b[0m\u001b[1;32mNone\u001b[0m\u001b[1;33m)\u001b[0m\u001b[1;33m\u001b[0m\u001b[1;33m\u001b[0m\u001b[0m\n\u001b[0m\u001b[0;32m     69\u001b[0m     \u001b[1;32mexcept\u001b[0m \u001b[0mStopIteration\u001b[0m \u001b[1;32mas\u001b[0m \u001b[0mexc\u001b[0m\u001b[1;33m:\u001b[0m\u001b[1;33m\u001b[0m\u001b[1;33m\u001b[0m\u001b[0m\n\u001b[0;32m     70\u001b[0m         \u001b[1;32mreturn\u001b[0m \u001b[0mexc\u001b[0m\u001b[1;33m.\u001b[0m\u001b[0mvalue\u001b[0m\u001b[1;33m\u001b[0m\u001b[1;33m\u001b[0m\u001b[0m\n",
      "\u001b[1;32m~\\anaconda3\\lib\\site-packages\\IPython\\core\\interactiveshell.py\u001b[0m in \u001b[0;36mrun_cell_async\u001b[1;34m(self, raw_cell, store_history, silent, shell_futures, transformed_cell, preprocessing_exc_tuple)\u001b[0m\n\u001b[0;32m   3069\u001b[0m         \u001b[1;32mif\u001b[0m \u001b[0mstore_history\u001b[0m\u001b[1;33m:\u001b[0m\u001b[1;33m\u001b[0m\u001b[1;33m\u001b[0m\u001b[0m\n\u001b[0;32m   3070\u001b[0m             self.history_manager.store_inputs(self.execution_count,\n\u001b[1;32m-> 3071\u001b[1;33m                                               cell, raw_cell)\n\u001b[0m\u001b[0;32m   3072\u001b[0m         \u001b[1;32mif\u001b[0m \u001b[1;32mnot\u001b[0m \u001b[0msilent\u001b[0m\u001b[1;33m:\u001b[0m\u001b[1;33m\u001b[0m\u001b[1;33m\u001b[0m\u001b[0m\n\u001b[0;32m   3073\u001b[0m             \u001b[0mself\u001b[0m\u001b[1;33m.\u001b[0m\u001b[0mlogger\u001b[0m\u001b[1;33m.\u001b[0m\u001b[0mlog\u001b[0m\u001b[1;33m(\u001b[0m\u001b[0mcell\u001b[0m\u001b[1;33m,\u001b[0m \u001b[0mraw_cell\u001b[0m\u001b[1;33m)\u001b[0m\u001b[1;33m\u001b[0m\u001b[1;33m\u001b[0m\u001b[0m\n",
      "\u001b[1;32m~\\anaconda3\\lib\\site-packages\\IPython\\core\\history.py\u001b[0m in \u001b[0;36mstore_inputs\u001b[1;34m(self, line_num, source, source_raw)\u001b[0m\n\u001b[0;32m    717\u001b[0m         \u001b[0mself\u001b[0m\u001b[1;33m.\u001b[0m\u001b[0minput_hist_raw\u001b[0m\u001b[1;33m.\u001b[0m\u001b[0mappend\u001b[0m\u001b[1;33m(\u001b[0m\u001b[0msource_raw\u001b[0m\u001b[1;33m)\u001b[0m\u001b[1;33m\u001b[0m\u001b[1;33m\u001b[0m\u001b[0m\n\u001b[0;32m    718\u001b[0m \u001b[1;33m\u001b[0m\u001b[0m\n\u001b[1;32m--> 719\u001b[1;33m         \u001b[1;32mwith\u001b[0m \u001b[0mself\u001b[0m\u001b[1;33m.\u001b[0m\u001b[0mdb_input_cache_lock\u001b[0m\u001b[1;33m:\u001b[0m\u001b[1;33m\u001b[0m\u001b[1;33m\u001b[0m\u001b[0m\n\u001b[0m\u001b[0;32m    720\u001b[0m             \u001b[0mself\u001b[0m\u001b[1;33m.\u001b[0m\u001b[0mdb_input_cache\u001b[0m\u001b[1;33m.\u001b[0m\u001b[0mappend\u001b[0m\u001b[1;33m(\u001b[0m\u001b[1;33m(\u001b[0m\u001b[0mline_num\u001b[0m\u001b[1;33m,\u001b[0m \u001b[0msource\u001b[0m\u001b[1;33m,\u001b[0m \u001b[0msource_raw\u001b[0m\u001b[1;33m)\u001b[0m\u001b[1;33m)\u001b[0m\u001b[1;33m\u001b[0m\u001b[1;33m\u001b[0m\u001b[0m\n\u001b[0;32m    721\u001b[0m             \u001b[1;31m# Trigger to flush cache and write to DB.\u001b[0m\u001b[1;33m\u001b[0m\u001b[1;33m\u001b[0m\u001b[1;33m\u001b[0m\u001b[0m\n",
      "\u001b[1;31mKeyboardInterrupt\u001b[0m: "
     ]
    }
   ],
   "source": [
    "print(f\"El intervalo de prediccion es (y_pred - {interval_size}, y_pred + {interval_size})\")"
   ]
  },
  {
   "cell_type": "markdown",
   "metadata": {},
   "source": [
    "Consideramos que el precio esta sobrevaluado, si su precio excede por la derecha nuestro intervalo de prediccion\n",
    "\n",
    "Similarmente, consideramos que esta subvaluado si el precio excede por la izquierda el intervalo de prediccion.\n",
    "\n",
    "Esto lo hacemos para tener confianza respecto las oportunidades de compra y venta que podamos vislumbrar.\n"
   ]
  },
  {
   "cell_type": "code",
   "execution_count": null,
   "metadata": {},
   "outputs": [],
   "source": [
    "subvaluado = dataset.price_usd_per_m2 < (price_usd_per_m2_pred - interval_size) # compra\n",
    "sobrevaluado = dataset.price_usd_per_m2 > (price_usd_per_m2_pred + interval_size) # vendo"
   ]
  },
  {
   "cell_type": "code",
   "execution_count": null,
   "metadata": {},
   "outputs": [],
   "source": [
    "subvaluado.value_counts()"
   ]
  },
  {
   "cell_type": "code",
   "execution_count": null,
   "metadata": {
    "scrolled": true
   },
   "outputs": [],
   "source": [
    "sobrevaluado.value_counts()"
   ]
  },
  {
   "cell_type": "markdown",
   "metadata": {},
   "source": [
    "La forma de cuantificar la subvaluacion y la sobrevaluacion es calcular el ratio que existe entre el precio por metro cuadrado predicho y el precio por metro cuadrada publicado en Properati. De esta forma, mientras mas veces quepa el precio publicado en el precio predicho, mas sera la subvaluacion. De forma similar, mientras mas veces quepa el predicho en el publicado, mayor sera la sobrevaloracion."
   ]
  },
  {
   "cell_type": "code",
   "execution_count": null,
   "metadata": {},
   "outputs": [],
   "source": [
    "magnitud_subvaluacion = (price_usd_per_m2_pred/dataset.price_usd_per_m2)\n",
    "magnitud_sobrevaluacion = (dataset.price_usd_per_m2/price_usd_per_m2_pred)"
   ]
  },
  {
   "cell_type": "code",
   "execution_count": null,
   "metadata": {},
   "outputs": [],
   "source": [
    "dataset['sobrevaluado'] = sobrevaluado\n",
    "dataset['subvaluado'] = subvaluado\n",
    "dataset['magnitud_sobrevaluacion'] = magnitud_sobrevaluacion\n",
    "dataset['magnitud_subvaluacion'] = magnitud_subvaluacion"
   ]
  },
  {
   "cell_type": "markdown",
   "metadata": {},
   "source": [
    "### Analizando las oportunidades de venta"
   ]
  },
  {
   "cell_type": "markdown",
   "metadata": {},
   "source": [
    "Encuentro las propiedades cuyo valor de precio por metro cuadrado esta sobrevaluado en el mercado y las poseo en mi portafolio."
   ]
  },
  {
   "cell_type": "code",
   "execution_count": null,
   "metadata": {},
   "outputs": [],
   "source": [
    "oportunidades_cols = ['price_aprox_usd', 'price_aprox_usd_pred', 'magnitud_sobrevaluacion','property_type', 'place_name_raw', 'surface_total_in_m2']\n",
    "oportunidades_venta = dataset\\\n",
    "    .loc[portafolio.index]\\\n",
    "    .loc[dataset.sobrevaluado, oportunidades_cols]\\\n",
    "    .sort_values(by = 'magnitud_sobrevaluacion', axis = 0, ascending = False)\n",
    "\n",
    "oportunidades_venta.head(3)"
   ]
  },
  {
   "cell_type": "code",
   "execution_count": null,
   "metadata": {},
   "outputs": [],
   "source": [
    "oportunidades_venta.magnitud_sobrevaluacion.describe()"
   ]
  },
  {
   "cell_type": "code",
   "execution_count": null,
   "metadata": {},
   "outputs": [],
   "source": [
    "ganancia = np.sum(oportunidades_venta.price_aprox_usd - oportunidades_venta.price_aprox_usd_pred)\n",
    "ganancia"
   ]
  },
  {
   "cell_type": "code",
   "execution_count": null,
   "metadata": {},
   "outputs": [],
   "source": [
    "print(f\"\"\"\n",
    "Vendemos estas propiedades que tienen una sobrevaloracion por el mercado.\n",
    "Con esta venta el valor del portafolio aumenta en {ganancia:.2f} U$S\n",
    "\"\"\")"
   ]
  },
  {
   "cell_type": "code",
   "execution_count": null,
   "metadata": {},
   "outputs": [],
   "source": [
    "venta = oportunidades_venta"
   ]
  },
  {
   "cell_type": "markdown",
   "metadata": {},
   "source": [
    "### Analizando oportunidades de compra"
   ]
  },
  {
   "cell_type": "markdown",
   "metadata": {},
   "source": [
    "Busco las propiedades del mercado que esten subvaluadas"
   ]
  },
  {
   "cell_type": "code",
   "execution_count": null,
   "metadata": {},
   "outputs": [],
   "source": [
    "no_en_portafolio = ~dataset.index.isin(portafolio.index)"
   ]
  },
  {
   "cell_type": "code",
   "execution_count": null,
   "metadata": {},
   "outputs": [],
   "source": [
    "oportunidades_cols = ['price_aprox_usd', 'price_aprox_usd_pred', 'magnitud_subvaluacion','property_type', 'place_name_raw', 'surface_total_in_m2']\n",
    "oportunidades_compra = dataset\\\n",
    "    .loc[dataset.subvaluado & no_en_portafolio, oportunidades_cols]\\\n",
    "    .sort_values(by = 'magnitud_subvaluacion', axis = 0, ascending = False)\n",
    "\n",
    "oportunidades_compra.head(10)"
   ]
  },
  {
   "cell_type": "code",
   "execution_count": null,
   "metadata": {},
   "outputs": [],
   "source": [
    "oportunidades_compra[0:7].price_aprox_usd.sum() < ganancia"
   ]
  },
  {
   "cell_type": "code",
   "execution_count": null,
   "metadata": {},
   "outputs": [],
   "source": [
    "oportunidades_compra[0:8].price_aprox_usd.sum() < ganancia"
   ]
  },
  {
   "cell_type": "markdown",
   "metadata": {},
   "source": [
    "Compramos las primeras propiedades con mayor subvaloracion por el mercado."
   ]
  },
  {
   "cell_type": "code",
   "execution_count": null,
   "metadata": {},
   "outputs": [],
   "source": [
    "oportunidades_compra[0:7]"
   ]
  },
  {
   "cell_type": "code",
   "execution_count": null,
   "metadata": {},
   "outputs": [],
   "source": [
    "compra = oportunidades_compra[0:7]"
   ]
  },
  {
   "cell_type": "markdown",
   "metadata": {},
   "source": [
    "### Vemos como queda el portafolio"
   ]
  },
  {
   "cell_type": "code",
   "execution_count": null,
   "metadata": {},
   "outputs": [],
   "source": [
    "portfolio_final = portafolio.loc[~portafolio.index.isin(venta.index)]\n",
    "portfolio_final = portfolio_final.append(compra)"
   ]
  },
  {
   "cell_type": "code",
   "execution_count": null,
   "metadata": {},
   "outputs": [],
   "source": [
    "portafolio.shape"
   ]
  },
  {
   "cell_type": "code",
   "execution_count": null,
   "metadata": {},
   "outputs": [],
   "source": [
    "portfolio_final.shape"
   ]
  },
  {
   "cell_type": "markdown",
   "metadata": {},
   "source": [
    "Nos quedamos con 103 propiedades"
   ]
  },
  {
   "cell_type": "code",
   "execution_count": null,
   "metadata": {},
   "outputs": [],
   "source": [
    "final_equity = equity - venta.price_aprox_usd.sum() + compra.price_aprox_usd_pred.sum()\n",
    "final_equity"
   ]
  },
  {
   "cell_type": "code",
   "execution_count": null,
   "metadata": {},
   "outputs": [],
   "source": [
    "equity_improvement = (final_equity - equity)\n",
    "equity_improvement"
   ]
  },
  {
   "cell_type": "code",
   "execution_count": null,
   "metadata": {},
   "outputs": [],
   "source": [
    "print(f\"En este proceso, aumentamos el valor del portafolio en {equity_improvement:.2f} U$S\")"
   ]
  },
  {
   "cell_type": "code",
   "execution_count": null,
   "metadata": {},
   "outputs": [],
   "source": [
    "equity_improvement / equity"
   ]
  },
  {
   "cell_type": "markdown",
   "metadata": {},
   "source": [
    "### Vemos como afectan las variables al precio por metro cuadrado"
   ]
  },
  {
   "cell_type": "code",
   "execution_count": null,
   "metadata": {},
   "outputs": [],
   "source": [
    "def make_radar_chart(name, stats, attribute_labels, plot_markers, plot_str_markers):\n",
    "\n",
    "    labels = np.array(attribute_labels)\n",
    "\n",
    "    angles = np.linspace(0, 2*np.pi, len(labels), endpoint=False)\n",
    "    stats = np.concatenate((stats,[stats[0]]))\n",
    "    angles = np.concatenate((angles,[angles[0]]))\n",
    "\n",
    "    my_dpi = 96\n",
    "    fig= plt.figure(figsize=(600/my_dpi, 600/my_dpi), dpi=my_dpi)\n",
    "    ax = fig.add_subplot(111, polar=True)\n",
    "    ax.plot(angles, stats, 'o-', linewidth=2)\n",
    "    ax.fill(angles, stats, alpha=0.25)\n",
    "    ax.set_thetagrids(angles * 180/np.pi, labels)\n",
    "    # plt.yticks(plot_markers)\n",
    "    ax.set_title(name)\n",
    "    ax.grid(True)\n",
    "\n",
    "    return plt.show()"
   ]
  },
  {
   "cell_type": "markdown",
   "metadata": {},
   "source": [
    "#### Vemos las variables dicotomicas que extraimos del texto"
   ]
  },
  {
   "cell_type": "code",
   "execution_count": null,
   "metadata": {},
   "outputs": [],
   "source": [
    "# Obtengo el valor absoluto de los coeficientes,\n",
    "# porque me interesa conocer que tanto afecta la variable mas\n",
    "# si afecta positiva o negativamente\n",
    "\n",
    "afectacion_absoluta = np.abs(model.coef_)\n",
    "\n",
    "variables_radar = [\n",
    "    'pileta_True',\n",
    "    'galeria_True',\n",
    "    'seguridad_True',\n",
    "    'sotano_True',\n",
    "    'amenities_True',\n",
    "    'terraza_True',\n",
    "    'metrobus_True',\n",
    "    'subte_True',\n",
    "    'cochera_True',\n",
    "    'consultorio_True'\n",
    "]\n",
    "\n",
    "# Obtengo los indices de las columnas con los nombres anteriormente establecidos\n",
    "indices = [i for i in range(len(feature_cols)) if feature_cols[i] in variables_radar]\n",
    "\n",
    "# Con los indices, obtengo el coeficiente relacionado con las variables\n",
    "coeficientes_radar = list(afectacion_absoluta[indices])\n",
    "\n",
    "# Secciono el espacio de estos valores en 5 partes\n",
    "_, cats = pd.cut(pd.Series(coeficientes_radar), bins = 5, retbins = True)\n",
    "sticks = np.floor(cats)\n",
    "sticks_str = [str(s) for s in sticks]\n",
    "\n",
    "# Establesco nombres para mostrar en el grafico\n",
    "variables_printable_names = [\n",
    "    'Pileta',\n",
    "    'Galeria',\n",
    "    'Seguridad',\n",
    "    'Sotano',\n",
    "    'Amenities',\n",
    "    'Terraza',\n",
    "    'Metrobus',\n",
    "    'Subte',\n",
    "    'Cochera',\n",
    "    'Consultorio'\n",
    "]"
   ]
  },
  {
   "cell_type": "code",
   "execution_count": null,
   "metadata": {},
   "outputs": [],
   "source": [
    "make_radar_chart(\"Variables extraidas del texto\", coeficientes_radar, variables_printable_names, sticks, sticks_str)"
   ]
  },
  {
   "cell_type": "markdown",
   "metadata": {},
   "source": [
    "#### Vemos la afectacion de los barrios"
   ]
  },
  {
   "cell_type": "code",
   "execution_count": null,
   "metadata": {},
   "outputs": [],
   "source": [
    "# Obtengo el valor absoluto de los coeficientes,\n",
    "# porque me interesa conocer que tanto afecta la variable mas\n",
    "# si afecta positiva o negativamente\n",
    "\n",
    "afectacion_absoluta = np.abs(model.coef_)\n",
    "afectacion_natural = model.coef_\n",
    "\n",
    "variables_radar = [x for x in feature_cols if \"place_name\" in x]\n",
    "\n",
    "# Obtengo los indices de las columnas con los nombres anteriormente establecidos\n",
    "indices = [i for i in range(len(feature_cols)) if feature_cols[i] in variables_radar]\n",
    "\n",
    "# Con los indices, obtengo el coeficiente relacionado con las variables\n",
    "coeficientes_radar = list(afectacion_absoluta[indices])\n",
    "\n",
    "# Secciono el espacio de estos valores en 5 partes\n",
    "_, cats = pd.cut(pd.Series(coeficientes_radar), bins = 5, retbins = True)\n",
    "sticks = np.floor(cats)\n",
    "sticks_str = [str(s) for s in sticks]\n",
    "\n",
    "# Establesco nombres para mostrar en el grafico\n",
    "variables_printable_names = [x.replace(\"place_name_\", \"\") for x in variables_radar]"
   ]
  },
  {
   "cell_type": "code",
   "execution_count": null,
   "metadata": {},
   "outputs": [],
   "source": [
    "coeficientes_natural_radar = list(afectacion_natural[indices])"
   ]
  },
  {
   "cell_type": "code",
   "execution_count": null,
   "metadata": {},
   "outputs": [],
   "source": [
    "coeficientes_por_barrio = pd.DataFrame({\n",
    "        'Barrio': variables_printable_names,\n",
    "        'Valor absoluto del coeficiente': coeficientes_radar,\n",
    "        'Valor del coeficiente': coeficientes_natural_radar\n",
    "    })\\\n",
    "    .sort_values(by = 'Valor absoluto del coeficiente', ascending = False)"
   ]
  },
  {
   "cell_type": "code",
   "execution_count": null,
   "metadata": {},
   "outputs": [],
   "source": [
    "coeficientes_por_barrio['Signo del coeficiente'] = np.where(coeficientes_por_barrio['Valor del coeficiente'] > 0, \"Positivo\", \"Negativo\")"
   ]
  },
  {
   "cell_type": "code",
   "execution_count": null,
   "metadata": {},
   "outputs": [],
   "source": [
    "coeficientes_por_barrio.shape"
   ]
  },
  {
   "cell_type": "markdown",
   "metadata": {},
   "source": [
    "Vemos como es el efecto en el precio por metro cuadrado dependiendo del barrio en el que se encuentre la propiedad"
   ]
  },
  {
   "cell_type": "code",
   "execution_count": null,
   "metadata": {},
   "outputs": [],
   "source": [
    "make_radar_chart(\n",
    "    \"Efecto del barrio en el precio por metro cuadrado\",\n",
    "    coeficientes_por_barrio['Valor absoluto del coeficiente'][0: 10].tolist(),\n",
    "    coeficientes_por_barrio['Barrio'][0: 10].tolist(),\n",
    "    sticks,\n",
    "    sticks_str\n",
    ")"
   ]
  },
  {
   "cell_type": "code",
   "execution_count": null,
   "metadata": {},
   "outputs": [],
   "source": [
    "my_dpi = 96\n",
    "fig, ax = plt.subplots(figsize=(600/my_dpi, 600/my_dpi), dpi=my_dpi)\n",
    "sns.barplot(ax = ax, y = \"Barrio\", x='Valor absoluto del coeficiente', hue = 'Signo del coeficiente', data=coeficientes_por_barrio[0:10])"
   ]
  },
  {
   "cell_type": "code",
   "execution_count": null,
   "metadata": {},
   "outputs": [],
   "source": [
    "my_dpi = 96\n",
    "fig, ax = plt.subplots(figsize=(600/my_dpi, 600/my_dpi), dpi=my_dpi)\n",
    "sns.barplot(ax = ax, y = \"Barrio\", x='Valor absoluto del coeficiente', hue = 'Signo del coeficiente', data=coeficientes_por_barrio[10:20])"
   ]
  },
  {
   "cell_type": "markdown",
   "metadata": {},
   "source": [
    "Vemos que algunos Barrios como Puerto Madero hacen que los barrios ganen cierto valor por el hecho de su ubicacion, sin embargo otros barrios como Retiro pierden valor por su ubicacion."
   ]
  },
  {
   "cell_type": "code",
   "execution_count": null,
   "metadata": {},
   "outputs": [],
   "source": [
    "model.intercept_"
   ]
  },
  {
   "cell_type": "code",
   "execution_count": null,
   "metadata": {},
   "outputs": [],
   "source": []
  }
 ],
 "metadata": {
  "kernelspec": {
   "display_name": "Python 3",
   "language": "python",
   "name": "python3"
  },
  "language_info": {
   "codemirror_mode": {
    "name": "ipython",
    "version": 3
   },
   "file_extension": ".py",
   "mimetype": "text/x-python",
   "name": "python",
   "nbconvert_exporter": "python",
   "pygments_lexer": "ipython3",
   "version": "3.7.7"
  }
 },
 "nbformat": 4,
 "nbformat_minor": 4
}
