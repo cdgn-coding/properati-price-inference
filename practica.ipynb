{
 "cells": [
  {
   "cell_type": "code",
   "execution_count": 41,
   "metadata": {},
   "outputs": [],
   "source": [
    "import pandas as pd\n",
    "import numpy as np\n",
    "import seaborn as sns\n",
    "import matplotlib.pyplot as plt"
   ]
  },
  {
   "cell_type": "code",
   "execution_count": 42,
   "metadata": {},
   "outputs": [],
   "source": [
    "data = pd.read_csv('properati.csv')"
   ]
  },
  {
   "cell_type": "code",
   "execution_count": 43,
   "metadata": {},
   "outputs": [],
   "source": [
    "data = data.drop([44685],axis=0) # elimino publicación con precio desfazado"
   ]
  },
  {
   "cell_type": "code",
   "execution_count": 44,
   "metadata": {},
   "outputs": [],
   "source": [
    "# Capital Federal\n",
    "\n",
    "lista_barrios = list(data.loc[data.state_name == 'Capital Federal','place_name'].unique())\n",
    "mask_barrios_zonas = data.loc[:,'place_name'].apply(lambda distrito: distrito in lista_barrios)\n",
    "data_capital = data.loc[(data.state_name == 'Capital Federal') & mask_barrios_zonas, :]"
   ]
  },
  {
   "cell_type": "code",
   "execution_count": 45,
   "metadata": {},
   "outputs": [],
   "source": [
    "data_capital = data_capital.loc[:,['property_type','place_name','price_aprox_usd','surface_total_in_m2','surface_covered_in_m2','price_usd_per_m2']]"
   ]
  },
  {
   "cell_type": "code",
   "execution_count": 46,
   "metadata": {},
   "outputs": [
    {
     "data": {
      "text/plain": [
       "property_type             object\n",
       "place_name                object\n",
       "price_aprox_usd          float64\n",
       "surface_total_in_m2      float64\n",
       "surface_covered_in_m2    float64\n",
       "price_usd_per_m2         float64\n",
       "dtype: object"
      ]
     },
     "execution_count": 46,
     "metadata": {},
     "output_type": "execute_result"
    }
   ],
   "source": [
    "data_capital.dtypes"
   ]
  },
  {
   "cell_type": "code",
   "execution_count": 47,
   "metadata": {},
   "outputs": [
    {
     "name": "stdout",
     "output_type": "stream",
     "text": [
      "32315\n"
     ]
    },
    {
     "data": {
      "text/plain": [
       "property_type            32315\n",
       "place_name               32315\n",
       "price_aprox_usd          29017\n",
       "surface_total_in_m2      26436\n",
       "surface_covered_in_m2    29976\n",
       "price_usd_per_m2         23433\n",
       "dtype: int64"
      ]
     },
     "execution_count": 47,
     "metadata": {},
     "output_type": "execute_result"
    }
   ],
   "source": [
    "print(data_capital.shape[0])\n",
    "data_capital.notnull().sum()"
   ]
  },
  {
   "cell_type": "code",
   "execution_count": 48,
   "metadata": {},
   "outputs": [
    {
     "data": {
      "text/plain": [
       "property_type            1.000000\n",
       "place_name               1.000000\n",
       "price_aprox_usd          0.897942\n",
       "surface_total_in_m2      0.818072\n",
       "surface_covered_in_m2    0.927619\n",
       "price_usd_per_m2         0.725143\n",
       "dtype: float64"
      ]
     },
     "execution_count": 48,
     "metadata": {},
     "output_type": "execute_result"
    }
   ],
   "source": [
    "data_capital.notnull().sum() / data_capital.shape[0]"
   ]
  },
  {
   "cell_type": "code",
   "execution_count": 49,
   "metadata": {},
   "outputs": [],
   "source": [
    "# Limpio los datos\n",
    "\n",
    "data_capital_clean = data_capital.dropna()"
   ]
  },
  {
   "cell_type": "code",
   "execution_count": 50,
   "metadata": {},
   "outputs": [
    {
     "name": "stdout",
     "output_type": "stream",
     "text": [
      "22318\n"
     ]
    },
    {
     "data": {
      "text/plain": [
       "property_type            1.0\n",
       "place_name               1.0\n",
       "price_aprox_usd          1.0\n",
       "surface_total_in_m2      1.0\n",
       "surface_covered_in_m2    1.0\n",
       "price_usd_per_m2         1.0\n",
       "dtype: float64"
      ]
     },
     "execution_count": 50,
     "metadata": {},
     "output_type": "execute_result"
    }
   ],
   "source": [
    "print(data_capital_clean.shape[0])\n",
    "data_capital_clean.notnull().sum() / data_capital_clean.shape[0]"
   ]
  },
  {
   "cell_type": "markdown",
   "metadata": {},
   "source": [
    "#### Correlaciones con datos vacíos (en cualquier columna) eliminados"
   ]
  },
  {
   "cell_type": "code",
   "execution_count": 51,
   "metadata": {},
   "outputs": [
    {
     "data": {
      "text/html": [
       "<div>\n",
       "<style scoped>\n",
       "    .dataframe tbody tr th:only-of-type {\n",
       "        vertical-align: middle;\n",
       "    }\n",
       "\n",
       "    .dataframe tbody tr th {\n",
       "        vertical-align: top;\n",
       "    }\n",
       "\n",
       "    .dataframe thead th {\n",
       "        text-align: right;\n",
       "    }\n",
       "</style>\n",
       "<table border=\"1\" class=\"dataframe\">\n",
       "  <thead>\n",
       "    <tr style=\"text-align: right;\">\n",
       "      <th></th>\n",
       "      <th>surface_total_in_m2</th>\n",
       "      <th>price_aprox_usd</th>\n",
       "    </tr>\n",
       "  </thead>\n",
       "  <tbody>\n",
       "    <tr>\n",
       "      <th>surface_total_in_m2</th>\n",
       "      <td>1.000000</td>\n",
       "      <td>0.698344</td>\n",
       "    </tr>\n",
       "    <tr>\n",
       "      <th>price_aprox_usd</th>\n",
       "      <td>0.698344</td>\n",
       "      <td>1.000000</td>\n",
       "    </tr>\n",
       "  </tbody>\n",
       "</table>\n",
       "</div>"
      ],
      "text/plain": [
       "                     surface_total_in_m2  price_aprox_usd\n",
       "surface_total_in_m2             1.000000         0.698344\n",
       "price_aprox_usd                 0.698344         1.000000"
      ]
     },
     "execution_count": 51,
     "metadata": {},
     "output_type": "execute_result"
    }
   ],
   "source": [
    "# Correlación m2 vs usd -> Dptos\n",
    "\n",
    "data_capital_clean.loc[data_capital_clean.property_type == 'apartment',['surface_total_in_m2','price_aprox_usd']].corr()"
   ]
  },
  {
   "cell_type": "code",
   "execution_count": 52,
   "metadata": {},
   "outputs": [
    {
     "data": {
      "text/html": [
       "<div>\n",
       "<style scoped>\n",
       "    .dataframe tbody tr th:only-of-type {\n",
       "        vertical-align: middle;\n",
       "    }\n",
       "\n",
       "    .dataframe tbody tr th {\n",
       "        vertical-align: top;\n",
       "    }\n",
       "\n",
       "    .dataframe thead th {\n",
       "        text-align: right;\n",
       "    }\n",
       "</style>\n",
       "<table border=\"1\" class=\"dataframe\">\n",
       "  <thead>\n",
       "    <tr style=\"text-align: right;\">\n",
       "      <th></th>\n",
       "      <th>surface_total_in_m2</th>\n",
       "      <th>price_aprox_usd</th>\n",
       "    </tr>\n",
       "  </thead>\n",
       "  <tbody>\n",
       "    <tr>\n",
       "      <th>surface_total_in_m2</th>\n",
       "      <td>1.000000</td>\n",
       "      <td>0.583546</td>\n",
       "    </tr>\n",
       "    <tr>\n",
       "      <th>price_aprox_usd</th>\n",
       "      <td>0.583546</td>\n",
       "      <td>1.000000</td>\n",
       "    </tr>\n",
       "  </tbody>\n",
       "</table>\n",
       "</div>"
      ],
      "text/plain": [
       "                     surface_total_in_m2  price_aprox_usd\n",
       "surface_total_in_m2             1.000000         0.583546\n",
       "price_aprox_usd                 0.583546         1.000000"
      ]
     },
     "execution_count": 52,
     "metadata": {},
     "output_type": "execute_result"
    }
   ],
   "source": [
    "# Correlación m2 vs usd -> Casa\n",
    "\n",
    "data_capital_clean.loc[data_capital_clean.property_type == 'house',['surface_total_in_m2','price_aprox_usd']].corr()"
   ]
  },
  {
   "cell_type": "code",
   "execution_count": 53,
   "metadata": {},
   "outputs": [
    {
     "data": {
      "text/html": [
       "<div>\n",
       "<style scoped>\n",
       "    .dataframe tbody tr th:only-of-type {\n",
       "        vertical-align: middle;\n",
       "    }\n",
       "\n",
       "    .dataframe tbody tr th {\n",
       "        vertical-align: top;\n",
       "    }\n",
       "\n",
       "    .dataframe thead th {\n",
       "        text-align: right;\n",
       "    }\n",
       "</style>\n",
       "<table border=\"1\" class=\"dataframe\">\n",
       "  <thead>\n",
       "    <tr style=\"text-align: right;\">\n",
       "      <th></th>\n",
       "      <th>surface_total_in_m2</th>\n",
       "      <th>price_aprox_usd</th>\n",
       "    </tr>\n",
       "  </thead>\n",
       "  <tbody>\n",
       "    <tr>\n",
       "      <th>surface_total_in_m2</th>\n",
       "      <td>1.000000</td>\n",
       "      <td>0.780321</td>\n",
       "    </tr>\n",
       "    <tr>\n",
       "      <th>price_aprox_usd</th>\n",
       "      <td>0.780321</td>\n",
       "      <td>1.000000</td>\n",
       "    </tr>\n",
       "  </tbody>\n",
       "</table>\n",
       "</div>"
      ],
      "text/plain": [
       "                     surface_total_in_m2  price_aprox_usd\n",
       "surface_total_in_m2             1.000000         0.780321\n",
       "price_aprox_usd                 0.780321         1.000000"
      ]
     },
     "execution_count": 53,
     "metadata": {},
     "output_type": "execute_result"
    }
   ],
   "source": [
    "# Correlación m2 vs usd -> Store\n",
    "\n",
    "data_capital_clean.loc[data_capital_clean.property_type == 'store',['surface_total_in_m2','price_aprox_usd']].corr()"
   ]
  },
  {
   "cell_type": "code",
   "execution_count": 54,
   "metadata": {},
   "outputs": [
    {
     "data": {
      "text/html": [
       "<div>\n",
       "<style scoped>\n",
       "    .dataframe tbody tr th:only-of-type {\n",
       "        vertical-align: middle;\n",
       "    }\n",
       "\n",
       "    .dataframe tbody tr th {\n",
       "        vertical-align: top;\n",
       "    }\n",
       "\n",
       "    .dataframe thead th {\n",
       "        text-align: right;\n",
       "    }\n",
       "</style>\n",
       "<table border=\"1\" class=\"dataframe\">\n",
       "  <thead>\n",
       "    <tr style=\"text-align: right;\">\n",
       "      <th></th>\n",
       "      <th>surface_total_in_m2</th>\n",
       "      <th>price_aprox_usd</th>\n",
       "    </tr>\n",
       "  </thead>\n",
       "  <tbody>\n",
       "    <tr>\n",
       "      <th>surface_total_in_m2</th>\n",
       "      <td>1.000000</td>\n",
       "      <td>0.775339</td>\n",
       "    </tr>\n",
       "    <tr>\n",
       "      <th>price_aprox_usd</th>\n",
       "      <td>0.775339</td>\n",
       "      <td>1.000000</td>\n",
       "    </tr>\n",
       "  </tbody>\n",
       "</table>\n",
       "</div>"
      ],
      "text/plain": [
       "                     surface_total_in_m2  price_aprox_usd\n",
       "surface_total_in_m2             1.000000         0.775339\n",
       "price_aprox_usd                 0.775339         1.000000"
      ]
     },
     "execution_count": 54,
     "metadata": {},
     "output_type": "execute_result"
    }
   ],
   "source": [
    "# Correlación m2 vs usd -> Store\n",
    "\n",
    "data_capital_clean.loc[data_capital_clean.property_type == 'PH',['surface_total_in_m2','price_aprox_usd']].corr()"
   ]
  },
  {
   "cell_type": "code",
   "execution_count": 55,
   "metadata": {},
   "outputs": [],
   "source": [
    "data_capital_clean_dpto = data_capital_clean.loc[data_capital_clean.property_type == 'apartment']"
   ]
  },
  {
   "cell_type": "code",
   "execution_count": 56,
   "metadata": {},
   "outputs": [
    {
     "data": {
      "text/plain": [
       "place_name\n",
       "Puerto Madero    925921.72\n",
       "Palermo Chico    846538.61\n",
       "Catalinas        550000.00\n",
       "San Cristobal    443423.21\n",
       "Recoleta         411337.49\n",
       "                   ...    \n",
       "Paternal         104081.84\n",
       "Pompeya           98200.00\n",
       "Villa Lugano      89538.74\n",
       "Constitución      87934.34\n",
       "Villa Soldati     74666.67\n",
       "Name: price_aprox_usd, Length: 61, dtype: float64"
      ]
     },
     "execution_count": 56,
     "metadata": {},
     "output_type": "execute_result"
    }
   ],
   "source": [
    "round(data_capital_clean_dpto.groupby('place_name')['price_aprox_usd'].mean().sort_values(ascending=False),2)"
   ]
  },
  {
   "cell_type": "code",
   "execution_count": 57,
   "metadata": {},
   "outputs": [
    {
     "data": {
      "image/png": "[encoded data removed]",
      "text/plain": [
       "<Figure size 432x288 with 2 Axes>"
      ]
     },
     "metadata": {
      "needs_background": "light"
     },
     "output_type": "display_data"
    }
   ],
   "source": [
    "sns.heatmap(data_capital_clean_dpto.corr(), annot=True, vmin=-1, cmap='Blues');"
   ]
  },
  {
   "cell_type": "code",
   "execution_count": 58,
   "metadata": {},
   "outputs": [
    {
     "data": {
      "image/png": "[encoded data removed]",
      "text/plain": [
       "<Figure size 432x288 with 1 Axes>"
      ]
     },
     "metadata": {
      "needs_background": "light"
     },
     "output_type": "display_data"
    }
   ],
   "source": [
    "sns.regplot(data_capital_clean_dpto.surface_total_in_m2, data_capital_clean_dpto.price_aprox_usd, order=1, ci=None, scatter_kws={'color':'r', 's':9})\n",
    "plt.xlim(-10,310)\n",
    "plt.ylim(bottom=0);"
   ]
  },
  {
   "cell_type": "markdown",
   "metadata": {},
   "source": [
    "# Machine Learning\n",
    "## Supervisado\n",
    "### Regresión (precio)\n",
    "#### Variable continua"
   ]
  },
  {
   "cell_type": "code",
   "execution_count": 59,
   "metadata": {},
   "outputs": [],
   "source": [
    "import seaborn as sns"
   ]
  },
  {
   "cell_type": "code",
   "execution_count": 60,
   "metadata": {},
   "outputs": [
    {
     "name": "stdout",
     "output_type": "stream",
     "text": [
      "<class 'pandas.core.frame.DataFrame'>\n",
      "Int64Index: 19011 entries, 2 to 121219\n",
      "Data columns (total 6 columns):\n",
      " #   Column                 Non-Null Count  Dtype  \n",
      "---  ------                 --------------  -----  \n",
      " 0   property_type          19011 non-null  object \n",
      " 1   place_name             19011 non-null  object \n",
      " 2   price_aprox_usd        19011 non-null  float64\n",
      " 3   surface_total_in_m2    19011 non-null  float64\n",
      " 4   surface_covered_in_m2  19011 non-null  float64\n",
      " 5   price_usd_per_m2       19011 non-null  float64\n",
      "dtypes: float64(4), object(2)\n",
      "memory usage: 1.0+ MB\n"
     ]
    }
   ],
   "source": [
    "data_capital_clean_dpto.info()"
   ]
  },
  {
   "cell_type": "code",
   "execution_count": 61,
   "metadata": {},
   "outputs": [
    {
     "data": {
      "text/plain": [
       "<seaborn.axisgrid.PairGrid at 0x7ff18f0fd950>"
      ]
     },
     "execution_count": 61,
     "metadata": {},
     "output_type": "execute_result"
    },
    {
     "data": {
      "image/png": "[encoded data removed]",
      "text/plain": [
       "<Figure size 360x360 with 6 Axes>"
      ]
     },
     "metadata": {
      "needs_background": "light"
     },
     "output_type": "display_data"
    }
   ],
   "source": [
    "sns.pairplot(data_capital_clean_dpto.loc[:,['surface_total_in_m2','price_aprox_usd']],diag_kind='kde')"
   ]
  },
  {
   "cell_type": "code",
   "execution_count": 62,
   "metadata": {},
   "outputs": [],
   "source": [
    "from sklearn.linear_model import LinearRegression"
   ]
  },
  {
   "cell_type": "code",
   "execution_count": 63,
   "metadata": {},
   "outputs": [
    {
     "data": {
      "text/plain": [
       "LinearRegression(copy_X=True, fit_intercept=True, n_jobs=None, normalize=False)"
      ]
     },
     "execution_count": 63,
     "metadata": {},
     "output_type": "execute_result"
    }
   ],
   "source": [
    "# instancio el modelo con sus hiperparámetros\n",
    "model = LinearRegression(fit_intercept=True)\n",
    "model"
   ]
  },
  {
   "cell_type": "code",
   "execution_count": 64,
   "metadata": {},
   "outputs": [
    {
     "name": "stdout",
     "output_type": "stream",
     "text": [
      "Shape X: (19011, 1)\n",
      "Type X: <class 'pandas.core.frame.DataFrame'>\n",
      "Shape y: (19011,)\n",
      "Type y: <class 'pandas.core.series.Series'>\n"
     ]
    }
   ],
   "source": [
    "# acondiciono los datos del input\n",
    "\n",
    "# matriz de features -> array 2D o un DataFrame, vector objetivo -> array 1D o Series\n",
    "\n",
    "# X e y\n",
    "feature_cols = ['surface_total_in_m2']\n",
    "X = data_capital_clean_dpto[feature_cols] #  array 2D de Numpy o un DataFrame de Pandas\n",
    "y = data_capital_clean_dpto.price_aprox_usd # array 1D de Numpy o una Series de Pandas\n",
    "\n",
    "# Corrobaros la shape y el tipo de cada una\n",
    "print(\"Shape X:\", X.shape)\n",
    "print(\"Type X:\", type(X))\n",
    "print(\"Shape y:\", y.shape)\n",
    "print(\"Type y:\", type(y))"
   ]
  },
  {
   "cell_type": "code",
   "execution_count": 65,
   "metadata": {},
   "outputs": [],
   "source": [
    "# separar los sets de entrenamiento y de testeo\n",
    "\n",
    "from sklearn.model_selection import train_test_split\n",
    "\n",
    "Xtrain, Xtest, ytrain, ytest = train_test_split(X, y, random_state=1, shuffle=True,test_size=0.25, train_size=0.5)"
   ]
  },
  {
   "cell_type": "code",
   "execution_count": 66,
   "metadata": {},
   "outputs": [
    {
     "data": {
      "text/plain": [
       "LinearRegression(copy_X=True, fit_intercept=True, n_jobs=None, normalize=False)"
      ]
     },
     "execution_count": 66,
     "metadata": {},
     "output_type": "execute_result"
    }
   ],
   "source": [
    "# entrenar el modelo\n",
    "\n",
    "model.fit(Xtrain, ytrain)"
   ]
  },
  {
   "cell_type": "markdown",
   "metadata": {},
   "source": [
    "Los atributos que representan los parámetros de \n",
    "los modelos aprendidos se identifican con underscores -> los valores de 𝛽0^ y 𝛽1^ \n",
    "aprendidos inspeccionando los atributos intercept_ y coef_'"
   ]
  },
  {
   "cell_type": "code",
   "execution_count": 67,
   "metadata": {},
   "outputs": [
    {
     "data": {
      "text/plain": [
       "array([3575.31252945])"
      ]
     },
     "execution_count": 67,
     "metadata": {},
     "output_type": "execute_result"
    }
   ],
   "source": [
    "model.coef_"
   ]
  },
  {
   "cell_type": "code",
   "execution_count": 68,
   "metadata": {},
   "outputs": [
    {
     "data": {
      "text/plain": [
       "-27078.309146166197"
      ]
     },
     "execution_count": 68,
     "metadata": {},
     "output_type": "execute_result"
    }
   ],
   "source": [
    "model.intercept_"
   ]
  },
  {
   "cell_type": "code",
   "execution_count": 69,
   "metadata": {},
   "outputs": [
    {
     "data": {
      "text/plain": [
       "array([187440.44262094])"
      ]
     },
     "execution_count": 69,
     "metadata": {},
     "output_type": "execute_result"
    }
   ],
   "source": [
    "# predicción manual\n",
    "\n",
    "test = 60\n",
    "model.intercept_ + model.coef_*test"
   ]
  },
  {
   "cell_type": "code",
   "execution_count": 70,
   "metadata": {},
   "outputs": [
    {
     "data": {
      "text/plain": [
       "array([187440.44262094])"
      ]
     },
     "execution_count": 70,
     "metadata": {},
     "output_type": "execute_result"
    }
   ],
   "source": [
    "# predicción con método\n",
    "\n",
    "test = 60\n",
    "model.intercept_ + model.coef_*test"
   ]
  },
  {
   "cell_type": "code",
   "execution_count": 71,
   "metadata": {},
   "outputs": [
    {
     "name": "stdout",
     "output_type": "stream",
     "text": [
      "[[60]]\n"
     ]
    },
    {
     "data": {
      "text/plain": [
       "array([187440.44262094])"
      ]
     },
     "execution_count": 71,
     "metadata": {},
     "output_type": "execute_result"
    }
   ],
   "source": [
    "# Usando el método del objeto\n",
    "\n",
    "print(np.array(test).reshape(-1,1))\n",
    "test_sklearn = np.array(test).reshape(-1,1) # test es un único valor de prueba (no una matriz)\n",
    "model.predict(test_sklearn)"
   ]
  },
  {
   "cell_type": "code",
   "execution_count": 72,
   "metadata": {},
   "outputs": [
    {
     "data": {
      "text/plain": [
       "array([ 87331.69179629, 140961.37973807, 273247.94332778, ...,\n",
       "       405534.5069175 , 409109.81944695, 144536.69226752])"
      ]
     },
     "execution_count": 72,
     "metadata": {},
     "output_type": "execute_result"
    }
   ],
   "source": [
    "ypred = model.predict(Xtest)\n",
    "ypred"
   ]
  },
  {
   "cell_type": "markdown",
   "metadata": {},
   "source": [
    "**Considerando un metraje total de 60 m2 para un dpto. en capital, nuestro modelo estima un valor de USD 187.440.-**"
   ]
  },
  {
   "cell_type": "code",
   "execution_count": 73,
   "metadata": {},
   "outputs": [
    {
     "name": "stdout",
     "output_type": "stream",
     "text": [
      "MAE: 101710.48\n",
      "MSE: 56332604006.62\n",
      "RMSE: 237344.91\n",
      "R2: 0.49\n"
     ]
    }
   ],
   "source": [
    "from sklearn.metrics import mean_absolute_error, mean_squared_error, r2_score\n",
    "\n",
    "print ('MAE:', mean_absolute_error(ytest, ypred).round(2))\n",
    "print ('MSE:', mean_squared_error(ytest, ypred).round(2))\n",
    "print ('RMSE:', np.sqrt(mean_squared_error(ytest, ypred)).round(2))\n",
    "print ('R2:', r2_score(ytest, ypred).round(2))"
   ]
  },
  {
   "cell_type": "markdown",
   "metadata": {},
   "source": [
    "#### Cross-validation\n",
    "Cada valor indica el score que se obtuvo sobre el set de validación de una prueba en particular. Como se trata de un problema de regresión, el score por defecto es el 𝑅2."
   ]
  },
  {
   "cell_type": "code",
   "execution_count": 74,
   "metadata": {},
   "outputs": [
    {
     "data": {
      "text/plain": [
       "array([0.47971423, 0.50970455, 0.45441695, 0.4618722 ])"
      ]
     },
     "execution_count": 74,
     "metadata": {},
     "output_type": "execute_result"
    }
   ],
   "source": [
    "# Importamos la función cross_val_score del módulo de selección de modelos\n",
    "from sklearn.model_selection import cross_val_score\n",
    "\n",
    "# La ejecutamos indicando como estimador una regresión lineal, especificando el set de train y cuántos folds queremos\n",
    "cross_val_score(estimator=LinearRegression(fit_intercept=True), X=Xtrain, y=ytrain, cv=4)"
   ]
  },
  {
   "cell_type": "markdown",
   "metadata": {},
   "source": [
    "### Clasificación (Barrio)\n",
    "#### Variable categórica /  discreta"
   ]
  },
  {
   "cell_type": "code",
   "execution_count": 75,
   "metadata": {},
   "outputs": [],
   "source": [
    "# data_capital_clean_dpto['price_aprox_usd'].quantile([.0,.25,.5,.75]) \n",
    "# -> no sirve, toma sólo un valor (el de referencia)"
   ]
  },
  {
   "cell_type": "code",
   "execution_count": 76,
   "metadata": {},
   "outputs": [
    {
     "data": {
      "text/plain": [
       "(94100.0, 110000.0]              1986\n",
       "(179000.0, 230000.0]             1949\n",
       "(148770.0, 179000.0]             1938\n",
       "(5103.6089999999995, 78800.0]    1904\n",
       "(548600.0, 8000000.0]            1901\n",
       "(126826.0, 148770.0]             1901\n",
       "(78800.0, 94100.0]               1901\n",
       "(319000.0, 548600.0]             1896\n",
       "(230000.0, 319000.0]             1821\n",
       "(110000.0, 126826.0]             1814\n",
       "Name: price_aprox_usd, dtype: int64"
      ]
     },
     "execution_count": 76,
     "metadata": {},
     "output_type": "execute_result"
    }
   ],
   "source": [
    "# divido en cuartiles para tomar un barrio (el mas repetido) por cuartil\n",
    "\n",
    "pd.qcut(data_capital_clean_dpto['price_aprox_usd'],10).sort_values().value_counts()"
   ]
  },
  {
   "cell_type": "code",
   "execution_count": 77,
   "metadata": {},
   "outputs": [
    {
     "name": "stderr",
     "output_type": "stream",
     "text": [
      "/home/guido/anaconda3/envs/dh/lib/python3.7/site-packages/ipykernel_launcher.py:1: SettingWithCopyWarning: \n",
      "A value is trying to be set on a copy of a slice from a DataFrame.\n",
      "Try using .loc[row_indexer,col_indexer] = value instead\n",
      "\n",
      "See the caveats in the documentation: https://pandas.pydata.org/pandas-docs/stable/user_guide/indexing.html#returning-a-view-versus-a-copy\n",
      "  \"\"\"Entry point for launching an IPython kernel.\n"
     ]
    }
   ],
   "source": [
    "data_capital_clean_dpto['interval'] = pd.qcut(data_capital_clean_dpto.loc[:,'price_aprox_usd'],15)"
   ]
  },
  {
   "cell_type": "code",
   "execution_count": 78,
   "metadata": {},
   "outputs": [
    {
     "data": {
      "text/html": [
       "<div>\n",
       "<style scoped>\n",
       "    .dataframe tbody tr th:only-of-type {\n",
       "        vertical-align: middle;\n",
       "    }\n",
       "\n",
       "    .dataframe tbody tr th {\n",
       "        vertical-align: top;\n",
       "    }\n",
       "\n",
       "    .dataframe thead th {\n",
       "        text-align: right;\n",
       "    }\n",
       "</style>\n",
       "<table border=\"1\" class=\"dataframe\">\n",
       "  <thead>\n",
       "    <tr style=\"text-align: right;\">\n",
       "      <th></th>\n",
       "      <th>count</th>\n",
       "      <th>unique</th>\n",
       "      <th>top</th>\n",
       "      <th>freq</th>\n",
       "    </tr>\n",
       "    <tr>\n",
       "      <th>interval</th>\n",
       "      <th></th>\n",
       "      <th></th>\n",
       "      <th></th>\n",
       "      <th></th>\n",
       "    </tr>\n",
       "  </thead>\n",
       "  <tbody>\n",
       "    <tr>\n",
       "      <th>(5103.6089999999995, 73000.0]</th>\n",
       "      <td>1319</td>\n",
       "      <td>53</td>\n",
       "      <td>Boedo</td>\n",
       "      <td>159</td>\n",
       "    </tr>\n",
       "    <tr>\n",
       "      <th>(73000.0, 84000.0]</th>\n",
       "      <td>1261</td>\n",
       "      <td>54</td>\n",
       "      <td>San Telmo</td>\n",
       "      <td>143</td>\n",
       "    </tr>\n",
       "    <tr>\n",
       "      <th>(84000.0, 94100.0]</th>\n",
       "      <td>1225</td>\n",
       "      <td>53</td>\n",
       "      <td>Caballito</td>\n",
       "      <td>132</td>\n",
       "    </tr>\n",
       "    <tr>\n",
       "      <th>(94100.0, 105000.0]</th>\n",
       "      <td>1324</td>\n",
       "      <td>54</td>\n",
       "      <td>Belgrano</td>\n",
       "      <td>119</td>\n",
       "    </tr>\n",
       "    <tr>\n",
       "      <th>(105000.0, 115000.0]</th>\n",
       "      <td>1261</td>\n",
       "      <td>54</td>\n",
       "      <td>Caballito</td>\n",
       "      <td>130</td>\n",
       "    </tr>\n",
       "    <tr>\n",
       "      <th>(115000.0, 126826.0]</th>\n",
       "      <td>1215</td>\n",
       "      <td>54</td>\n",
       "      <td>Caballito</td>\n",
       "      <td>148</td>\n",
       "    </tr>\n",
       "    <tr>\n",
       "      <th>(126826.0, 140000.0]</th>\n",
       "      <td>1359</td>\n",
       "      <td>54</td>\n",
       "      <td>Caballito</td>\n",
       "      <td>141</td>\n",
       "    </tr>\n",
       "    <tr>\n",
       "      <th>(140000.0, 157894.42]</th>\n",
       "      <td>1175</td>\n",
       "      <td>51</td>\n",
       "      <td>Belgrano</td>\n",
       "      <td>123</td>\n",
       "    </tr>\n",
       "    <tr>\n",
       "      <th>(157894.42, 179000.0]</th>\n",
       "      <td>1305</td>\n",
       "      <td>54</td>\n",
       "      <td>Belgrano</td>\n",
       "      <td>138</td>\n",
       "    </tr>\n",
       "    <tr>\n",
       "      <th>(179000.0, 209000.0]</th>\n",
       "      <td>1236</td>\n",
       "      <td>52</td>\n",
       "      <td>Belgrano</td>\n",
       "      <td>157</td>\n",
       "    </tr>\n",
       "    <tr>\n",
       "      <th>(209000.0, 250000.0]</th>\n",
       "      <td>1370</td>\n",
       "      <td>51</td>\n",
       "      <td>Palermo</td>\n",
       "      <td>184</td>\n",
       "    </tr>\n",
       "    <tr>\n",
       "      <th>(250000.0, 319000.0]</th>\n",
       "      <td>1164</td>\n",
       "      <td>46</td>\n",
       "      <td>Palermo</td>\n",
       "      <td>178</td>\n",
       "    </tr>\n",
       "    <tr>\n",
       "      <th>(319000.0, 430000.0]</th>\n",
       "      <td>1268</td>\n",
       "      <td>47</td>\n",
       "      <td>Belgrano</td>\n",
       "      <td>217</td>\n",
       "    </tr>\n",
       "    <tr>\n",
       "      <th>(430000.0, 680000.0]</th>\n",
       "      <td>1268</td>\n",
       "      <td>42</td>\n",
       "      <td>Boedo</td>\n",
       "      <td>212</td>\n",
       "    </tr>\n",
       "    <tr>\n",
       "      <th>(680000.0, 8000000.0]</th>\n",
       "      <td>1261</td>\n",
       "      <td>31</td>\n",
       "      <td>Puerto Madero</td>\n",
       "      <td>224</td>\n",
       "    </tr>\n",
       "  </tbody>\n",
       "</table>\n",
       "</div>"
      ],
      "text/plain": [
       "                              count unique            top freq\n",
       "interval                                                      \n",
       "(5103.6089999999995, 73000.0]  1319     53          Boedo  159\n",
       "(73000.0, 84000.0]             1261     54      San Telmo  143\n",
       "(84000.0, 94100.0]             1225     53      Caballito  132\n",
       "(94100.0, 105000.0]            1324     54       Belgrano  119\n",
       "(105000.0, 115000.0]           1261     54      Caballito  130\n",
       "(115000.0, 126826.0]           1215     54      Caballito  148\n",
       "(126826.0, 140000.0]           1359     54      Caballito  141\n",
       "(140000.0, 157894.42]          1175     51       Belgrano  123\n",
       "(157894.42, 179000.0]          1305     54       Belgrano  138\n",
       "(179000.0, 209000.0]           1236     52       Belgrano  157\n",
       "(209000.0, 250000.0]           1370     51        Palermo  184\n",
       "(250000.0, 319000.0]           1164     46        Palermo  178\n",
       "(319000.0, 430000.0]           1268     47       Belgrano  217\n",
       "(430000.0, 680000.0]           1268     42          Boedo  212\n",
       "(680000.0, 8000000.0]          1261     31  Puerto Madero  224"
      ]
     },
     "execution_count": 78,
     "metadata": {},
     "output_type": "execute_result"
    }
   ],
   "source": [
    "data_capital_clean_dpto.groupby('interval')['place_name'].describe()"
   ]
  },
  {
   "cell_type": "code",
   "execution_count": 79,
   "metadata": {},
   "outputs": [
    {
     "name": "stdout",
     "output_type": "stream",
     "text": [
      "['Boedo', 'San Telmo']\n"
     ]
    }
   ],
   "source": [
    "# tomo los barrios \"top\" por cuartil\n",
    "# me quedo con sólo DOS -> clasificación dicotómica\n",
    "\n",
    "barrios_top = list(data_capital_clean_dpto.groupby('interval')['place_name'].describe()['top'].unique())\n",
    "print(barrios_top[:2])"
   ]
  },
  {
   "cell_type": "code",
   "execution_count": 80,
   "metadata": {},
   "outputs": [],
   "source": [
    "barrios_mask = data_capital_clean_dpto.place_name.apply(lambda x: x in barrios_top[:2])"
   ]
  },
  {
   "cell_type": "code",
   "execution_count": 81,
   "metadata": {},
   "outputs": [],
   "source": [
    "barrios_clean_dptos = data_capital_clean_dpto.loc[barrios_mask,:]"
   ]
  },
  {
   "cell_type": "code",
   "execution_count": 82,
   "metadata": {},
   "outputs": [],
   "source": [
    "# elimino las columnas inutiles\n",
    "\n",
    "barrios_clean_dptos = barrios_clean_dptos.loc[:,:'surface_total_in_m2']"
   ]
  },
  {
   "cell_type": "code",
   "execution_count": 83,
   "metadata": {},
   "outputs": [
    {
     "data": {
      "text/plain": [
       "(     property_type place_name  price_aprox_usd  surface_total_in_m2\n",
       " 35       apartment      Boedo         145000.0                 80.0\n",
       " 403      apartment  San Telmo         108356.0                 41.0\n",
       " 637      apartment  San Telmo          94000.0                 55.0\n",
       " 739      apartment      Boedo         289000.0                228.0\n",
       " 740      apartment      Boedo         289000.0                228.0\n",
       " 741      apartment      Boedo         289000.0                228.0\n",
       " 5197     apartment  San Telmo          88000.0                 38.0\n",
       " 5233     apartment  San Telmo         170000.0                 54.0\n",
       " 6482     apartment      Boedo          75000.0                 33.0\n",
       " 6771     apartment  San Telmo         110000.0                 54.0,\n",
       " (1630, 4))"
      ]
     },
     "execution_count": 83,
     "metadata": {},
     "output_type": "execute_result"
    }
   ],
   "source": [
    "barrios_clean_dptos.head(10), barrios_clean_dptos.shape"
   ]
  },
  {
   "cell_type": "code",
   "execution_count": 84,
   "metadata": {},
   "outputs": [
    {
     "name": "stdout",
     "output_type": "stream",
     "text": [
      "      price_aprox_usd  surface_total_in_m2  place_name_San Telmo\n",
      "35           145000.0                 80.0                     0\n",
      "403          108356.0                 41.0                     1\n",
      "637           94000.0                 55.0                     1\n",
      "739          289000.0                228.0                     0\n",
      "740          289000.0                228.0                     0\n",
      "741          289000.0                228.0                     0\n",
      "5197          88000.0                 38.0                     1\n",
      "5233         170000.0                 54.0                     1\n",
      "6482          75000.0                 33.0                     0\n",
      "6771         110000.0                 54.0                     1\n"
     ]
    }
   ],
   "source": [
    "# variables dummies de los atributos categóricos\n",
    "\n",
    "barrios_clean_dptos_dum = pd.get_dummies(barrios_clean_dptos, drop_first=True)\n",
    "print(barrios_clean_dptos_dum.head(10))"
   ]
  },
  {
   "cell_type": "code",
   "execution_count": 85,
   "metadata": {},
   "outputs": [
    {
     "name": "stdout",
     "output_type": "stream",
     "text": [
      "       price_aprox_usd  surface_total_in_m2  place_name_San Telmo\n",
      "count     1.630000e+03          1630.000000           1630.000000\n",
      "mean      2.350935e+05            46.685276              0.556442\n",
      "std       3.258920e+05            38.039845              0.496957\n",
      "min       2.240000e+04            13.000000              0.000000\n",
      "25%       7.851720e+04            30.000000              0.000000\n",
      "50%       1.243707e+05            35.000000              1.000000\n",
      "75%       2.651341e+05            51.000000              1.000000\n",
      "max       6.809000e+06           404.000000              1.000000\n"
     ]
    }
   ],
   "source": [
    "print(barrios_clean_dptos_dum.describe())"
   ]
  },
  {
   "cell_type": "code",
   "execution_count": 86,
   "metadata": {},
   "outputs": [
    {
     "data": {
      "image/png": "[encoded data removed]",
      "text/plain": [
       "<Figure size 485.609x360 with 6 Axes>"
      ]
     },
     "metadata": {
      "needs_background": "light"
     },
     "output_type": "display_data"
    }
   ],
   "source": [
    "sns.pairplot(barrios_clean_dptos_dum, hue='place_name_San Telmo', diag_kind='auto');"
   ]
  },
  {
   "cell_type": "code",
   "execution_count": 87,
   "metadata": {},
   "outputs": [],
   "source": [
    "# modelo e hiperparámetros\n",
    "\n",
    "from sklearn.naive_bayes import GaussianNB\n",
    "model = GaussianNB()"
   ]
  },
  {
   "cell_type": "code",
   "execution_count": 88,
   "metadata": {},
   "outputs": [
    {
     "name": "stdout",
     "output_type": "stream",
     "text": [
      "Shape X: (1630, 2)\n",
      "Type X: <class 'pandas.core.frame.DataFrame'>\n",
      "Shape y: (1630,)\n",
      "Type y: <class 'pandas.core.series.Series'>\n"
     ]
    }
   ],
   "source": [
    "# Creamos X e y\n",
    "\n",
    "feature_cols = ['surface_total_in_m2', 'price_aprox_usd']\n",
    "X = barrios_clean_dptos_dum[feature_cols]\n",
    "y = barrios_clean_dptos_dum.loc[:,'place_name_San Telmo']\n",
    "\n",
    "print(\"Shape X:\", X.shape)\n",
    "print(\"Type X:\", type(X))\n",
    "print(\"Shape y:\", y.shape)\n",
    "print(\"Type y:\", type(y))"
   ]
  },
  {
   "cell_type": "code",
   "execution_count": 89,
   "metadata": {},
   "outputs": [],
   "source": [
    "# separo training de testeo\n",
    "\n",
    "Xtrain, Xtest, ytrain, ytest = train_test_split(X, y, random_state=1,train_size=0.5, test_size=0.2)"
   ]
  },
  {
   "cell_type": "code",
   "execution_count": 90,
   "metadata": {},
   "outputs": [
    {
     "data": {
      "text/plain": [
       "(        surface_total_in_m2  price_aprox_usd\n",
       " 105336                 35.0        105493.39\n",
       " 25629                  30.0        168500.00\n",
       " 61674                  75.0        170000.00\n",
       " 105168                 35.0         88051.37\n",
       " 116927                 31.0        100000.00\n",
       " ...                     ...              ...\n",
       " 85524                  64.0        168822.35\n",
       " 77621                  85.0        155000.00\n",
       " 89882                  43.0         74800.00\n",
       " 86239                  97.0        295163.34\n",
       " 26091                  30.0         37000.00\n",
       " \n",
       " [815 rows x 2 columns],\n",
       "         surface_total_in_m2  price_aprox_usd\n",
       " 86040                  41.0        138311.82\n",
       " 117014                 36.0         36943.00\n",
       " 26487                  30.0        453900.00\n",
       " 88299                  45.0        165000.00\n",
       " 25648                  30.0        175200.00\n",
       " ...                     ...              ...\n",
       " 105156                 32.0         80367.90\n",
       " 85749                  41.0        125738.03\n",
       " 75735                  36.0         86898.00\n",
       " 26775                  32.0        665000.00\n",
       " 48046                  30.0         79229.41\n",
       " \n",
       " [326 rows x 2 columns])"
      ]
     },
     "execution_count": 90,
     "metadata": {},
     "output_type": "execute_result"
    }
   ],
   "source": [
    "Xtrain, Xtest"
   ]
  },
  {
   "cell_type": "code",
   "execution_count": 91,
   "metadata": {},
   "outputs": [
    {
     "data": {
      "text/plain": [
       "GaussianNB(priors=None, var_smoothing=1e-09)"
      ]
     },
     "execution_count": 91,
     "metadata": {},
     "output_type": "execute_result"
    }
   ],
   "source": [
    "# entreno el modelo con los datos de entrenamiento\n",
    "\n",
    "model.fit(Xtrain, ytrain)"
   ]
  },
  {
   "cell_type": "code",
   "execution_count": 92,
   "metadata": {},
   "outputs": [
    {
     "data": {
      "text/plain": [
       "array([1, 1, 0, 1, 1, 1, 1, 1, 1, 1, 1, 0, 1, 1, 1, 1, 1, 1, 1, 1, 1, 1,\n",
       "       1, 1, 1, 1, 1, 1, 0, 0, 1, 1, 1, 1, 1, 0, 1, 0, 1, 1, 1, 1, 1, 1,\n",
       "       1, 1, 1, 1, 1, 1, 1, 1, 1, 1, 1, 0, 1, 1, 0, 0, 1, 0, 1, 1, 1, 1,\n",
       "       1, 1, 0, 0, 1, 0, 1, 0, 1, 1, 1, 1, 1, 1, 1, 0, 1, 1, 1, 1, 1, 1,\n",
       "       1, 1, 1, 1, 1, 1, 0, 1, 1, 1, 1, 0, 1, 0, 1, 1, 1, 1, 0, 1, 0, 0,\n",
       "       1, 1, 1, 1, 1, 1, 1, 1, 1, 1, 1, 1, 1, 1, 1, 1, 0, 0, 0, 1, 0, 1,\n",
       "       1, 1, 1, 1, 1, 1, 1, 0, 0, 1, 0, 0, 1, 0, 0, 0, 1, 1, 1, 0, 1, 0,\n",
       "       1, 1, 0, 1, 0, 1, 1, 0, 1, 0, 1, 0, 1, 1, 1, 0, 1, 1, 1, 0, 1, 1,\n",
       "       0, 1, 1, 1, 1, 0, 1, 1, 0, 1, 0, 1, 1, 1, 1, 1, 0, 1, 1, 1, 1, 0,\n",
       "       1, 1, 1, 1, 0, 1, 1, 1, 1, 0, 0, 1, 1, 1, 1, 1, 1, 1, 1, 1, 1, 1,\n",
       "       0, 1, 0, 1, 1, 1, 1, 1, 0, 1, 1, 1, 0, 1, 1, 1, 1, 1, 0, 1, 1, 1,\n",
       "       0, 1, 0, 0, 1, 1, 0, 1, 1, 0, 1, 0, 1, 1, 1, 1, 1, 0, 0, 1, 1, 1,\n",
       "       1, 0, 1, 0, 1, 1, 1, 1, 1, 1, 1, 1, 0, 1, 1, 1, 1, 1, 1, 1, 1, 1,\n",
       "       1, 0, 1, 1, 1, 1, 1, 0, 1, 0, 1, 0, 0, 1, 1, 1, 0, 1, 1, 1, 1, 1,\n",
       "       1, 0, 1, 0, 0, 0, 1, 0, 1, 1, 1, 1, 0, 1, 1, 1, 0, 1], dtype=uint8)"
      ]
     },
     "execution_count": 92,
     "metadata": {},
     "output_type": "execute_result"
    }
   ],
   "source": [
    "ypred = model.predict(Xtest)\n",
    "ypred"
   ]
  },
  {
   "cell_type": "code",
   "execution_count": 93,
   "metadata": {},
   "outputs": [
    {
     "data": {
      "text/plain": [
       "0.7423312883435583"
      ]
     },
     "execution_count": 93,
     "metadata": {},
     "output_type": "execute_result"
    }
   ],
   "source": [
    "from sklearn.metrics import accuracy_score\n",
    "\n",
    "accuracy_score(ytest, ypred)"
   ]
  },
  {
   "cell_type": "markdown",
   "metadata": {},
   "source": [
    "#### Cross-validation"
   ]
  },
  {
   "cell_type": "code",
   "execution_count": 94,
   "metadata": {},
   "outputs": [
    {
     "data": {
      "text/plain": [
       "array([0.79779412, 0.78308824, 0.80073801])"
      ]
     },
     "execution_count": 94,
     "metadata": {},
     "output_type": "execute_result"
    }
   ],
   "source": [
    "# Importamos la función cross_val_score del módulo de selección de modelos\n",
    "from sklearn.model_selection import cross_val_score\n",
    "\n",
    "# La ejecutamos indicando como estimador una regresión lineal, especificando el set de train y cuántos folds queremos\n",
    "cross_val_score(estimator= GaussianNB(), X=Xtrain, y=ytrain, cv=3)"
   ]
  },
  {
   "cell_type": "markdown",
   "metadata": {},
   "source": [
    "## No Supervisado\n",
    "### Clustering"
   ]
  },
  {
   "cell_type": "code",
   "execution_count": 95,
   "metadata": {},
   "outputs": [
    {
     "name": "stdout",
     "output_type": "stream",
     "text": [
      "['Boedo', 'San Telmo', 'Caballito', 'Belgrano', 'Palermo', 'Puerto Madero'] 6 \n",
      "\n",
      "       place_name  price_aprox_usd  surface_total_in_m2\n",
      "7        Belgrano         138000.0                 45.0\n",
      "8        Belgrano         195000.0                 65.0\n",
      "19        Palermo         350000.0                104.0\n",
      "21        Palermo         270500.0                118.0\n",
      "35          Boedo         145000.0                 80.0\n",
      "...           ...              ...                  ...\n",
      "121112      Boedo         115000.0                 49.0\n",
      "121113    Palermo         265000.0                100.0\n",
      "121146    Palermo         350000.0                 95.0\n",
      "121157   Belgrano         128000.0                 38.0\n",
      "121215   Belgrano         870000.0                113.0\n",
      "\n",
      "[7141 rows x 3 columns]\n"
     ]
    }
   ],
   "source": [
    "# nueva máscara para 6 clusters\n",
    "\n",
    "print(barrios_top, len(barrios_top),'\\n')\n",
    "\n",
    "barrios_mask_2 = data_capital_clean_dpto.place_name.apply(lambda x: x in barrios_top)\n",
    "\n",
    "# extraigo los 6 barrios y elimino columnas inútiles\n",
    "barrios_clean_dptos_2 = data_capital_clean_dpto.loc[barrios_mask_2,'place_name':'surface_total_in_m2']\n",
    "\n",
    "print(barrios_clean_dptos_2)"
   ]
  },
  {
   "cell_type": "code",
   "execution_count": 96,
   "metadata": {},
   "outputs": [
    {
     "data": {
      "text/html": [
       "<div>\n",
       "<style scoped>\n",
       "    .dataframe tbody tr th:only-of-type {\n",
       "        vertical-align: middle;\n",
       "    }\n",
       "\n",
       "    .dataframe tbody tr th {\n",
       "        vertical-align: top;\n",
       "    }\n",
       "\n",
       "    .dataframe thead th {\n",
       "        text-align: right;\n",
       "    }\n",
       "</style>\n",
       "<table border=\"1\" class=\"dataframe\">\n",
       "  <thead>\n",
       "    <tr style=\"text-align: right;\">\n",
       "      <th></th>\n",
       "      <th>price_aprox_usd</th>\n",
       "      <th>surface_total_in_m2</th>\n",
       "    </tr>\n",
       "  </thead>\n",
       "  <tbody>\n",
       "    <tr>\n",
       "      <th>count</th>\n",
       "      <td>7.141000e+03</td>\n",
       "      <td>7141.000000</td>\n",
       "    </tr>\n",
       "    <tr>\n",
       "      <th>mean</th>\n",
       "      <td>3.073209e+05</td>\n",
       "      <td>81.367596</td>\n",
       "    </tr>\n",
       "    <tr>\n",
       "      <th>std</th>\n",
       "      <td>3.890152e+05</td>\n",
       "      <td>69.984748</td>\n",
       "    </tr>\n",
       "    <tr>\n",
       "      <th>min</th>\n",
       "      <td>1.170634e+04</td>\n",
       "      <td>10.000000</td>\n",
       "    </tr>\n",
       "    <tr>\n",
       "      <th>25%</th>\n",
       "      <td>1.140000e+05</td>\n",
       "      <td>38.000000</td>\n",
       "    </tr>\n",
       "    <tr>\n",
       "      <th>50%</th>\n",
       "      <td>1.750000e+05</td>\n",
       "      <td>55.000000</td>\n",
       "    </tr>\n",
       "    <tr>\n",
       "      <th>75%</th>\n",
       "      <td>3.500000e+05</td>\n",
       "      <td>96.000000</td>\n",
       "    </tr>\n",
       "    <tr>\n",
       "      <th>max</th>\n",
       "      <td>6.809000e+06</td>\n",
       "      <td>860.000000</td>\n",
       "    </tr>\n",
       "  </tbody>\n",
       "</table>\n",
       "</div>"
      ],
      "text/plain": [
       "       price_aprox_usd  surface_total_in_m2\n",
       "count     7.141000e+03          7141.000000\n",
       "mean      3.073209e+05            81.367596\n",
       "std       3.890152e+05            69.984748\n",
       "min       1.170634e+04            10.000000\n",
       "25%       1.140000e+05            38.000000\n",
       "50%       1.750000e+05            55.000000\n",
       "75%       3.500000e+05            96.000000\n",
       "max       6.809000e+06           860.000000"
      ]
     },
     "execution_count": 96,
     "metadata": {},
     "output_type": "execute_result"
    }
   ],
   "source": [
    "barrios_clean_dptos_2.describe()"
   ]
  },
  {
   "cell_type": "code",
   "execution_count": 97,
   "metadata": {},
   "outputs": [
    {
     "data": {
      "image/png": "[encoded data removed]",
      "text/plain": [
       "<Figure size 469x360 with 6 Axes>"
      ]
     },
     "metadata": {
      "needs_background": "light"
     },
     "output_type": "display_data"
    }
   ],
   "source": [
    "sns.pairplot(barrios_clean_dptos_2, hue='place_name', diag_kind='auto');"
   ]
  },
  {
   "cell_type": "code",
   "execution_count": 98,
   "metadata": {},
   "outputs": [],
   "source": [
    "# seleccionamos el modelo y los hiperparámetros\n",
    "\n",
    "from sklearn.cluster import KMeans\n",
    "\n",
    "model = KMeans(n_clusters=6, random_state=0)"
   ]
  },
  {
   "cell_type": "code",
   "execution_count": 99,
   "metadata": {},
   "outputs": [
    {
     "name": "stdout",
     "output_type": "stream",
     "text": [
      "        price_aprox_usd  surface_total_in_m2\n",
      "7              138000.0                 45.0\n",
      "8              195000.0                 65.0\n",
      "19             350000.0                104.0\n",
      "21             270500.0                118.0\n",
      "35             145000.0                 80.0\n",
      "...                 ...                  ...\n",
      "121112         115000.0                 49.0\n",
      "121113         265000.0                100.0\n",
      "121146         350000.0                 95.0\n",
      "121157         128000.0                 38.0\n",
      "121215         870000.0                113.0\n",
      "\n",
      "[7141 rows x 2 columns]\n"
     ]
    },
    {
     "data": {
      "text/plain": [
       "(7141, 2)"
      ]
     },
     "execution_count": 99,
     "metadata": {},
     "output_type": "execute_result"
    }
   ],
   "source": [
    "# se acondicona la matriz de features -descartando la variable objetivo-\n",
    "\n",
    "X_data = barrios_clean_dptos_2.drop('place_name', axis=1)\n",
    "print(X_data)\n",
    "X_data.shape"
   ]
  },
  {
   "cell_type": "code",
   "execution_count": 100,
   "metadata": {},
   "outputs": [
    {
     "name": "stdout",
     "output_type": "stream",
     "text": [
      "StandardScaler(copy=True, with_mean=True, with_std=True)\n"
     ]
    }
   ],
   "source": [
    "# Dado que K-Means es un algoritmo que trabaja calculando distancias, un paso previo al ajuste del modelo consiste en estandarizar los valores\n",
    "# para eliminar posibles inconvenientes asociados a la escala de las distintas variables\n",
    "\n",
    "# un transformador de los datos que reescala las variables para que tengan media 0 y desvío estándar 1.\n",
    "\n",
    "from sklearn.preprocessing import StandardScaler\n",
    "\n",
    "scaler = StandardScaler()\n",
    "print(scaler.fit(X_data))"
   ]
  },
  {
   "cell_type": "code",
   "execution_count": 101,
   "metadata": {},
   "outputs": [
    {
     "data": {
      "text/plain": [
       "array([[-0.43528579, -0.51968669],\n",
       "       [-0.2887517 , -0.23389013],\n",
       "       [ 0.10971819,  0.32341317],\n",
       "       [-0.0946583 ,  0.52347076],\n",
       "       [-0.41729038, -0.01954271]])"
      ]
     },
     "execution_count": 101,
     "metadata": {},
     "output_type": "execute_result"
    }
   ],
   "source": [
    "X = scaler.transform(X_data)\n",
    "X[0:5]"
   ]
  },
  {
   "cell_type": "code",
   "execution_count": 102,
   "metadata": {},
   "outputs": [
    {
     "name": "stdout",
     "output_type": "stream",
     "text": [
      "Medias reescaladas: [ 0. -0.]\n",
      "Desvíos reescalados: [1. 1.]\n"
     ]
    }
   ],
   "source": [
    "print('Medias reescaladas:', np.mean(X, axis=0).round(2)) # por columna\n",
    "print('Desvíos reescalados:', np.std(X, axis=0).round(2))"
   ]
  },
  {
   "cell_type": "code",
   "execution_count": 103,
   "metadata": {},
   "outputs": [
    {
     "data": {
      "text/plain": [
       "KMeans(algorithm='auto', copy_x=True, init='k-means++', max_iter=300,\n",
       "       n_clusters=6, n_init=10, n_jobs=None, precompute_distances='auto',\n",
       "       random_state=0, tol=0.0001, verbose=0)"
      ]
     },
     "execution_count": 103,
     "metadata": {},
     "output_type": "execute_result"
    }
   ],
   "source": [
    "model.fit(X)"
   ]
  },
  {
   "cell_type": "code",
   "execution_count": 104,
   "metadata": {},
   "outputs": [
    {
     "data": {
      "text/plain": [
       "array([2, 2, 3, 3, 2, 2, 3, 2, 2, 2, 2, 3, 5, 2, 2, 2, 3, 2, 3, 5, 3, 3,\n",
       "       2, 2, 2, 2, 3, 2, 2, 2, 3, 2, 3, 2, 2, 2, 3, 3, 3, 2, 5, 5, 3, 2,\n",
       "       3, 1, 2, 5, 3, 3], dtype=int32)"
      ]
     },
     "execution_count": 104,
     "metadata": {},
     "output_type": "execute_result"
    }
   ],
   "source": [
    "y_km = model.predict(X)\n",
    "y_km[:50]"
   ]
  },
  {
   "cell_type": "code",
   "execution_count": 105,
   "metadata": {},
   "outputs": [
    {
     "data": {
      "image/png": "[encoded data removed]",
      "text/plain": [
       "<Figure size 402.375x360 with 6 Axes>"
      ]
     },
     "metadata": {
      "needs_background": "light"
     },
     "output_type": "display_data"
    }
   ],
   "source": [
    "# Visualizamos los resultados\n",
    "\n",
    "X_data['cluster'] = y_km\n",
    "\n",
    "sns.pairplot(X_data, hue='cluster');"
   ]
  },
  {
   "cell_type": "markdown",
   "metadata": {},
   "source": [
    "**Los pairplots son bastante diferentes**"
   ]
  },
  {
   "cell_type": "code",
   "execution_count": 106,
   "metadata": {},
   "outputs": [
    {
     "data": {
      "text/plain": [
       "array([-2.63311222e+13, -1.95487558e+12, -9.34476621e+11])"
      ]
     },
     "execution_count": 106,
     "metadata": {},
     "output_type": "execute_result"
    }
   ],
   "source": [
    "# Importamos la función cross_val_score del módulo de selección de modelos\n",
    "from sklearn.model_selection import cross_val_score\n",
    "\n",
    "# La ejecutamos indicando como estimador una regresión lineal, especificando el set de train y cuántos folds queremos\n",
    "cross_val_score(estimator= KMeans(n_clusters=6, random_state=0), X=Xtrain, y=ytrain, cv=3)"
   ]
  },
  {
   "cell_type": "markdown",
   "metadata": {},
   "source": [
    "**Los resultados son lamentables**"
   ]
  },
  {
   "cell_type": "markdown",
   "metadata": {},
   "source": [
    "### Reducción de la dimensionalidad\n",
    "\n",
    "La tarea de reducción de la dimensionalidad es investigar si hay una representación apropiada de baja dimensionalidad que retiene las características esenciales de los datos originales. Las técnicas de reducción de la dimensionalidad buscan obtener a partir de un dataset complejo, con numerosas variables (alta dimensionalidad), una representación en una menor cantidad de variables (baja dimensionalidad) que de alguna manera preserve cualidades relevantes del dataset original."
   ]
  },
  {
   "cell_type": "code",
   "execution_count": 1,
   "metadata": {},
   "outputs": [],
   "source": [
    "### necesario retrotraerse al dataset original"
   ]
  },
  {
   "cell_type": "code",
   "execution_count": null,
   "metadata": {},
   "outputs": [],
   "source": [
    "       "
   ]
  }
 ],
 "metadata": {
  "kernelspec": {
   "display_name": "Python 3",
   "language": "python",
   "name": "python3"
  },
  "language_info": {
   "codemirror_mode": {
    "name": "ipython",
    "version": 3
   },
   "file_extension": ".py",
   "mimetype": "text/x-python",
   "name": "python",
   "nbconvert_exporter": "python",
   "pygments_lexer": "ipython3",
   "version": "3.7.7"
  }
 },
 "nbformat": 4,
 "nbformat_minor": 4
}
