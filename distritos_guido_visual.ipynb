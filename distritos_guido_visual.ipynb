{
 "cells": [
  {
   "cell_type": "code",
   "execution_count": 1,
   "metadata": {},
   "outputs": [],
   "source": [
    "import pandas as pd\n",
    "import numpy as np\n",
    "import re\n",
    "\n",
    "data = pd.read_csv('properati.csv')"
   ]
  },
  {
   "cell_type": "markdown",
   "metadata": {},
   "source": [
    "### **Nueva columna con nombres de provincia**\n",
    "state_name + Buenos Aires agrupado"
   ]
  },
  {
   "cell_type": "code",
   "execution_count": 2,
   "metadata": {},
   "outputs": [
    {
     "data": {
      "text/plain": [
       "Buenos Aires           61131\n",
       "Capital Federal        32316\n",
       "Córdoba                12069\n",
       "Santa Fe               10172\n",
       "Río Negro                808\n",
       "Neuquén                  733\n",
       "Mendoza                  681\n",
       "Tucumán                  674\n",
       "Corrientes               583\n",
       "Misiones                 464\n",
       "Entre Ríos               369\n",
       "Salta                    278\n",
       "Chubut                   259\n",
       "San Luis                 252\n",
       "La Pampa                 157\n",
       "Formosa                   65\n",
       "Chaco                     57\n",
       "San Juan                  40\n",
       "Tierra Del Fuego          31\n",
       "Catamarca                 27\n",
       "Jujuy                     26\n",
       "Santa Cruz                20\n",
       "Santiago Del Estero        4\n",
       "La Rioja                   4\n",
       "Name: provincia, dtype: int64"
      ]
     },
     "execution_count": 2,
     "metadata": {},
     "output_type": "execute_result"
    }
   ],
   "source": [
    "pattern = '(Bs.As.)|(Buenos Aires)'\n",
    "regex = re.compile(pattern)\n",
    "buenos_aires = data.state_name.apply(lambda state: state if state is np.NaN else regex.search(state))\n",
    "\n",
    "data['provincia'] = data.loc[:,'state_name']\n",
    "\n",
    "data.loc[buenos_aires.notnull(),'provincia'] = 'Buenos Aires'\n",
    "data.loc[:,'provincia'].value_counts()"
   ]
  },
  {
   "cell_type": "markdown",
   "metadata": {},
   "source": [
    "### **Regiones**"
   ]
  },
  {
   "cell_type": "code",
   "execution_count": 3,
   "metadata": {},
   "outputs": [],
   "source": [
    "regiones = {'Capital Federal':'Pampeana'\n",
    ",'Buenos Aires':'Pampeana'\n",
    ",'Santa Fe':'Central'\n",
    ",'Entre Ríos':'Mesopotamica'\n",
    ",'Córdoba':'Central'\n",
    ",'Misiones':'Mesopotamica'\n",
    ",'Salta':'Noroeste'\n",
    ",'Neuquén':'Patagonica'\n",
    ",'Río Negro':'Patagonica'\n",
    ",'San Luis':'Cuyo'\n",
    ",'Mendoza':'Cuyo'\n",
    ",'Corrientes':'Mesopotamica'\n",
    ",'Chubut':'Patagonica'\n",
    ",'Tucumán':'Noroeste'\n",
    ",'La Pampa':'Pampeana'\n",
    ",'Chaco':'Noreste'\n",
    ",'San Juan':'Cuyo'\n",
    ",'Santa Cruz':'Patagonica'\n",
    ",'Tierra Del Fuego':'Patagonica'\n",
    ",'Catamarca':'Noroeste'\n",
    ",'Santiago Del Estero':'Noroeste'\n",
    ",'Jujuy':'Noroeste'\n",
    ",'La Rioja':'Noroeste'\n",
    ",'Formosa':'Noreste'}"
   ]
  },
  {
   "cell_type": "code",
   "execution_count": 4,
   "metadata": {},
   "outputs": [
    {
     "data": {
      "text/plain": [
       "Pampeana        93604\n",
       "Central         22241\n",
       "Patagonica       1851\n",
       "Mesopotamica     1416\n",
       "Noroeste         1013\n",
       "Cuyo              973\n",
       "Noreste           122\n",
       "Name: region, dtype: int64"
      ]
     },
     "execution_count": 4,
     "metadata": {},
     "output_type": "execute_result"
    }
   ],
   "source": [
    "#data['regiones'] = data.state_name\\\n",
    "    #.apply(lambda state: regiones[state] if state in regiones.keys())\n",
    "    \n",
    "data['region'] = data.provincia.apply(lambda state: regiones[state] if state in regiones.keys() else np.NaN)\n",
    "data['region'].value_counts()"
   ]
  },
  {
   "cell_type": "markdown",
   "metadata": {},
   "source": [
    "### **Barrios Porteños y sub-distritos**"
   ]
  },
  {
   "cell_type": "code",
   "execution_count": 5,
   "metadata": {},
   "outputs": [
    {
     "data": {
      "text/plain": [
       "32316"
      ]
     },
     "execution_count": 5,
     "metadata": {},
     "output_type": "execute_result"
    }
   ],
   "source": [
    "# total de registros en 'Capital Federal'\n",
    "data.loc[data.state_name == 'Capital Federal','state_name'].count()"
   ]
  },
  {
   "cell_type": "code",
   "execution_count": 6,
   "metadata": {},
   "outputs": [
    {
     "name": "stdout",
     "output_type": "stream",
     "text": [
      "62\n"
     ]
    }
   ],
   "source": [
    "# DATA SET CON BARRIOS PORTEÑOS: barrios_zonas_capital\n",
    "\n",
    "# total de distritos de place_name incluidos en state_name == 'Capital Federal'\n",
    "\n",
    "lista_barrios = list(data.loc[data.state_name == 'Capital Federal','place_name'].unique())\n",
    "mask_barrios_zonas = data.loc[:,'place_name'].apply(lambda distrito: distrito in lista_barrios)\n",
    "\n",
    "print(len(lista_barrios))"
   ]
  },
  {
   "cell_type": "code",
   "execution_count": 7,
   "metadata": {},
   "outputs": [
    {
     "name": "stdout",
     "output_type": "stream",
     "text": [
      "32316 32316\n"
     ]
    }
   ],
   "source": [
    "barrios_zonas_capital = data.loc[(data.state_name == 'Capital Federal') & mask_barrios_zonas, :]\n",
    "\n",
    "print(barrios_zonas_capital.shape[0], data.loc[data.state_name == 'Capital Federal','place_name'].shape[0] )"
   ]
  },
  {
   "cell_type": "markdown",
   "metadata": {},
   "source": [
    "### **Capitales de Provincia** (excluída Capital Federal)"
   ]
  },
  {
   "cell_type": "code",
   "execution_count": 8,
   "metadata": {},
   "outputs": [
    {
     "data": {
      "text/plain": [
       "(23, False)"
      ]
     },
     "execution_count": 8,
     "metadata": {},
     "output_type": "execute_result"
    }
   ],
   "source": [
    "# lista de capitales, exluída capital federal\n",
    "\n",
    "capitales = ['La Plata','San Fernando del Valle de Catamarca','Resistencia','Rawson','Córdoba','Corrientes','Paraná','Formosa','San Salvador de Jujuy','Santa Rosa','La Rioja','Mendoza','Posadas','Neuquén','Viedma','Salta','San Juan','San Luis','Río Gallegos','Santa Fe','Santiago del Estero','Ushuaia','San Miguel de Tucumán']\n",
    "len(capitales), 'Capital Federal' in capitales"
   ]
  },
  {
   "cell_type": "code",
   "execution_count": 9,
   "metadata": {},
   "outputs": [
    {
     "data": {
      "text/html": [
       "<div>\n",
       "<style scoped>\n",
       "    .dataframe tbody tr th:only-of-type {\n",
       "        vertical-align: middle;\n",
       "    }\n",
       "\n",
       "    .dataframe tbody tr th {\n",
       "        vertical-align: top;\n",
       "    }\n",
       "\n",
       "    .dataframe thead th {\n",
       "        text-align: right;\n",
       "    }\n",
       "</style>\n",
       "<table border=\"1\" class=\"dataframe\">\n",
       "  <thead>\n",
       "    <tr style=\"text-align: right;\">\n",
       "      <th></th>\n",
       "      <th>Unnamed: 0</th>\n",
       "      <th>operation</th>\n",
       "      <th>property_type</th>\n",
       "      <th>place_name</th>\n",
       "      <th>place_with_parent_names</th>\n",
       "      <th>country_name</th>\n",
       "      <th>state_name</th>\n",
       "      <th>geonames_id</th>\n",
       "      <th>lat-lon</th>\n",
       "      <th>lat</th>\n",
       "      <th>...</th>\n",
       "      <th>price_per_m2</th>\n",
       "      <th>floor</th>\n",
       "      <th>rooms</th>\n",
       "      <th>expenses</th>\n",
       "      <th>properati_url</th>\n",
       "      <th>description</th>\n",
       "      <th>title</th>\n",
       "      <th>image_thumbnail</th>\n",
       "      <th>provincia</th>\n",
       "      <th>region</th>\n",
       "    </tr>\n",
       "  </thead>\n",
       "  <tbody>\n",
       "    <tr>\n",
       "      <th>1</th>\n",
       "      <td>1</td>\n",
       "      <td>sell</td>\n",
       "      <td>apartment</td>\n",
       "      <td>La Plata</td>\n",
       "      <td>|Argentina|Bs.As. G.B.A. Zona Sur|La Plata|</td>\n",
       "      <td>Argentina</td>\n",
       "      <td>Bs.As. G.B.A. Zona Sur</td>\n",
       "      <td>3432039.0</td>\n",
       "      <td>-34.9038831,-57.9643295</td>\n",
       "      <td>-34.903883</td>\n",
       "      <td>...</td>\n",
       "      <td>NaN</td>\n",
       "      <td>NaN</td>\n",
       "      <td>NaN</td>\n",
       "      <td>NaN</td>\n",
       "      <td>http://www.properati.com.ar/15bob_venta_depart...</td>\n",
       "      <td>Venta de departamento en décimo piso al frente...</td>\n",
       "      <td>VENTA Depto 2 dorm. a estrenar 7 e/ 36 y 37   ...</td>\n",
       "      <td>https://thumbs4.properati.com/7/ikpVBu2ztHA7jv...</td>\n",
       "      <td>Buenos Aires</td>\n",
       "      <td>Pampeana</td>\n",
       "    </tr>\n",
       "    <tr>\n",
       "      <th>10</th>\n",
       "      <td>10</td>\n",
       "      <td>sell</td>\n",
       "      <td>house</td>\n",
       "      <td>Córdoba</td>\n",
       "      <td>|Argentina|Córdoba|Córdoba|</td>\n",
       "      <td>Argentina</td>\n",
       "      <td>Córdoba</td>\n",
       "      <td>3860259.0</td>\n",
       "      <td>-31.4200833,-64.1887761</td>\n",
       "      <td>-31.420083</td>\n",
       "      <td>...</td>\n",
       "      <td>NaN</td>\n",
       "      <td>NaN</td>\n",
       "      <td>NaN</td>\n",
       "      <td>NaN</td>\n",
       "      <td>http://www.properati.com.ar/15boy_venta_casa_c...</td>\n",
       "      <td>Hermosa casa sin terminar de 3 dormitorios, ba...</td>\n",
       "      <td>Casa sin terminar en Falda de Cañete.         ...</td>\n",
       "      <td>https://thumbs4.properati.com/3/mQkhIxXpTTbMSc...</td>\n",
       "      <td>Córdoba</td>\n",
       "      <td>Central</td>\n",
       "    </tr>\n",
       "    <tr>\n",
       "      <th>32</th>\n",
       "      <td>32</td>\n",
       "      <td>sell</td>\n",
       "      <td>apartment</td>\n",
       "      <td>Córdoba</td>\n",
       "      <td>|Argentina|Córdoba|Córdoba|</td>\n",
       "      <td>Argentina</td>\n",
       "      <td>Córdoba</td>\n",
       "      <td>3860259.0</td>\n",
       "      <td>-31.4053736,-64.1562667</td>\n",
       "      <td>-31.405374</td>\n",
       "      <td>...</td>\n",
       "      <td>11000.0</td>\n",
       "      <td>NaN</td>\n",
       "      <td>3.0</td>\n",
       "      <td>NaN</td>\n",
       "      <td>http://www.properati.com.ar/15bry_venta_depart...</td>\n",
       "      <td>EN VENTA, departamento ubicado en barrio Pueyr...</td>\n",
       "      <td>Departamento apto crédito! Barrio Pueyrredon</td>\n",
       "      <td>https://thumbs4.properati.com/0/VUXj3pHJP7wl8p...</td>\n",
       "      <td>Córdoba</td>\n",
       "      <td>Central</td>\n",
       "    </tr>\n",
       "  </tbody>\n",
       "</table>\n",
       "<p>3 rows × 28 columns</p>\n",
       "</div>"
      ],
      "text/plain": [
       "    Unnamed: 0 operation property_type place_name  \\\n",
       "1            1      sell     apartment   La Plata   \n",
       "10          10      sell         house    Córdoba   \n",
       "32          32      sell     apartment    Córdoba   \n",
       "\n",
       "                        place_with_parent_names country_name  \\\n",
       "1   |Argentina|Bs.As. G.B.A. Zona Sur|La Plata|    Argentina   \n",
       "10                  |Argentina|Córdoba|Córdoba|    Argentina   \n",
       "32                  |Argentina|Córdoba|Córdoba|    Argentina   \n",
       "\n",
       "                state_name  geonames_id                  lat-lon        lat  \\\n",
       "1   Bs.As. G.B.A. Zona Sur    3432039.0  -34.9038831,-57.9643295 -34.903883   \n",
       "10                 Córdoba    3860259.0  -31.4200833,-64.1887761 -31.420083   \n",
       "32                 Córdoba    3860259.0  -31.4053736,-64.1562667 -31.405374   \n",
       "\n",
       "    ...  price_per_m2  floor rooms  expenses  \\\n",
       "1   ...           NaN    NaN   NaN       NaN   \n",
       "10  ...           NaN    NaN   NaN       NaN   \n",
       "32  ...       11000.0    NaN   3.0       NaN   \n",
       "\n",
       "                                        properati_url  \\\n",
       "1   http://www.properati.com.ar/15bob_venta_depart...   \n",
       "10  http://www.properati.com.ar/15boy_venta_casa_c...   \n",
       "32  http://www.properati.com.ar/15bry_venta_depart...   \n",
       "\n",
       "                                          description  \\\n",
       "1   Venta de departamento en décimo piso al frente...   \n",
       "10  Hermosa casa sin terminar de 3 dormitorios, ba...   \n",
       "32  EN VENTA, departamento ubicado en barrio Pueyr...   \n",
       "\n",
       "                                                title  \\\n",
       "1   VENTA Depto 2 dorm. a estrenar 7 e/ 36 y 37   ...   \n",
       "10  Casa sin terminar en Falda de Cañete.         ...   \n",
       "32       Departamento apto crédito! Barrio Pueyrredon   \n",
       "\n",
       "                                      image_thumbnail     provincia    region  \n",
       "1   https://thumbs4.properati.com/7/ikpVBu2ztHA7jv...  Buenos Aires  Pampeana  \n",
       "10  https://thumbs4.properati.com/3/mQkhIxXpTTbMSc...       Córdoba   Central  \n",
       "32  https://thumbs4.properati.com/0/VUXj3pHJP7wl8p...       Córdoba   Central  \n",
       "\n",
       "[3 rows x 28 columns]"
      ]
     },
     "execution_count": 9,
     "metadata": {},
     "output_type": "execute_result"
    }
   ],
   "source": [
    "# DATA SET CON CAPITALES DE PROVINCIA: capitales_provincia\n",
    "\n",
    "# la máscara se hace con place_name (no con state_name)\n",
    "# para no confundir nombre de ciudad con nombre de provincia\n",
    "\n",
    "mascara_capitales = data.place_name.apply(lambda place: place in capitales)\n",
    "\n",
    "capitales_provincia = data.loc[mascara_capitales]\n",
    "\n",
    "capitales_provincia.head(3)"
   ]
  },
  {
   "cell_type": "markdown",
   "metadata": {},
   "source": [
    "### **Capitales + Capital**"
   ]
  },
  {
   "cell_type": "code",
   "execution_count": 10,
   "metadata": {},
   "outputs": [
    {
     "name": "stdout",
     "output_type": "stream",
     "text": [
      "24\n"
     ]
    }
   ],
   "source": [
    "import copy\n",
    "capitales_mas_capital = copy.deepcopy(capitales)\n",
    "\n",
    "capitales_mas_capital.insert(0,'Capital Federal')\n",
    "\n",
    "print(len(capitales_mas_capital))"
   ]
  },
  {
   "cell_type": "markdown",
   "metadata": {},
   "source": [
    "### **Interior Provincial** (provincias sin capitales)"
   ]
  },
  {
   "cell_type": "code",
   "execution_count": 11,
   "metadata": {},
   "outputs": [],
   "source": [
    "# nueva lista de capitales con 'Capital Federal' para luego\n",
    "# excluir del DF barrios porteños\n",
    "\n",
    "mascara_interior_provincial = data.place_name\\\n",
    "    .apply(lambda place: place not in capitales_mas_capital)"
   ]
  },
  {
   "cell_type": "code",
   "execution_count": 12,
   "metadata": {},
   "outputs": [
    {
     "data": {
      "text/html": [
       "<div>\n",
       "<style scoped>\n",
       "    .dataframe tbody tr th:only-of-type {\n",
       "        vertical-align: middle;\n",
       "    }\n",
       "\n",
       "    .dataframe tbody tr th {\n",
       "        vertical-align: top;\n",
       "    }\n",
       "\n",
       "    .dataframe thead th {\n",
       "        text-align: right;\n",
       "    }\n",
       "</style>\n",
       "<table border=\"1\" class=\"dataframe\">\n",
       "  <thead>\n",
       "    <tr style=\"text-align: right;\">\n",
       "      <th></th>\n",
       "      <th>place_name</th>\n",
       "      <th>place_with_parent_names</th>\n",
       "      <th>state_name</th>\n",
       "    </tr>\n",
       "  </thead>\n",
       "  <tbody>\n",
       "    <tr>\n",
       "      <th>4</th>\n",
       "      <td>Centro</td>\n",
       "      <td>|Argentina|Buenos Aires Costa Atlántica|Mar de...</td>\n",
       "      <td>Buenos Aires Costa Atlántica</td>\n",
       "    </tr>\n",
       "    <tr>\n",
       "      <th>5</th>\n",
       "      <td>Gualeguaychú</td>\n",
       "      <td>|Argentina|Entre Ríos|Gualeguaychú|</td>\n",
       "      <td>Entre Ríos</td>\n",
       "    </tr>\n",
       "    <tr>\n",
       "      <th>6</th>\n",
       "      <td>Munro</td>\n",
       "      <td>|Argentina|Bs.As. G.B.A. Zona Norte|Vicente Ló...</td>\n",
       "      <td>Bs.As. G.B.A. Zona Norte</td>\n",
       "    </tr>\n",
       "    <tr>\n",
       "      <th>9</th>\n",
       "      <td>Rosario</td>\n",
       "      <td>|Argentina|Santa Fe|Rosario|</td>\n",
       "      <td>Santa Fe</td>\n",
       "    </tr>\n",
       "    <tr>\n",
       "      <th>11</th>\n",
       "      <td>San Miguel</td>\n",
       "      <td>|Argentina|Bs.As. G.B.A. Zona Norte|San Miguel|</td>\n",
       "      <td>Bs.As. G.B.A. Zona Norte</td>\n",
       "    </tr>\n",
       "  </tbody>\n",
       "</table>\n",
       "</div>"
      ],
      "text/plain": [
       "      place_name                            place_with_parent_names  \\\n",
       "4         Centro  |Argentina|Buenos Aires Costa Atlántica|Mar de...   \n",
       "5   Gualeguaychú                |Argentina|Entre Ríos|Gualeguaychú|   \n",
       "6          Munro  |Argentina|Bs.As. G.B.A. Zona Norte|Vicente Ló...   \n",
       "9        Rosario                       |Argentina|Santa Fe|Rosario|   \n",
       "11    San Miguel    |Argentina|Bs.As. G.B.A. Zona Norte|San Miguel|   \n",
       "\n",
       "                      state_name  \n",
       "4   Buenos Aires Costa Atlántica  \n",
       "5                     Entre Ríos  \n",
       "6       Bs.As. G.B.A. Zona Norte  \n",
       "9                       Santa Fe  \n",
       "11      Bs.As. G.B.A. Zona Norte  "
      ]
     },
     "execution_count": 12,
     "metadata": {},
     "output_type": "execute_result"
    }
   ],
   "source": [
    "# DATA SET CON MUNICIPIOS/DEPARTAMENTOS DE PROVINCIA: interior_provincial\n",
    "\n",
    "# excluyo a los place name que no se corresponden a las capitales\n",
    "# de provincia, más los place name incluidos en \"Capital Federal\"\n",
    "\n",
    "interior_provincial = data.loc[(data.state_name != 'Capital Federal') & mascara_interior_provincial,]\n",
    "\n",
    "interior_provincial.loc[:,['place_name','place_with_parent_names','state_name']].head()"
   ]
  },
  {
   "cell_type": "markdown",
   "metadata": {},
   "source": [
    "### Interior de Buenos Aires"
   ]
  },
  {
   "cell_type": "code",
   "execution_count": 13,
   "metadata": {},
   "outputs": [
    {
     "data": {
      "text/plain": [
       "648"
      ]
     },
     "execution_count": 13,
     "metadata": {},
     "output_type": "execute_result"
    }
   ],
   "source": [
    "interior_bsas = data.loc[(data.provincia == 'Buenos Aires'), 'place_name']\n",
    "len(interior_bsas.unique())"
   ]
  },
  {
   "cell_type": "markdown",
   "metadata": {},
   "source": [
    "### **Conteo de nulos por distrito**\n",
    "#### (columnas: price, price_aprox_usd, surface_total_in_m2, surface_covered_in_m2)"
   ]
  },
  {
   "cell_type": "code",
   "execution_count": 14,
   "metadata": {},
   "outputs": [
    {
     "name": "stdout",
     "output_type": "stream",
     "text": [
      "Precios/monedas:\n",
      "0.16837980531265467\n",
      "0.1683715558488698\n",
      "0.1683715558488698\n",
      "0.1683715558488698 \n",
      "\n",
      "Superficies:\n",
      "0.3244349117307375\n",
      "0.16422207556508828\n",
      "0.6090579112357697 \n",
      "\n",
      "Superficies + precios:\n",
      "0.43394654347467415\n"
     ]
    }
   ],
   "source": [
    "# NULOS TOTALES\n",
    "\n",
    "# porcentual de nulos totales en columnas de precio\n",
    "print('Precios/monedas:')\n",
    "print(data.currency.isnull().sum()/ data.shape[0])\n",
    "print(data.price.isnull().sum() / data.shape[0])\n",
    "print(data.price_aprox_local_currency.isnull().sum() / data.shape[0])\n",
    "print(data.price_aprox_usd.isnull().sum() / data.shape[0],'\\n')\n",
    "\n",
    "# porcentual de nulos totales en columnas de superficie\n",
    "print('Superficies:')\n",
    "print(data.surface_total_in_m2.isnull().sum() / data.shape[0])\n",
    "print(data.surface_covered_in_m2.isnull().sum() / data.shape[0])\n",
    "print(data.rooms.isnull().sum() / data.shape[0],'\\n')\n",
    "\n",
    "# porcentual de nulos totales en columna price_usd_per_m2\n",
    "print('Superficies + precios:')\n",
    "print(data.price_usd_per_m2.isnull().sum() / data.shape[0])"
   ]
  },
  {
   "cell_type": "code",
   "execution_count": 15,
   "metadata": {},
   "outputs": [
    {
     "name": "stderr",
     "output_type": "stream",
     "text": [
      "C:\\Users\\Foolface\\.conda\\envs\\dh\\lib\\site-packages\\ipykernel_launcher.py:3: FutureWarning: Indexing with multiple keys (implicitly converted to a tuple of keys) will be deprecated, use a list instead.\n",
      "  This is separate from the ipykernel package so we can avoid doing imports until\n"
     ]
    },
    {
     "data": {
      "text/html": [
       "<div>\n",
       "<style scoped>\n",
       "    .dataframe tbody tr th:only-of-type {\n",
       "        vertical-align: middle;\n",
       "    }\n",
       "\n",
       "    .dataframe tbody tr th {\n",
       "        vertical-align: top;\n",
       "    }\n",
       "\n",
       "    .dataframe thead th {\n",
       "        text-align: right;\n",
       "    }\n",
       "</style>\n",
       "<table border=\"1\" class=\"dataframe\">\n",
       "  <thead>\n",
       "    <tr style=\"text-align: right;\">\n",
       "      <th></th>\n",
       "      <th>price_aprox_usd</th>\n",
       "      <th>surface_covered_in_m2</th>\n",
       "    </tr>\n",
       "    <tr>\n",
       "      <th>provincia</th>\n",
       "      <th></th>\n",
       "      <th></th>\n",
       "    </tr>\n",
       "  </thead>\n",
       "  <tbody>\n",
       "    <tr>\n",
       "      <th>Tierra Del Fuego</th>\n",
       "      <td>100.000000</td>\n",
       "      <td>83.870968</td>\n",
       "    </tr>\n",
       "    <tr>\n",
       "      <th>Catamarca</th>\n",
       "      <td>96.296296</td>\n",
       "      <td>77.777778</td>\n",
       "    </tr>\n",
       "    <tr>\n",
       "      <th>Santa Cruz</th>\n",
       "      <td>95.000000</td>\n",
       "      <td>50.000000</td>\n",
       "    </tr>\n",
       "    <tr>\n",
       "      <th>Capital Federal</th>\n",
       "      <td>89.794529</td>\n",
       "      <td>92.762099</td>\n",
       "    </tr>\n",
       "    <tr>\n",
       "      <th>Buenos Aires</th>\n",
       "      <td>88.905792</td>\n",
       "      <td>85.035416</td>\n",
       "    </tr>\n",
       "    <tr>\n",
       "      <th>San Luis</th>\n",
       "      <td>82.539683</td>\n",
       "      <td>73.412698</td>\n",
       "    </tr>\n",
       "    <tr>\n",
       "      <th>Corrientes</th>\n",
       "      <td>80.617496</td>\n",
       "      <td>87.478559</td>\n",
       "    </tr>\n",
       "    <tr>\n",
       "      <th>Santiago Del Estero</th>\n",
       "      <td>75.000000</td>\n",
       "      <td>100.000000</td>\n",
       "    </tr>\n",
       "    <tr>\n",
       "      <th>Misiones</th>\n",
       "      <td>75.000000</td>\n",
       "      <td>55.387931</td>\n",
       "    </tr>\n",
       "    <tr>\n",
       "      <th>Córdoba</th>\n",
       "      <td>74.886072</td>\n",
       "      <td>71.314939</td>\n",
       "    </tr>\n",
       "    <tr>\n",
       "      <th>Mendoza</th>\n",
       "      <td>69.897210</td>\n",
       "      <td>71.365639</td>\n",
       "    </tr>\n",
       "    <tr>\n",
       "      <th>Chubut</th>\n",
       "      <td>63.320463</td>\n",
       "      <td>41.312741</td>\n",
       "    </tr>\n",
       "    <tr>\n",
       "      <th>Chaco</th>\n",
       "      <td>63.157895</td>\n",
       "      <td>57.894737</td>\n",
       "    </tr>\n",
       "    <tr>\n",
       "      <th>Santa Fe</th>\n",
       "      <td>53.214707</td>\n",
       "      <td>72.522611</td>\n",
       "    </tr>\n",
       "    <tr>\n",
       "      <th>La Rioja</th>\n",
       "      <td>50.000000</td>\n",
       "      <td>50.000000</td>\n",
       "    </tr>\n",
       "    <tr>\n",
       "      <th>Río Negro</th>\n",
       "      <td>44.678218</td>\n",
       "      <td>58.168317</td>\n",
       "    </tr>\n",
       "    <tr>\n",
       "      <th>Formosa</th>\n",
       "      <td>44.615385</td>\n",
       "      <td>0.000000</td>\n",
       "    </tr>\n",
       "    <tr>\n",
       "      <th>Neuquén</th>\n",
       "      <td>44.201910</td>\n",
       "      <td>70.804911</td>\n",
       "    </tr>\n",
       "    <tr>\n",
       "      <th>Jujuy</th>\n",
       "      <td>38.461538</td>\n",
       "      <td>38.461538</td>\n",
       "    </tr>\n",
       "    <tr>\n",
       "      <th>Salta</th>\n",
       "      <td>36.690647</td>\n",
       "      <td>35.251799</td>\n",
       "    </tr>\n",
       "    <tr>\n",
       "      <th>Entre Ríos</th>\n",
       "      <td>35.230352</td>\n",
       "      <td>69.105691</td>\n",
       "    </tr>\n",
       "    <tr>\n",
       "      <th>Tucumán</th>\n",
       "      <td>31.602374</td>\n",
       "      <td>42.433234</td>\n",
       "    </tr>\n",
       "    <tr>\n",
       "      <th>La Pampa</th>\n",
       "      <td>22.929936</td>\n",
       "      <td>50.318471</td>\n",
       "    </tr>\n",
       "    <tr>\n",
       "      <th>San Juan</th>\n",
       "      <td>10.000000</td>\n",
       "      <td>27.500000</td>\n",
       "    </tr>\n",
       "  </tbody>\n",
       "</table>\n",
       "</div>"
      ],
      "text/plain": [
       "                     price_aprox_usd  surface_covered_in_m2\n",
       "provincia                                                  \n",
       "Tierra Del Fuego          100.000000              83.870968\n",
       "Catamarca                  96.296296              77.777778\n",
       "Santa Cruz                 95.000000              50.000000\n",
       "Capital Federal            89.794529              92.762099\n",
       "Buenos Aires               88.905792              85.035416\n",
       "San Luis                   82.539683              73.412698\n",
       "Corrientes                 80.617496              87.478559\n",
       "Santiago Del Estero        75.000000             100.000000\n",
       "Misiones                   75.000000              55.387931\n",
       "Córdoba                    74.886072              71.314939\n",
       "Mendoza                    69.897210              71.365639\n",
       "Chubut                     63.320463              41.312741\n",
       "Chaco                      63.157895              57.894737\n",
       "Santa Fe                   53.214707              72.522611\n",
       "La Rioja                   50.000000              50.000000\n",
       "Río Negro                  44.678218              58.168317\n",
       "Formosa                    44.615385               0.000000\n",
       "Neuquén                    44.201910              70.804911\n",
       "Jujuy                      38.461538              38.461538\n",
       "Salta                      36.690647              35.251799\n",
       "Entre Ríos                 35.230352              69.105691\n",
       "Tucumán                    31.602374              42.433234\n",
       "La Pampa                   22.929936              50.318471\n",
       "San Juan                   10.000000              27.500000"
      ]
     },
     "execution_count": 15,
     "metadata": {},
     "output_type": "execute_result"
    }
   ],
   "source": [
    "# Porcentual de datos cargados en 'price' por distrito: provincia\n",
    "\n",
    "data.groupby('provincia')['price_aprox_usd','surface_covered_in_m2']\\\n",
    "    .apply(lambda x: 100 * x.notnull().sum() / len(x))\\\n",
    "    .sort_values(by='price_aprox_usd', ascending=False)"
   ]
  },
  {
   "cell_type": "code",
   "execution_count": 16,
   "metadata": {},
   "outputs": [
    {
     "name": "stderr",
     "output_type": "stream",
     "text": [
      "C:\\Users\\Foolface\\.conda\\envs\\dh\\lib\\site-packages\\ipykernel_launcher.py:3: FutureWarning: Indexing with multiple keys (implicitly converted to a tuple of keys) will be deprecated, use a list instead.\n",
      "  This is separate from the ipykernel package so we can avoid doing imports until\n"
     ]
    },
    {
     "data": {
      "text/html": [
       "<div>\n",
       "<style scoped>\n",
       "    .dataframe tbody tr th:only-of-type {\n",
       "        vertical-align: middle;\n",
       "    }\n",
       "\n",
       "    .dataframe tbody tr th {\n",
       "        vertical-align: top;\n",
       "    }\n",
       "\n",
       "    .dataframe thead th {\n",
       "        text-align: right;\n",
       "    }\n",
       "</style>\n",
       "<table border=\"1\" class=\"dataframe\">\n",
       "  <thead>\n",
       "    <tr style=\"text-align: right;\">\n",
       "      <th></th>\n",
       "      <th>price_aprox_usd</th>\n",
       "      <th>surface_covered_in_m2</th>\n",
       "    </tr>\n",
       "    <tr>\n",
       "      <th>place_name</th>\n",
       "      <th></th>\n",
       "      <th></th>\n",
       "    </tr>\n",
       "  </thead>\n",
       "  <tbody>\n",
       "    <tr>\n",
       "      <th>Río Gallegos</th>\n",
       "      <td>100.000000</td>\n",
       "      <td>0.000000</td>\n",
       "    </tr>\n",
       "    <tr>\n",
       "      <th>Ushuaia</th>\n",
       "      <td>100.000000</td>\n",
       "      <td>62.500000</td>\n",
       "    </tr>\n",
       "    <tr>\n",
       "      <th>San Luis</th>\n",
       "      <td>94.252874</td>\n",
       "      <td>59.770115</td>\n",
       "    </tr>\n",
       "    <tr>\n",
       "      <th>Viedma</th>\n",
       "      <td>81.818182</td>\n",
       "      <td>63.636364</td>\n",
       "    </tr>\n",
       "    <tr>\n",
       "      <th>Corrientes</th>\n",
       "      <td>80.000000</td>\n",
       "      <td>60.000000</td>\n",
       "    </tr>\n",
       "    <tr>\n",
       "      <th>Córdoba</th>\n",
       "      <td>74.735250</td>\n",
       "      <td>70.596499</td>\n",
       "    </tr>\n",
       "    <tr>\n",
       "      <th>Posadas</th>\n",
       "      <td>70.684932</td>\n",
       "      <td>58.356164</td>\n",
       "    </tr>\n",
       "    <tr>\n",
       "      <th>La Rioja</th>\n",
       "      <td>66.666667</td>\n",
       "      <td>66.666667</td>\n",
       "    </tr>\n",
       "    <tr>\n",
       "      <th>La Plata</th>\n",
       "      <td>66.416732</td>\n",
       "      <td>76.440410</td>\n",
       "    </tr>\n",
       "    <tr>\n",
       "      <th>Mendoza</th>\n",
       "      <td>64.628821</td>\n",
       "      <td>68.995633</td>\n",
       "    </tr>\n",
       "    <tr>\n",
       "      <th>Neuquén</th>\n",
       "      <td>57.000000</td>\n",
       "      <td>77.000000</td>\n",
       "    </tr>\n",
       "    <tr>\n",
       "      <th>Resistencia</th>\n",
       "      <td>51.351351</td>\n",
       "      <td>48.648649</td>\n",
       "    </tr>\n",
       "    <tr>\n",
       "      <th>San Fernando del Valle de Catamarca</th>\n",
       "      <td>50.000000</td>\n",
       "      <td>0.000000</td>\n",
       "    </tr>\n",
       "    <tr>\n",
       "      <th>San Juan</th>\n",
       "      <td>47.058824</td>\n",
       "      <td>58.823529</td>\n",
       "    </tr>\n",
       "    <tr>\n",
       "      <th>Santa Fe</th>\n",
       "      <td>45.859873</td>\n",
       "      <td>56.210191</td>\n",
       "    </tr>\n",
       "    <tr>\n",
       "      <th>Formosa</th>\n",
       "      <td>44.615385</td>\n",
       "      <td>0.000000</td>\n",
       "    </tr>\n",
       "    <tr>\n",
       "      <th>Paraná</th>\n",
       "      <td>40.972222</td>\n",
       "      <td>65.277778</td>\n",
       "    </tr>\n",
       "    <tr>\n",
       "      <th>Salta</th>\n",
       "      <td>35.950413</td>\n",
       "      <td>34.710744</td>\n",
       "    </tr>\n",
       "    <tr>\n",
       "      <th>San Miguel de Tucumán</th>\n",
       "      <td>35.911602</td>\n",
       "      <td>48.342541</td>\n",
       "    </tr>\n",
       "    <tr>\n",
       "      <th>Santa Rosa</th>\n",
       "      <td>34.146341</td>\n",
       "      <td>32.926829</td>\n",
       "    </tr>\n",
       "    <tr>\n",
       "      <th>San Salvador de Jujuy</th>\n",
       "      <td>33.333333</td>\n",
       "      <td>33.333333</td>\n",
       "    </tr>\n",
       "    <tr>\n",
       "      <th>Rawson</th>\n",
       "      <td>12.500000</td>\n",
       "      <td>62.500000</td>\n",
       "    </tr>\n",
       "  </tbody>\n",
       "</table>\n",
       "</div>"
      ],
      "text/plain": [
       "                                     price_aprox_usd  surface_covered_in_m2\n",
       "place_name                                                                 \n",
       "Río Gallegos                              100.000000               0.000000\n",
       "Ushuaia                                   100.000000              62.500000\n",
       "San Luis                                   94.252874              59.770115\n",
       "Viedma                                     81.818182              63.636364\n",
       "Corrientes                                 80.000000              60.000000\n",
       "Córdoba                                    74.735250              70.596499\n",
       "Posadas                                    70.684932              58.356164\n",
       "La Rioja                                   66.666667              66.666667\n",
       "La Plata                                   66.416732              76.440410\n",
       "Mendoza                                    64.628821              68.995633\n",
       "Neuquén                                    57.000000              77.000000\n",
       "Resistencia                                51.351351              48.648649\n",
       "San Fernando del Valle de Catamarca        50.000000               0.000000\n",
       "San Juan                                   47.058824              58.823529\n",
       "Santa Fe                                   45.859873              56.210191\n",
       "Formosa                                    44.615385               0.000000\n",
       "Paraná                                     40.972222              65.277778\n",
       "Salta                                      35.950413              34.710744\n",
       "San Miguel de Tucumán                      35.911602              48.342541\n",
       "Santa Rosa                                 34.146341              32.926829\n",
       "San Salvador de Jujuy                      33.333333              33.333333\n",
       "Rawson                                     12.500000              62.500000"
      ]
     },
     "execution_count": 16,
     "metadata": {},
     "output_type": "execute_result"
    }
   ],
   "source": [
    "# Porcentual de datos cargados en 'price' por distrito: capitales de provincia\n",
    "\n",
    "capitales_provincia.groupby('place_name')['price_aprox_usd','surface_covered_in_m2']\\\n",
    "    .apply(lambda x: 100 * x.notnull().sum() / len(x))\\\n",
    "    .sort_values(by='price_aprox_usd', ascending=False)"
   ]
  },
  {
   "cell_type": "code",
   "execution_count": 17,
   "metadata": {},
   "outputs": [
    {
     "name": "stderr",
     "output_type": "stream",
     "text": [
      "C:\\Users\\Foolface\\.conda\\envs\\dh\\lib\\site-packages\\ipykernel_launcher.py:3: FutureWarning: Indexing with multiple keys (implicitly converted to a tuple of keys) will be deprecated, use a list instead.\n",
      "  This is separate from the ipykernel package so we can avoid doing imports until\n"
     ]
    },
    {
     "data": {
      "text/html": [
       "<div>\n",
       "<style scoped>\n",
       "    .dataframe tbody tr th:only-of-type {\n",
       "        vertical-align: middle;\n",
       "    }\n",
       "\n",
       "    .dataframe tbody tr th {\n",
       "        vertical-align: top;\n",
       "    }\n",
       "\n",
       "    .dataframe thead th {\n",
       "        text-align: right;\n",
       "    }\n",
       "</style>\n",
       "<table border=\"1\" class=\"dataframe\">\n",
       "  <thead>\n",
       "    <tr style=\"text-align: right;\">\n",
       "      <th></th>\n",
       "      <th>price_aprox_usd</th>\n",
       "      <th>surface_covered_in_m2</th>\n",
       "    </tr>\n",
       "    <tr>\n",
       "      <th>place_name</th>\n",
       "      <th></th>\n",
       "      <th></th>\n",
       "    </tr>\n",
       "  </thead>\n",
       "  <tbody>\n",
       "    <tr>\n",
       "      <th>Palermo Viejo</th>\n",
       "      <td>100.000000</td>\n",
       "      <td>100.000000</td>\n",
       "    </tr>\n",
       "    <tr>\n",
       "      <th>Villa Soldati</th>\n",
       "      <td>100.000000</td>\n",
       "      <td>93.333333</td>\n",
       "    </tr>\n",
       "    <tr>\n",
       "      <th>Villa General Mitre</th>\n",
       "      <td>100.000000</td>\n",
       "      <td>97.916667</td>\n",
       "    </tr>\n",
       "    <tr>\n",
       "      <th>Parque Chas</th>\n",
       "      <td>100.000000</td>\n",
       "      <td>97.727273</td>\n",
       "    </tr>\n",
       "    <tr>\n",
       "      <th>Villa Real</th>\n",
       "      <td>100.000000</td>\n",
       "      <td>100.000000</td>\n",
       "    </tr>\n",
       "    <tr>\n",
       "      <th>...</th>\n",
       "      <td>...</td>\n",
       "      <td>...</td>\n",
       "    </tr>\n",
       "    <tr>\n",
       "      <th>Palermo Chico</th>\n",
       "      <td>82.327586</td>\n",
       "      <td>96.551724</td>\n",
       "    </tr>\n",
       "    <tr>\n",
       "      <th>Once</th>\n",
       "      <td>82.323232</td>\n",
       "      <td>80.808081</td>\n",
       "    </tr>\n",
       "    <tr>\n",
       "      <th>Palermo Soho</th>\n",
       "      <td>81.472081</td>\n",
       "      <td>91.370558</td>\n",
       "    </tr>\n",
       "    <tr>\n",
       "      <th>Capital Federal</th>\n",
       "      <td>73.862760</td>\n",
       "      <td>71.010023</td>\n",
       "    </tr>\n",
       "    <tr>\n",
       "      <th>Catalinas</th>\n",
       "      <td>50.000000</td>\n",
       "      <td>100.000000</td>\n",
       "    </tr>\n",
       "  </tbody>\n",
       "</table>\n",
       "<p>62 rows × 2 columns</p>\n",
       "</div>"
      ],
      "text/plain": [
       "                     price_aprox_usd  surface_covered_in_m2\n",
       "place_name                                                 \n",
       "Palermo Viejo             100.000000             100.000000\n",
       "Villa Soldati             100.000000              93.333333\n",
       "Villa General Mitre       100.000000              97.916667\n",
       "Parque Chas               100.000000              97.727273\n",
       "Villa Real                100.000000             100.000000\n",
       "...                              ...                    ...\n",
       "Palermo Chico              82.327586              96.551724\n",
       "Once                       82.323232              80.808081\n",
       "Palermo Soho               81.472081              91.370558\n",
       "Capital Federal            73.862760              71.010023\n",
       "Catalinas                  50.000000             100.000000\n",
       "\n",
       "[62 rows x 2 columns]"
      ]
     },
     "execution_count": 17,
     "metadata": {},
     "output_type": "execute_result"
    }
   ],
   "source": [
    "# Porcentual de datos cargados en 'price' por distrito: barrios\n",
    "\n",
    "barrios_zonas_capital.groupby('place_name')['price_aprox_usd','surface_covered_in_m2']\\\n",
    "    .apply(lambda x: 100 * x.notnull().sum() / len(x))\\\n",
    "    .sort_values(by='price_aprox_usd', ascending=False)"
   ]
  },
  {
   "cell_type": "code",
   "execution_count": 18,
   "metadata": {},
   "outputs": [
    {
     "name": "stderr",
     "output_type": "stream",
     "text": [
      "C:\\Users\\Foolface\\.conda\\envs\\dh\\lib\\site-packages\\ipykernel_launcher.py:3: FutureWarning: Indexing with multiple keys (implicitly converted to a tuple of keys) will be deprecated, use a list instead.\n",
      "  This is separate from the ipykernel package so we can avoid doing imports until\n"
     ]
    },
    {
     "data": {
      "text/html": [
       "<div>\n",
       "<style scoped>\n",
       "    .dataframe tbody tr th:only-of-type {\n",
       "        vertical-align: middle;\n",
       "    }\n",
       "\n",
       "    .dataframe tbody tr th {\n",
       "        vertical-align: top;\n",
       "    }\n",
       "\n",
       "    .dataframe thead th {\n",
       "        text-align: right;\n",
       "    }\n",
       "</style>\n",
       "<table border=\"1\" class=\"dataframe\">\n",
       "  <thead>\n",
       "    <tr style=\"text-align: right;\">\n",
       "      <th></th>\n",
       "      <th>price_aprox_usd</th>\n",
       "      <th>surface_covered_in_m2</th>\n",
       "    </tr>\n",
       "    <tr>\n",
       "      <th>region</th>\n",
       "      <th></th>\n",
       "      <th></th>\n",
       "    </tr>\n",
       "  </thead>\n",
       "  <tbody>\n",
       "    <tr>\n",
       "      <th>Pampeana</th>\n",
       "      <td>89.101961</td>\n",
       "      <td>87.644759</td>\n",
       "    </tr>\n",
       "    <tr>\n",
       "      <th>Cuyo</th>\n",
       "      <td>70.709147</td>\n",
       "      <td>70.092497</td>\n",
       "    </tr>\n",
       "    <tr>\n",
       "      <th>Mesopotamica</th>\n",
       "      <td>66.949153</td>\n",
       "      <td>72.175141</td>\n",
       "    </tr>\n",
       "    <tr>\n",
       "      <th>Central</th>\n",
       "      <td>64.974596</td>\n",
       "      <td>71.867272</td>\n",
       "    </tr>\n",
       "    <tr>\n",
       "      <th>Noreste</th>\n",
       "      <td>53.278689</td>\n",
       "      <td>27.049180</td>\n",
       "    </tr>\n",
       "    <tr>\n",
       "      <th>Patagonica</th>\n",
       "      <td>48.568341</td>\n",
       "      <td>61.156132</td>\n",
       "    </tr>\n",
       "    <tr>\n",
       "      <th>Noroeste</th>\n",
       "      <td>35.143139</td>\n",
       "      <td>41.559724</td>\n",
       "    </tr>\n",
       "  </tbody>\n",
       "</table>\n",
       "</div>"
      ],
      "text/plain": [
       "              price_aprox_usd  surface_covered_in_m2\n",
       "region                                              \n",
       "Pampeana            89.101961              87.644759\n",
       "Cuyo                70.709147              70.092497\n",
       "Mesopotamica        66.949153              72.175141\n",
       "Central             64.974596              71.867272\n",
       "Noreste             53.278689              27.049180\n",
       "Patagonica          48.568341              61.156132\n",
       "Noroeste            35.143139              41.559724"
      ]
     },
     "execution_count": 18,
     "metadata": {},
     "output_type": "execute_result"
    }
   ],
   "source": [
    "# Porcentual de datos cargados en price por distrito: region\n",
    "\n",
    "data.groupby('region')['price_aprox_usd','surface_covered_in_m2']\\\n",
    "    .apply(lambda x: 100 * x.notnull().sum() / len(x))\\\n",
    "    .sort_values(by='price_aprox_usd', ascending=False)"
   ]
  },
  {
   "cell_type": "markdown",
   "metadata": {},
   "source": [
    "### **Completitud por cuartiles**\n",
    "#### Según distrito"
   ]
  },
  {
   "cell_type": "code",
   "execution_count": 19,
   "metadata": {},
   "outputs": [
    {
     "data": {
      "text/plain": [
       "provincia\n",
       "Tierra Del Fuego        (81.098, 100.0]\n",
       "Catamarca               (81.098, 100.0]\n",
       "Santa Cruz              (81.098, 100.0]\n",
       "Capital Federal         (81.098, 100.0]\n",
       "Buenos Aires            (81.098, 100.0]\n",
       "San Luis                (81.098, 100.0]\n",
       "Corrientes             (63.239, 81.098]\n",
       "Santiago Del Estero    (63.239, 81.098]\n",
       "Misiones               (63.239, 81.098]\n",
       "Córdoba                (63.239, 81.098]\n",
       "Mendoza                (63.239, 81.098]\n",
       "Chubut                 (63.239, 81.098]\n",
       "Chaco                  (42.767, 63.239]\n",
       "Santa Fe               (42.767, 63.239]\n",
       "La Rioja               (42.767, 63.239]\n",
       "Río Negro              (42.767, 63.239]\n",
       "Formosa                (42.767, 63.239]\n",
       "Neuquén                (42.767, 63.239]\n",
       "Jujuy                   (9.999, 42.767]\n",
       "Salta                   (9.999, 42.767]\n",
       "Entre Ríos              (9.999, 42.767]\n",
       "Tucumán                 (9.999, 42.767]\n",
       "La Pampa                (9.999, 42.767]\n",
       "San Juan                (9.999, 42.767]\n",
       "Name: price_aprox_usd, dtype: category\n",
       "Categories (4, interval[float64]): [(9.999, 42.767] < (42.767, 63.239] < (63.239, 81.098] < (81.098, 100.0]]"
      ]
     },
     "execution_count": 19,
     "metadata": {},
     "output_type": "execute_result"
    }
   ],
   "source": [
    "# Completitud en precios por provincia\n",
    "\n",
    "precios_provincia = data.groupby('provincia')['price_aprox_usd']\\\n",
    "    .apply(lambda x: 100 * x.notnull().sum() / len(x))\\\n",
    "    .sort_values(ascending=False)\n",
    "\n",
    "pd.qcut(precios_provincia,4)"
   ]
  },
  {
   "cell_type": "code",
   "execution_count": 20,
   "metadata": {},
   "outputs": [
    {
     "data": {
      "text/plain": [
       "place_name\n",
       "Villa General Mitre     (96.129, 100.0]\n",
       "Villa Real              (96.129, 100.0]\n",
       "Palermo Viejo           (96.129, 100.0]\n",
       "Parque Chas             (96.129, 100.0]\n",
       "Villa Soldati           (96.129, 100.0]\n",
       "                             ...       \n",
       "Palermo Chico          (49.999, 89.633]\n",
       "Once                   (49.999, 89.633]\n",
       "Palermo Soho           (49.999, 89.633]\n",
       "Capital Federal        (49.999, 89.633]\n",
       "Catalinas              (49.999, 89.633]\n",
       "Name: price_aprox_usd, Length: 62, dtype: category\n",
       "Categories (4, interval[float64]): [(49.999, 89.633] < (89.633, 94.278] < (94.278, 96.129] < (96.129, 100.0]]"
      ]
     },
     "execution_count": 20,
     "metadata": {},
     "output_type": "execute_result"
    }
   ],
   "source": [
    "# Completitud en precios por barrios porteños\n",
    "\n",
    "precios_barrios = barrios_zonas_capital.groupby('place_name')['price_aprox_usd']\\\n",
    "    .apply(lambda x: 100 * x.notnull().sum() / len(x))\\\n",
    "    .sort_values(ascending=False)\n",
    "\n",
    "pd.qcut(precios_barrios,4)"
   ]
  },
  {
   "cell_type": "code",
   "execution_count": 21,
   "metadata": {},
   "outputs": [
    {
     "data": {
      "text/plain": [
       "place_name\n",
       "Ushuaia                                 (73.723, 100.0]\n",
       "Río Gallegos                            (73.723, 100.0]\n",
       "San Luis                                (73.723, 100.0]\n",
       "Viedma                                  (73.723, 100.0]\n",
       "Corrientes                              (73.723, 100.0]\n",
       "Córdoba                                 (73.723, 100.0]\n",
       "Posadas                                (54.176, 73.723]\n",
       "La Rioja                               (54.176, 73.723]\n",
       "La Plata                               (54.176, 73.723]\n",
       "Mendoza                                (54.176, 73.723]\n",
       "Neuquén                                (54.176, 73.723]\n",
       "Resistencia                            (41.883, 54.176]\n",
       "San Fernando del Valle de Catamarca    (41.883, 54.176]\n",
       "San Juan                               (41.883, 54.176]\n",
       "Santa Fe                               (41.883, 54.176]\n",
       "Formosa                                (41.883, 54.176]\n",
       "Paraná                                 (12.499, 41.883]\n",
       "Salta                                  (12.499, 41.883]\n",
       "San Miguel de Tucumán                  (12.499, 41.883]\n",
       "Santa Rosa                             (12.499, 41.883]\n",
       "San Salvador de Jujuy                  (12.499, 41.883]\n",
       "Rawson                                 (12.499, 41.883]\n",
       "Name: price_aprox_usd, dtype: category\n",
       "Categories (4, interval[float64]): [(12.499, 41.883] < (41.883, 54.176] < (54.176, 73.723] < (73.723, 100.0]]"
      ]
     },
     "execution_count": 21,
     "metadata": {},
     "output_type": "execute_result"
    }
   ],
   "source": [
    "# Porcentual de datos cargados en 'price' por distrito: capitales de provincia\n",
    "\n",
    "precios_capitales_provincia = capitales_provincia.groupby('place_name')['price_aprox_usd']\\\n",
    "    .apply(lambda x: 100 * x.notnull().sum() / len(x))\\\n",
    "    .sort_values(ascending=False)\n",
    "\n",
    "pd.qcut(precios_capitales_provincia,4)"
   ]
  },
  {
   "cell_type": "markdown",
   "metadata": {},
   "source": [
    "### **Precios y Distritos**"
   ]
  },
  {
   "cell_type": "code",
   "execution_count": 22,
   "metadata": {},
   "outputs": [
    {
     "data": {
      "text/html": [
       "<div>\n",
       "<style scoped>\n",
       "    .dataframe tbody tr th:only-of-type {\n",
       "        vertical-align: middle;\n",
       "    }\n",
       "\n",
       "    .dataframe tbody tr th {\n",
       "        vertical-align: top;\n",
       "    }\n",
       "\n",
       "    .dataframe thead th {\n",
       "        text-align: right;\n",
       "    }\n",
       "</style>\n",
       "<table border=\"1\" class=\"dataframe\">\n",
       "  <thead>\n",
       "    <tr style=\"text-align: right;\">\n",
       "      <th></th>\n",
       "      <th>count</th>\n",
       "      <th>mean</th>\n",
       "      <th>std</th>\n",
       "      <th>min</th>\n",
       "      <th>25%</th>\n",
       "      <th>50%</th>\n",
       "      <th>75%</th>\n",
       "      <th>max</th>\n",
       "    </tr>\n",
       "    <tr>\n",
       "      <th>place_name</th>\n",
       "      <th></th>\n",
       "      <th></th>\n",
       "      <th></th>\n",
       "      <th></th>\n",
       "      <th></th>\n",
       "      <th></th>\n",
       "      <th></th>\n",
       "      <th></th>\n",
       "    </tr>\n",
       "  </thead>\n",
       "  <tbody>\n",
       "    <tr>\n",
       "      <th>Puerto Madero</th>\n",
       "      <td>553.0</td>\n",
       "      <td>890788.01</td>\n",
       "      <td>684833.77</td>\n",
       "      <td>169000.00</td>\n",
       "      <td>390000.00</td>\n",
       "      <td>690000.00</td>\n",
       "      <td>1222000.00</td>\n",
       "      <td>4500000.0</td>\n",
       "    </tr>\n",
       "    <tr>\n",
       "      <th>Palermo Chico</th>\n",
       "      <td>172.0</td>\n",
       "      <td>880346.16</td>\n",
       "      <td>1080612.90</td>\n",
       "      <td>82500.00</td>\n",
       "      <td>345000.00</td>\n",
       "      <td>640000.00</td>\n",
       "      <td>952500.00</td>\n",
       "      <td>8500000.0</td>\n",
       "    </tr>\n",
       "    <tr>\n",
       "      <th>Catalinas</th>\n",
       "      <td>1.0</td>\n",
       "      <td>550000.00</td>\n",
       "      <td>NaN</td>\n",
       "      <td>550000.00</td>\n",
       "      <td>550000.00</td>\n",
       "      <td>550000.00</td>\n",
       "      <td>550000.00</td>\n",
       "      <td>550000.0</td>\n",
       "    </tr>\n",
       "    <tr>\n",
       "      <th>Recoleta</th>\n",
       "      <td>1329.0</td>\n",
       "      <td>398242.85</td>\n",
       "      <td>359684.46</td>\n",
       "      <td>28874.75</td>\n",
       "      <td>168948.00</td>\n",
       "      <td>295000.00</td>\n",
       "      <td>500000.00</td>\n",
       "      <td>3200000.0</td>\n",
       "    </tr>\n",
       "    <tr>\n",
       "      <th>San Cristobal</th>\n",
       "      <td>493.0</td>\n",
       "      <td>375677.03</td>\n",
       "      <td>346974.22</td>\n",
       "      <td>35000.00</td>\n",
       "      <td>92000.00</td>\n",
       "      <td>160000.00</td>\n",
       "      <td>800450.00</td>\n",
       "      <td>988721.0</td>\n",
       "    </tr>\n",
       "    <tr>\n",
       "      <th>Palermo Viejo</th>\n",
       "      <td>28.0</td>\n",
       "      <td>366473.77</td>\n",
       "      <td>276358.97</td>\n",
       "      <td>75000.00</td>\n",
       "      <td>124558.56</td>\n",
       "      <td>290000.00</td>\n",
       "      <td>502500.00</td>\n",
       "      <td>1050000.0</td>\n",
       "    </tr>\n",
       "    <tr>\n",
       "      <th>Boedo</th>\n",
       "      <td>764.0</td>\n",
       "      <td>362447.07</td>\n",
       "      <td>429226.67</td>\n",
       "      <td>30100.00</td>\n",
       "      <td>80367.90</td>\n",
       "      <td>243894.92</td>\n",
       "      <td>590225.00</td>\n",
       "      <td>6809000.0</td>\n",
       "    </tr>\n",
       "    <tr>\n",
       "      <th>Retiro</th>\n",
       "      <td>202.0</td>\n",
       "      <td>359212.61</td>\n",
       "      <td>345260.13</td>\n",
       "      <td>54000.00</td>\n",
       "      <td>130750.00</td>\n",
       "      <td>225000.00</td>\n",
       "      <td>478549.97</td>\n",
       "      <td>2200000.0</td>\n",
       "    </tr>\n",
       "    <tr>\n",
       "      <th>Nuñez</th>\n",
       "      <td>620.0</td>\n",
       "      <td>345815.48</td>\n",
       "      <td>623742.78</td>\n",
       "      <td>23000.00</td>\n",
       "      <td>135925.00</td>\n",
       "      <td>180000.00</td>\n",
       "      <td>290000.00</td>\n",
       "      <td>6000000.0</td>\n",
       "    </tr>\n",
       "    <tr>\n",
       "      <th>Las Cañitas</th>\n",
       "      <td>127.0</td>\n",
       "      <td>331226.92</td>\n",
       "      <td>222346.38</td>\n",
       "      <td>50000.00</td>\n",
       "      <td>164500.00</td>\n",
       "      <td>260000.00</td>\n",
       "      <td>480000.00</td>\n",
       "      <td>1200000.0</td>\n",
       "    </tr>\n",
       "  </tbody>\n",
       "</table>\n",
       "</div>"
      ],
      "text/plain": [
       "                count       mean         std        min        25%        50%  \\\n",
       "place_name                                                                      \n",
       "Puerto Madero   553.0  890788.01   684833.77  169000.00  390000.00  690000.00   \n",
       "Palermo Chico   172.0  880346.16  1080612.90   82500.00  345000.00  640000.00   \n",
       "Catalinas         1.0  550000.00         NaN  550000.00  550000.00  550000.00   \n",
       "Recoleta       1329.0  398242.85   359684.46   28874.75  168948.00  295000.00   \n",
       "San Cristobal   493.0  375677.03   346974.22   35000.00   92000.00  160000.00   \n",
       "Palermo Viejo    28.0  366473.77   276358.97   75000.00  124558.56  290000.00   \n",
       "Boedo           764.0  362447.07   429226.67   30100.00   80367.90  243894.92   \n",
       "Retiro          202.0  359212.61   345260.13   54000.00  130750.00  225000.00   \n",
       "Nuñez           620.0  345815.48   623742.78   23000.00  135925.00  180000.00   \n",
       "Las Cañitas     127.0  331226.92   222346.38   50000.00  164500.00  260000.00   \n",
       "\n",
       "                      75%        max  \n",
       "place_name                            \n",
       "Puerto Madero  1222000.00  4500000.0  \n",
       "Palermo Chico   952500.00  8500000.0  \n",
       "Catalinas       550000.00   550000.0  \n",
       "Recoleta        500000.00  3200000.0  \n",
       "San Cristobal   800450.00   988721.0  \n",
       "Palermo Viejo   502500.00  1050000.0  \n",
       "Boedo           590225.00  6809000.0  \n",
       "Retiro          478549.97  2200000.0  \n",
       "Nuñez           290000.00  6000000.0  \n",
       "Las Cañitas     480000.00  1200000.0  "
      ]
     },
     "execution_count": 22,
     "metadata": {},
     "output_type": "execute_result"
    }
   ],
   "source": [
    "# media de precios de departamento por barrio\n",
    "\n",
    "barrios_zonas_capital_dptos = barrios_zonas_capital.loc[data.property_type == 'apartment',:]\n",
    "\n",
    "np.around(barrios_zonas_capital_dptos.groupby('place_name')['price_aprox_usd'].describe(),2).sort_values(by='mean',ascending=False).head(10)"
   ]
  },
  {
   "cell_type": "code",
   "execution_count": 23,
   "metadata": {},
   "outputs": [
    {
     "data": {
      "text/html": [
       "<div>\n",
       "<style scoped>\n",
       "    .dataframe tbody tr th:only-of-type {\n",
       "        vertical-align: middle;\n",
       "    }\n",
       "\n",
       "    .dataframe tbody tr th {\n",
       "        vertical-align: top;\n",
       "    }\n",
       "\n",
       "    .dataframe thead th {\n",
       "        text-align: right;\n",
       "    }\n",
       "</style>\n",
       "<table border=\"1\" class=\"dataframe\">\n",
       "  <thead>\n",
       "    <tr style=\"text-align: right;\">\n",
       "      <th></th>\n",
       "      <th>count</th>\n",
       "      <th>mean</th>\n",
       "      <th>std</th>\n",
       "      <th>min</th>\n",
       "      <th>25%</th>\n",
       "      <th>50%</th>\n",
       "      <th>75%</th>\n",
       "      <th>max</th>\n",
       "    </tr>\n",
       "    <tr>\n",
       "      <th>provincia</th>\n",
       "      <th></th>\n",
       "      <th></th>\n",
       "      <th></th>\n",
       "      <th></th>\n",
       "      <th></th>\n",
       "      <th></th>\n",
       "      <th></th>\n",
       "      <th></th>\n",
       "    </tr>\n",
       "  </thead>\n",
       "  <tbody>\n",
       "    <tr>\n",
       "      <th>Catamarca</th>\n",
       "      <td>12.0</td>\n",
       "      <td>1203333.33</td>\n",
       "      <td>363076.08</td>\n",
       "      <td>340000.00</td>\n",
       "      <td>1100000.00</td>\n",
       "      <td>1245000.00</td>\n",
       "      <td>1500000.00</td>\n",
       "      <td>1500000.0</td>\n",
       "    </tr>\n",
       "    <tr>\n",
       "      <th>San Juan</th>\n",
       "      <td>2.0</td>\n",
       "      <td>347671.12</td>\n",
       "      <td>356846.92</td>\n",
       "      <td>95342.25</td>\n",
       "      <td>221506.69</td>\n",
       "      <td>347671.12</td>\n",
       "      <td>473835.56</td>\n",
       "      <td>600000.0</td>\n",
       "    </tr>\n",
       "    <tr>\n",
       "      <th>Capital Federal</th>\n",
       "      <td>24154.0</td>\n",
       "      <td>245346.92</td>\n",
       "      <td>439774.43</td>\n",
       "      <td>5103.61</td>\n",
       "      <td>99012.50</td>\n",
       "      <td>145000.00</td>\n",
       "      <td>250000.00</td>\n",
       "      <td>46545445.0</td>\n",
       "    </tr>\n",
       "    <tr>\n",
       "      <th>Río Negro</th>\n",
       "      <td>151.0</td>\n",
       "      <td>200226.99</td>\n",
       "      <td>169673.12</td>\n",
       "      <td>16825.10</td>\n",
       "      <td>82100.00</td>\n",
       "      <td>128000.00</td>\n",
       "      <td>305377.50</td>\n",
       "      <td>800000.0</td>\n",
       "    </tr>\n",
       "    <tr>\n",
       "      <th>Salta</th>\n",
       "      <td>54.0</td>\n",
       "      <td>197347.72</td>\n",
       "      <td>539987.89</td>\n",
       "      <td>29163.51</td>\n",
       "      <td>49582.92</td>\n",
       "      <td>65943.46</td>\n",
       "      <td>99690.24</td>\n",
       "      <td>2850000.0</td>\n",
       "    </tr>\n",
       "    <tr>\n",
       "      <th>Chubut</th>\n",
       "      <td>23.0</td>\n",
       "      <td>162502.74</td>\n",
       "      <td>69225.98</td>\n",
       "      <td>25798.49</td>\n",
       "      <td>116083.68</td>\n",
       "      <td>160000.00</td>\n",
       "      <td>185000.00</td>\n",
       "      <td>315000.0</td>\n",
       "    </tr>\n",
       "    <tr>\n",
       "      <th>Corrientes</th>\n",
       "      <td>134.0</td>\n",
       "      <td>157638.35</td>\n",
       "      <td>106705.60</td>\n",
       "      <td>32000.00</td>\n",
       "      <td>100217.50</td>\n",
       "      <td>120000.00</td>\n",
       "      <td>195000.00</td>\n",
       "      <td>900000.0</td>\n",
       "    </tr>\n",
       "    <tr>\n",
       "      <th>San Luis</th>\n",
       "      <td>34.0</td>\n",
       "      <td>154421.27</td>\n",
       "      <td>279449.81</td>\n",
       "      <td>56083.67</td>\n",
       "      <td>73531.38</td>\n",
       "      <td>99678.64</td>\n",
       "      <td>113541.84</td>\n",
       "      <td>1700000.0</td>\n",
       "    </tr>\n",
       "    <tr>\n",
       "      <th>Buenos Aires</th>\n",
       "      <td>24605.0</td>\n",
       "      <td>153085.47</td>\n",
       "      <td>147402.73</td>\n",
       "      <td>5000.00</td>\n",
       "      <td>78000.00</td>\n",
       "      <td>115000.00</td>\n",
       "      <td>176116.00</td>\n",
       "      <td>2550000.0</td>\n",
       "    </tr>\n",
       "    <tr>\n",
       "      <th>Córdoba</th>\n",
       "      <td>5321.0</td>\n",
       "      <td>139766.62</td>\n",
       "      <td>223966.84</td>\n",
       "      <td>5047.53</td>\n",
       "      <td>63618.07</td>\n",
       "      <td>84027.70</td>\n",
       "      <td>115000.00</td>\n",
       "      <td>3200000.0</td>\n",
       "    </tr>\n",
       "  </tbody>\n",
       "</table>\n",
       "</div>"
      ],
      "text/plain": [
       "                   count        mean        std        min         25%  \\\n",
       "provincia                                                                \n",
       "Catamarca           12.0  1203333.33  363076.08  340000.00  1100000.00   \n",
       "San Juan             2.0   347671.12  356846.92   95342.25   221506.69   \n",
       "Capital Federal  24154.0   245346.92  439774.43    5103.61    99012.50   \n",
       "Río Negro          151.0   200226.99  169673.12   16825.10    82100.00   \n",
       "Salta               54.0   197347.72  539987.89   29163.51    49582.92   \n",
       "Chubut              23.0   162502.74   69225.98   25798.49   116083.68   \n",
       "Corrientes         134.0   157638.35  106705.60   32000.00   100217.50   \n",
       "San Luis            34.0   154421.27  279449.81   56083.67    73531.38   \n",
       "Buenos Aires     24605.0   153085.47  147402.73    5000.00    78000.00   \n",
       "Córdoba           5321.0   139766.62  223966.84    5047.53    63618.07   \n",
       "\n",
       "                        50%         75%         max  \n",
       "provincia                                            \n",
       "Catamarca        1245000.00  1500000.00   1500000.0  \n",
       "San Juan          347671.12   473835.56    600000.0  \n",
       "Capital Federal   145000.00   250000.00  46545445.0  \n",
       "Río Negro         128000.00   305377.50    800000.0  \n",
       "Salta              65943.46    99690.24   2850000.0  \n",
       "Chubut            160000.00   185000.00    315000.0  \n",
       "Corrientes        120000.00   195000.00    900000.0  \n",
       "San Luis           99678.64   113541.84   1700000.0  \n",
       "Buenos Aires      115000.00   176116.00   2550000.0  \n",
       "Córdoba            84027.70   115000.00   3200000.0  "
      ]
     },
     "execution_count": 23,
     "metadata": {},
     "output_type": "execute_result"
    }
   ],
   "source": [
    "# media de precios de departamento por provincia\n",
    "\n",
    "provincias_dptos = data.loc[data.property_type == 'apartment',:]\n",
    "\n",
    "np.around(provincias_dptos.groupby('provincia')['price_aprox_usd'].describe(),2).sort_values(by='mean',ascending=False).head(10)"
   ]
  },
  {
   "cell_type": "code",
   "execution_count": 24,
   "metadata": {},
   "outputs": [
    {
     "data": {
      "text/html": [
       "<div>\n",
       "<style scoped>\n",
       "    .dataframe tbody tr th:only-of-type {\n",
       "        vertical-align: middle;\n",
       "    }\n",
       "\n",
       "    .dataframe tbody tr th {\n",
       "        vertical-align: top;\n",
       "    }\n",
       "\n",
       "    .dataframe thead th {\n",
       "        text-align: right;\n",
       "    }\n",
       "</style>\n",
       "<table border=\"1\" class=\"dataframe\">\n",
       "  <thead>\n",
       "    <tr style=\"text-align: right;\">\n",
       "      <th></th>\n",
       "      <th>count</th>\n",
       "      <th>mean</th>\n",
       "      <th>std</th>\n",
       "      <th>min</th>\n",
       "      <th>25%</th>\n",
       "      <th>50%</th>\n",
       "      <th>75%</th>\n",
       "      <th>max</th>\n",
       "    </tr>\n",
       "    <tr>\n",
       "      <th>place_name</th>\n",
       "      <th></th>\n",
       "      <th></th>\n",
       "      <th></th>\n",
       "      <th></th>\n",
       "      <th></th>\n",
       "      <th></th>\n",
       "      <th></th>\n",
       "      <th></th>\n",
       "    </tr>\n",
       "  </thead>\n",
       "  <tbody>\n",
       "    <tr>\n",
       "      <th>Corrientes</th>\n",
       "      <td>3.0</td>\n",
       "      <td>380000.00</td>\n",
       "      <td>52915.03</td>\n",
       "      <td>320000.00</td>\n",
       "      <td>360000.00</td>\n",
       "      <td>400000.00</td>\n",
       "      <td>410000.00</td>\n",
       "      <td>420000.00</td>\n",
       "    </tr>\n",
       "    <tr>\n",
       "      <th>Salta</th>\n",
       "      <td>51.0</td>\n",
       "      <td>204855.12</td>\n",
       "      <td>554976.28</td>\n",
       "      <td>29163.51</td>\n",
       "      <td>49300.63</td>\n",
       "      <td>67390.70</td>\n",
       "      <td>98429.88</td>\n",
       "      <td>2850000.00</td>\n",
       "    </tr>\n",
       "    <tr>\n",
       "      <th>Ushuaia</th>\n",
       "      <td>5.0</td>\n",
       "      <td>176107.61</td>\n",
       "      <td>79243.04</td>\n",
       "      <td>92538.06</td>\n",
       "      <td>118000.00</td>\n",
       "      <td>150000.00</td>\n",
       "      <td>260000.00</td>\n",
       "      <td>260000.00</td>\n",
       "    </tr>\n",
       "    <tr>\n",
       "      <th>San Miguel de Tucumán</th>\n",
       "      <td>107.0</td>\n",
       "      <td>154633.01</td>\n",
       "      <td>363645.73</td>\n",
       "      <td>16719.77</td>\n",
       "      <td>70665.43</td>\n",
       "      <td>88976.75</td>\n",
       "      <td>115812.79</td>\n",
       "      <td>3300000.00</td>\n",
       "    </tr>\n",
       "    <tr>\n",
       "      <th>San Luis</th>\n",
       "      <td>28.0</td>\n",
       "      <td>153436.44</td>\n",
       "      <td>303668.44</td>\n",
       "      <td>66402.00</td>\n",
       "      <td>84781.38</td>\n",
       "      <td>99678.64</td>\n",
       "      <td>112500.00</td>\n",
       "      <td>1700000.00</td>\n",
       "    </tr>\n",
       "    <tr>\n",
       "      <th>Mendoza</th>\n",
       "      <td>76.0</td>\n",
       "      <td>149762.79</td>\n",
       "      <td>210331.75</td>\n",
       "      <td>33650.20</td>\n",
       "      <td>61692.04</td>\n",
       "      <td>75712.96</td>\n",
       "      <td>132500.00</td>\n",
       "      <td>1200000.00</td>\n",
       "    </tr>\n",
       "    <tr>\n",
       "      <th>Córdoba</th>\n",
       "      <td>4758.0</td>\n",
       "      <td>143553.69</td>\n",
       "      <td>233709.10</td>\n",
       "      <td>5047.53</td>\n",
       "      <td>62757.63</td>\n",
       "      <td>83256.22</td>\n",
       "      <td>115000.00</td>\n",
       "      <td>3200000.00</td>\n",
       "    </tr>\n",
       "    <tr>\n",
       "      <th>Neuquén</th>\n",
       "      <td>43.0</td>\n",
       "      <td>131071.83</td>\n",
       "      <td>75204.00</td>\n",
       "      <td>50475.30</td>\n",
       "      <td>81321.33</td>\n",
       "      <td>110000.00</td>\n",
       "      <td>150000.00</td>\n",
       "      <td>384397.52</td>\n",
       "    </tr>\n",
       "    <tr>\n",
       "      <th>Resistencia</th>\n",
       "      <td>7.0</td>\n",
       "      <td>119363.62</td>\n",
       "      <td>109528.24</td>\n",
       "      <td>28041.83</td>\n",
       "      <td>48512.38</td>\n",
       "      <td>70104.59</td>\n",
       "      <td>162687.10</td>\n",
       "      <td>315000.00</td>\n",
       "    </tr>\n",
       "    <tr>\n",
       "      <th>La Plata</th>\n",
       "      <td>1041.0</td>\n",
       "      <td>113908.19</td>\n",
       "      <td>72408.37</td>\n",
       "      <td>7851.71</td>\n",
       "      <td>70000.00</td>\n",
       "      <td>90000.00</td>\n",
       "      <td>130160.00</td>\n",
       "      <td>660000.00</td>\n",
       "    </tr>\n",
       "    <tr>\n",
       "      <th>Posadas</th>\n",
       "      <td>95.0</td>\n",
       "      <td>92128.87</td>\n",
       "      <td>51848.16</td>\n",
       "      <td>33650.20</td>\n",
       "      <td>49073.21</td>\n",
       "      <td>81321.33</td>\n",
       "      <td>112167.35</td>\n",
       "      <td>284865.53</td>\n",
       "    </tr>\n",
       "    <tr>\n",
       "      <th>Viedma</th>\n",
       "      <td>2.0</td>\n",
       "      <td>85000.00</td>\n",
       "      <td>0.00</td>\n",
       "      <td>85000.00</td>\n",
       "      <td>85000.00</td>\n",
       "      <td>85000.00</td>\n",
       "      <td>85000.00</td>\n",
       "      <td>85000.00</td>\n",
       "    </tr>\n",
       "    <tr>\n",
       "      <th>San Juan</th>\n",
       "      <td>2.0</td>\n",
       "      <td>81171.12</td>\n",
       "      <td>20041.00</td>\n",
       "      <td>67000.00</td>\n",
       "      <td>74085.56</td>\n",
       "      <td>81171.12</td>\n",
       "      <td>88256.69</td>\n",
       "      <td>95342.25</td>\n",
       "    </tr>\n",
       "    <tr>\n",
       "      <th>Santa Rosa</th>\n",
       "      <td>13.0</td>\n",
       "      <td>75500.60</td>\n",
       "      <td>26782.59</td>\n",
       "      <td>28041.83</td>\n",
       "      <td>53279.49</td>\n",
       "      <td>78517.14</td>\n",
       "      <td>95342.25</td>\n",
       "      <td>115000.00</td>\n",
       "    </tr>\n",
       "    <tr>\n",
       "      <th>Santa Fe</th>\n",
       "      <td>188.0</td>\n",
       "      <td>74729.77</td>\n",
       "      <td>71336.75</td>\n",
       "      <td>6231.51</td>\n",
       "      <td>49353.63</td>\n",
       "      <td>67300.41</td>\n",
       "      <td>84125.51</td>\n",
       "      <td>841255.15</td>\n",
       "    </tr>\n",
       "    <tr>\n",
       "      <th>San Salvador de Jujuy</th>\n",
       "      <td>2.0</td>\n",
       "      <td>65898.32</td>\n",
       "      <td>25777.15</td>\n",
       "      <td>47671.12</td>\n",
       "      <td>56784.72</td>\n",
       "      <td>65898.32</td>\n",
       "      <td>75011.91</td>\n",
       "      <td>84125.51</td>\n",
       "    </tr>\n",
       "    <tr>\n",
       "      <th>Paraná</th>\n",
       "      <td>26.0</td>\n",
       "      <td>64981.01</td>\n",
       "      <td>28893.38</td>\n",
       "      <td>28041.83</td>\n",
       "      <td>44025.68</td>\n",
       "      <td>55242.42</td>\n",
       "      <td>82723.42</td>\n",
       "      <td>145817.55</td>\n",
       "    </tr>\n",
       "    <tr>\n",
       "      <th>Formosa</th>\n",
       "      <td>29.0</td>\n",
       "      <td>63463.37</td>\n",
       "      <td>31645.11</td>\n",
       "      <td>49953.50</td>\n",
       "      <td>49953.50</td>\n",
       "      <td>49953.50</td>\n",
       "      <td>58131.06</td>\n",
       "      <td>151266.59</td>\n",
       "    </tr>\n",
       "    <tr>\n",
       "      <th>La Rioja</th>\n",
       "      <td>0.0</td>\n",
       "      <td>NaN</td>\n",
       "      <td>NaN</td>\n",
       "      <td>NaN</td>\n",
       "      <td>NaN</td>\n",
       "      <td>NaN</td>\n",
       "      <td>NaN</td>\n",
       "      <td>NaN</td>\n",
       "    </tr>\n",
       "    <tr>\n",
       "      <th>Rawson</th>\n",
       "      <td>0.0</td>\n",
       "      <td>NaN</td>\n",
       "      <td>NaN</td>\n",
       "      <td>NaN</td>\n",
       "      <td>NaN</td>\n",
       "      <td>NaN</td>\n",
       "      <td>NaN</td>\n",
       "      <td>NaN</td>\n",
       "    </tr>\n",
       "  </tbody>\n",
       "</table>\n",
       "</div>"
      ],
      "text/plain": [
       "                        count       mean        std        min        25%  \\\n",
       "place_name                                                                  \n",
       "Corrientes                3.0  380000.00   52915.03  320000.00  360000.00   \n",
       "Salta                    51.0  204855.12  554976.28   29163.51   49300.63   \n",
       "Ushuaia                   5.0  176107.61   79243.04   92538.06  118000.00   \n",
       "San Miguel de Tucumán   107.0  154633.01  363645.73   16719.77   70665.43   \n",
       "San Luis                 28.0  153436.44  303668.44   66402.00   84781.38   \n",
       "Mendoza                  76.0  149762.79  210331.75   33650.20   61692.04   \n",
       "Córdoba                4758.0  143553.69  233709.10    5047.53   62757.63   \n",
       "Neuquén                  43.0  131071.83   75204.00   50475.30   81321.33   \n",
       "Resistencia               7.0  119363.62  109528.24   28041.83   48512.38   \n",
       "La Plata               1041.0  113908.19   72408.37    7851.71   70000.00   \n",
       "Posadas                  95.0   92128.87   51848.16   33650.20   49073.21   \n",
       "Viedma                    2.0   85000.00       0.00   85000.00   85000.00   \n",
       "San Juan                  2.0   81171.12   20041.00   67000.00   74085.56   \n",
       "Santa Rosa               13.0   75500.60   26782.59   28041.83   53279.49   \n",
       "Santa Fe                188.0   74729.77   71336.75    6231.51   49353.63   \n",
       "San Salvador de Jujuy     2.0   65898.32   25777.15   47671.12   56784.72   \n",
       "Paraná                   26.0   64981.01   28893.38   28041.83   44025.68   \n",
       "Formosa                  29.0   63463.37   31645.11   49953.50   49953.50   \n",
       "La Rioja                  0.0        NaN        NaN        NaN        NaN   \n",
       "Rawson                    0.0        NaN        NaN        NaN        NaN   \n",
       "\n",
       "                             50%        75%         max  \n",
       "place_name                                               \n",
       "Corrientes             400000.00  410000.00   420000.00  \n",
       "Salta                   67390.70   98429.88  2850000.00  \n",
       "Ushuaia                150000.00  260000.00   260000.00  \n",
       "San Miguel de Tucumán   88976.75  115812.79  3300000.00  \n",
       "San Luis                99678.64  112500.00  1700000.00  \n",
       "Mendoza                 75712.96  132500.00  1200000.00  \n",
       "Córdoba                 83256.22  115000.00  3200000.00  \n",
       "Neuquén                110000.00  150000.00   384397.52  \n",
       "Resistencia             70104.59  162687.10   315000.00  \n",
       "La Plata                90000.00  130160.00   660000.00  \n",
       "Posadas                 81321.33  112167.35   284865.53  \n",
       "Viedma                  85000.00   85000.00    85000.00  \n",
       "San Juan                81171.12   88256.69    95342.25  \n",
       "Santa Rosa              78517.14   95342.25   115000.00  \n",
       "Santa Fe                67300.41   84125.51   841255.15  \n",
       "San Salvador de Jujuy   65898.32   75011.91    84125.51  \n",
       "Paraná                  55242.42   82723.42   145817.55  \n",
       "Formosa                 49953.50   58131.06   151266.59  \n",
       "La Rioja                     NaN        NaN         NaN  \n",
       "Rawson                       NaN        NaN         NaN  "
      ]
     },
     "execution_count": 24,
     "metadata": {},
     "output_type": "execute_result"
    }
   ],
   "source": [
    "# media de precios de departamentos en capitales de provincia (sin capital)\n",
    "\n",
    "capitales_provincia_dptos = capitales_provincia.loc[data.property_type == 'apartment',:]\n",
    "\n",
    "np.around(capitales_provincia_dptos.groupby('place_name')['price_aprox_usd'].describe(),2).sort_values(by='mean', ascending=False)"
   ]
  },
  {
   "cell_type": "code",
   "execution_count": 25,
   "metadata": {},
   "outputs": [
    {
     "data": {
      "text/html": [
       "<div>\n",
       "<style scoped>\n",
       "    .dataframe tbody tr th:only-of-type {\n",
       "        vertical-align: middle;\n",
       "    }\n",
       "\n",
       "    .dataframe tbody tr th {\n",
       "        vertical-align: top;\n",
       "    }\n",
       "\n",
       "    .dataframe thead th {\n",
       "        text-align: right;\n",
       "    }\n",
       "</style>\n",
       "<table border=\"1\" class=\"dataframe\">\n",
       "  <thead>\n",
       "    <tr style=\"text-align: right;\">\n",
       "      <th></th>\n",
       "      <th>count</th>\n",
       "      <th>mean</th>\n",
       "      <th>std</th>\n",
       "      <th>min</th>\n",
       "      <th>25%</th>\n",
       "      <th>50%</th>\n",
       "      <th>75%</th>\n",
       "      <th>max</th>\n",
       "    </tr>\n",
       "    <tr>\n",
       "      <th>place_name</th>\n",
       "      <th></th>\n",
       "      <th></th>\n",
       "      <th></th>\n",
       "      <th></th>\n",
       "      <th></th>\n",
       "      <th></th>\n",
       "      <th></th>\n",
       "      <th></th>\n",
       "    </tr>\n",
       "  </thead>\n",
       "  <tbody>\n",
       "    <tr>\n",
       "      <th>Mar del Plata</th>\n",
       "      <td>4181.0</td>\n",
       "      <td>111156.62</td>\n",
       "      <td>79719.78</td>\n",
       "      <td>9253.80</td>\n",
       "      <td>63935.39</td>\n",
       "      <td>85900.00</td>\n",
       "      <td>130000.00</td>\n",
       "      <td>1489000.0</td>\n",
       "    </tr>\n",
       "    <tr>\n",
       "      <th>Rosario</th>\n",
       "      <td>4140.0</td>\n",
       "      <td>130493.60</td>\n",
       "      <td>261753.87</td>\n",
       "      <td>4666.62</td>\n",
       "      <td>58887.86</td>\n",
       "      <td>75712.96</td>\n",
       "      <td>109924.00</td>\n",
       "      <td>4376078.0</td>\n",
       "    </tr>\n",
       "    <tr>\n",
       "      <th>Nordelta</th>\n",
       "      <td>1858.0</td>\n",
       "      <td>228157.22</td>\n",
       "      <td>117850.47</td>\n",
       "      <td>12843.16</td>\n",
       "      <td>151200.00</td>\n",
       "      <td>195000.00</td>\n",
       "      <td>271357.37</td>\n",
       "      <td>850000.0</td>\n",
       "    </tr>\n",
       "    <tr>\n",
       "      <th>Tigre</th>\n",
       "      <td>1322.0</td>\n",
       "      <td>169193.75</td>\n",
       "      <td>96813.04</td>\n",
       "      <td>7466.60</td>\n",
       "      <td>116350.00</td>\n",
       "      <td>135700.00</td>\n",
       "      <td>176825.00</td>\n",
       "      <td>1350000.0</td>\n",
       "    </tr>\n",
       "    <tr>\n",
       "      <th>Olivos</th>\n",
       "      <td>1010.0</td>\n",
       "      <td>269821.53</td>\n",
       "      <td>205355.67</td>\n",
       "      <td>66000.00</td>\n",
       "      <td>152050.00</td>\n",
       "      <td>225000.00</td>\n",
       "      <td>293450.00</td>\n",
       "      <td>2500000.0</td>\n",
       "    </tr>\n",
       "    <tr>\n",
       "      <th>Lomas de Zamora</th>\n",
       "      <td>778.0</td>\n",
       "      <td>143340.97</td>\n",
       "      <td>109944.01</td>\n",
       "      <td>17946.77</td>\n",
       "      <td>85000.00</td>\n",
       "      <td>110000.00</td>\n",
       "      <td>150000.00</td>\n",
       "      <td>1200000.0</td>\n",
       "    </tr>\n",
       "    <tr>\n",
       "      <th>Pilar</th>\n",
       "      <td>746.0</td>\n",
       "      <td>132965.13</td>\n",
       "      <td>74464.78</td>\n",
       "      <td>23000.00</td>\n",
       "      <td>80094.22</td>\n",
       "      <td>119000.00</td>\n",
       "      <td>168539.39</td>\n",
       "      <td>820000.0</td>\n",
       "    </tr>\n",
       "    <tr>\n",
       "      <th>Morón</th>\n",
       "      <td>694.0</td>\n",
       "      <td>160609.50</td>\n",
       "      <td>291229.69</td>\n",
       "      <td>20000.00</td>\n",
       "      <td>63000.00</td>\n",
       "      <td>77000.00</td>\n",
       "      <td>90000.00</td>\n",
       "      <td>2124000.0</td>\n",
       "    </tr>\n",
       "    <tr>\n",
       "      <th>Ramos Mejía</th>\n",
       "      <td>573.0</td>\n",
       "      <td>124210.08</td>\n",
       "      <td>114256.21</td>\n",
       "      <td>5159.69</td>\n",
       "      <td>77500.00</td>\n",
       "      <td>92000.00</td>\n",
       "      <td>130000.00</td>\n",
       "      <td>1750000.0</td>\n",
       "    </tr>\n",
       "    <tr>\n",
       "      <th>San Isidro</th>\n",
       "      <td>497.0</td>\n",
       "      <td>246774.29</td>\n",
       "      <td>155410.52</td>\n",
       "      <td>60000.00</td>\n",
       "      <td>148000.00</td>\n",
       "      <td>198000.00</td>\n",
       "      <td>300000.00</td>\n",
       "      <td>1350000.0</td>\n",
       "    </tr>\n",
       "  </tbody>\n",
       "</table>\n",
       "</div>"
      ],
      "text/plain": [
       "                  count       mean        std       min        25%        50%  \\\n",
       "place_name                                                                      \n",
       "Mar del Plata    4181.0  111156.62   79719.78   9253.80   63935.39   85900.00   \n",
       "Rosario          4140.0  130493.60  261753.87   4666.62   58887.86   75712.96   \n",
       "Nordelta         1858.0  228157.22  117850.47  12843.16  151200.00  195000.00   \n",
       "Tigre            1322.0  169193.75   96813.04   7466.60  116350.00  135700.00   \n",
       "Olivos           1010.0  269821.53  205355.67  66000.00  152050.00  225000.00   \n",
       "Lomas de Zamora   778.0  143340.97  109944.01  17946.77   85000.00  110000.00   \n",
       "Pilar             746.0  132965.13   74464.78  23000.00   80094.22  119000.00   \n",
       "Morón             694.0  160609.50  291229.69  20000.00   63000.00   77000.00   \n",
       "Ramos Mejía       573.0  124210.08  114256.21   5159.69   77500.00   92000.00   \n",
       "San Isidro        497.0  246774.29  155410.52  60000.00  148000.00  198000.00   \n",
       "\n",
       "                       75%        max  \n",
       "place_name                             \n",
       "Mar del Plata    130000.00  1489000.0  \n",
       "Rosario          109924.00  4376078.0  \n",
       "Nordelta         271357.37   850000.0  \n",
       "Tigre            176825.00  1350000.0  \n",
       "Olivos           293450.00  2500000.0  \n",
       "Lomas de Zamora  150000.00  1200000.0  \n",
       "Pilar            168539.39   820000.0  \n",
       "Morón             90000.00  2124000.0  \n",
       "Ramos Mejía      130000.00  1750000.0  \n",
       "San Isidro       300000.00  1350000.0  "
      ]
     },
     "execution_count": 25,
     "metadata": {},
     "output_type": "execute_result"
    }
   ],
   "source": [
    "# media de precios de departamentos en interior de provincia\n",
    "\n",
    "interior_provincial_dptos = interior_provincial.loc[data.property_type == 'apartment',:]\n",
    "\n",
    "np.around(interior_provincial_dptos.groupby('place_name')['price_aprox_usd'].describe(),2).sort_values(by='count',ascending=False).head(10)"
   ]
  },
  {
   "cell_type": "code",
   "execution_count": 26,
   "metadata": {},
   "outputs": [
    {
     "data": {
      "text/html": [
       "<div>\n",
       "<style scoped>\n",
       "    .dataframe tbody tr th:only-of-type {\n",
       "        vertical-align: middle;\n",
       "    }\n",
       "\n",
       "    .dataframe tbody tr th {\n",
       "        vertical-align: top;\n",
       "    }\n",
       "\n",
       "    .dataframe thead th {\n",
       "        text-align: right;\n",
       "    }\n",
       "</style>\n",
       "<table border=\"1\" class=\"dataframe\">\n",
       "  <thead>\n",
       "    <tr style=\"text-align: right;\">\n",
       "      <th></th>\n",
       "      <th>count</th>\n",
       "      <th>mean</th>\n",
       "      <th>std</th>\n",
       "      <th>min</th>\n",
       "      <th>25%</th>\n",
       "      <th>50%</th>\n",
       "      <th>75%</th>\n",
       "      <th>max</th>\n",
       "    </tr>\n",
       "    <tr>\n",
       "      <th>place_name</th>\n",
       "      <th></th>\n",
       "      <th></th>\n",
       "      <th></th>\n",
       "      <th></th>\n",
       "      <th></th>\n",
       "      <th></th>\n",
       "      <th></th>\n",
       "      <th></th>\n",
       "    </tr>\n",
       "  </thead>\n",
       "  <tbody>\n",
       "    <tr>\n",
       "      <th>Tigre</th>\n",
       "      <td>1696.0</td>\n",
       "      <td>425952.36</td>\n",
       "      <td>260335.02</td>\n",
       "      <td>30000.0</td>\n",
       "      <td>295000.0</td>\n",
       "      <td>360000.0</td>\n",
       "      <td>470000.0</td>\n",
       "      <td>3600000.0</td>\n",
       "    </tr>\n",
       "    <tr>\n",
       "      <th>Pilar</th>\n",
       "      <td>1262.0</td>\n",
       "      <td>431034.88</td>\n",
       "      <td>428512.49</td>\n",
       "      <td>22000.0</td>\n",
       "      <td>199000.0</td>\n",
       "      <td>300000.0</td>\n",
       "      <td>480000.0</td>\n",
       "      <td>3559500.0</td>\n",
       "    </tr>\n",
       "    <tr>\n",
       "      <th>Mar del Plata</th>\n",
       "      <td>1180.0</td>\n",
       "      <td>227678.12</td>\n",
       "      <td>320395.16</td>\n",
       "      <td>29000.0</td>\n",
       "      <td>119000.0</td>\n",
       "      <td>160000.0</td>\n",
       "      <td>250000.0</td>\n",
       "      <td>5000000.0</td>\n",
       "    </tr>\n",
       "    <tr>\n",
       "      <th>Nordelta</th>\n",
       "      <td>1019.0</td>\n",
       "      <td>766383.40</td>\n",
       "      <td>556806.50</td>\n",
       "      <td>107000.0</td>\n",
       "      <td>420000.0</td>\n",
       "      <td>570000.0</td>\n",
       "      <td>975000.0</td>\n",
       "      <td>6500000.0</td>\n",
       "    </tr>\n",
       "    <tr>\n",
       "      <th>Escobar</th>\n",
       "      <td>919.0</td>\n",
       "      <td>295541.89</td>\n",
       "      <td>214155.82</td>\n",
       "      <td>45000.0</td>\n",
       "      <td>200000.0</td>\n",
       "      <td>250000.0</td>\n",
       "      <td>330000.0</td>\n",
       "      <td>2400000.0</td>\n",
       "    </tr>\n",
       "    <tr>\n",
       "      <th>Ituzaingó</th>\n",
       "      <td>646.0</td>\n",
       "      <td>222711.30</td>\n",
       "      <td>497403.31</td>\n",
       "      <td>50000.0</td>\n",
       "      <td>120000.0</td>\n",
       "      <td>157500.0</td>\n",
       "      <td>235000.0</td>\n",
       "      <td>12000000.0</td>\n",
       "    </tr>\n",
       "    <tr>\n",
       "      <th>Benavidez</th>\n",
       "      <td>557.0</td>\n",
       "      <td>417511.31</td>\n",
       "      <td>258235.05</td>\n",
       "      <td>50000.0</td>\n",
       "      <td>275000.0</td>\n",
       "      <td>355000.0</td>\n",
       "      <td>480000.0</td>\n",
       "      <td>2000000.0</td>\n",
       "    </tr>\n",
       "    <tr>\n",
       "      <th>Martínez</th>\n",
       "      <td>552.0</td>\n",
       "      <td>550225.91</td>\n",
       "      <td>450040.81</td>\n",
       "      <td>80000.0</td>\n",
       "      <td>280000.0</td>\n",
       "      <td>400000.0</td>\n",
       "      <td>630000.0</td>\n",
       "      <td>2900000.0</td>\n",
       "    </tr>\n",
       "    <tr>\n",
       "      <th>Lomas de Zamora</th>\n",
       "      <td>551.0</td>\n",
       "      <td>255262.07</td>\n",
       "      <td>176413.26</td>\n",
       "      <td>44000.0</td>\n",
       "      <td>140000.0</td>\n",
       "      <td>200000.0</td>\n",
       "      <td>300000.0</td>\n",
       "      <td>1250000.0</td>\n",
       "    </tr>\n",
       "    <tr>\n",
       "      <th>Adrogué</th>\n",
       "      <td>500.0</td>\n",
       "      <td>319703.00</td>\n",
       "      <td>230774.65</td>\n",
       "      <td>72000.0</td>\n",
       "      <td>190000.0</td>\n",
       "      <td>260000.0</td>\n",
       "      <td>360000.0</td>\n",
       "      <td>1900000.0</td>\n",
       "    </tr>\n",
       "  </tbody>\n",
       "</table>\n",
       "</div>"
      ],
      "text/plain": [
       "                  count       mean        std       min       25%       50%  \\\n",
       "place_name                                                                    \n",
       "Tigre            1696.0  425952.36  260335.02   30000.0  295000.0  360000.0   \n",
       "Pilar            1262.0  431034.88  428512.49   22000.0  199000.0  300000.0   \n",
       "Mar del Plata    1180.0  227678.12  320395.16   29000.0  119000.0  160000.0   \n",
       "Nordelta         1019.0  766383.40  556806.50  107000.0  420000.0  570000.0   \n",
       "Escobar           919.0  295541.89  214155.82   45000.0  200000.0  250000.0   \n",
       "Ituzaingó         646.0  222711.30  497403.31   50000.0  120000.0  157500.0   \n",
       "Benavidez         557.0  417511.31  258235.05   50000.0  275000.0  355000.0   \n",
       "Martínez          552.0  550225.91  450040.81   80000.0  280000.0  400000.0   \n",
       "Lomas de Zamora   551.0  255262.07  176413.26   44000.0  140000.0  200000.0   \n",
       "Adrogué           500.0  319703.00  230774.65   72000.0  190000.0  260000.0   \n",
       "\n",
       "                      75%         max  \n",
       "place_name                             \n",
       "Tigre            470000.0   3600000.0  \n",
       "Pilar            480000.0   3559500.0  \n",
       "Mar del Plata    250000.0   5000000.0  \n",
       "Nordelta         975000.0   6500000.0  \n",
       "Escobar          330000.0   2400000.0  \n",
       "Ituzaingó        235000.0  12000000.0  \n",
       "Benavidez        480000.0   2000000.0  \n",
       "Martínez         630000.0   2900000.0  \n",
       "Lomas de Zamora  300000.0   1250000.0  \n",
       "Adrogué          360000.0   1900000.0  "
      ]
     },
     "execution_count": 26,
     "metadata": {},
     "output_type": "execute_result"
    }
   ],
   "source": [
    "# media de precios de casas en interior de provincia\n",
    "\n",
    "interior_provincial_casas = interior_provincial.loc[data.property_type == 'house',:]\n",
    "\n",
    "np.around(interior_provincial_casas.groupby('place_name')['price'].describe(),2).sort_values(by='count',ascending=False).head(10)"
   ]
  },
  {
   "cell_type": "code",
   "execution_count": 27,
   "metadata": {},
   "outputs": [
    {
     "data": {
      "text/html": [
       "<div>\n",
       "<style scoped>\n",
       "    .dataframe tbody tr th:only-of-type {\n",
       "        vertical-align: middle;\n",
       "    }\n",
       "\n",
       "    .dataframe tbody tr th {\n",
       "        vertical-align: top;\n",
       "    }\n",
       "\n",
       "    .dataframe thead th {\n",
       "        text-align: right;\n",
       "    }\n",
       "</style>\n",
       "<table border=\"1\" class=\"dataframe\">\n",
       "  <thead>\n",
       "    <tr style=\"text-align: right;\">\n",
       "      <th></th>\n",
       "      <th>count</th>\n",
       "      <th>mean</th>\n",
       "      <th>std</th>\n",
       "      <th>min</th>\n",
       "      <th>25%</th>\n",
       "      <th>50%</th>\n",
       "      <th>75%</th>\n",
       "      <th>max</th>\n",
       "    </tr>\n",
       "    <tr>\n",
       "      <th>place_name</th>\n",
       "      <th></th>\n",
       "      <th></th>\n",
       "      <th></th>\n",
       "      <th></th>\n",
       "      <th></th>\n",
       "      <th></th>\n",
       "      <th></th>\n",
       "      <th></th>\n",
       "    </tr>\n",
       "  </thead>\n",
       "  <tbody>\n",
       "    <tr>\n",
       "      <th>Rosario</th>\n",
       "      <td>5747.0</td>\n",
       "      <td>59.17</td>\n",
       "      <td>69.84</td>\n",
       "      <td>18.0</td>\n",
       "      <td>37.0</td>\n",
       "      <td>48.0</td>\n",
       "      <td>70.0</td>\n",
       "      <td>4650.0</td>\n",
       "    </tr>\n",
       "    <tr>\n",
       "      <th>Mar del Plata</th>\n",
       "      <td>3146.0</td>\n",
       "      <td>74.65</td>\n",
       "      <td>873.84</td>\n",
       "      <td>1.0</td>\n",
       "      <td>38.0</td>\n",
       "      <td>50.0</td>\n",
       "      <td>70.0</td>\n",
       "      <td>49000.0</td>\n",
       "    </tr>\n",
       "    <tr>\n",
       "      <th>Nordelta</th>\n",
       "      <td>2029.0</td>\n",
       "      <td>75.10</td>\n",
       "      <td>37.05</td>\n",
       "      <td>1.0</td>\n",
       "      <td>49.0</td>\n",
       "      <td>68.0</td>\n",
       "      <td>90.0</td>\n",
       "      <td>402.0</td>\n",
       "    </tr>\n",
       "    <tr>\n",
       "      <th>Tigre</th>\n",
       "      <td>1389.0</td>\n",
       "      <td>70.87</td>\n",
       "      <td>148.94</td>\n",
       "      <td>1.0</td>\n",
       "      <td>48.0</td>\n",
       "      <td>57.0</td>\n",
       "      <td>74.0</td>\n",
       "      <td>5426.0</td>\n",
       "    </tr>\n",
       "    <tr>\n",
       "      <th>Olivos</th>\n",
       "      <td>978.0</td>\n",
       "      <td>80.14</td>\n",
       "      <td>80.35</td>\n",
       "      <td>5.0</td>\n",
       "      <td>51.0</td>\n",
       "      <td>60.0</td>\n",
       "      <td>81.0</td>\n",
       "      <td>1112.0</td>\n",
       "    </tr>\n",
       "    <tr>\n",
       "      <th>Pilar</th>\n",
       "      <td>767.0</td>\n",
       "      <td>65.33</td>\n",
       "      <td>61.80</td>\n",
       "      <td>1.0</td>\n",
       "      <td>40.0</td>\n",
       "      <td>54.0</td>\n",
       "      <td>76.0</td>\n",
       "      <td>940.0</td>\n",
       "    </tr>\n",
       "    <tr>\n",
       "      <th>Morón</th>\n",
       "      <td>761.0</td>\n",
       "      <td>44.93</td>\n",
       "      <td>16.50</td>\n",
       "      <td>1.0</td>\n",
       "      <td>37.0</td>\n",
       "      <td>42.0</td>\n",
       "      <td>49.0</td>\n",
       "      <td>150.0</td>\n",
       "    </tr>\n",
       "    <tr>\n",
       "      <th>Lomas de Zamora</th>\n",
       "      <td>653.0</td>\n",
       "      <td>65.13</td>\n",
       "      <td>54.49</td>\n",
       "      <td>1.0</td>\n",
       "      <td>43.0</td>\n",
       "      <td>50.0</td>\n",
       "      <td>70.0</td>\n",
       "      <td>1000.0</td>\n",
       "    </tr>\n",
       "    <tr>\n",
       "      <th>Ramos Mejía</th>\n",
       "      <td>552.0</td>\n",
       "      <td>58.80</td>\n",
       "      <td>35.55</td>\n",
       "      <td>1.0</td>\n",
       "      <td>40.0</td>\n",
       "      <td>48.0</td>\n",
       "      <td>67.0</td>\n",
       "      <td>346.0</td>\n",
       "    </tr>\n",
       "    <tr>\n",
       "      <th>San Isidro</th>\n",
       "      <td>514.0</td>\n",
       "      <td>99.11</td>\n",
       "      <td>445.51</td>\n",
       "      <td>9.0</td>\n",
       "      <td>58.0</td>\n",
       "      <td>72.0</td>\n",
       "      <td>92.0</td>\n",
       "      <td>10145.0</td>\n",
       "    </tr>\n",
       "  </tbody>\n",
       "</table>\n",
       "</div>"
      ],
      "text/plain": [
       "                  count   mean     std   min   25%   50%   75%      max\n",
       "place_name                                                             \n",
       "Rosario          5747.0  59.17   69.84  18.0  37.0  48.0  70.0   4650.0\n",
       "Mar del Plata    3146.0  74.65  873.84   1.0  38.0  50.0  70.0  49000.0\n",
       "Nordelta         2029.0  75.10   37.05   1.0  49.0  68.0  90.0    402.0\n",
       "Tigre            1389.0  70.87  148.94   1.0  48.0  57.0  74.0   5426.0\n",
       "Olivos            978.0  80.14   80.35   5.0  51.0  60.0  81.0   1112.0\n",
       "Pilar             767.0  65.33   61.80   1.0  40.0  54.0  76.0    940.0\n",
       "Morón             761.0  44.93   16.50   1.0  37.0  42.0  49.0    150.0\n",
       "Lomas de Zamora   653.0  65.13   54.49   1.0  43.0  50.0  70.0   1000.0\n",
       "Ramos Mejía       552.0  58.80   35.55   1.0  40.0  48.0  67.0    346.0\n",
       "San Isidro        514.0  99.11  445.51   9.0  58.0  72.0  92.0  10145.0"
      ]
     },
     "execution_count": 27,
     "metadata": {},
     "output_type": "execute_result"
    }
   ],
   "source": [
    "# media de superficie cubierta de casas en interior de provincia\n",
    "\n",
    "interior_provincial_casas = interior_provincial.loc[data.property_type == 'apartment',:]\n",
    "\n",
    "np.around(interior_provincial_casas.groupby('place_name')['surface_covered_in_m2'].describe(),2).sort_values(by='count',ascending=False).head(10)"
   ]
  },
  {
   "cell_type": "markdown",
   "metadata": {},
   "source": [
    "#### Tipo propiedad y distrito"
   ]
  },
  {
   "cell_type": "code",
   "execution_count": 28,
   "metadata": {},
   "outputs": [
    {
     "data": {
      "text/plain": [
       "1491"
      ]
     },
     "execution_count": 28,
     "metadata": {},
     "output_type": "execute_result"
    }
   ],
   "source": [
    "zona_norte_bsas = data.loc[data.state_name == 'Bs.As. G.B.A. Zona Norte',]\n",
    "san_isidro_san_fer = data.loc[(data.place_name == 'San Isidro') | (data.place_name == 'San Fernando'),]\n",
    "inmuebles_san_isidro_san_fer = san_isidro_san_fer.loc[(zona_norte_bsas.property_type == 'apartment') | (zona_norte_bsas.property_type == 'house')]\n",
    "inmuebles_san_isidro_san_fer.property_type.shape[0]"
   ]
  },
  {
   "cell_type": "code",
   "execution_count": 29,
   "metadata": {},
   "outputs": [
    {
     "data": {
      "text/plain": [
       "917"
      ]
     },
     "execution_count": 29,
     "metadata": {},
     "output_type": "execute_result"
    }
   ],
   "source": [
    "san_isidro_san_fer.loc[(data.property_type == 'apartment') & (data.state_name == 'Bs.As. G.B.A. Zona Norte')].shape[0]"
   ]
  },
  {
   "cell_type": "code",
   "execution_count": 30,
   "metadata": {},
   "outputs": [
    {
     "data": {
      "text/plain": [
       "574"
      ]
     },
     "execution_count": 30,
     "metadata": {},
     "output_type": "execute_result"
    }
   ],
   "source": [
    "san_isidro_san_fer.loc[(data.property_type == 'house') & (data.state_name == 'Bs.As. G.B.A. Zona Norte')].shape[0]"
   ]
  },
  {
   "cell_type": "code",
   "execution_count": 31,
   "metadata": {},
   "outputs": [
    {
     "data": {
      "text/html": [
       "<div>\n",
       "<style scoped>\n",
       "    .dataframe tbody tr th:only-of-type {\n",
       "        vertical-align: middle;\n",
       "    }\n",
       "\n",
       "    .dataframe tbody tr th {\n",
       "        vertical-align: top;\n",
       "    }\n",
       "\n",
       "    .dataframe thead th {\n",
       "        text-align: right;\n",
       "    }\n",
       "</style>\n",
       "<table border=\"1\" class=\"dataframe\">\n",
       "  <thead>\n",
       "    <tr style=\"text-align: right;\">\n",
       "      <th></th>\n",
       "      <th>numcol_house</th>\n",
       "    </tr>\n",
       "  </thead>\n",
       "  <tbody>\n",
       "    <tr>\n",
       "      <th>50</th>\n",
       "      <td>0</td>\n",
       "    </tr>\n",
       "    <tr>\n",
       "      <th>56</th>\n",
       "      <td>1</td>\n",
       "    </tr>\n",
       "    <tr>\n",
       "      <th>112</th>\n",
       "      <td>0</td>\n",
       "    </tr>\n",
       "    <tr>\n",
       "      <th>114</th>\n",
       "      <td>0</td>\n",
       "    </tr>\n",
       "    <tr>\n",
       "      <th>246</th>\n",
       "      <td>0</td>\n",
       "    </tr>\n",
       "    <tr>\n",
       "      <th>...</th>\n",
       "      <td>...</td>\n",
       "    </tr>\n",
       "    <tr>\n",
       "      <th>119454</th>\n",
       "      <td>0</td>\n",
       "    </tr>\n",
       "    <tr>\n",
       "      <th>119640</th>\n",
       "      <td>0</td>\n",
       "    </tr>\n",
       "    <tr>\n",
       "      <th>119676</th>\n",
       "      <td>1</td>\n",
       "    </tr>\n",
       "    <tr>\n",
       "      <th>121058</th>\n",
       "      <td>0</td>\n",
       "    </tr>\n",
       "    <tr>\n",
       "      <th>121143</th>\n",
       "      <td>0</td>\n",
       "    </tr>\n",
       "  </tbody>\n",
       "</table>\n",
       "<p>1491 rows × 1 columns</p>\n",
       "</div>"
      ],
      "text/plain": [
       "        numcol_house\n",
       "50                 0\n",
       "56                 1\n",
       "112                0\n",
       "114                0\n",
       "246                0\n",
       "...              ...\n",
       "119454             0\n",
       "119640             0\n",
       "119676             1\n",
       "121058             0\n",
       "121143             0\n",
       "\n",
       "[1491 rows x 1 columns]"
      ]
     },
     "execution_count": 31,
     "metadata": {},
     "output_type": "execute_result"
    }
   ],
   "source": [
    "inmuebles_san_isidro_san_fer.property_type\n",
    "dummies_1 = pd.get_dummies(inmuebles_san_isidro_san_fer.property_type, drop_first = True, prefix='numcol')\n",
    "dummies_1"
   ]
  },
  {
   "cell_type": "code",
   "execution_count": 32,
   "metadata": {},
   "outputs": [
    {
     "data": {
      "text/plain": [
       "<Figure size 640x480 with 1 Axes>"
      ]
     },
     "metadata": {},
     "output_type": "display_data"
    }
   ],
   "source": [
    "import matplotlib.pyplot as plt\n",
    "\n",
    "labels = 'Departamentos', 'Casas'\n",
    "sizes = [917, 574]\n",
    "\n",
    "fig1, ax1 = plt.subplots()\n",
    "ax1.pie(sizes, labels=labels, shadow=True)\n",
    "ax1.axis('equal') \n",
    "\n",
    "plt.show()"
   ]
  },
  {
   "cell_type": "code",
   "execution_count": 33,
   "metadata": {},
   "outputs": [],
   "source": [
    "caballito = barrios_zonas_capital.loc[data.place_name == 'Caballito',]"
   ]
  },
  {
   "cell_type": "code",
   "execution_count": 34,
   "metadata": {},
   "outputs": [
    {
     "data": {
      "text/plain": [
       "2157"
      ]
     },
     "execution_count": 34,
     "metadata": {},
     "output_type": "execute_result"
    }
   ],
   "source": [
    "caballito.loc[(data.property_type == 'apartment') | (data.property_type == 'house')].shape[0]"
   ]
  },
  {
   "cell_type": "code",
   "execution_count": 35,
   "metadata": {},
   "outputs": [
    {
     "data": {
      "text/plain": [
       "2079"
      ]
     },
     "execution_count": 35,
     "metadata": {},
     "output_type": "execute_result"
    }
   ],
   "source": [
    "caballito.loc[(data.property_type == 'apartment')].shape[0]"
   ]
  },
  {
   "cell_type": "code",
   "execution_count": 36,
   "metadata": {},
   "outputs": [
    {
     "data": {
      "text/plain": [
       "78"
      ]
     },
     "execution_count": 36,
     "metadata": {},
     "output_type": "execute_result"
    }
   ],
   "source": [
    "caballito.loc[(data.property_type == 'house')].shape[0]"
   ]
  },
  {
   "cell_type": "code",
   "execution_count": 37,
   "metadata": {},
   "outputs": [
    {
     "data": {
      "image/png": "[encoded data removed]",
      "text/plain": [
       "<Figure size 432x288 with 1 Axes>"
      ]
     },
     "metadata": {},
     "output_type": "display_data"
    }
   ],
   "source": [
    "import matplotlib.pyplot as plt\n",
    "\n",
    "labels = 'Departamentos', 'Casas'\n",
    "sizes = [2079, 78]\n",
    "\n",
    "fig1, ax1 = plt.subplots()\n",
    "ax1.pie(sizes, labels=labels, shadow=True)\n",
    "ax1.axis('equal') \n",
    "\n",
    "plt.show()"
   ]
  },
  {
   "cell_type": "markdown",
   "metadata": {},
   "source": [
    "### **Correlaciones**"
   ]
  },
  {
   "cell_type": "markdown",
   "metadata": {},
   "source": [
    "#### Barrios Porteños -> M2 cubiertos VS precio USD -> DEPARTAMENTOS\n",
    "##### Todos los registros"
   ]
  },
  {
   "cell_type": "code",
   "execution_count": 38,
   "metadata": {},
   "outputs": [
    {
     "name": "stdout",
     "output_type": "stream",
     "text": [
      "Total de filas: 27037\n",
      "Total de filas de precios en usd sin depuración: 24154\n"
     ]
    },
    {
     "data": {
      "text/html": [
       "<div>\n",
       "<style scoped>\n",
       "    .dataframe tbody tr th:only-of-type {\n",
       "        vertical-align: middle;\n",
       "    }\n",
       "\n",
       "    .dataframe tbody tr th {\n",
       "        vertical-align: top;\n",
       "    }\n",
       "\n",
       "    .dataframe thead th {\n",
       "        text-align: right;\n",
       "    }\n",
       "</style>\n",
       "<table border=\"1\" class=\"dataframe\">\n",
       "  <thead>\n",
       "    <tr style=\"text-align: right;\">\n",
       "      <th></th>\n",
       "      <th>price_aprox_usd</th>\n",
       "      <th>surface_total_in_m2</th>\n",
       "      <th>surface_covered_in_m2</th>\n",
       "    </tr>\n",
       "  </thead>\n",
       "  <tbody>\n",
       "    <tr>\n",
       "      <th>price_aprox_usd</th>\n",
       "      <td>1.000000</td>\n",
       "      <td>0.713520</td>\n",
       "      <td>0.038636</td>\n",
       "    </tr>\n",
       "    <tr>\n",
       "      <th>surface_total_in_m2</th>\n",
       "      <td>0.713520</td>\n",
       "      <td>1.000000</td>\n",
       "      <td>0.867446</td>\n",
       "    </tr>\n",
       "    <tr>\n",
       "      <th>surface_covered_in_m2</th>\n",
       "      <td>0.038636</td>\n",
       "      <td>0.867446</td>\n",
       "      <td>1.000000</td>\n",
       "    </tr>\n",
       "  </tbody>\n",
       "</table>\n",
       "</div>"
      ],
      "text/plain": [
       "                       price_aprox_usd  surface_total_in_m2  \\\n",
       "price_aprox_usd               1.000000             0.713520   \n",
       "surface_total_in_m2           0.713520             1.000000   \n",
       "surface_covered_in_m2         0.038636             0.867446   \n",
       "\n",
       "                       surface_covered_in_m2  \n",
       "price_aprox_usd                     0.038636  \n",
       "surface_total_in_m2                 0.867446  \n",
       "surface_covered_in_m2               1.000000  "
      ]
     },
     "execution_count": 38,
     "metadata": {},
     "output_type": "execute_result"
    }
   ],
   "source": [
    "barrios_zonas_capital_dptos = barrios_zonas_capital.loc[data.property_type == 'apartment',:]\n",
    "\n",
    "print('Total de filas:',barrios_zonas_capital_dptos.shape[0])\n",
    "print('Total de filas de precios en usd sin depuración:',barrios_zonas_capital_dptos.price_aprox_usd.notnull().sum())\n",
    "\n",
    "barrios_zonas_capital_dptos.loc[:,['price_aprox_usd','surface_total_in_m2','surface_covered_in_m2']].corr(method='pearson')"
   ]
  },
  {
   "cell_type": "code",
   "execution_count": 39,
   "metadata": {},
   "outputs": [
    {
     "data": {
      "image/png": "[encoded data removed]",
      "text/plain": [
       "<Figure size 432x288 with 2 Axes>"
      ]
     },
     "metadata": {
      "needs_background": "light"
     },
     "output_type": "display_data"
    }
   ],
   "source": [
    "import seaborn as sns\n",
    "\n",
    "corr = barrios_zonas_capital_dptos.loc[:,['price_aprox_usd','surface_total_in_m2','surface_covered_in_m2']].corr(method='pearson')\n",
    "ax = sns.heatmap(\n",
    "    corr, \n",
    "    vmin=-1, vmax=1, center=0,\n",
    "    cmap=sns.diverging_palette(20, 220, n=200),\n",
    "    square=True\n",
    ")\n",
    "ax.set_xticklabels(\n",
    "    ax.get_xticklabels(),\n",
    "    rotation=45,\n",
    "    horizontalalignment='right'\n",
    ");"
   ]
  },
  {
   "cell_type": "markdown",
   "metadata": {},
   "source": [
    "##### Registros vacíos ELIMINADOS"
   ]
  },
  {
   "cell_type": "code",
   "execution_count": 40,
   "metadata": {},
   "outputs": [
    {
     "name": "stdout",
     "output_type": "stream",
     "text": [
      "Total de registros tras eliminación: 22880\n"
     ]
    },
    {
     "data": {
      "text/html": [
       "<div>\n",
       "<style scoped>\n",
       "    .dataframe tbody tr th:only-of-type {\n",
       "        vertical-align: middle;\n",
       "    }\n",
       "\n",
       "    .dataframe tbody tr th {\n",
       "        vertical-align: top;\n",
       "    }\n",
       "\n",
       "    .dataframe thead th {\n",
       "        text-align: right;\n",
       "    }\n",
       "</style>\n",
       "<table border=\"1\" class=\"dataframe\">\n",
       "  <thead>\n",
       "    <tr style=\"text-align: right;\">\n",
       "      <th></th>\n",
       "      <th>price_aprox_usd</th>\n",
       "      <th>surface_total_in_m2</th>\n",
       "      <th>surface_covered_in_m2</th>\n",
       "    </tr>\n",
       "  </thead>\n",
       "  <tbody>\n",
       "    <tr>\n",
       "      <th>price_aprox_usd</th>\n",
       "      <td>1.000000</td>\n",
       "      <td>0.693314</td>\n",
       "      <td>0.038636</td>\n",
       "    </tr>\n",
       "    <tr>\n",
       "      <th>surface_total_in_m2</th>\n",
       "      <td>0.693314</td>\n",
       "      <td>1.000000</td>\n",
       "      <td>0.860709</td>\n",
       "    </tr>\n",
       "    <tr>\n",
       "      <th>surface_covered_in_m2</th>\n",
       "      <td>0.038636</td>\n",
       "      <td>0.860709</td>\n",
       "      <td>1.000000</td>\n",
       "    </tr>\n",
       "  </tbody>\n",
       "</table>\n",
       "</div>"
      ],
      "text/plain": [
       "                       price_aprox_usd  surface_total_in_m2  \\\n",
       "price_aprox_usd               1.000000             0.693314   \n",
       "surface_total_in_m2           0.693314             1.000000   \n",
       "surface_covered_in_m2         0.038636             0.860709   \n",
       "\n",
       "                       surface_covered_in_m2  \n",
       "price_aprox_usd                     0.038636  \n",
       "surface_total_in_m2                 0.860709  \n",
       "surface_covered_in_m2               1.000000  "
      ]
     },
     "execution_count": 40,
     "metadata": {},
     "output_type": "execute_result"
    }
   ],
   "source": [
    "precio_depurados = barrios_zonas_capital_dptos.price_aprox_usd.dropna(how= 'all')\n",
    "m2_cubiertos_depurados =barrios_zonas_capital_dptos.surface_covered_in_m2.dropna(how= 'all')\n",
    "\n",
    "print('Total de registros tras eliminación:',barrios_zonas_capital_dptos.loc[(precio_depurados.index) & (m2_cubiertos_depurados.index),'price_aprox_usd'].notnull().sum())\n",
    "\n",
    "barrios_zonas_capital_dptos.loc[(precio_depurados.index) & (m2_cubiertos_depurados.index),['price_aprox_usd','surface_total_in_m2','surface_covered_in_m2']].corr(method='pearson')"
   ]
  },
  {
   "cell_type": "code",
   "execution_count": 41,
   "metadata": {},
   "outputs": [
    {
     "data": {
      "image/png": "[encoded data removed]",
      "text/plain": [
       "<Figure size 432x288 with 2 Axes>"
      ]
     },
     "metadata": {
      "needs_background": "light"
     },
     "output_type": "display_data"
    }
   ],
   "source": [
    "import seaborn as sns\n",
    "\n",
    "corr = barrios_zonas_capital_dptos.loc[:,['price_aprox_usd','surface_total_in_m2','surface_covered_in_m2']].corr(method='pearson')\n",
    "ax = sns.heatmap(\n",
    "    corr, \n",
    "    vmin=-1, vmax=1, center=0,\n",
    "    cmap=sns.diverging_palette(20, 220, n=200),\n",
    "    square=True\n",
    ")\n",
    "ax.set_xticklabels(\n",
    "    ax.get_xticklabels(),\n",
    "    rotation=45,\n",
    "    horizontalalignment='right'\n",
    ");"
   ]
  },
  {
   "cell_type": "markdown",
   "metadata": {},
   "source": [
    "#### Barrios Porteños -> M2 cubiertos VS precio USD -> CASAS"
   ]
  },
  {
   "cell_type": "markdown",
   "metadata": {},
   "source": [
    "##### Total de registros"
   ]
  },
  {
   "cell_type": "code",
   "execution_count": 42,
   "metadata": {},
   "outputs": [
    {
     "name": "stdout",
     "output_type": "stream",
     "text": [
      "Total de filas: 2087\n",
      "Total de nulos en precios USD: 200\n",
      "Total de no nulos en precios USD: 1887\n"
     ]
    },
    {
     "data": {
      "text/html": [
       "<div>\n",
       "<style scoped>\n",
       "    .dataframe tbody tr th:only-of-type {\n",
       "        vertical-align: middle;\n",
       "    }\n",
       "\n",
       "    .dataframe tbody tr th {\n",
       "        vertical-align: top;\n",
       "    }\n",
       "\n",
       "    .dataframe thead th {\n",
       "        text-align: right;\n",
       "    }\n",
       "</style>\n",
       "<table border=\"1\" class=\"dataframe\">\n",
       "  <thead>\n",
       "    <tr style=\"text-align: right;\">\n",
       "      <th></th>\n",
       "      <th>price_aprox_usd</th>\n",
       "      <th>surface_total_in_m2</th>\n",
       "      <th>surface_covered_in_m2</th>\n",
       "    </tr>\n",
       "  </thead>\n",
       "  <tbody>\n",
       "    <tr>\n",
       "      <th>price_aprox_usd</th>\n",
       "      <td>1.000000</td>\n",
       "      <td>0.583016</td>\n",
       "      <td>0.483987</td>\n",
       "    </tr>\n",
       "    <tr>\n",
       "      <th>surface_total_in_m2</th>\n",
       "      <td>0.583016</td>\n",
       "      <td>1.000000</td>\n",
       "      <td>0.730954</td>\n",
       "    </tr>\n",
       "    <tr>\n",
       "      <th>surface_covered_in_m2</th>\n",
       "      <td>0.483987</td>\n",
       "      <td>0.730954</td>\n",
       "      <td>1.000000</td>\n",
       "    </tr>\n",
       "  </tbody>\n",
       "</table>\n",
       "</div>"
      ],
      "text/plain": [
       "                       price_aprox_usd  surface_total_in_m2  \\\n",
       "price_aprox_usd               1.000000             0.583016   \n",
       "surface_total_in_m2           0.583016             1.000000   \n",
       "surface_covered_in_m2         0.483987             0.730954   \n",
       "\n",
       "                       surface_covered_in_m2  \n",
       "price_aprox_usd                     0.483987  \n",
       "surface_total_in_m2                 0.730954  \n",
       "surface_covered_in_m2               1.000000  "
      ]
     },
     "execution_count": 42,
     "metadata": {},
     "output_type": "execute_result"
    }
   ],
   "source": [
    "barrios_zonas_capital_casas= barrios_zonas_capital.loc[data.property_type == 'house',:]\n",
    "\n",
    "print('Total de filas:',barrios_zonas_capital_casas.shape[0])\n",
    "print('Total de nulos en precios USD:',barrios_zonas_capital_casas.price_aprox_usd.isnull().sum())\n",
    "print('Total de no nulos en precios USD:',barrios_zonas_capital_casas.loc[barrios_zonas_capital_casas.price_aprox_usd.notnull(),'price_aprox_usd'].notnull().sum())\n",
    "\n",
    "barrios_zonas_capital_casas.loc[:,['price_aprox_usd','surface_total_in_m2','surface_covered_in_m2']].corr(method='pearson')"
   ]
  },
  {
   "cell_type": "code",
   "execution_count": 43,
   "metadata": {},
   "outputs": [
    {
     "data": {
      "image/png": "[encoded data removed]",
      "text/plain": [
       "<Figure size 432x288 with 2 Axes>"
      ]
     },
     "metadata": {
      "needs_background": "light"
     },
     "output_type": "display_data"
    }
   ],
   "source": [
    "import seaborn as sns\n",
    "\n",
    "corr = barrios_zonas_capital_casas.loc[:,['price_aprox_usd','surface_total_in_m2','surface_covered_in_m2']].corr(method='pearson')\n",
    "ax = sns.heatmap(\n",
    "    corr, \n",
    "    vmin=-1, vmax=1, center=0,\n",
    "    cmap=sns.diverging_palette(20, 220, n=200),\n",
    "    square=True\n",
    ")\n",
    "ax.set_xticklabels(\n",
    "    ax.get_xticklabels(),\n",
    "    rotation=45,\n",
    "    horizontalalignment='right'\n",
    ");"
   ]
  },
  {
   "cell_type": "markdown",
   "metadata": {},
   "source": [
    "##### Registros vacíos ELIMINADOS"
   ]
  },
  {
   "cell_type": "code",
   "execution_count": 44,
   "metadata": {},
   "outputs": [
    {
     "name": "stdout",
     "output_type": "stream",
     "text": [
      "Total de registros tras eliminación 1722\n"
     ]
    },
    {
     "data": {
      "text/html": [
       "<div>\n",
       "<style scoped>\n",
       "    .dataframe tbody tr th:only-of-type {\n",
       "        vertical-align: middle;\n",
       "    }\n",
       "\n",
       "    .dataframe tbody tr th {\n",
       "        vertical-align: top;\n",
       "    }\n",
       "\n",
       "    .dataframe thead th {\n",
       "        text-align: right;\n",
       "    }\n",
       "</style>\n",
       "<table border=\"1\" class=\"dataframe\">\n",
       "  <thead>\n",
       "    <tr style=\"text-align: right;\">\n",
       "      <th></th>\n",
       "      <th>price_aprox_usd</th>\n",
       "      <th>surface_covered_in_m2</th>\n",
       "    </tr>\n",
       "  </thead>\n",
       "  <tbody>\n",
       "    <tr>\n",
       "      <th>price_aprox_usd</th>\n",
       "      <td>1.000000</td>\n",
       "      <td>0.483987</td>\n",
       "    </tr>\n",
       "    <tr>\n",
       "      <th>surface_covered_in_m2</th>\n",
       "      <td>0.483987</td>\n",
       "      <td>1.000000</td>\n",
       "    </tr>\n",
       "  </tbody>\n",
       "</table>\n",
       "</div>"
      ],
      "text/plain": [
       "                       price_aprox_usd  surface_covered_in_m2\n",
       "price_aprox_usd               1.000000               0.483987\n",
       "surface_covered_in_m2         0.483987               1.000000"
      ]
     },
     "execution_count": 44,
     "metadata": {},
     "output_type": "execute_result"
    }
   ],
   "source": [
    "precio_depurados = barrios_zonas_capital_casas.price_aprox_usd.dropna(how= 'all')\n",
    "m2_cubiertos_depurados = barrios_zonas_capital_casas.surface_covered_in_m2.dropna(how= 'all')\n",
    "\n",
    "print('Total de registros tras eliminación',barrios_zonas_capital_casas.loc[(precio_depurados.index) & (m2_cubiertos_depurados.index),'price_aprox_usd'].notnull().sum())\n",
    "\n",
    "barrios_zonas_capital_casas.loc[(precio_depurados.index) & (m2_cubiertos_depurados.index),['price_aprox_usd','surface_covered_in_m2']].corr(method='pearson')"
   ]
  },
  {
   "cell_type": "code",
   "execution_count": 45,
   "metadata": {},
   "outputs": [
    {
     "data": {
      "text/html": [
       "<div>\n",
       "<style scoped>\n",
       "    .dataframe tbody tr th:only-of-type {\n",
       "        vertical-align: middle;\n",
       "    }\n",
       "\n",
       "    .dataframe tbody tr th {\n",
       "        vertical-align: top;\n",
       "    }\n",
       "\n",
       "    .dataframe thead th {\n",
       "        text-align: right;\n",
       "    }\n",
       "</style>\n",
       "<table border=\"1\" class=\"dataframe\">\n",
       "  <thead>\n",
       "    <tr style=\"text-align: right;\">\n",
       "      <th></th>\n",
       "      <th>price_aprox_usd</th>\n",
       "      <th>surface_covered_in_m2</th>\n",
       "      <th>surface_total_in_m2</th>\n",
       "    </tr>\n",
       "  </thead>\n",
       "  <tbody>\n",
       "    <tr>\n",
       "      <th>price_aprox_usd</th>\n",
       "      <td>1.000000</td>\n",
       "      <td>0.483987</td>\n",
       "      <td>0.583546</td>\n",
       "    </tr>\n",
       "    <tr>\n",
       "      <th>surface_covered_in_m2</th>\n",
       "      <td>0.483987</td>\n",
       "      <td>1.000000</td>\n",
       "      <td>0.733200</td>\n",
       "    </tr>\n",
       "    <tr>\n",
       "      <th>surface_total_in_m2</th>\n",
       "      <td>0.583546</td>\n",
       "      <td>0.733200</td>\n",
       "      <td>1.000000</td>\n",
       "    </tr>\n",
       "  </tbody>\n",
       "</table>\n",
       "</div>"
      ],
      "text/plain": [
       "                       price_aprox_usd  surface_covered_in_m2  \\\n",
       "price_aprox_usd               1.000000               0.483987   \n",
       "surface_covered_in_m2         0.483987               1.000000   \n",
       "surface_total_in_m2           0.583546               0.733200   \n",
       "\n",
       "                       surface_total_in_m2  \n",
       "price_aprox_usd                   0.583546  \n",
       "surface_covered_in_m2             0.733200  \n",
       "surface_total_in_m2               1.000000  "
      ]
     },
     "execution_count": 45,
     "metadata": {},
     "output_type": "execute_result"
    },
    {
     "data": {
      "image/png": "[encoded data removed]",
      "text/plain": [
       "<Figure size 432x288 with 2 Axes>"
      ]
     },
     "metadata": {
      "needs_background": "light"
     },
     "output_type": "display_data"
    }
   ],
   "source": [
    "import seaborn as sns\n",
    "\n",
    "corr = barrios_zonas_capital_casas.loc[(precio_depurados.index) & (m2_cubiertos_depurados.index),['price_aprox_usd','surface_total_in_m2','surface_covered_in_m2']].corr(method='pearson')\n",
    "ax = sns.heatmap(\n",
    "    corr, \n",
    "    vmin=-1, vmax=1, center=0,\n",
    "    cmap=sns.diverging_palette(20, 220, n=200),\n",
    "    square=True\n",
    ")\n",
    "ax.set_xticklabels(\n",
    "    ax.get_xticklabels(),\n",
    "    rotation=45,\n",
    "    horizontalalignment='right'\n",
    ");\n",
    "barrios_zonas_capital_casas.loc[(precio_depurados.index) & (m2_cubiertos_depurados.index),['price_aprox_usd','surface_covered_in_m2','surface_total_in_m2']].corr(method='pearson')\n"
   ]
  },
  {
   "cell_type": "markdown",
   "metadata": {},
   "source": [
    "#### Capitales de Provincia -> M2 cubiertos VS precio USD -> DEPARTAMENTOS"
   ]
  },
  {
   "cell_type": "markdown",
   "metadata": {},
   "source": [
    "##### Total de registros"
   ]
  },
  {
   "cell_type": "code",
   "execution_count": 46,
   "metadata": {},
   "outputs": [
    {
     "name": "stdout",
     "output_type": "stream",
     "text": [
      "Total de registros\n",
      "price_aprox_usd          6476\n",
      "surface_covered_in_m2    5715\n",
      "dtype: int64\n"
     ]
    },
    {
     "data": {
      "text/html": [
       "<div>\n",
       "<style scoped>\n",
       "    .dataframe tbody tr th:only-of-type {\n",
       "        vertical-align: middle;\n",
       "    }\n",
       "\n",
       "    .dataframe tbody tr th {\n",
       "        vertical-align: top;\n",
       "    }\n",
       "\n",
       "    .dataframe thead th {\n",
       "        text-align: right;\n",
       "    }\n",
       "</style>\n",
       "<table border=\"1\" class=\"dataframe\">\n",
       "  <thead>\n",
       "    <tr style=\"text-align: right;\">\n",
       "      <th></th>\n",
       "      <th>price_aprox_usd</th>\n",
       "      <th>surface_covered_in_m2</th>\n",
       "    </tr>\n",
       "  </thead>\n",
       "  <tbody>\n",
       "    <tr>\n",
       "      <th>price_aprox_usd</th>\n",
       "      <td>1.00000</td>\n",
       "      <td>0.02283</td>\n",
       "    </tr>\n",
       "    <tr>\n",
       "      <th>surface_covered_in_m2</th>\n",
       "      <td>0.02283</td>\n",
       "      <td>1.00000</td>\n",
       "    </tr>\n",
       "  </tbody>\n",
       "</table>\n",
       "</div>"
      ],
      "text/plain": [
       "                       price_aprox_usd  surface_covered_in_m2\n",
       "price_aprox_usd                1.00000                0.02283\n",
       "surface_covered_in_m2          0.02283                1.00000"
      ]
     },
     "execution_count": 46,
     "metadata": {},
     "output_type": "execute_result"
    }
   ],
   "source": [
    "capitales_provincia_dptos = capitales_provincia.loc[data.property_type == 'apartment',:]\n",
    "\n",
    "print('Total de registros\\n',capitales_provincia_dptos.loc[:,['price_aprox_usd','surface_covered_in_m2']].notnull().sum(),sep='')\n",
    "\n",
    "capitales_provincia_dptos.loc[:,['price_aprox_usd','surface_covered_in_m2']].corr(method='pearson')"
   ]
  },
  {
   "cell_type": "code",
   "execution_count": 47,
   "metadata": {},
   "outputs": [
    {
     "data": {
      "text/html": [
       "<div>\n",
       "<style scoped>\n",
       "    .dataframe tbody tr th:only-of-type {\n",
       "        vertical-align: middle;\n",
       "    }\n",
       "\n",
       "    .dataframe tbody tr th {\n",
       "        vertical-align: top;\n",
       "    }\n",
       "\n",
       "    .dataframe thead th {\n",
       "        text-align: right;\n",
       "    }\n",
       "</style>\n",
       "<table border=\"1\" class=\"dataframe\">\n",
       "  <thead>\n",
       "    <tr style=\"text-align: right;\">\n",
       "      <th></th>\n",
       "      <th>price_aprox_usd</th>\n",
       "      <th>surface_covered_in_m2</th>\n",
       "      <th>surface_total_in_m2</th>\n",
       "    </tr>\n",
       "  </thead>\n",
       "  <tbody>\n",
       "    <tr>\n",
       "      <th>price_aprox_usd</th>\n",
       "      <td>1.000000</td>\n",
       "      <td>0.022830</td>\n",
       "      <td>0.008164</td>\n",
       "    </tr>\n",
       "    <tr>\n",
       "      <th>surface_covered_in_m2</th>\n",
       "      <td>0.022830</td>\n",
       "      <td>1.000000</td>\n",
       "      <td>0.027967</td>\n",
       "    </tr>\n",
       "    <tr>\n",
       "      <th>surface_total_in_m2</th>\n",
       "      <td>0.008164</td>\n",
       "      <td>0.027967</td>\n",
       "      <td>1.000000</td>\n",
       "    </tr>\n",
       "  </tbody>\n",
       "</table>\n",
       "</div>"
      ],
      "text/plain": [
       "                       price_aprox_usd  surface_covered_in_m2  \\\n",
       "price_aprox_usd               1.000000               0.022830   \n",
       "surface_covered_in_m2         0.022830               1.000000   \n",
       "surface_total_in_m2           0.008164               0.027967   \n",
       "\n",
       "                       surface_total_in_m2  \n",
       "price_aprox_usd                   0.008164  \n",
       "surface_covered_in_m2             0.027967  \n",
       "surface_total_in_m2               1.000000  "
      ]
     },
     "execution_count": 47,
     "metadata": {},
     "output_type": "execute_result"
    },
    {
     "data": {
      "image/png": "[encoded data removed]",
      "text/plain": [
       "<Figure size 432x288 with 2 Axes>"
      ]
     },
     "metadata": {
      "needs_background": "light"
     },
     "output_type": "display_data"
    }
   ],
   "source": [
    "import seaborn as sns\n",
    "\n",
    "corr = capitales_provincia_dptos.loc[:,['price_aprox_usd','surface_covered_in_m2','surface_total_in_m2']].corr(method='pearson')\n",
    "\n",
    "ax = sns.heatmap(\n",
    "    corr, \n",
    "    vmin=-1, vmax=1, center=0,\n",
    "    cmap=sns.diverging_palette(20, 220, n=200),\n",
    "    square=True\n",
    ")\n",
    "ax.set_xticklabels(\n",
    "    ax.get_xticklabels(),\n",
    "    rotation=45,\n",
    "    horizontalalignment='right'\n",
    ");\n",
    "capitales_provincia_dptos.loc[:,['price_aprox_usd','surface_covered_in_m2','surface_total_in_m2']].corr(method='pearson')"
   ]
  },
  {
   "cell_type": "markdown",
   "metadata": {},
   "source": [
    "##### Registros vacíos ELIMINADOS"
   ]
  },
  {
   "cell_type": "code",
   "execution_count": 48,
   "metadata": {},
   "outputs": [
    {
     "name": "stdout",
     "output_type": "stream",
     "text": [
      "Total de registros (depurados)\n",
      "price_aprox_usd          4550\n",
      "surface_covered_in_m2    4550\n",
      "surface_total_in_m2      2678\n",
      "dtype: int64\n"
     ]
    },
    {
     "data": {
      "text/html": [
       "<div>\n",
       "<style scoped>\n",
       "    .dataframe tbody tr th:only-of-type {\n",
       "        vertical-align: middle;\n",
       "    }\n",
       "\n",
       "    .dataframe tbody tr th {\n",
       "        vertical-align: top;\n",
       "    }\n",
       "\n",
       "    .dataframe thead th {\n",
       "        text-align: right;\n",
       "    }\n",
       "</style>\n",
       "<table border=\"1\" class=\"dataframe\">\n",
       "  <thead>\n",
       "    <tr style=\"text-align: right;\">\n",
       "      <th></th>\n",
       "      <th>price_aprox_usd</th>\n",
       "      <th>surface_covered_in_m2</th>\n",
       "      <th>surface_total_in_m2</th>\n",
       "    </tr>\n",
       "  </thead>\n",
       "  <tbody>\n",
       "    <tr>\n",
       "      <th>price_aprox_usd</th>\n",
       "      <td>1.00000</td>\n",
       "      <td>0.022830</td>\n",
       "      <td>0.007330</td>\n",
       "    </tr>\n",
       "    <tr>\n",
       "      <th>surface_covered_in_m2</th>\n",
       "      <td>0.02283</td>\n",
       "      <td>1.000000</td>\n",
       "      <td>0.029895</td>\n",
       "    </tr>\n",
       "    <tr>\n",
       "      <th>surface_total_in_m2</th>\n",
       "      <td>0.00733</td>\n",
       "      <td>0.029895</td>\n",
       "      <td>1.000000</td>\n",
       "    </tr>\n",
       "  </tbody>\n",
       "</table>\n",
       "</div>"
      ],
      "text/plain": [
       "                       price_aprox_usd  surface_covered_in_m2  \\\n",
       "price_aprox_usd                1.00000               0.022830   \n",
       "surface_covered_in_m2          0.02283               1.000000   \n",
       "surface_total_in_m2            0.00733               0.029895   \n",
       "\n",
       "                       surface_total_in_m2  \n",
       "price_aprox_usd                   0.007330  \n",
       "surface_covered_in_m2             0.029895  \n",
       "surface_total_in_m2               1.000000  "
      ]
     },
     "execution_count": 48,
     "metadata": {},
     "output_type": "execute_result"
    }
   ],
   "source": [
    "precio_depurados = capitales_provincia_dptos.price_aprox_usd.dropna(how= 'all')\n",
    "m2_cubiertos_depurados = capitales_provincia_dptos.surface_covered_in_m2.dropna(how= 'all')\n",
    "\n",
    "print('Total de registros (depurados)\\n',capitales_provincia_dptos.loc[(precio_depurados.index) & (m2_cubiertos_depurados.index),['price_aprox_usd','surface_covered_in_m2','surface_total_in_m2']].notnull().sum(),sep='')\n",
    "\n",
    "capitales_provincia_dptos.loc[(precio_depurados.index) & (m2_cubiertos_depurados.index),['price_aprox_usd','surface_covered_in_m2','surface_total_in_m2']].corr(method='pearson')"
   ]
  },
  {
   "cell_type": "code",
   "execution_count": 49,
   "metadata": {},
   "outputs": [
    {
     "data": {
      "text/html": [
       "<div>\n",
       "<style scoped>\n",
       "    .dataframe tbody tr th:only-of-type {\n",
       "        vertical-align: middle;\n",
       "    }\n",
       "\n",
       "    .dataframe tbody tr th {\n",
       "        vertical-align: top;\n",
       "    }\n",
       "\n",
       "    .dataframe thead th {\n",
       "        text-align: right;\n",
       "    }\n",
       "</style>\n",
       "<table border=\"1\" class=\"dataframe\">\n",
       "  <thead>\n",
       "    <tr style=\"text-align: right;\">\n",
       "      <th></th>\n",
       "      <th>price_aprox_usd</th>\n",
       "      <th>surface_covered_in_m2</th>\n",
       "      <th>surface_total_in_m2</th>\n",
       "    </tr>\n",
       "  </thead>\n",
       "  <tbody>\n",
       "    <tr>\n",
       "      <th>price_aprox_usd</th>\n",
       "      <td>1.00000</td>\n",
       "      <td>0.022830</td>\n",
       "      <td>0.007330</td>\n",
       "    </tr>\n",
       "    <tr>\n",
       "      <th>surface_covered_in_m2</th>\n",
       "      <td>0.02283</td>\n",
       "      <td>1.000000</td>\n",
       "      <td>0.029895</td>\n",
       "    </tr>\n",
       "    <tr>\n",
       "      <th>surface_total_in_m2</th>\n",
       "      <td>0.00733</td>\n",
       "      <td>0.029895</td>\n",
       "      <td>1.000000</td>\n",
       "    </tr>\n",
       "  </tbody>\n",
       "</table>\n",
       "</div>"
      ],
      "text/plain": [
       "                       price_aprox_usd  surface_covered_in_m2  \\\n",
       "price_aprox_usd                1.00000               0.022830   \n",
       "surface_covered_in_m2          0.02283               1.000000   \n",
       "surface_total_in_m2            0.00733               0.029895   \n",
       "\n",
       "                       surface_total_in_m2  \n",
       "price_aprox_usd                   0.007330  \n",
       "surface_covered_in_m2             0.029895  \n",
       "surface_total_in_m2               1.000000  "
      ]
     },
     "execution_count": 49,
     "metadata": {},
     "output_type": "execute_result"
    },
    {
     "data": {
      "image/png": "[encoded data removed]",
      "text/plain": [
       "<Figure size 432x288 with 2 Axes>"
      ]
     },
     "metadata": {
      "needs_background": "light"
     },
     "output_type": "display_data"
    }
   ],
   "source": [
    "import seaborn as sns\n",
    "\n",
    "corr = capitales_provincia_dptos.loc[(precio_depurados.index) & (m2_cubiertos_depurados.index),['price_aprox_usd','surface_covered_in_m2','surface_total_in_m2']].corr(method='pearson')\n",
    "\n",
    "ax = sns.heatmap(\n",
    "    corr, \n",
    "    vmin=-1, vmax=1, center=0,\n",
    "    cmap=sns.diverging_palette(20, 220, n=200),\n",
    "    square=True\n",
    ")\n",
    "ax.set_xticklabels(\n",
    "    ax.get_xticklabels(),\n",
    "    rotation=45,\n",
    "    horizontalalignment='right'\n",
    ");\n",
    "capitales_provincia_dptos.loc[(precio_depurados.index) & (m2_cubiertos_depurados.index),['price_aprox_usd','surface_covered_in_m2','surface_total_in_m2']].corr(method='pearson')"
   ]
  },
  {
   "cell_type": "markdown",
   "metadata": {},
   "source": [
    "#### Capitales de Provincia -> M2 cubiertos VS precio USD -> CASAS"
   ]
  },
  {
   "cell_type": "markdown",
   "metadata": {},
   "source": [
    "##### Total de registros"
   ]
  },
  {
   "cell_type": "code",
   "execution_count": 50,
   "metadata": {},
   "outputs": [
    {
     "name": "stdout",
     "output_type": "stream",
     "text": [
      "Total de registros completados en precios USD: 2816\n",
      "Total de registros completados en m2: 3221\n"
     ]
    },
    {
     "data": {
      "text/html": [
       "<div>\n",
       "<style scoped>\n",
       "    .dataframe tbody tr th:only-of-type {\n",
       "        vertical-align: middle;\n",
       "    }\n",
       "\n",
       "    .dataframe tbody tr th {\n",
       "        vertical-align: top;\n",
       "    }\n",
       "\n",
       "    .dataframe thead th {\n",
       "        text-align: right;\n",
       "    }\n",
       "</style>\n",
       "<table border=\"1\" class=\"dataframe\">\n",
       "  <thead>\n",
       "    <tr style=\"text-align: right;\">\n",
       "      <th></th>\n",
       "      <th>price_aprox_usd</th>\n",
       "      <th>surface_covered_in_m2</th>\n",
       "      <th>surface_total_in_m2</th>\n",
       "    </tr>\n",
       "  </thead>\n",
       "  <tbody>\n",
       "    <tr>\n",
       "      <th>price_aprox_usd</th>\n",
       "      <td>1.000000</td>\n",
       "      <td>0.065702</td>\n",
       "      <td>0.129206</td>\n",
       "    </tr>\n",
       "    <tr>\n",
       "      <th>surface_covered_in_m2</th>\n",
       "      <td>0.065702</td>\n",
       "      <td>1.000000</td>\n",
       "      <td>0.055419</td>\n",
       "    </tr>\n",
       "    <tr>\n",
       "      <th>surface_total_in_m2</th>\n",
       "      <td>0.129206</td>\n",
       "      <td>0.055419</td>\n",
       "      <td>1.000000</td>\n",
       "    </tr>\n",
       "  </tbody>\n",
       "</table>\n",
       "</div>"
      ],
      "text/plain": [
       "                       price_aprox_usd  surface_covered_in_m2  \\\n",
       "price_aprox_usd               1.000000               0.065702   \n",
       "surface_covered_in_m2         0.065702               1.000000   \n",
       "surface_total_in_m2           0.129206               0.055419   \n",
       "\n",
       "                       surface_total_in_m2  \n",
       "price_aprox_usd                   0.129206  \n",
       "surface_covered_in_m2             0.055419  \n",
       "surface_total_in_m2               1.000000  "
      ]
     },
     "execution_count": 50,
     "metadata": {},
     "output_type": "execute_result"
    }
   ],
   "source": [
    "capitales_provincia_casas = capitales_provincia.loc[data.property_type == 'house',:]\n",
    "\n",
    "print('Total de registros completados en precios USD:',capitales_provincia_casas.price_aprox_usd.notnull().sum())\n",
    "print('Total de registros completados en m2:',capitales_provincia_casas.surface_covered_in_m2.notnull().sum())\n",
    "\n",
    "capitales_provincia_casas.loc[:,['price_aprox_usd','surface_covered_in_m2','surface_total_in_m2']].corr(method='pearson')"
   ]
  },
  {
   "cell_type": "code",
   "execution_count": 51,
   "metadata": {},
   "outputs": [
    {
     "data": {
      "text/html": [
       "<div>\n",
       "<style scoped>\n",
       "    .dataframe tbody tr th:only-of-type {\n",
       "        vertical-align: middle;\n",
       "    }\n",
       "\n",
       "    .dataframe tbody tr th {\n",
       "        vertical-align: top;\n",
       "    }\n",
       "\n",
       "    .dataframe thead th {\n",
       "        text-align: right;\n",
       "    }\n",
       "</style>\n",
       "<table border=\"1\" class=\"dataframe\">\n",
       "  <thead>\n",
       "    <tr style=\"text-align: right;\">\n",
       "      <th></th>\n",
       "      <th>price_aprox_usd</th>\n",
       "      <th>surface_covered_in_m2</th>\n",
       "      <th>surface_total_in_m2</th>\n",
       "    </tr>\n",
       "  </thead>\n",
       "  <tbody>\n",
       "    <tr>\n",
       "      <th>price_aprox_usd</th>\n",
       "      <td>1.000000</td>\n",
       "      <td>0.065702</td>\n",
       "      <td>0.129206</td>\n",
       "    </tr>\n",
       "    <tr>\n",
       "      <th>surface_covered_in_m2</th>\n",
       "      <td>0.065702</td>\n",
       "      <td>1.000000</td>\n",
       "      <td>0.055419</td>\n",
       "    </tr>\n",
       "    <tr>\n",
       "      <th>surface_total_in_m2</th>\n",
       "      <td>0.129206</td>\n",
       "      <td>0.055419</td>\n",
       "      <td>1.000000</td>\n",
       "    </tr>\n",
       "  </tbody>\n",
       "</table>\n",
       "</div>"
      ],
      "text/plain": [
       "                       price_aprox_usd  surface_covered_in_m2  \\\n",
       "price_aprox_usd               1.000000               0.065702   \n",
       "surface_covered_in_m2         0.065702               1.000000   \n",
       "surface_total_in_m2           0.129206               0.055419   \n",
       "\n",
       "                       surface_total_in_m2  \n",
       "price_aprox_usd                   0.129206  \n",
       "surface_covered_in_m2             0.055419  \n",
       "surface_total_in_m2               1.000000  "
      ]
     },
     "execution_count": 51,
     "metadata": {},
     "output_type": "execute_result"
    },
    {
     "data": {
      "image/png": "[encoded data removed]",
      "text/plain": [
       "<Figure size 432x288 with 2 Axes>"
      ]
     },
     "metadata": {
      "needs_background": "light"
     },
     "output_type": "display_data"
    }
   ],
   "source": [
    "import seaborn as sns\n",
    "\n",
    "corr = capitales_provincia_casas.loc[:,['price_aprox_usd','surface_covered_in_m2','surface_total_in_m2']].corr(method='pearson')\n",
    "ax = sns.heatmap(\n",
    "    corr, \n",
    "    vmin=-1, vmax=1, center=0,\n",
    "    cmap=sns.diverging_palette(20, 220, n=200),\n",
    "    square=True\n",
    ")\n",
    "ax.set_xticklabels(\n",
    "    ax.get_xticklabels(),\n",
    "    rotation=45,\n",
    "    horizontalalignment='right'\n",
    ");\n",
    "capitales_provincia_casas.loc[:,['price_aprox_usd','surface_covered_in_m2','surface_total_in_m2']].corr(method='pearson')"
   ]
  },
  {
   "cell_type": "markdown",
   "metadata": {},
   "source": [
    "##### Registros vacíos ELIMINADOS"
   ]
  },
  {
   "cell_type": "code",
   "execution_count": 52,
   "metadata": {},
   "outputs": [
    {
     "name": "stdout",
     "output_type": "stream",
     "text": [
      "Registros tras depuración: 2314\n"
     ]
    },
    {
     "data": {
      "text/html": [
       "<div>\n",
       "<style scoped>\n",
       "    .dataframe tbody tr th:only-of-type {\n",
       "        vertical-align: middle;\n",
       "    }\n",
       "\n",
       "    .dataframe tbody tr th {\n",
       "        vertical-align: top;\n",
       "    }\n",
       "\n",
       "    .dataframe thead th {\n",
       "        text-align: right;\n",
       "    }\n",
       "</style>\n",
       "<table border=\"1\" class=\"dataframe\">\n",
       "  <thead>\n",
       "    <tr style=\"text-align: right;\">\n",
       "      <th></th>\n",
       "      <th>price_aprox_usd</th>\n",
       "      <th>surface_covered_in_m2</th>\n",
       "      <th>surface_total_in_m2</th>\n",
       "    </tr>\n",
       "  </thead>\n",
       "  <tbody>\n",
       "    <tr>\n",
       "      <th>price_aprox_usd</th>\n",
       "      <td>1.000000</td>\n",
       "      <td>0.065702</td>\n",
       "      <td>0.125090</td>\n",
       "    </tr>\n",
       "    <tr>\n",
       "      <th>surface_covered_in_m2</th>\n",
       "      <td>0.065702</td>\n",
       "      <td>1.000000</td>\n",
       "      <td>0.031447</td>\n",
       "    </tr>\n",
       "    <tr>\n",
       "      <th>surface_total_in_m2</th>\n",
       "      <td>0.125090</td>\n",
       "      <td>0.031447</td>\n",
       "      <td>1.000000</td>\n",
       "    </tr>\n",
       "  </tbody>\n",
       "</table>\n",
       "</div>"
      ],
      "text/plain": [
       "                       price_aprox_usd  surface_covered_in_m2  \\\n",
       "price_aprox_usd               1.000000               0.065702   \n",
       "surface_covered_in_m2         0.065702               1.000000   \n",
       "surface_total_in_m2           0.125090               0.031447   \n",
       "\n",
       "                       surface_total_in_m2  \n",
       "price_aprox_usd                   0.125090  \n",
       "surface_covered_in_m2             0.031447  \n",
       "surface_total_in_m2               1.000000  "
      ]
     },
     "execution_count": 52,
     "metadata": {},
     "output_type": "execute_result"
    }
   ],
   "source": [
    "precio_depurados = capitales_provincia_casas.price_aprox_usd.dropna(how= 'all')\n",
    "m2_cubiertos_depurados = capitales_provincia_casas.surface_covered_in_m2.dropna(how= 'all')\n",
    "\n",
    "print('Registros tras depuración:',capitales_provincia_casas.loc[(precio_depurados.index) & (m2_cubiertos_depurados.index),'price_aprox_usd'].notnull().sum())\n",
    "\n",
    "capitales_provincia_casas.loc[(precio_depurados.index) & (m2_cubiertos_depurados.index),['price_aprox_usd','surface_covered_in_m2','surface_total_in_m2']].corr(method='pearson')"
   ]
  },
  {
   "cell_type": "code",
   "execution_count": 53,
   "metadata": {},
   "outputs": [
    {
     "data": {
      "text/html": [
       "<div>\n",
       "<style scoped>\n",
       "    .dataframe tbody tr th:only-of-type {\n",
       "        vertical-align: middle;\n",
       "    }\n",
       "\n",
       "    .dataframe tbody tr th {\n",
       "        vertical-align: top;\n",
       "    }\n",
       "\n",
       "    .dataframe thead th {\n",
       "        text-align: right;\n",
       "    }\n",
       "</style>\n",
       "<table border=\"1\" class=\"dataframe\">\n",
       "  <thead>\n",
       "    <tr style=\"text-align: right;\">\n",
       "      <th></th>\n",
       "      <th>price_aprox_usd</th>\n",
       "      <th>surface_covered_in_m2</th>\n",
       "      <th>surface_total_in_m2</th>\n",
       "    </tr>\n",
       "  </thead>\n",
       "  <tbody>\n",
       "    <tr>\n",
       "      <th>price_aprox_usd</th>\n",
       "      <td>1.000000</td>\n",
       "      <td>0.065702</td>\n",
       "      <td>0.125090</td>\n",
       "    </tr>\n",
       "    <tr>\n",
       "      <th>surface_covered_in_m2</th>\n",
       "      <td>0.065702</td>\n",
       "      <td>1.000000</td>\n",
       "      <td>0.031447</td>\n",
       "    </tr>\n",
       "    <tr>\n",
       "      <th>surface_total_in_m2</th>\n",
       "      <td>0.125090</td>\n",
       "      <td>0.031447</td>\n",
       "      <td>1.000000</td>\n",
       "    </tr>\n",
       "  </tbody>\n",
       "</table>\n",
       "</div>"
      ],
      "text/plain": [
       "                       price_aprox_usd  surface_covered_in_m2  \\\n",
       "price_aprox_usd               1.000000               0.065702   \n",
       "surface_covered_in_m2         0.065702               1.000000   \n",
       "surface_total_in_m2           0.125090               0.031447   \n",
       "\n",
       "                       surface_total_in_m2  \n",
       "price_aprox_usd                   0.125090  \n",
       "surface_covered_in_m2             0.031447  \n",
       "surface_total_in_m2               1.000000  "
      ]
     },
     "execution_count": 53,
     "metadata": {},
     "output_type": "execute_result"
    },
    {
     "data": {
      "image/png": "[encoded data removed]",
      "text/plain": [
       "<Figure size 432x288 with 2 Axes>"
      ]
     },
     "metadata": {
      "needs_background": "light"
     },
     "output_type": "display_data"
    }
   ],
   "source": [
    "import seaborn as sns\n",
    "\n",
    "corr = capitales_provincia_casas.loc[(precio_depurados.index) & (m2_cubiertos_depurados.index),['price_aprox_usd','surface_covered_in_m2','surface_total_in_m2']].corr(method='pearson')\n",
    "ax = sns.heatmap(\n",
    "    corr, \n",
    "    vmin=-1, vmax=1, center=0,\n",
    "    cmap=sns.diverging_palette(20, 220, n=200),\n",
    "    square=True\n",
    ")\n",
    "ax.set_xticklabels(\n",
    "    ax.get_xticklabels(),\n",
    "    rotation=45,\n",
    "    horizontalalignment='right'\n",
    ");\n",
    "capitales_provincia_casas.loc[(precio_depurados.index) & (m2_cubiertos_depurados.index),['price_aprox_usd','surface_covered_in_m2','surface_total_in_m2']].corr(method='pearson')"
   ]
  },
  {
   "cell_type": "markdown",
   "metadata": {},
   "source": [
    "### Visualizaciones"
   ]
  },
  {
   "cell_type": "code",
   "execution_count": 54,
   "metadata": {},
   "outputs": [],
   "source": [
    "import matplotlib\n",
    "import matplotlib.pyplot as plt"
   ]
  },
  {
   "cell_type": "markdown",
   "metadata": {},
   "source": [
    "#### Cantidad y Completitud de datos"
   ]
  },
  {
   "cell_type": "markdown",
   "metadata": {},
   "source": [
    "##### Provincias"
   ]
  },
  {
   "cell_type": "code",
   "execution_count": 55,
   "metadata": {},
   "outputs": [],
   "source": [
    "precios_provincia = data.groupby('provincia')['price_aprox_usd']\\\n",
    "    .apply(lambda x: 100 * x.notnull().sum() / len(x))"
   ]
  },
  {
   "cell_type": "code",
   "execution_count": 56,
   "metadata": {},
   "outputs": [
    {
     "data": {
      "text/plain": [
       "provincia\n",
       "Tierra Del Fuego       100.000000\n",
       "Catamarca               96.296296\n",
       "Santa Cruz              95.000000\n",
       "Capital Federal         89.794529\n",
       "Buenos Aires            88.905792\n",
       "San Luis                82.539683\n",
       "Corrientes              80.617496\n",
       "Santiago Del Estero     75.000000\n",
       "Misiones                75.000000\n",
       "Córdoba                 74.886072\n",
       "Mendoza                 69.897210\n",
       "Chubut                  63.320463\n",
       "Chaco                   63.157895\n",
       "Santa Fe                53.214707\n",
       "La Rioja                50.000000\n",
       "Río Negro               44.678218\n",
       "Formosa                 44.615385\n",
       "Neuquén                 44.201910\n",
       "Jujuy                   38.461538\n",
       "Salta                   36.690647\n",
       "Entre Ríos              35.230352\n",
       "Tucumán                 31.602374\n",
       "La Pampa                22.929936\n",
       "San Juan                10.000000\n",
       "Name: price_aprox_usd, dtype: float64"
      ]
     },
     "execution_count": 56,
     "metadata": {},
     "output_type": "execute_result"
    }
   ],
   "source": [
    "precios_provincia.sort_values(ascending=False)"
   ]
  },
  {
   "cell_type": "code",
   "execution_count": 57,
   "metadata": {},
   "outputs": [
    {
     "data": {
      "text/plain": [
       "0.8316284441511301"
      ]
     },
     "execution_count": 57,
     "metadata": {},
     "output_type": "execute_result"
    }
   ],
   "source": [
    "data.groupby('provincia')['price_aprox_usd'].count().sum()/data.price_aprox_usd.shape[0]"
   ]
  },
  {
   "cell_type": "code",
   "execution_count": 58,
   "metadata": {},
   "outputs": [
    {
     "data": {
      "image/png": "[encoded data removed]",
      "text/plain": [
       "<Figure size 640x480 with 1 Axes>"
      ]
     },
     "metadata": {},
     "output_type": "display_data"
    }
   ],
   "source": [
    "n_bins = len(precios_provincia)\n",
    "names = precios_provincia.index\n",
    "\n",
    "plt.style.use('seaborn-whitegrid')\n",
    "\n",
    "fig = plt.figure(figsize=(8, 6), dpi=80)\n",
    "ax = plt.axes()\n",
    "\n",
    "ax.bar(names,precios_provincia, edgecolor='black')\n",
    "\n",
    "ax.set_xticklabels(names,rotation=45,rotation_mode=\"anchor\", ha=\"right\")\n",
    "\n",
    "ax.set(xlabel = \"Distritos\", ylabel = \"% completo en precio_usd\", title = \"Precios USD completos x Provincia\")\n",
    "\n",
    "\n",
    "plt.show()"
   ]
  },
  {
   "cell_type": "code",
   "execution_count": 59,
   "metadata": {},
   "outputs": [],
   "source": [
    "cant_precios_provincia = np.around(100*(data.groupby('provincia')['operation'].count() / data.shape[0]), 3)"
   ]
  },
  {
   "cell_type": "code",
   "execution_count": 60,
   "metadata": {},
   "outputs": [
    {
     "data": {
      "text/plain": [
       "provincia\n",
       "Buenos Aires           50.430\n",
       "Capital Federal        26.659\n",
       "Córdoba                 9.956\n",
       "Santa Fe                8.391\n",
       "Río Negro               0.667\n",
       "Neuquén                 0.605\n",
       "Mendoza                 0.562\n",
       "Tucumán                 0.556\n",
       "Corrientes              0.481\n",
       "Misiones                0.383\n",
       "Entre Ríos              0.304\n",
       "Salta                   0.229\n",
       "Chubut                  0.214\n",
       "San Luis                0.208\n",
       "La Pampa                0.130\n",
       "Formosa                 0.054\n",
       "Chaco                   0.047\n",
       "San Juan                0.033\n",
       "Tierra Del Fuego        0.026\n",
       "Catamarca               0.022\n",
       "Jujuy                   0.021\n",
       "Santa Cruz              0.016\n",
       "Santiago Del Estero     0.003\n",
       "La Rioja                0.003\n",
       "Name: operation, dtype: float64"
      ]
     },
     "execution_count": 60,
     "metadata": {},
     "output_type": "execute_result"
    }
   ],
   "source": [
    "cant_precios_provincia.sort_values(ascending=False)"
   ]
  },
  {
   "cell_type": "code",
   "execution_count": 61,
   "metadata": {},
   "outputs": [
    {
     "data": {
      "image/png": "[encoded data removed]",
      "text/plain": [
       "<Figure size 640x480 with 1 Axes>"
      ]
     },
     "metadata": {},
     "output_type": "display_data"
    }
   ],
   "source": [
    "n_bins = len(cant_precios_provincia)\n",
    "names = cant_precios_provincia.index\n",
    "\n",
    "plt.style.use('seaborn-whitegrid')\n",
    "\n",
    "fig = plt.figure(figsize=(8, 6), dpi=80)\n",
    "ax = plt.axes()\n",
    "\n",
    "ax.bar(names,cant_precios_provincia, color='green', edgecolor='black')\n",
    "\n",
    "ax.set_xticklabels(names,rotation=45,rotation_mode=\"anchor\", ha=\"right\")\n",
    "\n",
    "ax.set(xlabel = \"Distritos\", ylabel = \"% completo en precio_usd\", title = \"% Ventas x Provincia\")\n",
    "\n",
    "\n",
    "plt.show()"
   ]
  },
  {
   "cell_type": "markdown",
   "metadata": {},
   "source": [
    "#### Regiones"
   ]
  },
  {
   "cell_type": "code",
   "execution_count": 62,
   "metadata": {},
   "outputs": [
    {
     "data": {
      "text/plain": [
       "region\n",
       "Central         64.974596\n",
       "Cuyo            70.709147\n",
       "Mesopotamica    66.949153\n",
       "Noreste         53.278689\n",
       "Noroeste        35.143139\n",
       "Pampeana        89.101961\n",
       "Patagonica      48.568341\n",
       "Name: price_aprox_usd, dtype: float64"
      ]
     },
     "execution_count": 62,
     "metadata": {},
     "output_type": "execute_result"
    }
   ],
   "source": [
    "precios_regiones = data.groupby('region')['price_aprox_usd']\\\n",
    "    .apply(lambda x: 100 * x.notnull().sum() / len(x))\n",
    "precios_regiones"
   ]
  },
  {
   "cell_type": "code",
   "execution_count": 63,
   "metadata": {},
   "outputs": [
    {
     "data": {
      "image/png": "[encoded data removed]",
      "text/plain": [
       "<Figure size 640x480 with 1 Axes>"
      ]
     },
     "metadata": {},
     "output_type": "display_data"
    }
   ],
   "source": [
    "n_bins = len(precios_regiones)\n",
    "names = precios_regiones.index\n",
    "\n",
    "plt.style.use('seaborn-whitegrid')\n",
    "\n",
    "fig = plt.figure(figsize=(8, 6), dpi=80)\n",
    "ax = plt.axes()\n",
    "\n",
    "ax.bar(names,precios_regiones, edgecolor='black', color='green')\n",
    "\n",
    "ax.set_xticklabels(names,rotation=45,rotation_mode=\"anchor\", ha=\"right\")\n",
    "\n",
    "ax.set(xlabel = \"Distritos\", title = \"% Precios USD completos x Región\")\n",
    "\n",
    "\n",
    "plt.show()"
   ]
  },
  {
   "cell_type": "code",
   "execution_count": 64,
   "metadata": {},
   "outputs": [
    {
     "data": {
      "text/plain": [
       "region\n",
       "Central         18.35\n",
       "Cuyo             0.80\n",
       "Mesopotamica     1.17\n",
       "Noreste          0.10\n",
       "Noroeste         0.84\n",
       "Pampeana        77.22\n",
       "Patagonica       1.53\n",
       "Name: operation, dtype: float64"
      ]
     },
     "execution_count": 64,
     "metadata": {},
     "output_type": "execute_result"
    }
   ],
   "source": [
    "cant_precios_regiones = np.around(100*(data.groupby('region')['operation'].count() / data.shape[0]),2)\n",
    "cant_precios_regiones"
   ]
  },
  {
   "cell_type": "code",
   "execution_count": 65,
   "metadata": {},
   "outputs": [
    {
     "data": {
      "image/png": "[encoded data removed]",
      "text/plain": [
       "<Figure size 640x480 with 1 Axes>"
      ]
     },
     "metadata": {},
     "output_type": "display_data"
    }
   ],
   "source": [
    "n_bins = len(cant_precios_regiones)\n",
    "names = cant_precios_regiones.index\n",
    "\n",
    "plt.style.use('seaborn-whitegrid')\n",
    "\n",
    "fig = plt.figure(figsize=(8, 6), dpi=80)\n",
    "ax = plt.axes()\n",
    "\n",
    "ax.bar(names,cant_precios_regiones, edgecolor='black', color = 'red')\n",
    "\n",
    "ax.set_xticklabels(names,rotation=45,rotation_mode=\"anchor\", ha=\"right\")\n",
    "\n",
    "ax.set(xlabel = \"Distritos\", ylabel = \"% completo en precio_usd\", title = \"% Ventas x Región\")\n",
    "\n",
    "plt.show()"
   ]
  },
  {
   "cell_type": "markdown",
   "metadata": {},
   "source": [
    "#### Barrios"
   ]
  },
  {
   "cell_type": "code",
   "execution_count": 66,
   "metadata": {},
   "outputs": [
    {
     "data": {
      "text/plain": [
       "place_name\n",
       "Villa General Mitre    100.000000\n",
       "Villa Real             100.000000\n",
       "Palermo Viejo          100.000000\n",
       "Parque Chas            100.000000\n",
       "Villa Soldati          100.000000\n",
       "                          ...    \n",
       "Palermo Chico           82.327586\n",
       "Once                    82.323232\n",
       "Palermo Soho            81.472081\n",
       "Capital Federal         73.862760\n",
       "Catalinas               50.000000\n",
       "Name: price_aprox_usd, Length: 62, dtype: float64"
      ]
     },
     "execution_count": 66,
     "metadata": {},
     "output_type": "execute_result"
    }
   ],
   "source": [
    "precios_barrios = barrios_zonas_capital.groupby('place_name')['price_aprox_usd']\\\n",
    "    .apply(lambda x: 100 * x.notnull().sum() / len(x))\n",
    "precios_barrios.sort_values(ascending=False)"
   ]
  },
  {
   "cell_type": "code",
   "execution_count": 67,
   "metadata": {},
   "outputs": [
    {
     "data": {
      "image/png": "[encoded data removed]",
      "text/plain": [
       "<Figure size 1440x480 with 1 Axes>"
      ]
     },
     "metadata": {},
     "output_type": "display_data"
    }
   ],
   "source": [
    "n_bins = len(precios_barrios)\n",
    "names = precios_barrios.index\n",
    "\n",
    "plt.style.use('seaborn-whitegrid')\n",
    "\n",
    "fig = plt.figure(figsize=(18, 6), dpi=80)\n",
    "ax = plt.axes()\n",
    "\n",
    "ax.bar(names,precios_barrios, edgecolor='black', color = 'green')\n",
    "\n",
    "ax.set_xticklabels(names,rotation=45,rotation_mode=\"anchor\", ha=\"right\")\n",
    "\n",
    "ax.set(xlabel = \"Distritos\", title = \"% Precios USD completos x Barrio\")\n",
    "\n",
    "plt.show()"
   ]
  },
  {
   "cell_type": "code",
   "execution_count": 68,
   "metadata": {},
   "outputs": [
    {
     "data": {
      "text/plain": [
       "place_name\n",
       "Belgrano           9.26\n",
       "Palermo            8.93\n",
       "Caballito          7.03\n",
       "Villa Urquiza      5.04\n",
       "Recoleta           4.79\n",
       "                   ... \n",
       "Velez Sarsfield    0.12\n",
       "Villa Real         0.11\n",
       "Villa Soldati      0.05\n",
       "Villa Riachuelo    0.02\n",
       "Catalinas          0.01\n",
       "Name: operation, Length: 62, dtype: float64"
      ]
     },
     "execution_count": 68,
     "metadata": {},
     "output_type": "execute_result"
    }
   ],
   "source": [
    "cant_precios_barrios = np.around(100*(barrios_zonas_capital.groupby('place_name')['operation'].count() / barrios_zonas_capital.shape[0]),2)\n",
    "cant_precios_barrios.sort_values(ascending=False)"
   ]
  },
  {
   "cell_type": "code",
   "execution_count": 69,
   "metadata": {},
   "outputs": [
    {
     "data": {
      "image/png": "[encoded data removed]",
      "text/plain": [
       "<Figure size 1440x480 with 1 Axes>"
      ]
     },
     "metadata": {},
     "output_type": "display_data"
    }
   ],
   "source": [
    "n_bins = len(cant_precios_barrios)\n",
    "names = cant_precios_barrios.index\n",
    "\n",
    "plt.style.use('seaborn-whitegrid')\n",
    "\n",
    "fig = plt.figure(figsize=(18, 6), dpi=80)\n",
    "ax = plt.axes()\n",
    "\n",
    "ax.bar(names,cant_precios_barrios, edgecolor='black', color = 'red')\n",
    "\n",
    "ax.set_xticklabels(names,rotation=45,rotation_mode=\"anchor\", ha=\"right\")\n",
    "\n",
    "ax.set(xlabel = \"Distritos\", title = \"% Ventas x Barrio\")\n",
    "\n",
    "plt.show()"
   ]
  },
  {
   "cell_type": "code",
   "execution_count": null,
   "metadata": {},
   "outputs": [],
   "source": []
  },
  {
   "cell_type": "code",
   "execution_count": null,
   "metadata": {},
   "outputs": [],
   "source": []
  }
 ],
 "metadata": {
  "kernelspec": {
   "display_name": "Python 3",
   "language": "python",
   "name": "python3"
  },
  "language_info": {
   "codemirror_mode": {
    "name": "ipython",
    "version": 3
   },
   "file_extension": ".py",
   "mimetype": "text/x-python",
   "name": "python",
   "nbconvert_exporter": "python",
   "pygments_lexer": "ipython3",
   "version": "3.7.7"
  }
 },
 "nbformat": 4,
 "nbformat_minor": 4
}
