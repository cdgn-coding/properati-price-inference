{
 "cells": [
  {
   "cell_type": "code",
   "execution_count": 1,
   "metadata": {},
   "outputs": [],
   "source": [
    "import pandas as pd\n",
    "import numpy as np\n",
    "import re\n",
    "data = pd.read_csv(\"properati.csv\")"
   ]
  },
  {
   "cell_type": "markdown",
   "metadata": {},
   "source": [
    "## Patrones -> Precio"
   ]
  },
  {
   "cell_type": "code",
   "execution_count": 2,
   "metadata": {},
   "outputs": [],
   "source": [
    "# Precios inmueble\n",
    "\n",
    "# detecto el precio (antecedido por usd y NO precedido por m2)\n",
    "\n",
    "patron_precio_inm = '(usd|u\\$d|u\\$s|us\\$|dolares) ?(\\d{2,}(\\,|\\.)\\d{0,3}\\.?\\d{0,3}|(\\d{2,}(\\,|\\.)\\d{0,3}\\,?\\.?\\d{0,3}\\,?\\.?\\d{0,3})) ?(?!(.*m2|.*mc|.*metros))'\n",
    "regex_precio_inm = re.compile(patron_precio_inm, flags = re.IGNORECASE)\n",
    "\n",
    "# formateo el precio (00.000.000 / 00.000 -> conjunto de tres cifras)\n",
    "\n",
    "patron_precio_inm_2 = '(\\d\\d\\d?\\.)(\\d\\d\\d\\.)?(\\d\\d\\d)'\n",
    "regex_precio_inm_2 = re.compile(patron_precio_inm_2, flags = re.IGNORECASE)"
   ]
  },
  {
   "cell_type": "markdown",
   "metadata": {},
   "source": [
    "### Búsqueda de Precios\n",
    "\n",
    "#### Precios en descripción"
   ]
  },
  {
   "cell_type": "code",
   "execution_count": 3,
   "metadata": {},
   "outputs": [
    {
     "name": "stdout",
     "output_type": "stream",
     "text": [
      "Macheos encontrados de precios en descripción: 7034\n",
      "Ejemplo: 750.000132\n"
     ]
    },
    {
     "data": {
      "text/plain": [
       "True     114186\n",
       "False      7034\n",
       "Name: description, dtype: int64"
      ]
     },
     "execution_count": 3,
     "metadata": {},
     "output_type": "execute_result"
    }
   ],
   "source": [
    "# precios en descripción\n",
    "\n",
    "precios_descripcion_macheo = data.description.apply(lambda x: x if x is np.NaN else regex_precio_inm.search(x))\n",
    "precios_descripcion = precios_descripcion_macheo\\\n",
    "        .apply(lambda x: x if x is None or x is np.NaN else x.group(2))\n",
    "\n",
    "print('Macheos encontrados de precios en descripción:',precios_descripcion_macheo.notnull().sum())\n",
    "print('Ejemplo:',precios_descripcion.iloc[55245])\n",
    "precios_descripcion.isnull().value_counts()"
   ]
  },
  {
   "cell_type": "code",
   "execution_count": 4,
   "metadata": {},
   "outputs": [
    {
     "data": {
      "text/plain": [
       "(750000.0, 6778)"
      ]
     },
     "execution_count": 4,
     "metadata": {},
     "output_type": "execute_result"
    }
   ],
   "source": [
    "# precios formateados con regex\n",
    "\n",
    "precios_descripcion_formateo_match = precios_descripcion\\\n",
    "                    .apply(lambda x: x if x is None or x is np.NaN else regex_precio_inm_2.search(x))\n",
    "\n",
    "precios_descripcion_formateado = precios_descripcion_formateo_match\\\n",
    "                    .apply(lambda x: np.NaN if x is None or x is np.NaN else x.group()\\\n",
    "                        .replace(',','')\\\n",
    "                        .replace('.',''))\\\n",
    "                    .astype(float)\n",
    "\n",
    "precios_descripcion_formateado.iloc[55245], precios_descripcion_formateado.notnull().sum()"
   ]
  },
  {
   "cell_type": "code",
   "execution_count": 5,
   "metadata": {},
   "outputs": [
    {
     "name": "stdout",
     "output_type": "stream",
     "text": [
      "Macheos de precios filtrados en titulo: 5853\n"
     ]
    },
    {
     "data": {
      "text/plain": [
       "(91468     25000000.0\n",
       " 91229     14000000.0\n",
       " 74066       993140.0\n",
       " 73965       985320.0\n",
       " 113972      980000.0\n",
       " 74032       961860.0\n",
       " 73927       954040.0\n",
       " 71653       950000.0\n",
       " 71409       950000.0\n",
       " 73979       946220.0\n",
       " Name: description, dtype: float64,\n",
       " 5853)"
      ]
     },
     "execution_count": 5,
     "metadata": {},
     "output_type": "execute_result"
    }
   ],
   "source": [
    "# formateo con condicional (mayores a cinco cifras y menores a nueve cifras)\n",
    "\n",
    "precios_descripcion_filtado = precios_descripcion_formateado.apply(lambda x: x if x > 20000 and x < 30000000 else np.NaN)\n",
    "\n",
    "print('Macheos de precios filtrados en titulo:', precios_descripcion_filtado.notnull().sum())\n",
    "\n",
    "precios_descripcion_filtado.sort_values(ascending=False).head(10), precios_descripcion_filtado.notnull().sum()"
   ]
  },
  {
   "cell_type": "code",
   "execution_count": 6,
   "metadata": {},
   "outputs": [
    {
     "data": {
      "text/plain": [
       "750000.0"
      ]
     },
     "execution_count": 6,
     "metadata": {},
     "output_type": "execute_result"
    }
   ],
   "source": [
    "precios_descripcion_filtado.iloc[55245]"
   ]
  },
  {
   "cell_type": "markdown",
   "metadata": {},
   "source": [
    "#### Precios en título"
   ]
  },
  {
   "cell_type": "code",
   "execution_count": 7,
   "metadata": {},
   "outputs": [
    {
     "name": "stdout",
     "output_type": "stream",
     "text": [
      "Macheos encontrados de precios en descripción: 6592\n",
      "Ejemplo: 123.456.789\n"
     ]
    },
    {
     "data": {
      "text/plain": [
       "True     114628\n",
       "False      6592\n",
       "Name: title, dtype: int64"
      ]
     },
     "execution_count": 7,
     "metadata": {},
     "output_type": "execute_result"
    }
   ],
   "source": [
    "# precios en descripción\n",
    "\n",
    "precios_tit_macheo = data.title.apply(lambda x: x if x is np.NaN else regex_precio_inm.search(x))\n",
    "precios_tit = precios_tit_macheo\\\n",
    "        .apply(lambda x: x if x is None or x is np.NaN else x.group(2))\n",
    "\n",
    "print('Macheos encontrados de precios en descripción:',precios_tit_macheo.notnull().sum())\n",
    "print('Ejemplo:',precios_tit.iloc[1937])\n",
    "precios_tit.isnull().value_counts()"
   ]
  },
  {
   "cell_type": "code",
   "execution_count": 8,
   "metadata": {},
   "outputs": [
    {
     "data": {
      "text/plain": [
       "(123456789.0, 6581)"
      ]
     },
     "execution_count": 8,
     "metadata": {},
     "output_type": "execute_result"
    }
   ],
   "source": [
    "# formateos con regex\n",
    "\n",
    "precios_tit_formateo_match = precios_tit\\\n",
    "                    .apply(lambda x: x if x is None or x is np.NaN else regex_precio_inm_2.search(x))\n",
    "\n",
    "precios_tit_formateado = precios_tit_formateo_match\\\n",
    "                    .apply(lambda x: np.NaN if x is None or x is np.NaN else x.group()\\\n",
    "                        .replace(',','')\\\n",
    "                        .replace('.',''))\\\n",
    "                    .astype(float)\n",
    "\n",
    "# el siguiente nro debe ser filtrado\n",
    "precios_tit_formateado.iloc[1937], precios_tit_formateado.notnull().sum()"
   ]
  },
  {
   "cell_type": "code",
   "execution_count": 9,
   "metadata": {},
   "outputs": [
    {
     "name": "stdout",
     "output_type": "stream",
     "text": [
      "Macheos de precios filtrados en titulo: 6574\n"
     ]
    },
    {
     "data": {
      "text/plain": [
       "34638    14000000.0\n",
       "2082     11800000.0\n",
       "525      11000000.0\n",
       "8303       999999.0\n",
       "5082       998000.0\n",
       "17486      990000.0\n",
       "9858       990000.0\n",
       "11673      990000.0\n",
       "21401      990000.0\n",
       "21474      980000.0\n",
       "Name: title, dtype: float64"
      ]
     },
     "execution_count": 9,
     "metadata": {},
     "output_type": "execute_result"
    }
   ],
   "source": [
    "# formateo con condicional (mayores a cinco cifras y menores a nueve cifras)\n",
    "\n",
    "precios_tit_filtado = precios_tit_formateado.apply(lambda x: x if x > 20000 and x < 30000000 else np.NaN)\n",
    "\n",
    "print('Macheos de precios filtrados en titulo:', precios_tit_filtado.notnull().sum())\n",
    "\n",
    "precios_tit_filtado.sort_values(ascending=False).head(10)"
   ]
  },
  {
   "cell_type": "markdown",
   "metadata": {},
   "source": [
    "### Revision"
   ]
  },
  {
   "cell_type": "code",
   "execution_count": 10,
   "metadata": {},
   "outputs": [
    {
     "data": {
      "text/plain": [
       "'Casa 2079m² en Del Libertador, Av. 2200, Vicente López, Olivos, por U$S 14.000.000'"
      ]
     },
     "execution_count": 10,
     "metadata": {},
     "output_type": "execute_result"
    }
   ],
   "source": [
    "data.title.iloc[34638]"
   ]
  },
  {
   "cell_type": "code",
   "execution_count": 11,
   "metadata": {},
   "outputs": [
    {
     "data": {
      "text/plain": [
       "'Casa con Agua Corriente, Córdoba, Punilla, por U$S 25.000.000'"
      ]
     },
     "execution_count": 11,
     "metadata": {},
     "output_type": "execute_result"
    }
   ],
   "source": [
    "data.description.iloc[91468]"
   ]
  },
  {
   "cell_type": "markdown",
   "metadata": {},
   "source": [
    "### Fusión"
   ]
  },
  {
   "cell_type": "code",
   "execution_count": 12,
   "metadata": {},
   "outputs": [
    {
     "data": {
      "text/plain": [
       "5853"
      ]
     },
     "execution_count": 12,
     "metadata": {},
     "output_type": "execute_result"
    }
   ],
   "source": [
    "precios_descripcion_filtado.notnull().sum()"
   ]
  },
  {
   "cell_type": "code",
   "execution_count": 13,
   "metadata": {},
   "outputs": [
    {
     "data": {
      "text/plain": [
       "6574"
      ]
     },
     "execution_count": 13,
     "metadata": {},
     "output_type": "execute_result"
    }
   ],
   "source": [
    "precios_tit_filtado.notnull().sum()"
   ]
  },
  {
   "cell_type": "code",
   "execution_count": 14,
   "metadata": {},
   "outputs": [
    {
     "data": {
      "text/plain": [
       "100810"
      ]
     },
     "execution_count": 14,
     "metadata": {},
     "output_type": "execute_result"
    }
   ],
   "source": [
    "data.price_aprox_usd.notnull().sum()"
   ]
  },
  {
   "cell_type": "markdown",
   "metadata": {},
   "source": [
    "#### Price + Precios de descripción"
   ]
  },
  {
   "cell_type": "code",
   "execution_count": 18,
   "metadata": {},
   "outputs": [
    {
     "name": "stdout",
     "output_type": "stream",
     "text": [
      "precios vacíos en columna price: 20410\n",
      "precios a rellenar en columna price desde description: 424\n",
      "precios vacios tras relleno con precios de desc: 19986 \n",
      "20410 - 424 = 19986\n"
     ]
    }
   ],
   "source": [
    "print('precios vacíos en columna price:',data.price_aprox_usd.isnull().sum())\n",
    "print('precios a rellenar en columna price desde description:', precios_descripcion_filtado.loc[data.price_aprox_usd.isnull()].notnull().sum())\n",
    "\n",
    "# imputacion de valores extraídos de desc\n",
    "#data['price_desc'] = data['price_aprox_usd']\n",
    "#data['price_desc'].loc[data.price_aprox_usd.isnull()] = precios_descripcion_filtado.loc[data.price_aprox_usd.isnull()]\n",
    "\n",
    "print('precios vacios tras relleno con precios de desc:',data.price_desc.isnull().sum(),'\\n20410 -','424 =',20410 - 424)"
   ]
  },
  {
   "cell_type": "markdown",
   "metadata": {},
   "source": [
    "#### Price + Precios de titulo"
   ]
  },
  {
   "cell_type": "code",
   "execution_count": 19,
   "metadata": {},
   "outputs": [
    {
     "name": "stdout",
     "output_type": "stream",
     "text": [
      "precios vacíos en columna price: 20410\n",
      "precios a rellenar en columna price desde title: 2383\n",
      "precios vacios tras relleno con precios de tit: 18027 \n",
      "20410 - 2383 = 18027\n"
     ]
    }
   ],
   "source": [
    "print('precios vacíos en columna price:',data.price_aprox_usd.isnull().sum())\n",
    "print('precios a rellenar en columna price desde title:', precios_tit_filtado.loc[data.price_aprox_usd.isnull()].notnull().sum())\n",
    "\n",
    "# imputacion de valores extraídos de tit\n",
    "#data['price_tit'] = data['price_aprox_usd']\n",
    "#data['price_tit'].loc[data.price_aprox_usd.isnull()] = precios_tit_filtado.loc[data.price_aprox_usd.isnull()]\n",
    "\n",
    "print('precios vacios tras relleno con precios de tit:',data.price_tit.isnull().sum(),'\\n20410 -','2383 =',20410 - 2383)"
   ]
  },
  {
   "cell_type": "markdown",
   "metadata": {},
   "source": [
    "### Patrones -> Cochera"
   ]
  },
  {
   "cell_type": "code",
   "execution_count": 20,
   "metadata": {},
   "outputs": [],
   "source": [
    "# Cochera\n",
    "patron_cochera = '(?<!sin )(?<!no incluye )(?<!no posee )cochera(?! no incluye)(?! no incluida)'\n",
    "regex_cochera = re.compile(patron_cochera, flags = re.IGNORECASE)"
   ]
  },
  {
   "cell_type": "markdown",
   "metadata": {},
   "source": [
    "#### Cochera en descripción"
   ]
  },
  {
   "cell_type": "code",
   "execution_count": 21,
   "metadata": {},
   "outputs": [
    {
     "name": "stdout",
     "output_type": "stream",
     "text": [
      "Macheos encontrados de cochera en descripción: 42158\n",
      "Ejemplo: Cochera\n"
     ]
    },
    {
     "data": {
      "text/plain": [
       "False    79062\n",
       "True     42158\n",
       "Name: description, dtype: int64"
      ]
     },
     "execution_count": 21,
     "metadata": {},
     "output_type": "execute_result"
    }
   ],
   "source": [
    "cochera_descripcion_macheo = data.description.apply(lambda x: x if x is np.NaN else regex_cochera.search(x))\n",
    "cochera_descripcion = cochera_descripcion_macheo\\\n",
    "        .apply(lambda x: x if x is None or x is np.NaN else x.group())\n",
    "\n",
    "print('Macheos encontrados de cochera en descripción:',cochera_descripcion_macheo.notnull().sum())\n",
    "print('Ejemplo:',cochera_descripcion.iloc[55245])\n",
    "cochera_descripcion.notnull().value_counts()"
   ]
  },
  {
   "cell_type": "markdown",
   "metadata": {},
   "source": [
    "#### Cochera en título"
   ]
  },
  {
   "cell_type": "code",
   "execution_count": 22,
   "metadata": {},
   "outputs": [
    {
     "name": "stdout",
     "output_type": "stream",
     "text": [
      "Macheos encontrados de cochera en título: 5985\n",
      "Ejemplo: Cochera\n"
     ]
    },
    {
     "data": {
      "text/plain": [
       "False    115235\n",
       "True       5985\n",
       "Name: title, dtype: int64"
      ]
     },
     "execution_count": 22,
     "metadata": {},
     "output_type": "execute_result"
    }
   ],
   "source": [
    "cochera_titulo_macheo = data.title.apply(lambda x: x if x is np.NaN else regex_cochera.search(x))\n",
    "cochera_titulo = cochera_titulo_macheo\\\n",
    "        .apply(lambda x: x if x is None or x is np.NaN else x.group())\n",
    "\n",
    "print('Macheos encontrados de cochera en título:',cochera_titulo_macheo.notnull().sum())\n",
    "print('Ejemplo:',cochera_titulo.iloc[114])\n",
    "cochera_titulo.notnull().value_counts()"
   ]
  },
  {
   "cell_type": "code",
   "execution_count": 23,
   "metadata": {},
   "outputs": [
    {
     "data": {
      "text/plain": [
       "'Departamento 75m² con Cochera en Don Bosco 200, Bs.As. G.B.A. Zona Norte, San Isidro, por U$S 175.000'"
      ]
     },
     "execution_count": 23,
     "metadata": {},
     "output_type": "execute_result"
    }
   ],
   "source": [
    "data.title.iloc[114]"
   ]
  },
  {
   "cell_type": "code",
   "execution_count": 24,
   "metadata": {},
   "outputs": [
    {
     "data": {
      "text/plain": [
       "'Bv. Rosario Vera Peñaloza y esq. Julieta LanteriZencity Un multicomplejo situado a la altura del Dique 1 de Puerto Madero. Cuenta con  amenities: desde Microcine, SPA, Sauna e Hidromasaje, SUM, varias piscinas y Solarium; hasta una Plaza Central de uso privado. Además: Bar Chill Out, Putting Green, Juegos para niños, Vestuarios, Laundry. Piscina Climatizada, Piscina de natación, Gimnasio, Seguridad 24hs. y un Business Center, Zencity Kids,  Departamento  Precio Venta  U$S 750.000132m² Superficie total125m² Superficie cubierta3 Ambientes2 Dormitorios3 Baños1 Toilette1 Cochera. '"
      ]
     },
     "execution_count": 24,
     "metadata": {},
     "output_type": "execute_result"
    }
   ],
   "source": [
    "data.description.iloc[55245]"
   ]
  },
  {
   "cell_type": "code",
   "execution_count": 26,
   "metadata": {},
   "outputs": [
    {
     "data": {
      "text/plain": [
       "(42158, 42158)"
      ]
     },
     "execution_count": 26,
     "metadata": {},
     "output_type": "execute_result"
    }
   ],
   "source": [
    "data['cochera'] = cochera_descripcion.notnull()\n",
    "\n",
    "data['cochera'].sum(), cochera_descripcion.notnull().sum()"
   ]
  },
  {
   "cell_type": "code",
   "execution_count": 27,
   "metadata": {},
   "outputs": [],
   "source": [
    "data['cochera'].loc[cochera_descripcion.isnull()] = cochera_titulo.notnull()"
   ]
  },
  {
   "cell_type": "code",
   "execution_count": 28,
   "metadata": {},
   "outputs": [
    {
     "data": {
      "text/plain": [
       "11726"
      ]
     },
     "execution_count": 28,
     "metadata": {},
     "output_type": "execute_result"
    }
   ],
   "source": [
    "data['cochera'].loc[data.property_type == 'house'].sum()"
   ]
  },
  {
   "cell_type": "markdown",
   "metadata": {},
   "source": [
    "### Patrones -> Pileta"
   ]
  },
  {
   "cell_type": "code",
   "execution_count": 124,
   "metadata": {},
   "outputs": [],
   "source": [
    "pile_pat = 'piscina|pileta(?! de baño)(?! de cocina)'\n",
    "pile_reg = re.compile(pile_pat, flags = re.IGNORECASE)"
   ]
  },
  {
   "cell_type": "markdown",
   "metadata": {},
   "source": [
    "#### Piscina/pileta en Descripción"
   ]
  },
  {
   "cell_type": "code",
   "execution_count": 125,
   "metadata": {},
   "outputs": [
    {
     "name": "stdout",
     "output_type": "stream",
     "text": [
      "Macheos de piletas en descripción: 32733\n",
      "Ejemplo: Piscina\n"
     ]
    },
    {
     "data": {
      "text/plain": [
       "False    88487\n",
       "True     32733\n",
       "Name: description, dtype: int64"
      ]
     },
     "execution_count": 125,
     "metadata": {},
     "output_type": "execute_result"
    }
   ],
   "source": [
    "pile_descripcion_macheo = data.description.apply(lambda x: x if x is np.NaN else pile_reg.search(x))\n",
    "pile_descripcion = pile_descripcion_macheo\\\n",
    "        .apply(lambda x: x if x is None or x is np.NaN else x.group(0))\n",
    "\n",
    "print('Macheos de piletas en descripción:',pile_descripcion_macheo.notnull().sum())\n",
    "print('Ejemplo:',pile_descripcion.iloc[22])\n",
    "pile_descripcion.notnull().value_counts()"
   ]
  },
  {
   "cell_type": "code",
   "execution_count": 126,
   "metadata": {},
   "outputs": [
    {
     "data": {
      "text/plain": [
       "Int64Index([     7,      8,     13,     14,     18,     22,     23,     30,\n",
       "                36,     38,\n",
       "            ...\n",
       "            121144, 121154, 121155, 121156, 121157, 121211, 121212, 121213,\n",
       "            121215, 121216],\n",
       "           dtype='int64', length=32733)"
      ]
     },
     "execution_count": 126,
     "metadata": {},
     "output_type": "execute_result"
    }
   ],
   "source": [
    "data.loc[pile_descripcion_macheo.notnull(),].index"
   ]
  },
  {
   "cell_type": "code",
   "execution_count": 127,
   "metadata": {},
   "outputs": [
    {
     "data": {
      "text/plain": [
       "'ESPECTACULAR CASA ESTILO RACIONALISTA EN CALLE CORTADA!!! TIENE UNA RENTA ACTIVA HASTA OCTUBRE DE 2017P.B: Espectacular hall de entrada con triple altura - Toilette - Gran living apaisado con chimenea - Comedor separado (5 x 4) - Escritorio - (todo con pisos de pinotea) - Buena cocina con comedor diario - 1 dormitorio con baño completo - dependencias de servicio con baño P.A.: Espectacular Family - 4 dormitorios (todos con pisos de madera grapia misionera): Ppal en suite (7 x 4) con vestidor y baño completo balcón terraza con vista al jardín + otra suite + otro baño.Excelente jardín con pileta - Parrilla - Galería - Calefacción central por radiadores'"
      ]
     },
     "execution_count": 127,
     "metadata": {},
     "output_type": "execute_result"
    }
   ],
   "source": [
    "data.description.iloc[121212]"
   ]
  },
  {
   "cell_type": "markdown",
   "metadata": {},
   "source": [
    "#### Piscina/pileta en Título"
   ]
  },
  {
   "cell_type": "code",
   "execution_count": 128,
   "metadata": {},
   "outputs": [
    {
     "name": "stdout",
     "output_type": "stream",
     "text": [
      "Macheos encontrados de pileta en título: 1604\n",
      "Ejemplo: None\n"
     ]
    },
    {
     "data": {
      "text/plain": [
       "False    119616\n",
       "True       1604\n",
       "Name: title, dtype: int64"
      ]
     },
     "execution_count": 128,
     "metadata": {},
     "output_type": "execute_result"
    }
   ],
   "source": [
    "pile_titulo_macheo = data.title.apply(lambda x: x if x is np.NaN else pile_reg.search(x))\n",
    "pile_titulo = pile_titulo_macheo\\\n",
    "        .apply(lambda x: x if x is None or x is np.NaN else x.group())\n",
    "\n",
    "print('Macheos encontrados de pileta en título:',pile_titulo_macheo.notnull().sum())\n",
    "print('Ejemplo:',pile_titulo.iloc[31])\n",
    "pile_titulo.notnull().value_counts()"
   ]
  },
  {
   "cell_type": "code",
   "execution_count": 129,
   "metadata": {},
   "outputs": [
    {
     "data": {
      "text/plain": [
       "Int64Index([    38,     60,    294,    382,    431,    433,    440,    480,\n",
       "               646,    879,\n",
       "            ...\n",
       "            119946, 119950, 119952, 120011, 120030, 120188, 120942, 120943,\n",
       "            120946, 120962],\n",
       "           dtype='int64', length=1604)"
      ]
     },
     "execution_count": 129,
     "metadata": {},
     "output_type": "execute_result"
    }
   ],
   "source": [
    "data.loc[pile_titulo_macheo.notnull(),].index"
   ]
  },
  {
   "cell_type": "code",
   "execution_count": 130,
   "metadata": {},
   "outputs": [
    {
     "data": {
      "text/plain": [
       "'Casa de 3 dormitorios con dependencia en Estancias del Pilar, La Pionera. Jardín. Pileta. '"
      ]
     },
     "execution_count": 130,
     "metadata": {},
     "output_type": "execute_result"
    }
   ],
   "source": [
    "data.title.iloc[433]"
   ]
  },
  {
   "cell_type": "code",
   "execution_count": 131,
   "metadata": {},
   "outputs": [],
   "source": [
    "data['piscina'] = pile_descripcion.notnull()"
   ]
  },
  {
   "cell_type": "code",
   "execution_count": 132,
   "metadata": {},
   "outputs": [
    {
     "data": {
      "text/plain": [
       "32733"
      ]
     },
     "execution_count": 132,
     "metadata": {},
     "output_type": "execute_result"
    }
   ],
   "source": [
    "data['piscina'].sum()"
   ]
  },
  {
   "cell_type": "code",
   "execution_count": 133,
   "metadata": {},
   "outputs": [],
   "source": [
    "data['piscina'].loc[pile_descripcion.isnull()] = pile_titulo.notnull()"
   ]
  },
  {
   "cell_type": "code",
   "execution_count": 134,
   "metadata": {},
   "outputs": [
    {
     "data": {
      "text/plain": [
       "32822"
      ]
     },
     "execution_count": 134,
     "metadata": {},
     "output_type": "execute_result"
    }
   ],
   "source": [
    "data['piscina'].sum()"
   ]
  },
  {
   "cell_type": "code",
   "execution_count": 135,
   "metadata": {},
   "outputs": [
    {
     "data": {
      "text/plain": [
       "15561"
      ]
     },
     "execution_count": 135,
     "metadata": {},
     "output_type": "execute_result"
    }
   ],
   "source": [
    "data['piscina'].loc[data.property_type=='house'].sum()"
   ]
  },
  {
   "cell_type": "code",
   "execution_count": 136,
   "metadata": {},
   "outputs": [
    {
     "data": {
      "text/plain": [
       "16678"
      ]
     },
     "execution_count": 136,
     "metadata": {},
     "output_type": "execute_result"
    }
   ],
   "source": [
    "data['piscina'].loc[data.property_type=='apartment'].sum()"
   ]
  },
  {
   "cell_type": "markdown",
   "metadata": {},
   "source": [
    "### Patrón -> Subte"
   ]
  },
  {
   "cell_type": "code",
   "execution_count": 137,
   "metadata": {},
   "outputs": [],
   "source": [
    "# Cercanía de Subte \n",
    "\n",
    "subte_pat = '(?<![\\w\\d])subte(?![\\w\\d])'\n",
    "subte_reg = re.compile(subte_pat, flags = re.IGNORECASE)"
   ]
  },
  {
   "cell_type": "code",
   "execution_count": 138,
   "metadata": {},
   "outputs": [
    {
     "name": "stdout",
     "output_type": "stream",
     "text": [
      "Macheos de \"subte\" en descripción: 5277\n",
      "Ejemplo: None\n"
     ]
    },
    {
     "data": {
      "text/plain": [
       "False    115943\n",
       "True       5277\n",
       "Name: description, dtype: int64"
      ]
     },
     "execution_count": 138,
     "metadata": {},
     "output_type": "execute_result"
    }
   ],
   "source": [
    "subte_descripcion_macheo = data.description.apply(lambda x: x if x is np.NaN else subte_reg.search(x))\n",
    "subte_descripcion = subte_descripcion_macheo\\\n",
    "        .apply(lambda x: x if x is None or x is np.NaN else x.group(0))\n",
    "\n",
    "print('Macheos de \"subte\" en descripción:',subte_descripcion_macheo.notnull().sum())\n",
    "print('Ejemplo:',subte_descripcion.iloc[17])\n",
    "subte_descripcion.notnull().value_counts()"
   ]
  },
  {
   "cell_type": "code",
   "execution_count": 139,
   "metadata": {},
   "outputs": [
    {
     "data": {
      "text/plain": [
       "Int64Index([    52,     53,     57,     66,     98,    120,    166,    210,\n",
       "               229,    231,\n",
       "            ...\n",
       "            120883, 120915, 120920, 120921, 120927, 120928, 120972, 121094,\n",
       "            121103, 121217],\n",
       "           dtype='int64', length=5277)"
      ]
     },
     "execution_count": 139,
     "metadata": {},
     "output_type": "execute_result"
    }
   ],
   "source": [
    "data.loc[subte_descripcion_macheo.notnull()].index"
   ]
  },
  {
   "cell_type": "code",
   "execution_count": 140,
   "metadata": {},
   "outputs": [
    {
     "data": {
      "text/plain": [
       "'Departamento de 3 Ambientes al Contrafrente. Son 50 M2 totales. Piso 10°. El Edificio cuenta con Grupo Electrógeno. Antigüedad 50 años. Cocina 1.80 X 4.50. Lavadero 1.80 X 1.80, Living-Comedor 3 X 4.50, Dormitorio 2.80 X 3 con placard, Dormitorio 2.50 X 2.60 con placard.Baño Completo. Baulera Independiente en sótano. Expensas $1.350.-No tiene balcón. Vista abierta .NO APTO CRÉDITOExcelente ubicación, a metros del subte Linea \"A\" estación Primera Junta, innumerable cantidad de lineas de colectivo y en cercanías de la estación de tren Sarmiento.El inmueble se encuentra listo para escriturar y está desocupado.Ideal inversor.'"
      ]
     },
     "execution_count": 140,
     "metadata": {},
     "output_type": "execute_result"
    }
   ],
   "source": [
    "data.description.iloc[52]"
   ]
  },
  {
   "cell_type": "code",
   "execution_count": 141,
   "metadata": {},
   "outputs": [
    {
     "name": "stdout",
     "output_type": "stream",
     "text": [
      "Macheos de \"subte\" en titulo: 112\n",
      "Ejemplo: None\n"
     ]
    },
    {
     "data": {
      "text/plain": [
       "False    121108\n",
       "True        112\n",
       "Name: title, dtype: int64"
      ]
     },
     "execution_count": 141,
     "metadata": {},
     "output_type": "execute_result"
    }
   ],
   "source": [
    "subte_titulo_macheo = data.title.apply(lambda x: x if x is np.NaN else subte_reg.search(x))\n",
    "subte_titulo = subte_titulo_macheo\\\n",
    "        .apply(lambda x: x if x is None or x is np.NaN else x.group(0))\n",
    "\n",
    "print('Macheos de \"subte\" en titulo:',subte_titulo_macheo.notnull().sum())\n",
    "print('Ejemplo:',subte_titulo.iloc[17])\n",
    "subte_titulo.notnull().value_counts()"
   ]
  },
  {
   "cell_type": "code",
   "execution_count": 142,
   "metadata": {},
   "outputs": [
    {
     "data": {
      "text/plain": [
       "Int64Index([  1014,   7389,   7400,   9286,   9482,   9483,   9560,  13084,\n",
       "             13764,  14851,\n",
       "            ...\n",
       "             84175,  85427,  86232,  87267,  91414, 109659, 110145, 110234,\n",
       "            110660, 113651],\n",
       "           dtype='int64', length=112)"
      ]
     },
     "execution_count": 142,
     "metadata": {},
     "output_type": "execute_result"
    }
   ],
   "source": [
    "data.title.loc[subte_titulo_macheo.notnull()].index"
   ]
  },
  {
   "cell_type": "code",
   "execution_count": 143,
   "metadata": {},
   "outputs": [
    {
     "data": {
      "text/plain": [
       "' PH Reciclado Venta Almagro 3y1/2 Amb a m Hosp. Italiano y Subte B'"
      ]
     },
     "execution_count": 143,
     "metadata": {},
     "output_type": "execute_result"
    }
   ],
   "source": [
    "data.title.loc[1014]"
   ]
  },
  {
   "cell_type": "code",
   "execution_count": 144,
   "metadata": {},
   "outputs": [],
   "source": [
    "data['subte'] = subte_descripcion.notnull()"
   ]
  },
  {
   "cell_type": "code",
   "execution_count": 145,
   "metadata": {},
   "outputs": [
    {
     "data": {
      "text/plain": [
       "5277"
      ]
     },
     "execution_count": 145,
     "metadata": {},
     "output_type": "execute_result"
    }
   ],
   "source": [
    "data['subte'].sum()"
   ]
  },
  {
   "cell_type": "code",
   "execution_count": 146,
   "metadata": {},
   "outputs": [],
   "source": [
    "data['subte'].loc[subte_descripcion.isnull()] = subte_titulo.notnull()"
   ]
  },
  {
   "cell_type": "code",
   "execution_count": 147,
   "metadata": {},
   "outputs": [
    {
     "data": {
      "text/plain": [
       "5299"
      ]
     },
     "execution_count": 147,
     "metadata": {},
     "output_type": "execute_result"
    }
   ],
   "source": [
    "data['subte'].sum()"
   ]
  },
  {
   "cell_type": "code",
   "execution_count": 148,
   "metadata": {},
   "outputs": [
    {
     "data": {
      "text/plain": [
       "128519.22776595746"
      ]
     },
     "execution_count": 148,
     "metadata": {},
     "output_type": "execute_result"
    }
   ],
   "source": [
    "data.loc[(data.place_name == 'Caballito') & (data.rooms == 2) & (data.property_type == 'apartment'),'price_aprox_usd'].mean()"
   ]
  },
  {
   "cell_type": "code",
   "execution_count": 149,
   "metadata": {},
   "outputs": [
    {
     "data": {
      "text/plain": [
       "159420.92222222223"
      ]
     },
     "execution_count": 149,
     "metadata": {},
     "output_type": "execute_result"
    }
   ],
   "source": [
    "data.loc[(data.place_name == 'Caballito') & (data.rooms == 2) & (data.piscina == True) & (data.property_type == 'apartment'),'price_aprox_usd'].mean()"
   ]
  },
  {
   "cell_type": "code",
   "execution_count": 150,
   "metadata": {},
   "outputs": [
    {
     "data": {
      "text/plain": [
       "138715.8889516129"
      ]
     },
     "execution_count": 150,
     "metadata": {},
     "output_type": "execute_result"
    }
   ],
   "source": [
    "data.loc[(data.place_name == 'Caballito') & (data.rooms == 2) & (data.cochera == True) & (data.property_type == 'apartment'),'price_aprox_usd'].mean()"
   ]
  },
  {
   "cell_type": "code",
   "execution_count": 151,
   "metadata": {},
   "outputs": [
    {
     "data": {
      "text/plain": [
       "143660.8980232558"
      ]
     },
     "execution_count": 151,
     "metadata": {},
     "output_type": "execute_result"
    }
   ],
   "source": [
    "data.loc[(data.place_name == 'Caballito') & (data.rooms == 2) & (data.amenities == True) & (data.property_type == 'apartment'),'price_aprox_usd'].mean()"
   ]
  },
  {
   "cell_type": "code",
   "execution_count": 152,
   "metadata": {},
   "outputs": [
    {
     "data": {
      "text/plain": [
       "<Figure size 640x480 with 1 Axes>"
      ]
     },
     "metadata": {},
     "output_type": "display_data"
    }
   ],
   "source": [
    "import matplotlib\n",
    "import matplotlib.pyplot as plt\n",
    "\n",
    "plt.style.use('seaborn-whitegrid')\n",
    "fig = plt.figure(figsize=(8, 6), dpi=80)\n",
    "ax = plt.axes()\n",
    "\n",
    "names = ['Dpto.','Dpto. + cochera','Dpto. + amenities','Dpto. + piscina']\n",
    "\n",
    "ax.bar(names[0],\n",
    "       data.loc[(data.place_name == 'Caballito') & (data.rooms == 2) & (data.property_type == 'apartment'),'price_aprox_usd'].mean(), \n",
    "       color='green', \n",
    "       edgecolor='black',\n",
    "       width=0.5)\n",
    "ax.bar(names[1],\n",
    "       data.loc[(data.place_name == 'Caballito') & (data.rooms == 2) & (data.cochera == True) & (data.property_type == 'apartment'),'price_aprox_usd'].mean(),\n",
    "       color='yellow',\n",
    "       edgecolor='black',\n",
    "       width=0.5)\n",
    "ax.bar(names[3],\n",
    "        data.loc[(data.place_name == 'Caballito') & (data.rooms == 2) & (data.amenities == True) & (data.property_type == 'apartment'),'price_aprox_usd'].mean(),\n",
    "       color='blue',\n",
    "       edgecolor='black',\n",
    "       width=0.5)\n",
    "ax.bar(names[2],\n",
    "       data.loc[(data.place_name == 'Caballito') & (data.rooms == 2) & (data.piscina == True) & (data.property_type == 'apartment'),'price_aprox_usd'].mean(),\n",
    "       color='red',\n",
    "       edgecolor='black',\n",
    "       width=0.5)\n",
    "\n",
    "\n",
    "ax.set_xticklabels(names,rotation=10,rotation_mode=\"anchor\", ha=\"right\")\n",
    "\n",
    "ax.set(title = \"Valor Promedio de Dpto. 2 amb. en Caballito\")\n",
    "\n",
    "\n",
    "plt.show()"
   ]
  },
  {
   "cell_type": "markdown",
   "metadata": {},
   "source": [
    "### Patrón -> Metrobus"
   ]
  },
  {
   "cell_type": "markdown",
   "metadata": {},
   "source": [
    "#### Metrobus en descripción"
   ]
  },
  {
   "cell_type": "code",
   "execution_count": 153,
   "metadata": {},
   "outputs": [],
   "source": [
    "# Cercanía de Metrobus \n",
    "\n",
    "metrobus_pat = '(?<![\\w\\d])metrobus(?![\\w\\d])'\n",
    "metrobus_reg = re.compile(metrobus_pat, flags = re.IGNORECASE)"
   ]
  },
  {
   "cell_type": "code",
   "execution_count": 154,
   "metadata": {},
   "outputs": [
    {
     "name": "stdout",
     "output_type": "stream",
     "text": [
      "Macheos de \"metrobus\" en descripción: 1084\n",
      "Ejemplo: metrobus\n"
     ]
    },
    {
     "data": {
      "text/plain": [
       "False    120136\n",
       "True       1084\n",
       "Name: description, dtype: int64"
      ]
     },
     "execution_count": 154,
     "metadata": {},
     "output_type": "execute_result"
    }
   ],
   "source": [
    "metrobus_descripcion_macheo = data.description.apply(lambda x: x if x is np.NaN else metrobus_reg.search(x))\n",
    "metrobus_descripcion = metrobus_descripcion_macheo\\\n",
    "        .apply(lambda x: x if x is None or x is np.NaN else x.group(0))\n",
    "\n",
    "print('Macheos de \"metrobus\" en descripción:',metrobus_descripcion_macheo.notnull().sum())\n",
    "print('Ejemplo:',metrobus_descripcion.iloc[266])\n",
    "metrobus_descripcion.notnull().value_counts()"
   ]
  },
  {
   "cell_type": "code",
   "execution_count": 155,
   "metadata": {},
   "outputs": [
    {
     "data": {
      "text/plain": [
       "Int64Index([   266,    379,    558,    748,    749,    828,    840,    867,\n",
       "               871,   1660,\n",
       "            ...\n",
       "            119636, 119715, 119883, 119896, 120007, 120010, 120791, 120794,\n",
       "            121094, 121103],\n",
       "           dtype='int64', length=1084)"
      ]
     },
     "execution_count": 155,
     "metadata": {},
     "output_type": "execute_result"
    }
   ],
   "source": [
    "data.description.loc[metrobus_descripcion_macheo.notnull()].index"
   ]
  },
  {
   "cell_type": "code",
   "execution_count": 156,
   "metadata": {},
   "outputs": [
    {
     "data": {
      "text/plain": [
       "'Corredor Responsable: Raul Hector Merlo - CUCICBA 2407Contacto: Claudia Szakiel - MLS ID # 61110-28PH al frente con 2 dormitorios, garage, patio, lavadero e importante terraza propia. Posibilidad de construir 2 pisos más! Medidas por escritura: PB: 57,85m cub. - 16,98m semi-cub. - 15,18m descub. (PB 90,01m). Azotea: 55,04m descub. Total: 145,05m. Apto crédito.  Ubicado a 1 cuadra de Av. Chiclana, a 2 cuadras de Av. Brasil, a 2 de Av. Juan de Garay, y a 4 cuadras de Av. Boedo.  Transportes Públicos: Colectivos: 4, 6, 23, 28, 32, 75, 97, 101, 115, 128, 133, 134, 143, 165, 188 A 7 cuadras de la Estación de Subte E General Urquiza (Plaza de los Virreyes - Bolivar) y a 8 cuadras de la Estación de Subte H  Inclan (Las Heras - Hospitales) Cercanía a Metrobus y Autopista 25 de Mayo.  Te invitamos a conocerlo, te podemos ayudar!  Martillero: RAÚL HÉCTOR MERLO CUCICBA 2407 / CSI 5438   Todas las propiedades que figuran en mi perfil se encuentran a cargo del profesional matriculado de la oficina, la intermediación y la conclusión de las operaciones serán llevadas exclusivamente por él. '"
      ]
     },
     "execution_count": 156,
     "metadata": {},
     "output_type": "execute_result"
    }
   ],
   "source": [
    "data.description.iloc[871]"
   ]
  },
  {
   "cell_type": "markdown",
   "metadata": {},
   "source": [
    "#### Metrobus en título"
   ]
  },
  {
   "cell_type": "code",
   "execution_count": 157,
   "metadata": {},
   "outputs": [
    {
     "name": "stdout",
     "output_type": "stream",
     "text": [
      "Macheos de \"metrobus\" en título: 6\n",
      "Ejemplo: Metrobus\n"
     ]
    },
    {
     "data": {
      "text/plain": [
       "False    121214\n",
       "True          6\n",
       "Name: title, dtype: int64"
      ]
     },
     "execution_count": 157,
     "metadata": {},
     "output_type": "execute_result"
    }
   ],
   "source": [
    "metrobus_titulo_macheo = data.title.apply(lambda x: x if x is np.NaN else metrobus_reg.search(x))\n",
    "metrobus_titulo = metrobus_titulo_macheo\\\n",
    "        .apply(lambda x: x if x is None or x is np.NaN else x.group(0))\n",
    "\n",
    "print('Macheos de \"metrobus\" en título:',metrobus_titulo_macheo.notnull().sum())\n",
    "print('Ejemplo:',metrobus_titulo.iloc[20936])\n",
    "metrobus_titulo.notnull().value_counts()"
   ]
  },
  {
   "cell_type": "code",
   "execution_count": 158,
   "metadata": {},
   "outputs": [
    {
     "data": {
      "text/plain": [
       "Int64Index([20936, 45900, 52801, 52833, 73418, 81824], dtype='int64')"
      ]
     },
     "execution_count": 158,
     "metadata": {},
     "output_type": "execute_result"
    }
   ],
   "source": [
    "data.loc[metrobus_titulo_macheo.notnull()].index"
   ]
  },
  {
   "cell_type": "code",
   "execution_count": 159,
   "metadata": {},
   "outputs": [
    {
     "data": {
      "text/plain": [
       "'2 Amb c/ balcon y cochera . Parque Lezama. Metrobus Paseo Colon. Septiembre 2017'"
      ]
     },
     "execution_count": 159,
     "metadata": {},
     "output_type": "execute_result"
    }
   ],
   "source": [
    "data.title.iloc[45900]"
   ]
  },
  {
   "cell_type": "code",
   "execution_count": 160,
   "metadata": {},
   "outputs": [],
   "source": [
    "data['metrobus'] = metrobus_descripcion.notnull()"
   ]
  },
  {
   "cell_type": "code",
   "execution_count": 161,
   "metadata": {},
   "outputs": [
    {
     "data": {
      "text/plain": [
       "1084"
      ]
     },
     "execution_count": 161,
     "metadata": {},
     "output_type": "execute_result"
    }
   ],
   "source": [
    "data['metrobus'].sum()"
   ]
  },
  {
   "cell_type": "code",
   "execution_count": 162,
   "metadata": {},
   "outputs": [
    {
     "name": "stderr",
     "output_type": "stream",
     "text": [
      "C:\\Users\\Foolface\\.conda\\envs\\dh\\lib\\site-packages\\pandas\\core\\indexing.py:671: SettingWithCopyWarning: \n",
      "A value is trying to be set on a copy of a slice from a DataFrame\n",
      "\n",
      "See the caveats in the documentation: https://pandas.pydata.org/pandas-docs/stable/user_guide/indexing.html#returning-a-view-versus-a-copy\n",
      "  self._setitem_with_indexer(indexer, value)\n"
     ]
    }
   ],
   "source": [
    "data['metrobus'].loc[data['metrobus'].isnull()] = metrobus_titulo.notnull()"
   ]
  },
  {
   "cell_type": "code",
   "execution_count": 163,
   "metadata": {},
   "outputs": [
    {
     "data": {
      "text/plain": [
       "1084"
      ]
     },
     "execution_count": 163,
     "metadata": {},
     "output_type": "execute_result"
    }
   ],
   "source": [
    "data['metrobus'].sum()"
   ]
  },
  {
   "cell_type": "markdown",
   "metadata": {},
   "source": [
    "### Patrón -> Terraza"
   ]
  },
  {
   "cell_type": "code",
   "execution_count": 164,
   "metadata": {},
   "outputs": [],
   "source": [
    "# Terraza\n",
    "\n",
    "patron_terraza = '(?<![\\w\\d])terraza(?![\\w\\d])'\n",
    "regex_terraza = re.compile(patron_terraza, flags = re.IGNORECASE)"
   ]
  },
  {
   "cell_type": "markdown",
   "metadata": {},
   "source": [
    "#### Terrazas en Descripción"
   ]
  },
  {
   "cell_type": "code",
   "execution_count": 165,
   "metadata": {},
   "outputs": [
    {
     "name": "stdout",
     "output_type": "stream",
     "text": [
      "Macheos de \"terraza\" en descripción: 23036\n",
      "Ejemplo: terraza\n"
     ]
    },
    {
     "data": {
      "text/plain": [
       "False    98184\n",
       "True     23036\n",
       "Name: description, dtype: int64"
      ]
     },
     "execution_count": 165,
     "metadata": {},
     "output_type": "execute_result"
    }
   ],
   "source": [
    "terraza_descripcion_macheo = data.description.apply(lambda x: x if x is np.NaN else regex_terraza.search(x))\n",
    "terraza_descripcion = terraza_descripcion_macheo\\\n",
    "        .apply(lambda x: x if x is None or x is np.NaN else x.group(0))\n",
    "\n",
    "print('Macheos de \"terraza\" en descripción:',terraza_descripcion_macheo.notnull().sum())\n",
    "print('Ejemplo:',terraza_descripcion.iloc[20936])\n",
    "terraza_descripcion.notnull().value_counts()"
   ]
  },
  {
   "cell_type": "code",
   "execution_count": 166,
   "metadata": {},
   "outputs": [
    {
     "data": {
      "text/plain": [
       "Int64Index([    12,     13,     17,     24,     25,     28,     33,     38,\n",
       "                40,     46,\n",
       "            ...\n",
       "            121148, 121149, 121153, 121157, 121207, 121208, 121211, 121212,\n",
       "            121213, 121217],\n",
       "           dtype='int64', length=23036)"
      ]
     },
     "execution_count": 166,
     "metadata": {},
     "output_type": "execute_result"
    }
   ],
   "source": [
    "data.title.loc[terraza_descripcion_macheo.notnull()].index"
   ]
  },
  {
   "cell_type": "code",
   "execution_count": 167,
   "metadata": {},
   "outputs": [
    {
     "data": {
      "text/plain": [
       "'VENTA DEPARTAMENTO AMBIENTE DIVISIBLE A ESTRENAR BALCON AMENITIES.ENTREGA INMEDIATA* DEPARTAMENTO: Excelente monoambiente de (43,00m2) divisible, con Importante Placard - Baño Completo - Balcón Corrido, Cocina Integrada con Equipamiento Completo y Herrajes de Acero Inoxidable, Grifería FV, Cocina con Horno, Termotanque Eléctrico, Servicios Individuales, Preinstalación Aire Acondicionado Frío-Calor, Conexión Lavarropas y Lavavajillas.* EDIFICIO: Moderno Edificio, Amenities - Laundry - Parrillas y Solarium - Terraza de uso común - Grupo Electrógeno.* COCHERAS DISPONIBLES DESDE USD 20.000* BARRIO: Nuevo Corredor urbano de 13 manzanas - Holmberg/Donado - Área parquizada  - Bicisendas  - Zona de importantes Embajadas - Rodeado de Espacios Verdes.* MEDIOS DE TRANSPORTE: Siete cuadras del subte B - Próximo a UBA( Drago), Colegio San Patrick, estaciones Drago y Coglhan.SI TENES QUE VENDER PARA COMPRAR // SOMOS ESPECIALISTAS EN OPERACIONES SIMULTANEAS// COMUNICATE CON NOSOTROS PARA ASESORARTE. // Las medidas, superficies y valores de esta ficha son aproximadas y a título informativo únicamente.Triada propiedades Oficina central: 4 788 2600Direccion: Juramento 1304, CABAWeb: '"
      ]
     },
     "execution_count": 167,
     "metadata": {},
     "output_type": "execute_result"
    }
   ],
   "source": [
    "data.description.iloc[121217]"
   ]
  },
  {
   "cell_type": "markdown",
   "metadata": {},
   "source": [
    "#### Terraza en título"
   ]
  },
  {
   "cell_type": "code",
   "execution_count": 168,
   "metadata": {},
   "outputs": [
    {
     "name": "stdout",
     "output_type": "stream",
     "text": [
      "Macheos de \"terraza\" en título: 1796\n",
      "Ejemplo: None\n"
     ]
    },
    {
     "data": {
      "text/plain": [
       "False    119424\n",
       "True       1796\n",
       "Name: title, dtype: int64"
      ]
     },
     "execution_count": 168,
     "metadata": {},
     "output_type": "execute_result"
    }
   ],
   "source": [
    "terraza_titulo_macheo = data.title.apply(lambda x: x if x is np.NaN else regex_terraza.search(x))\n",
    "terraza_titulo = terraza_titulo_macheo\\\n",
    "        .apply(lambda x: x if x is None or x is np.NaN else x.group(0))\n",
    "\n",
    "print('Macheos de \"terraza\" en título:',terraza_titulo_macheo.notnull().sum())\n",
    "print('Ejemplo:',terraza_titulo.iloc[20936])\n",
    "terraza_titulo.notnull().value_counts()"
   ]
  },
  {
   "cell_type": "code",
   "execution_count": 169,
   "metadata": {},
   "outputs": [
    {
     "data": {
      "text/plain": [
       "Int64Index([    40,     88,    160,    289,    383,    419,    427,    435,\n",
       "               447,    478,\n",
       "            ...\n",
       "            119847, 119900, 119974, 120000, 120003, 120007, 120010, 120105,\n",
       "            120123, 121153],\n",
       "           dtype='int64', length=1796)"
      ]
     },
     "execution_count": 169,
     "metadata": {},
     "output_type": "execute_result"
    }
   ],
   "source": [
    "data.loc[terraza_titulo_macheo.notnull()].index"
   ]
  },
  {
   "cell_type": "code",
   "execution_count": 170,
   "metadata": {},
   "outputs": [
    {
     "data": {
      "text/plain": [
       "'1 DORMITORIO Y MEDIO CON TERRAZA Y AMENITIES EN Bº GENERAL PAZ'"
      ]
     },
     "execution_count": 170,
     "metadata": {},
     "output_type": "execute_result"
    }
   ],
   "source": [
    "data.title.iloc[478]"
   ]
  },
  {
   "cell_type": "code",
   "execution_count": 171,
   "metadata": {},
   "outputs": [],
   "source": [
    "data['terraza'] = terraza_descripcion.notnull()"
   ]
  },
  {
   "cell_type": "code",
   "execution_count": 172,
   "metadata": {},
   "outputs": [
    {
     "data": {
      "text/plain": [
       "23036"
      ]
     },
     "execution_count": 172,
     "metadata": {},
     "output_type": "execute_result"
    }
   ],
   "source": [
    "data['terraza'].sum()"
   ]
  },
  {
   "cell_type": "code",
   "execution_count": 173,
   "metadata": {},
   "outputs": [],
   "source": [
    "data['terraza'].loc[terraza_descripcion.isnull()] = terraza_titulo.notnull()"
   ]
  },
  {
   "cell_type": "code",
   "execution_count": 174,
   "metadata": {},
   "outputs": [
    {
     "data": {
      "text/plain": [
       "23268"
      ]
     },
     "execution_count": 174,
     "metadata": {},
     "output_type": "execute_result"
    }
   ],
   "source": [
    "data['terraza'].sum()"
   ]
  },
  {
   "cell_type": "markdown",
   "metadata": {},
   "source": [
    "### Patrón -> Amenities"
   ]
  },
  {
   "cell_type": "code",
   "execution_count": 175,
   "metadata": {},
   "outputs": [],
   "source": [
    "patron_amenities = '(?<![\\w\\d])amenities(?![\\w\\d])'\n",
    "regex_amenities = re.compile(patron_amenities, flags = re.IGNORECASE)"
   ]
  },
  {
   "cell_type": "markdown",
   "metadata": {},
   "source": [
    "#### Amenities en descripción"
   ]
  },
  {
   "cell_type": "code",
   "execution_count": 176,
   "metadata": {},
   "outputs": [
    {
     "name": "stdout",
     "output_type": "stream",
     "text": [
      "Macheos de \"amenities\" en descripción: 10138\n",
      "Ejemplo: AMENITIES\n"
     ]
    },
    {
     "data": {
      "text/plain": [
       "False    111082\n",
       "True      10138\n",
       "Name: description, dtype: int64"
      ]
     },
     "execution_count": 176,
     "metadata": {},
     "output_type": "execute_result"
    }
   ],
   "source": [
    "amenities_descripcion_macheo = data.description.apply(lambda x: x if x is np.NaN else regex_amenities.search(x))\n",
    "amenities_descripcion = amenities_descripcion_macheo\\\n",
    "        .apply(lambda x: x if x is None or x is np.NaN else x.group(0))\n",
    "\n",
    "print('Macheos de \"amenities\" en descripción:',amenities_descripcion_macheo.notnull().sum())\n",
    "print('Ejemplo:',amenities_descripcion.iloc[40])\n",
    "amenities_descripcion.notnull().value_counts()"
   ]
  },
  {
   "cell_type": "code",
   "execution_count": 177,
   "metadata": {},
   "outputs": [
    {
     "data": {
      "text/plain": [
       "Int64Index([    40,     50,     54,     55,     97,     98,    147,    148,\n",
       "               209,    225,\n",
       "            ...\n",
       "            121198, 121199, 121200, 121201, 121202, 121203, 121204, 121205,\n",
       "            121206, 121217],\n",
       "           dtype='int64', length=10138)"
      ]
     },
     "execution_count": 177,
     "metadata": {},
     "output_type": "execute_result"
    }
   ],
   "source": [
    "data.loc[amenities_descripcion_macheo.notnull()].index"
   ]
  },
  {
   "cell_type": "markdown",
   "metadata": {},
   "source": [
    "#### Amenities en Título"
   ]
  },
  {
   "cell_type": "code",
   "execution_count": 178,
   "metadata": {},
   "outputs": [
    {
     "name": "stdout",
     "output_type": "stream",
     "text": [
      "Macheos de \"amenities\" en título: 989\n",
      "Ejemplo: Amenities\n"
     ]
    },
    {
     "data": {
      "text/plain": [
       "False    120231\n",
       "True        989\n",
       "Name: title, dtype: int64"
      ]
     },
     "execution_count": 178,
     "metadata": {},
     "output_type": "execute_result"
    }
   ],
   "source": [
    "amenities_title_macheo = data.title.apply(lambda x: x if x is np.NaN else regex_amenities.search(x))\n",
    "amenities_title = amenities_title_macheo\\\n",
    "        .apply(lambda x: x if x is None or x is np.NaN else x.group(0))\n",
    "\n",
    "print('Macheos de \"amenities\" en título:',amenities_title_macheo.notnull().sum())\n",
    "print('Ejemplo:',amenities_title.iloc[223])\n",
    "amenities_title.notnull().value_counts()"
   ]
  },
  {
   "cell_type": "code",
   "execution_count": 179,
   "metadata": {},
   "outputs": [
    {
     "data": {
      "text/plain": [
       "Int64Index([   223,    385,    478,    565,    656,    869,   1223,   1374,\n",
       "              1391,   1392,\n",
       "            ...\n",
       "            119435, 119619, 119713, 119758, 119879, 119898, 119899, 119954,\n",
       "            121139, 121217],\n",
       "           dtype='int64', length=989)"
      ]
     },
     "execution_count": 179,
     "metadata": {},
     "output_type": "execute_result"
    }
   ],
   "source": [
    "data.loc[amenities_title_macheo.notnull()].index"
   ]
  },
  {
   "cell_type": "code",
   "execution_count": 180,
   "metadata": {},
   "outputs": [],
   "source": [
    "data['amenities'] = amenities_descripcion.notnull()"
   ]
  },
  {
   "cell_type": "code",
   "execution_count": 181,
   "metadata": {},
   "outputs": [
    {
     "data": {
      "text/plain": [
       "10138"
      ]
     },
     "execution_count": 181,
     "metadata": {},
     "output_type": "execute_result"
    }
   ],
   "source": [
    "data['amenities'].sum()"
   ]
  },
  {
   "cell_type": "code",
   "execution_count": 182,
   "metadata": {},
   "outputs": [],
   "source": [
    "data['amenities'].loc[amenities_descripcion.isnull()] = amenities_title.notnull()"
   ]
  },
  {
   "cell_type": "code",
   "execution_count": 183,
   "metadata": {},
   "outputs": [
    {
     "data": {
      "text/plain": [
       "10609"
      ]
     },
     "execution_count": 183,
     "metadata": {},
     "output_type": "execute_result"
    }
   ],
   "source": [
    "data['amenities'].sum()"
   ]
  },
  {
   "cell_type": "code",
   "execution_count": 213,
   "metadata": {},
   "outputs": [
    {
     "data": {
      "text/plain": [
       "2761"
      ]
     },
     "execution_count": 213,
     "metadata": {},
     "output_type": "execute_result"
    }
   ],
   "source": [
    "data.loc[(data.place_name == 'Belgrano') & (data.property_type == 'apartment'),'operation'].count()"
   ]
  },
  {
   "cell_type": "code",
   "execution_count": 212,
   "metadata": {},
   "outputs": [
    {
     "data": {
      "text/plain": [
       "999"
      ]
     },
     "execution_count": 212,
     "metadata": {},
     "output_type": "execute_result"
    }
   ],
   "source": [
    "data.loc[(data.place_name == 'Belgrano') & (data.piscina == True) & (data.property_type == 'apartment'),'piscina'].count()"
   ]
  },
  {
   "cell_type": "code",
   "execution_count": 215,
   "metadata": {},
   "outputs": [
    {
     "name": "stderr",
     "output_type": "stream",
     "text": [
      "C:\\Users\\Foolface\\.conda\\envs\\dh\\lib\\site-packages\\ipykernel_launcher.py:1: FutureWarning: Indexing with multiple keys (implicitly converted to a tuple of keys) will be deprecated, use a list instead.\n",
      "  \"\"\"Entry point for launching an IPython kernel.\n"
     ]
    },
    {
     "data": {
      "text/html": [
       "<div>\n",
       "<style scoped>\n",
       "    .dataframe tbody tr th:only-of-type {\n",
       "        vertical-align: middle;\n",
       "    }\n",
       "\n",
       "    .dataframe tbody tr th {\n",
       "        vertical-align: top;\n",
       "    }\n",
       "\n",
       "    .dataframe thead th {\n",
       "        text-align: right;\n",
       "    }\n",
       "</style>\n",
       "<table border=\"1\" class=\"dataframe\">\n",
       "  <thead>\n",
       "    <tr style=\"text-align: right;\">\n",
       "      <th></th>\n",
       "      <th>piscina</th>\n",
       "      <th>cochera</th>\n",
       "      <th>amenities</th>\n",
       "    </tr>\n",
       "    <tr>\n",
       "      <th>place_name</th>\n",
       "      <th></th>\n",
       "      <th></th>\n",
       "      <th></th>\n",
       "    </tr>\n",
       "  </thead>\n",
       "  <tbody>\n",
       "    <tr>\n",
       "      <th>Belgrano</th>\n",
       "      <td>999.0</td>\n",
       "      <td>1292.0</td>\n",
       "      <td>843.0</td>\n",
       "    </tr>\n",
       "  </tbody>\n",
       "</table>\n",
       "</div>"
      ],
      "text/plain": [
       "            piscina  cochera  amenities\n",
       "place_name                             \n",
       "Belgrano      999.0   1292.0      843.0"
      ]
     },
     "execution_count": 215,
     "metadata": {},
     "output_type": "execute_result"
    }
   ],
   "source": [
    "data.loc[(data.place_name == 'Belgrano') & (data.property_type == 'apartment') & (data.property_type == 'apartment')].groupby('place_name')['piscina','cochera','amenities'].sum()"
   ]
  },
  {
   "cell_type": "code",
   "execution_count": 221,
   "metadata": {},
   "outputs": [
    {
     "data": {
      "image/png": "[encoded data removed]",
      "text/plain": [
       "<Figure size 640x480 with 1 Axes>"
      ]
     },
     "metadata": {},
     "output_type": "display_data"
    }
   ],
   "source": [
    "import matplotlib\n",
    "import matplotlib.pyplot as plt\n",
    "\n",
    "plt.style.use('seaborn-whitegrid')\n",
    "fig = plt.figure(figsize=(8, 6), dpi=80)\n",
    "ax = plt.axes()\n",
    "\n",
    "names = ['Total dptos. Belgrano','Dptos. con piscina','Dptos. con cocheras','Dptos. con amenities']\n",
    "\n",
    "ax.bar(names[0],\n",
    "        data.loc[(data.place_name == 'Belgrano') & (data.property_type == 'apartment'),'operation'].count(),\n",
    "       color='blue', \n",
    "       edgecolor='black',\n",
    "       width=0.5)\n",
    "ax.bar(names[1],\n",
    "        data.loc[(data.place_name == 'Belgrano') & (data.property_type == 'apartment'),'piscina'].sum(),\n",
    "       color='grey',\n",
    "       edgecolor='black',\n",
    "       width=0.5)\n",
    "ax.bar(names[3],\n",
    "        data.loc[(data.place_name == 'Belgrano') & (data.property_type == 'apartment'),'cochera'].sum(),\n",
    "       color='grey',\n",
    "       edgecolor='black',\n",
    "       width=0.5)\n",
    "ax.bar(names[2],\n",
    "        data.loc[(data.place_name == 'Belgrano') & (data.property_type == 'apartment'),'amenities'].sum(),\n",
    "       color='grey',\n",
    "       edgecolor='black',\n",
    "       width=0.5)\n",
    "\n",
    "\n",
    "ax.set_xticklabels(names,rotation=10,rotation_mode=\"anchor\", ha=\"right\")\n",
    "\n",
    "ax.set(title = \"Cantidad de Dptos. y características\")\n",
    "\n",
    "\n",
    "plt.show()"
   ]
  },
  {
   "cell_type": "markdown",
   "metadata": {},
   "source": [
    "### Patrón -> Sótano"
   ]
  },
  {
   "cell_type": "code",
   "execution_count": 55,
   "metadata": {},
   "outputs": [],
   "source": [
    "patron_sotano = '(?<![\\w\\d])sotano|sótano(?![\\w\\d])'\n",
    "regex_sotano = re.compile(patron_sotano, flags = re.IGNORECASE)"
   ]
  },
  {
   "cell_type": "markdown",
   "metadata": {},
   "source": [
    "#### Sótano en descripción"
   ]
  },
  {
   "cell_type": "code",
   "execution_count": 56,
   "metadata": {},
   "outputs": [
    {
     "name": "stdout",
     "output_type": "stream",
     "text": [
      "Macheos de \"sótano\" en descripción: 813\n",
      "Ejemplo: sótano\n"
     ]
    },
    {
     "data": {
      "text/plain": [
       "False    120407\n",
       "True        813\n",
       "Name: description, dtype: int64"
      ]
     },
     "execution_count": 56,
     "metadata": {},
     "output_type": "execute_result"
    }
   ],
   "source": [
    "sotano_descripcion_macheo = data.description.apply(lambda x: x if x is np.NaN else regex_sotano.search(x))\n",
    "sotano_descripcion = sotano_descripcion_macheo\\\n",
    "        .apply(lambda x: x if x is None or x is np.NaN else x.group(0))\n",
    "\n",
    "print('Macheos de \"sótano\" en descripción:',sotano_descripcion_macheo.notnull().sum())\n",
    "print('Ejemplo:',sotano_descripcion.iloc[52])\n",
    "sotano_descripcion.notnull().value_counts()"
   ]
  },
  {
   "cell_type": "code",
   "execution_count": 57,
   "metadata": {},
   "outputs": [
    {
     "data": {
      "text/plain": [
       "Int64Index([    52,     58,    277,    890,    913,   1024,   1371,   2722,\n",
       "              3313,   3675,\n",
       "            ...\n",
       "            120111, 120149, 120478, 120768, 120815, 120854, 120864, 120929,\n",
       "            120933, 121068],\n",
       "           dtype='int64', length=813)"
      ]
     },
     "execution_count": 57,
     "metadata": {},
     "output_type": "execute_result"
    }
   ],
   "source": [
    "data.loc[sotano_descripcion_macheo.notnull()].index"
   ]
  },
  {
   "cell_type": "code",
   "execution_count": 58,
   "metadata": {},
   "outputs": [
    {
     "data": {
      "text/plain": [
       "'Departamento de 3 Ambientes al Contrafrente. Son 50 M2 totales. Piso 10°. El Edificio cuenta con Grupo Electrógeno. Antigüedad 50 años. Cocina 1.80 X 4.50. Lavadero 1.80 X 1.80, Living-Comedor 3 X 4.50, Dormitorio 2.80 X 3 con placard, Dormitorio 2.50 X 2.60 con placard.Baño Completo. Baulera Independiente en sótano. Expensas $1.350.-No tiene balcón. Vista abierta .NO APTO CRÉDITOExcelente ubicación, a metros del subte Linea \"A\" estación Primera Junta, innumerable cantidad de lineas de colectivo y en cercanías de la estación de tren Sarmiento.El inmueble se encuentra listo para escriturar y está desocupado.Ideal inversor.'"
      ]
     },
     "execution_count": 58,
     "metadata": {},
     "output_type": "execute_result"
    }
   ],
   "source": [
    "data.description.iloc[52]"
   ]
  },
  {
   "cell_type": "markdown",
   "metadata": {},
   "source": [
    "#### Sótano en título"
   ]
  },
  {
   "cell_type": "code",
   "execution_count": 59,
   "metadata": {},
   "outputs": [
    {
     "name": "stdout",
     "output_type": "stream",
     "text": [
      "Macheos de \"amenities\" en título: 31\n",
      "Ejemplo: None\n"
     ]
    },
    {
     "data": {
      "text/plain": [
       "False    121189\n",
       "True         31\n",
       "Name: title, dtype: int64"
      ]
     },
     "execution_count": 59,
     "metadata": {},
     "output_type": "execute_result"
    }
   ],
   "source": [
    "sotano_titulo_macheo = data.title.apply(lambda x: x if x is np.NaN else regex_sotano.search(x))\n",
    "sotano_titulo = sotano_titulo_macheo\\\n",
    "        .apply(lambda x: x if x is None or x is np.NaN else x.group(0))\n",
    "\n",
    "print('Macheos de \"amenities\" en título:',sotano_titulo_macheo.notnull().sum())\n",
    "print('Ejemplo:',sotano_titulo.iloc[913])\n",
    "sotano_titulo.notnull().value_counts()"
   ]
  },
  {
   "cell_type": "code",
   "execution_count": 60,
   "metadata": {},
   "outputs": [
    {
     "data": {
      "text/plain": [
       "Int64Index([  8205,  10585,  11205,  14253,  14266,  17559,  19689,  21983,\n",
       "             22062,  22524,  24186,  32241,  32883,  37950,  40119,  40396,\n",
       "             40716,  46862,  48137,  53898,  54878,  56894,  58552,  60510,\n",
       "             71401,  71567,  85330,  87136,  96759, 110252, 111085],\n",
       "           dtype='int64')"
      ]
     },
     "execution_count": 60,
     "metadata": {},
     "output_type": "execute_result"
    }
   ],
   "source": [
    "data.loc[sotano_titulo_macheo.notnull()].index"
   ]
  },
  {
   "cell_type": "code",
   "execution_count": 61,
   "metadata": {},
   "outputs": [
    {
     "data": {
      "text/plain": [
       "'LOCAL CON SOTANO EN FLORES'"
      ]
     },
     "execution_count": 61,
     "metadata": {},
     "output_type": "execute_result"
    }
   ],
   "source": [
    "data.title.iloc[8205]"
   ]
  },
  {
   "cell_type": "code",
   "execution_count": 62,
   "metadata": {},
   "outputs": [],
   "source": [
    "data['sotano'] = sotano_descripcion.notnull()"
   ]
  },
  {
   "cell_type": "code",
   "execution_count": 63,
   "metadata": {},
   "outputs": [
    {
     "data": {
      "text/plain": [
       "813"
      ]
     },
     "execution_count": 63,
     "metadata": {},
     "output_type": "execute_result"
    }
   ],
   "source": [
    "data['sotano'].sum()"
   ]
  },
  {
   "cell_type": "code",
   "execution_count": 64,
   "metadata": {},
   "outputs": [],
   "source": [
    "data['sotano'].loc[sotano_descripcion.isnull()] = sotano_titulo.notnull()"
   ]
  },
  {
   "cell_type": "code",
   "execution_count": 65,
   "metadata": {},
   "outputs": [
    {
     "data": {
      "text/plain": [
       "817"
      ]
     },
     "execution_count": 65,
     "metadata": {},
     "output_type": "execute_result"
    }
   ],
   "source": [
    "data['sotano'].sum()"
   ]
  },
  {
   "cell_type": "markdown",
   "metadata": {},
   "source": [
    "### Patrón -> Seguridad\n",
    "#### incluye cámaras, puertas, ventanas de seguridad"
   ]
  },
  {
   "cell_type": "code",
   "execution_count": 66,
   "metadata": {},
   "outputs": [],
   "source": [
    "patron_seguridad = '(?<!parasoles de )(?<![\\w\\d])seguridad(?![\\w\\d])'\n",
    "regex_seguridad = re.compile(patron_seguridad, flags = re.IGNORECASE)"
   ]
  },
  {
   "cell_type": "markdown",
   "metadata": {},
   "source": [
    "#### Seguridad en descripción"
   ]
  },
  {
   "cell_type": "code",
   "execution_count": 67,
   "metadata": {},
   "outputs": [
    {
     "name": "stdout",
     "output_type": "stream",
     "text": [
      "Macheos de \"seguridad\" en descripción: 11047\n",
      "Ejemplo: seguridad\n"
     ]
    },
    {
     "data": {
      "text/plain": [
       "False    110173\n",
       "True      11047\n",
       "Name: description, dtype: int64"
      ]
     },
     "execution_count": 67,
     "metadata": {},
     "output_type": "execute_result"
    }
   ],
   "source": [
    "seguridad_descripcion_macheo = data.description.apply(lambda x: x if x is np.NaN else regex_seguridad.search(x))\n",
    "seguridad_descripcion = seguridad_descripcion_macheo\\\n",
    "        .apply(lambda x: x if x is None or x is np.NaN else x.group(0))\n",
    "\n",
    "print('Macheos de \"seguridad\" en descripción:',seguridad_descripcion_macheo.notnull().sum())\n",
    "print('Ejemplo:',seguridad_descripcion.iloc[121205])\n",
    "seguridad_descripcion.notnull().value_counts()"
   ]
  },
  {
   "cell_type": "code",
   "execution_count": 68,
   "metadata": {},
   "outputs": [
    {
     "data": {
      "text/plain": [
       "Int64Index([    24,     25,     28,     38,     40,     43,     46,     47,\n",
       "                50,     68,\n",
       "            ...\n",
       "            121200, 121201, 121202, 121203, 121204, 121205, 121206, 121211,\n",
       "            121214, 121215],\n",
       "           dtype='int64', length=11047)"
      ]
     },
     "execution_count": 68,
     "metadata": {},
     "output_type": "execute_result"
    }
   ],
   "source": [
    "data.loc[seguridad_descripcion_macheo.notnull()].index"
   ]
  },
  {
   "cell_type": "code",
   "execution_count": 69,
   "metadata": {},
   "outputs": [
    {
     "data": {
      "text/plain": [
       "'Local Comercial s/ av Callao, ubicación de alto transito y densidad de poblaciónLa propiedad cuenta con contrato vigente hasta 2018, en caso de intereses se entrega una copia del mismo para analizar la renta.Frente: 3,15 mtsFondo: 33 mtsEl local pertenece a un consorcio, con lo cual cuenta con el beneficio de la seguridad privada del mismo, 24 hs.Tiene entrada por el frente, por supuesto, (cortina metálica de enrollar) y por el hall de entrada del edificio.2 baños2 depósitosApto varios destinos con la exclusión de restautante, pescaderia y verduleria. En otras palabras no se puede habilitar cocina.El ultimo locatario logro la habilitacion como confiteria.Ideal MAXIKIOSCO / LOCUTORIOReferencias de la zona:Av Rivadavia a 2 cuadras y 1/2Av Corrientes a 2 cuadrasHotel BauenHotel SavoyCasa de la Provincia de Buenos AiresTransportes cercanos:Colectivos:5, 6, 7, 8, 12, 23, 24, 26, 37, 50, 56, 60, 64, 75, 86, 90, 98, 102, 105, 115, 124, 146, 150, 151, 180Subtes (Metro):CALLAO (Línea B), CONGRESO (Línea A)La venta del Inmueble referido se encuentra sujeta a la tramitación del Código de Oferta de Transferencia de Inmuebles (C.O.T.I.) por parte del propietario. Las medidas son Aproximadas y al solo efecto orientativo, las medidas reales surgirán del Título de Propiedad respectivo.-'"
      ]
     },
     "execution_count": 69,
     "metadata": {},
     "output_type": "execute_result"
    }
   ],
   "source": [
    "data.description.iloc[204]"
   ]
  },
  {
   "cell_type": "markdown",
   "metadata": {},
   "source": [
    "#### Seguridad en Título"
   ]
  },
  {
   "cell_type": "code",
   "execution_count": 70,
   "metadata": {},
   "outputs": [
    {
     "name": "stdout",
     "output_type": "stream",
     "text": [
      "Macheos de \"seguridad\" en titulo: 143\n",
      "Ejemplo: None\n"
     ]
    },
    {
     "data": {
      "text/plain": [
       "False    121077\n",
       "True        143\n",
       "Name: title, dtype: int64"
      ]
     },
     "execution_count": 70,
     "metadata": {},
     "output_type": "execute_result"
    }
   ],
   "source": [
    "seguridad_titulo_macheo = data.title.apply(lambda x: x if x is np.NaN else regex_seguridad.search(x))\n",
    "seguridad_titulo= seguridad_titulo_macheo\\\n",
    "        .apply(lambda x: x if x is None or x is np.NaN else x.group(0))\n",
    "\n",
    "print('Macheos de \"seguridad\" en titulo:',seguridad_titulo_macheo.notnull().sum())\n",
    "print('Ejemplo:',seguridad_titulo.iloc[52])\n",
    "seguridad_titulo.notnull().value_counts()"
   ]
  },
  {
   "cell_type": "code",
   "execution_count": 71,
   "metadata": {},
   "outputs": [
    {
     "data": {
      "text/plain": [
       "Int64Index([  1576,   2660,   4674,   6131,   6132,   6478,   6815,   8292,\n",
       "              8293,   8294,\n",
       "            ...\n",
       "            114813, 115169, 115244, 115323, 116301, 116541, 118724, 119341,\n",
       "            119647, 119726],\n",
       "           dtype='int64', length=143)"
      ]
     },
     "execution_count": 71,
     "metadata": {},
     "output_type": "execute_result"
    }
   ],
   "source": [
    "data.loc[seguridad_titulo_macheo.notnull()].index"
   ]
  },
  {
   "cell_type": "code",
   "execution_count": 72,
   "metadata": {},
   "outputs": [
    {
     "data": {
      "text/plain": [
       "'Departamento de categoria , de 3 ambientes en suite ,piscina , seguridad , sum.'"
      ]
     },
     "execution_count": 72,
     "metadata": {},
     "output_type": "execute_result"
    }
   ],
   "source": [
    "data.title.iloc[1576]"
   ]
  },
  {
   "cell_type": "code",
   "execution_count": null,
   "metadata": {},
   "outputs": [],
   "source": []
  },
  {
   "cell_type": "code",
   "execution_count": 73,
   "metadata": {},
   "outputs": [],
   "source": [
    "data['seguridad'] = seguridad_descripcion.notnull()"
   ]
  },
  {
   "cell_type": "code",
   "execution_count": 74,
   "metadata": {},
   "outputs": [
    {
     "data": {
      "text/plain": [
       "11047"
      ]
     },
     "execution_count": 74,
     "metadata": {},
     "output_type": "execute_result"
    }
   ],
   "source": [
    "data['seguridad'].sum()"
   ]
  },
  {
   "cell_type": "code",
   "execution_count": 75,
   "metadata": {},
   "outputs": [],
   "source": [
    "data['seguridad'].loc[seguridad_descripcion.isnull()] = seguridad_titulo.notnull()"
   ]
  },
  {
   "cell_type": "code",
   "execution_count": 76,
   "metadata": {},
   "outputs": [
    {
     "data": {
      "text/plain": [
       "11090"
      ]
     },
     "execution_count": 76,
     "metadata": {},
     "output_type": "execute_result"
    }
   ],
   "source": [
    "data['seguridad'].sum()"
   ]
  },
  {
   "cell_type": "markdown",
   "metadata": {},
   "source": [
    "### Patrón -> Consultorio"
   ]
  },
  {
   "cell_type": "code",
   "execution_count": 77,
   "metadata": {},
   "outputs": [],
   "source": [
    "patron_consultorio = '(?<!apto )(?<!apto para )(?<![\\w\\d])consultorio(?![\\w\\d])'\n",
    "regex_consultorio = re.compile(patron_consultorio, flags = re.IGNORECASE)"
   ]
  },
  {
   "cell_type": "markdown",
   "metadata": {},
   "source": [
    "#### Consultorio en descripción"
   ]
  },
  {
   "cell_type": "code",
   "execution_count": 78,
   "metadata": {},
   "outputs": [
    {
     "name": "stdout",
     "output_type": "stream",
     "text": [
      "Macheos de \"consultorio\" en descripción: 384\n",
      "Ejemplo: None\n"
     ]
    },
    {
     "data": {
      "text/plain": [
       "False    120836\n",
       "True        384\n",
       "Name: description, dtype: int64"
      ]
     },
     "execution_count": 78,
     "metadata": {},
     "output_type": "execute_result"
    }
   ],
   "source": [
    "consultorio_descripcion_macheo = data.description.apply(lambda x: x if x is np.NaN else regex_consultorio.search(x))\n",
    "consultorio_descripcion = consultorio_descripcion_macheo\\\n",
    "        .apply(lambda x: x if x is None or x is np.NaN else x.group(0))\n",
    "\n",
    "print('Macheos de \"consultorio\" en descripción:',consultorio_descripcion_macheo.notnull().sum())\n",
    "print('Ejemplo:',consultorio_descripcion.iloc[52])\n",
    "consultorio_descripcion.notnull().value_counts()"
   ]
  },
  {
   "cell_type": "code",
   "execution_count": 79,
   "metadata": {},
   "outputs": [
    {
     "data": {
      "text/plain": [
       "Int64Index([   176,    527,    855,    856,    857,    858,    859,    860,\n",
       "               861,    862,\n",
       "            ...\n",
       "            115841, 116980, 117586, 117595, 118705, 119454, 119883, 120072,\n",
       "            120821, 120869],\n",
       "           dtype='int64', length=384)"
      ]
     },
     "execution_count": 79,
     "metadata": {},
     "output_type": "execute_result"
    }
   ],
   "source": [
    "data.loc[consultorio_descripcion_macheo.notnull()].index"
   ]
  },
  {
   "cell_type": "code",
   "execution_count": 80,
   "metadata": {},
   "outputs": [
    {
     "data": {
      "text/plain": [
       "'Corredor Responsable: Silvina Gallegos - Matricula N° 392Contacto: Pablo Zenker - MLS ID # 420371067-35Moderno complejo habitacional y comercial ubicado en pleno centro de Fernández Oro - JM Jorge 350-.  DEPARTAMENTO 2° A - 2 DORMITORIOS DE 82M2  Cuenta con las siguientes características:  ?     PB y dos pisos - 935M2 - ?     1 dormitorio: 4 unidades ?     2 dormitorios: 4 unidades ?     1 consultorio ?     1 local comercial  ?     Forma de pago ?     Mínimo anticipo ?     Financiación: Cuotas en pesos ajustables por CAC ?     Plazo: Hasta 24 meses  ?     Posesión: NOVIEMBRE 2017  ?     Características constructivas:   ESTRUCTURA: LA OBRA SE REALIZA CON ESTRUCTURA DE HORMIGÓN ARMADO, CON SISTEMA ANTISÍSMICO, SEGÚN REGLAMENTACIÓN VIGENTE. LA MISMA CONTARÁ DE CIMIENTOS, COLUMNAS, VIGAS Y LOSA DE ENTREPISO PORTANTE. MAMPOSTERÍAS: LOS MAMPUESTOS SE REALIZARÁN CON LADRILLO CERÁMICO HUECO DE 18 CM DE ESPESOR, EN TODO SU PERÍMETRO Y EN LOS INTERIORES SE UTILIZARA LADRILLO CERÁMICO HUECO DE 12 CM DE ESPESOR, LAS MONTANTES SE REALIZAN EN TABIQUERÍA TIPO DURLOCK, SEGÚN PROYECTO CONSTRUCTIVO. REVOQUES Y REVESTIMIENTOS: EN EL EXTERIOR SE APLICARÁ UN REVOQUE PROYECTADO LISO, CON TERMINACIÓN EN COLORES SEGÚN PROYECTO. EN EL INTERIOR SE APLICARAN REVOQUES DE YESO PROYECTADO EN PAREDES, LOS CIELORRASOS SERÁN SUSPENDIDOS CON ESTRUCTURA METÁLICA Y REVESTIMIENTO DE PLACA DE ROCA DE YESO, TIPO DURLOCK. EXCEPTO EN CONSULTORIO QUE EL CIELORRASO SERA PROYECTADO SOBRE LOSA. LOS REVESTIMIENTOS TANTO EN BAÑOS COMO EN COCINA SERÁN DE MATERIAL CERÁMICO DE 1° CALIDAD. SOLADOS Y ZÓCALOS: LOS SOLADOS SERÁN DE MATERIAL CERÁMICO DE 1° CALIDAD.  EN DORMITORIOS DE COLOCARA TARIMA FLOTANTE AC3, EXCEPTO EN LOCAL COMERCIAL Y CONSULTORIO QUE SERA DE PORCELLANATO. LOS ZÓCALOS SERÁN DE MATERIAL MDF, O SANITARIOS SEGÚN CORRESPONDA. MESADAS Y MUEBLES DE COCINA:  LAS COCINAS DE LAS UNIDADES FUNCIONALES SE ENTREGARÁ MESADA DE PIEDRA GRIS MARA, CON SUS RESPECTIVOS MUEBLES BAJO MESADA Y ALACENA. KITCHENETTE DE LOCAL COMERCIAL Y CONSULTORIO SE ENTREGARÁ CON MESADA DE PIEDRA GRIS MARA Y MUEBLES BAJO MESADA. LOS MISMOS SERÁN REALIZADOS EN PANELES CON REVESTIMIENTO MELAMÍNICO. NO SE PROVEEN LOS ARTEFACTOS DE COCINA. CARPINTERÍAS Y PLACARES: LA CARPINTERÍA EXTERIOR SE REALIZARA A MEDIDA, EN ALUMINIO COLOR, CON VIDRIOS DVH, EXCEPTO EN LOCAL COMERCIAL Y CONSULTORIO QUE LA CARPINTERÍA SE REALIZARA EN CHAPA SEGÚN PROYECTO. LA CARPINTERÍA INTERIOR, PUERTAS DE ACCESO E INTERIORES, SERÁN CON MARCO DE CHAPA Y HOJA PLACA DE MADERA ENCHAPADA LUSTRADA NATURAL. LOS PLACARES SE ENTREGARAN CON SU DIVISORIA INTERIOR, CON PUERTAS CORREDIZAS, REALIZADOS EN PANELES MELAMÍNICOS. INSTALACIONES: LA INSTALACIÓN SANITARIA SE REALIZARA CON EL SISTEMA TERMOFUSIÓN Y SUS DESAGÜES CON CAÑOS EN MATERIAL PVC 3,2MM. LAS GRIFERÍAS DE BAÑOS Y COCINA, KITCHENETTE Y CONSULTORIOS, SERÁN DEL TIPO MONOCOMANDO, MARCA FV O SIMILAR. EL SISTEMA DE AGUA CALIENTE Y CALEFACCIÓN SE REALIZARA POR MEDIO DE CALDERA DUAL DE DOBLE CIRCUITO, CON RADIADORES DE ALUMINIO UBICADOS SEGÚN PROYECTO CALÓRICO. TODOS LOS ARTEFACTOS DE BAÑO SERÁN DE 1° CALIDAD, COLOR BLANCO. LA INSTALACIÓN DE GAS SE REALIZARA, SEGÚN NORMATIVAS DEL ENTE REGULADOR, CON CAÑERÍA EPOXI. LA INSTALACIÓN ELÉCTRICA SE REALIZARÁ SEGÚN PROYECTO, PREVIENDO LA COLOCACIÓN DE CAJAS DE ALIMENTACIÓN PARA AIRE ACONDICIONADO. EN CONSULTORIOS SE DEJARAN PREVISTAS LAS CONEXIONES DE AGUA, ELECTRICIDAD Y DESAGOTE CLOACAL PARA LAS UNIDADES DENTALES. (A DETALLARSE SEGÚN ESPECIFICACIONES TÉCNICAS DEL PROYECTISTA). PATIOS:  LOS PATIOS TENDRÁN CANTEROS CENTRALES CON DIMENSIONES SEGÚN INDICA EL PROYECTO Y SOLADOS PERIMETRALES DE MATERIAL CERÁMICO DE 1° CALIDAD. VEREDAS:  LAS VEREDAS SERÁN DE PIEDRA LAVADA, SEGÚN ESPECIFICA EL PROYECTISTA, CON 2 CANTEROS CADA UNA PARA LA COLOCACIONES DE ARBOLES.   NOTA: todas las marcas podrán ser sustituidas por similares, como así también algunas de las tecnologías en el caso de existir problemas en la provisión de las mismas sin alterar la contraprestación ni calidad del producto  En cumplimiento de la leyes provinciales vigentes que regulan el corretaje inmobiliario, Ley Nacional 25.028, Ley 22.802 de Lealtad Comercial, Ley 24.240 de Defensa al Consumidor, las normas del Código Civil y Comercial de la Nación y Constitucionales, los agentes NO ejercen el corretaje inmobiliario. Todas las operaciones inmobiliarias son objeto de intermediación y conclusión por parte de los martilleros y corredores colegiados, cuyos datos se exhiben debajo del nombre de la inmobiliaria. Imágenes digitales no contractuales.'"
      ]
     },
     "execution_count": 80,
     "metadata": {},
     "output_type": "execute_result"
    }
   ],
   "source": [
    "data.description.iloc[176]"
   ]
  },
  {
   "cell_type": "markdown",
   "metadata": {},
   "source": [
    "#### Consultorio en título"
   ]
  },
  {
   "cell_type": "code",
   "execution_count": 81,
   "metadata": {},
   "outputs": [
    {
     "name": "stdout",
     "output_type": "stream",
     "text": [
      "Macheos de \"consultorio\" en titulo: 22\n",
      "Ejemplo: None\n"
     ]
    },
    {
     "data": {
      "text/plain": [
       "False    121198\n",
       "True         22\n",
       "Name: title, dtype: int64"
      ]
     },
     "execution_count": 81,
     "metadata": {},
     "output_type": "execute_result"
    }
   ],
   "source": [
    "consultorio_titulo_macheo = data.title.apply(lambda x: x if x is np.NaN else regex_consultorio.search(x))\n",
    "consultorio_titulo= consultorio_titulo_macheo\\\n",
    "        .apply(lambda x: x if x is None or x is np.NaN else x.group(0))\n",
    "\n",
    "print('Macheos de \"consultorio\" en titulo:',consultorio_titulo_macheo.notnull().sum())\n",
    "print('Ejemplo:',consultorio_titulo.iloc[52])\n",
    "consultorio_titulo.notnull().value_counts()"
   ]
  },
  {
   "cell_type": "code",
   "execution_count": 82,
   "metadata": {},
   "outputs": [
    {
     "data": {
      "text/plain": [
       "Int64Index([  5749,  10923,  16545,  20904,  22012,  23286,  24049,  28108,\n",
       "             33882,  33901,  42150,  42569,  50995,  58973,  63420,  64764,\n",
       "             65159,  66776,  69058,  85246, 108352, 113451],\n",
       "           dtype='int64')"
      ]
     },
     "execution_count": 82,
     "metadata": {},
     "output_type": "execute_result"
    }
   ],
   "source": [
    "data.loc[consultorio_titulo_macheo.notnull()].index"
   ]
  },
  {
   "cell_type": "code",
   "execution_count": 83,
   "metadata": {},
   "outputs": [
    {
     "data": {
      "text/plain": [
       "'Local / Oficina / Consultorio a estrenar en Flores'"
      ]
     },
     "execution_count": 83,
     "metadata": {},
     "output_type": "execute_result"
    }
   ],
   "source": [
    "data.title.iloc[5749]"
   ]
  },
  {
   "cell_type": "code",
   "execution_count": null,
   "metadata": {},
   "outputs": [],
   "source": []
  },
  {
   "cell_type": "code",
   "execution_count": 84,
   "metadata": {},
   "outputs": [],
   "source": [
    "data['consultorio'] = consultorio_descripcion.notnull()"
   ]
  },
  {
   "cell_type": "code",
   "execution_count": 85,
   "metadata": {},
   "outputs": [
    {
     "data": {
      "text/plain": [
       "384"
      ]
     },
     "execution_count": 85,
     "metadata": {},
     "output_type": "execute_result"
    }
   ],
   "source": [
    "data['consultorio'].sum()"
   ]
  },
  {
   "cell_type": "code",
   "execution_count": 86,
   "metadata": {},
   "outputs": [],
   "source": [
    "data['consultorio'].loc[consultorio_descripcion.isnull()] = consultorio_titulo.notnull()"
   ]
  },
  {
   "cell_type": "code",
   "execution_count": 87,
   "metadata": {},
   "outputs": [
    {
     "data": {
      "text/plain": [
       "388"
      ]
     },
     "execution_count": 87,
     "metadata": {},
     "output_type": "execute_result"
    }
   ],
   "source": [
    "data['consultorio'].sum()"
   ]
  },
  {
   "cell_type": "markdown",
   "metadata": {},
   "source": [
    "### Patrón -> Fondo de Comercio"
   ]
  },
  {
   "cell_type": "code",
   "execution_count": 88,
   "metadata": {},
   "outputs": [],
   "source": [
    "patron_fcomercio = '(?<![\\w\\d])fondo de comercio(?![\\w\\d])'\n",
    "regex_fcomercio = re.compile(patron_fcomercio, flags = re.IGNORECASE)"
   ]
  },
  {
   "cell_type": "markdown",
   "metadata": {},
   "source": [
    "#### Fondo de comercio en descripción"
   ]
  },
  {
   "cell_type": "code",
   "execution_count": 89,
   "metadata": {},
   "outputs": [
    {
     "name": "stdout",
     "output_type": "stream",
     "text": [
      "Macheos de \"fondo de comercio\" en descripción: 161\n",
      "Ejemplo: Fondo de comercio\n"
     ]
    },
    {
     "data": {
      "text/plain": [
       "False    121059\n",
       "True        161\n",
       "Name: description, dtype: int64"
      ]
     },
     "execution_count": 89,
     "metadata": {},
     "output_type": "execute_result"
    }
   ],
   "source": [
    "fcomercio_descripcion_macheo = data.description.apply(lambda x: x if x is np.NaN else regex_fcomercio.search(x))\n",
    "fcomercio_descripcion = fcomercio_descripcion_macheo\\\n",
    "        .apply(lambda x: x if x is None or x is np.NaN else x.group(0))\n",
    "\n",
    "print('Macheos de \"fondo de comercio\" en descripción:',fcomercio_descripcion_macheo.notnull().sum())\n",
    "print('Ejemplo:',fcomercio_descripcion.iloc[116043])\n",
    "fcomercio_descripcion.notnull().value_counts()"
   ]
  },
  {
   "cell_type": "code",
   "execution_count": 90,
   "metadata": {},
   "outputs": [
    {
     "data": {
      "text/plain": [
       "Int64Index([   803,    836,   1603,   1897,   2202,   2965,   2967,   3854,\n",
       "              3855,   3856,\n",
       "            ...\n",
       "            115000, 115040, 115411, 115703, 115819, 116043, 117127, 117128,\n",
       "            117230, 121073],\n",
       "           dtype='int64', length=161)"
      ]
     },
     "execution_count": 90,
     "metadata": {},
     "output_type": "execute_result"
    }
   ],
   "source": [
    "data.loc[fcomercio_descripcion_macheo.notnull()].index"
   ]
  },
  {
   "cell_type": "code",
   "execution_count": 91,
   "metadata": {},
   "outputs": [
    {
     "data": {
      "text/plain": [
       "'Fondo de comercio y alquiler comercial, Superficie total aproximada: 140 m2, Planta baja: superficie: 100 m2 (7 metros de frente aproximadamente), Planta alta: superficie 40 m2  Incluye  MOBILIARIO PLANTA BAJA: ESPACIO COMEDOR, 18 mesas, 36 sillas, Barra,1 Led de 42, Caja Registradora, Equipo de Música, ESPACIO COCINA: 1 Lomitera, 4 Hornallas, 1 Horno, 1 Heladera Baja de 5 Puertas, 1 Heladera Baja de 2 Puertas (En la Barra), 1 Horno Chico, 1 Licuadora, 1 Juguera, 1 Pica Hielo, 1 Freezer, 1 Maquina Corta Fiambres,  MOBILIARIO/ESPACIOS PLANTA ALTA: 2 Baños, 1 Deposito pequeño, 1 Sala privada / Deposito  El alquiler del local no esta incluido en el precio del fondo de comercio. El alquiler sera con impuestos incluidos. No dude en consultarnos al 3516782345 por telefono o por WhatsApp.'"
      ]
     },
     "execution_count": 91,
     "metadata": {},
     "output_type": "execute_result"
    }
   ],
   "source": [
    "data.description.iloc[116043]"
   ]
  },
  {
   "cell_type": "markdown",
   "metadata": {},
   "source": [
    "#### Fondo de comercio en título"
   ]
  },
  {
   "cell_type": "code",
   "execution_count": 92,
   "metadata": {},
   "outputs": [
    {
     "name": "stdout",
     "output_type": "stream",
     "text": [
      "Macheos de \"fondo de comercio\" en título: 130\n",
      "Ejemplo: None\n"
     ]
    },
    {
     "data": {
      "text/plain": [
       "False    121090\n",
       "True        130\n",
       "Name: title, dtype: int64"
      ]
     },
     "execution_count": 92,
     "metadata": {},
     "output_type": "execute_result"
    }
   ],
   "source": [
    "fcomercio_titulo_macheo = data.title.apply(lambda x: x if x is np.NaN else regex_fcomercio.search(x))\n",
    "fcomercio_titulo = fcomercio_titulo_macheo\\\n",
    "        .apply(lambda x: x if x is None or x is np.NaN else x.group(0))\n",
    "\n",
    "print('Macheos de \"fondo de comercio\" en título:',fcomercio_titulo_macheo.notnull().sum())\n",
    "print('Ejemplo:',fcomercio_titulo.iloc[52])\n",
    "fcomercio_titulo.notnull().value_counts()"
   ]
  },
  {
   "cell_type": "code",
   "execution_count": 93,
   "metadata": {},
   "outputs": [
    {
     "data": {
      "text/plain": [
       "Int64Index([   878,   1796,   1897,   2377,   2965,   2967,   3724,   3775,\n",
       "              3854,   3855,\n",
       "            ...\n",
       "            115695, 115703, 115819, 115860, 116043, 117109, 117127, 117128,\n",
       "            117230, 117740],\n",
       "           dtype='int64', length=130)"
      ]
     },
     "execution_count": 93,
     "metadata": {},
     "output_type": "execute_result"
    }
   ],
   "source": [
    "data.loc[fcomercio_titulo_macheo.notnull()].index"
   ]
  },
  {
   "cell_type": "code",
   "execution_count": 94,
   "metadata": {},
   "outputs": [
    {
     "data": {
      "text/plain": [
       "'$ 375.000 - Fondo de Comercio en Venta - México     4300'"
      ]
     },
     "execution_count": 94,
     "metadata": {},
     "output_type": "execute_result"
    }
   ],
   "source": [
    "data.title.iloc[2377]"
   ]
  },
  {
   "cell_type": "code",
   "execution_count": 95,
   "metadata": {},
   "outputs": [],
   "source": [
    "data['fondo_comercio'] = fcomercio_descripcion.notnull()"
   ]
  },
  {
   "cell_type": "code",
   "execution_count": 96,
   "metadata": {},
   "outputs": [
    {
     "data": {
      "text/plain": [
       "161"
      ]
     },
     "execution_count": 96,
     "metadata": {},
     "output_type": "execute_result"
    }
   ],
   "source": [
    "data['fondo_comercio'].sum()"
   ]
  },
  {
   "cell_type": "code",
   "execution_count": 97,
   "metadata": {},
   "outputs": [],
   "source": [
    "data['fondo_comercio'].loc[fcomercio_descripcion.isnull()] = fcomercio_titulo.notnull()"
   ]
  },
  {
   "cell_type": "code",
   "execution_count": 98,
   "metadata": {},
   "outputs": [
    {
     "data": {
      "text/plain": [
       "214"
      ]
     },
     "execution_count": 98,
     "metadata": {},
     "output_type": "execute_result"
    }
   ],
   "source": [
    "data['fondo_comercio'].sum()"
   ]
  },
  {
   "cell_type": "markdown",
   "metadata": {},
   "source": [
    "### Patrón -> Galería\n",
    "\n",
    "#### Para aplicar en property_type = \"stores\""
   ]
  },
  {
   "cell_type": "code",
   "execution_count": 99,
   "metadata": {},
   "outputs": [],
   "source": [
    "patron_galeria = '(?<![\\w\\d])galeria|galería(?![\\w\\d])'\n",
    "regex_galeria = re.compile(patron_galeria, flags = re.IGNORECASE)"
   ]
  },
  {
   "cell_type": "markdown",
   "metadata": {},
   "source": [
    "#### Galería en descripción"
   ]
  },
  {
   "cell_type": "code",
   "execution_count": 100,
   "metadata": {},
   "outputs": [
    {
     "name": "stdout",
     "output_type": "stream",
     "text": [
      "Macheos de \"galería\" en descripción: 12297\n",
      "Ejemplo: galeria\n"
     ]
    },
    {
     "data": {
      "text/plain": [
       "False    108923\n",
       "True      12297\n",
       "Name: description, dtype: int64"
      ]
     },
     "execution_count": 100,
     "metadata": {},
     "output_type": "execute_result"
    }
   ],
   "source": [
    "galeria_descripcion_macheo = data.description.apply(lambda x: x if x is np.NaN else regex_galeria.search(x))\n",
    "galeria_descripcion = galeria_descripcion_macheo\\\n",
    "        .apply(lambda x: x if x is None or x is np.NaN else x.group(0))\n",
    "\n",
    "print('Macheos de \"galería\" en descripción:',galeria_descripcion_macheo.notnull().sum())\n",
    "print('Ejemplo:',galeria_descripcion.iloc[11])\n",
    "galeria_descripcion.notnull().value_counts()"
   ]
  },
  {
   "cell_type": "code",
   "execution_count": 101,
   "metadata": {},
   "outputs": [
    {
     "data": {
      "text/plain": [
       "Int64Index([    11,     18,     22,     26,     30,     36,     40,     44,\n",
       "                58,     61,\n",
       "            ...\n",
       "            121089, 121091, 121097, 121141, 121145, 121154, 121155, 121156,\n",
       "            121212, 121213],\n",
       "           dtype='int64', length=12297)"
      ]
     },
     "execution_count": 101,
     "metadata": {},
     "output_type": "execute_result"
    }
   ],
   "source": [
    "data.loc[galeria_descripcion_macheo.notnull()].index"
   ]
  },
  {
   "cell_type": "code",
   "execution_count": 102,
   "metadata": {},
   "outputs": [
    {
     "data": {
      "text/plain": [
       "'Entrada de Coche, Jardin, Living en desnivel, Comedor, Cocina, Toillete, 2 Dormitorios con placard, Baño, Payrrom, lavadero, galeria.Independiente DEPTO 1 ambiente con cocina, baño Aviso publicado por Pixel Inmobiliario (Servicio de Páginas Web para Inmobiliarias).'"
      ]
     },
     "execution_count": 102,
     "metadata": {},
     "output_type": "execute_result"
    }
   ],
   "source": [
    "data.description.iloc[11]"
   ]
  },
  {
   "cell_type": "markdown",
   "metadata": {},
   "source": [
    "#### Galería en título"
   ]
  },
  {
   "cell_type": "code",
   "execution_count": 103,
   "metadata": {},
   "outputs": [
    {
     "name": "stdout",
     "output_type": "stream",
     "text": [
      "Macheos de \"galería\" en titulo: 125\n",
      "Ejemplo: galeria\n"
     ]
    },
    {
     "data": {
      "text/plain": [
       "False    121095\n",
       "True        125\n",
       "Name: title, dtype: int64"
      ]
     },
     "execution_count": 103,
     "metadata": {},
     "output_type": "execute_result"
    }
   ],
   "source": [
    "galeria_titulo_macheo = data.title.apply(lambda x: x if x is np.NaN else regex_galeria.search(x))\n",
    "galeria_titulo = galeria_titulo_macheo\\\n",
    "        .apply(lambda x: x if x is None or x is np.NaN else x.group(0))\n",
    "\n",
    "print('Macheos de \"galería\" en titulo:',galeria_titulo_macheo.notnull().sum())\n",
    "print('Ejemplo:',galeria_titulo.iloc[936])\n",
    "galeria_titulo.notnull().value_counts()"
   ]
  },
  {
   "cell_type": "code",
   "execution_count": 104,
   "metadata": {},
   "outputs": [
    {
     "data": {
      "text/plain": [
       "Int64Index([   936,   1024,   1430,   2656,   5102,   6084,   6309,   6778,\n",
       "              6780,   7057,\n",
       "            ...\n",
       "            115867, 116176, 116661, 117805, 119115, 119489, 119588, 119589,\n",
       "            119632, 119820],\n",
       "           dtype='int64', length=125)"
      ]
     },
     "execution_count": 104,
     "metadata": {},
     "output_type": "execute_result"
    }
   ],
   "source": [
    "data.loc[galeria_titulo_macheo.notnull()].index"
   ]
  },
  {
   "cell_type": "code",
   "execution_count": 106,
   "metadata": {},
   "outputs": [
    {
     "data": {
      "text/plain": [
       "'impecable casa 4 dormitorios, pileta, galeria,'"
      ]
     },
     "execution_count": 106,
     "metadata": {},
     "output_type": "execute_result"
    }
   ],
   "source": [
    "data.title.iloc[936]"
   ]
  }
 ],
 "metadata": {
  "kernelspec": {
   "display_name": "Python 3",
   "language": "python",
   "name": "python3"
  },
  "language_info": {
   "codemirror_mode": {
    "name": "ipython",
    "version": 3
   },
   "file_extension": ".py",
   "mimetype": "text/x-python",
   "name": "python",
   "nbconvert_exporter": "python",
   "pygments_lexer": "ipython3",
   "version": "3.7.7"
  }
 },
 "nbformat": 4,
 "nbformat_minor": 4
}
