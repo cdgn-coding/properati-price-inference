{
 "cells": [
  {
   "cell_type": "code",
   "execution_count": 180,
   "metadata": {},
   "outputs": [],
   "source": [
    "import pandas as pd\n",
    "import numpy as np\n",
    "import re\n",
    "data = pd.read_csv(\"properati.csv\")"
   ]
  },
  {
   "cell_type": "markdown",
   "metadata": {},
   "source": [
    "## Patrones -> Precio"
   ]
  },
  {
   "cell_type": "code",
   "execution_count": 181,
   "metadata": {},
   "outputs": [],
   "source": [
    "# Precios inmueble\n",
    "\n",
    "# detecto el precio (antecedido por usd y NO precedido por m2)\n",
    "\n",
    "patron_precio_inm = '(usd|u\\$d|u\\$s|us\\$|dolares) ?(\\d{2,}(\\,|\\.)\\d{0,3}\\.?\\d{0,3}|(\\d{2,}(\\,|\\.)\\d{0,3}\\,?\\.?\\d{0,3}\\,?\\.?\\d{0,3})) ?(?!(.*m2|.*mc|.*metros))'\n",
    "regex_precio_inm = re.compile(patron_precio_inm, flags = re.IGNORECASE)\n",
    "\n",
    "# formateo el precio (00.000.000 -> conjunto de tres cifras)\n",
    "\n",
    "patron_precio_inm_2 = '(\\d\\d\\d?\\.)(\\d\\d\\d\\.)?(\\d\\d\\d)'\n",
    "regex_precio_inm_2 = re.compile(patron_precio_inm_2, flags = re.IGNORECASE)"
   ]
  },
  {
   "cell_type": "markdown",
   "metadata": {},
   "source": [
    "### Búsqueda de Precios\n",
    "\n",
    "#### Precios en descripción"
   ]
  },
  {
   "cell_type": "code",
   "execution_count": 182,
   "metadata": {},
   "outputs": [
    {
     "name": "stdout",
     "output_type": "stream",
     "text": [
      "Macheos encontrados de precios en descripción: 7034\n",
      "Ejemplo: 750.000132\n"
     ]
    },
    {
     "data": {
      "text/plain": [
       "True     114186\n",
       "False      7034\n",
       "Name: description, dtype: int64"
      ]
     },
     "execution_count": 182,
     "metadata": {},
     "output_type": "execute_result"
    }
   ],
   "source": [
    "# precios en descripción\n",
    "\n",
    "precios_descripcion_macheo = data.description.apply(lambda x: x if x is np.NaN else regex_precio_inm.search(x))\n",
    "precios_descripcion = precios_descripcion_macheo\\\n",
    "        .apply(lambda x: x if x is None or x is np.NaN else x.group(2))\n",
    "\n",
    "print('Macheos encontrados de precios en descripción:',precios_descripcion_macheo.notnull().sum())\n",
    "print('Ejemplo:',precios_descripcion.iloc[55245])\n",
    "precios_descripcion.isnull().value_counts()"
   ]
  },
  {
   "cell_type": "code",
   "execution_count": 183,
   "metadata": {},
   "outputs": [
    {
     "data": {
      "text/plain": [
       "750000.0"
      ]
     },
     "execution_count": 183,
     "metadata": {},
     "output_type": "execute_result"
    }
   ],
   "source": [
    "# precios formateados con regex\n",
    "\n",
    "precios_descripcion_formateo_match = precios_descripcion\\\n",
    "                    .apply(lambda x: x if x is None or x is np.NaN else regex_precio_inm_2.search(x))\n",
    "\n",
    "precios_descripcion_formateado = precios_descripcion_formateo_match\\\n",
    "                    .apply(lambda x: np.NaN if x is None or x is np.NaN else x.group()\\\n",
    "                        .replace(',','')\\\n",
    "                        .replace('.',''))\\\n",
    "                    .astype(float)\n",
    "\n",
    "precios_descripcion_formateado.iloc[55245]"
   ]
  },
  {
   "cell_type": "code",
   "execution_count": 184,
   "metadata": {},
   "outputs": [
    {
     "name": "stdout",
     "output_type": "stream",
     "text": [
      "Macheos de precios filtrados en titulo: 5853\n"
     ]
    },
    {
     "data": {
      "text/plain": [
       "91468     25000000.0\n",
       "91229     14000000.0\n",
       "74066       993140.0\n",
       "73965       985320.0\n",
       "113972      980000.0\n",
       "74032       961860.0\n",
       "73927       954040.0\n",
       "71653       950000.0\n",
       "71409       950000.0\n",
       "73979       946220.0\n",
       "Name: description, dtype: float64"
      ]
     },
     "execution_count": 184,
     "metadata": {},
     "output_type": "execute_result"
    }
   ],
   "source": [
    "# formateo con condicional (mayores a cinco cifras y menores a nueve cifras)\n",
    "\n",
    "precios_descripcion_filtado = precios_descripcion_formateado.apply(lambda x: x if x > 20000 and x < 30000000 else np.NaN)\n",
    "\n",
    "print('Macheos de precios filtrados en titulo:', precios_descripcion_filtado.notnull().sum())\n",
    "\n",
    "precios_descripcion_filtado.sort_values(ascending=False).head(10)"
   ]
  },
  {
   "cell_type": "code",
   "execution_count": 185,
   "metadata": {},
   "outputs": [
    {
     "data": {
      "text/plain": [
       "750000.0"
      ]
     },
     "execution_count": 185,
     "metadata": {},
     "output_type": "execute_result"
    }
   ],
   "source": [
    "precios_descripcion_filtado.iloc[55245]"
   ]
  },
  {
   "cell_type": "markdown",
   "metadata": {},
   "source": [
    "#### Precios en título"
   ]
  },
  {
   "cell_type": "code",
   "execution_count": 186,
   "metadata": {},
   "outputs": [
    {
     "name": "stdout",
     "output_type": "stream",
     "text": [
      "Macheos encontrados de precios en descripción: 6592\n",
      "Ejemplo: 123.456.789\n"
     ]
    },
    {
     "data": {
      "text/plain": [
       "True     114628\n",
       "False      6592\n",
       "Name: title, dtype: int64"
      ]
     },
     "execution_count": 186,
     "metadata": {},
     "output_type": "execute_result"
    }
   ],
   "source": [
    "# precios en descripción\n",
    "\n",
    "precios_tit_macheo = data.title.apply(lambda x: x if x is np.NaN else regex_precio_inm.search(x))\n",
    "precios_tit = precios_tit_macheo\\\n",
    "        .apply(lambda x: x if x is None or x is np.NaN else x.group(2))\n",
    "\n",
    "print('Macheos encontrados de precios en descripción:',precios_tit_macheo.notnull().sum())\n",
    "print('Ejemplo:',precios_tit.iloc[1937])\n",
    "precios_tit.isnull().value_counts()"
   ]
  },
  {
   "cell_type": "code",
   "execution_count": 187,
   "metadata": {},
   "outputs": [
    {
     "data": {
      "text/plain": [
       "123456789.0"
      ]
     },
     "execution_count": 187,
     "metadata": {},
     "output_type": "execute_result"
    }
   ],
   "source": [
    "# formateos con regex\n",
    "\n",
    "precios_tit_formateo_match = precios_tit\\\n",
    "                    .apply(lambda x: x if x is None or x is np.NaN else regex_precio_inm_2.search(x))\n",
    "\n",
    "precios_tit_formateado = precios_tit_formateo_match\\\n",
    "                    .apply(lambda x: np.NaN if x is None or x is np.NaN else x.group()\\\n",
    "                        .replace(',','')\\\n",
    "                        .replace('.',''))\\\n",
    "                    .astype(float)\n",
    "\n",
    "# el siguiente nro debe ser filtrado\n",
    "precios_tit_formateado.iloc[1937]"
   ]
  },
  {
   "cell_type": "code",
   "execution_count": 188,
   "metadata": {},
   "outputs": [
    {
     "name": "stdout",
     "output_type": "stream",
     "text": [
      "Macheos de precios filtrados en titulo: 6574\n"
     ]
    },
    {
     "data": {
      "text/plain": [
       "34638    14000000.0\n",
       "2082     11800000.0\n",
       "525      11000000.0\n",
       "8303       999999.0\n",
       "5082       998000.0\n",
       "17486      990000.0\n",
       "9858       990000.0\n",
       "11673      990000.0\n",
       "21401      990000.0\n",
       "21474      980000.0\n",
       "Name: title, dtype: float64"
      ]
     },
     "execution_count": 188,
     "metadata": {},
     "output_type": "execute_result"
    }
   ],
   "source": [
    "# formateo con condicional (mayores a cinco cifras y menores a nueve cifras)\n",
    "\n",
    "precios_tit_filtado = precios_tit_formateado.apply(lambda x: x if x > 20000 and x < 30000000 else np.NaN)\n",
    "\n",
    "print('Macheos de precios filtrados en titulo:', precios_tit_filtado.notnull().sum())\n",
    "\n",
    "precios_tit_filtado.sort_values(ascending=False).head(10)"
   ]
  },
  {
   "cell_type": "markdown",
   "metadata": {},
   "source": [
    "### Revision"
   ]
  },
  {
   "cell_type": "code",
   "execution_count": 189,
   "metadata": {},
   "outputs": [
    {
     "data": {
      "text/plain": [
       "'Casa 2079m² en Del Libertador, Av. 2200, Vicente López, Olivos, por U$S 14.000.000'"
      ]
     },
     "execution_count": 189,
     "metadata": {},
     "output_type": "execute_result"
    }
   ],
   "source": [
    "data.title.iloc[34638]"
   ]
  },
  {
   "cell_type": "code",
   "execution_count": 190,
   "metadata": {},
   "outputs": [
    {
     "data": {
      "text/plain": [
       "'Casa con Agua Corriente, Córdoba, Punilla, por U$S 25.000.000'"
      ]
     },
     "execution_count": 190,
     "metadata": {},
     "output_type": "execute_result"
    }
   ],
   "source": [
    "data.description.iloc[91468]"
   ]
  },
  {
   "cell_type": "markdown",
   "metadata": {},
   "source": [
    "### Fusión"
   ]
  },
  {
   "cell_type": "code",
   "execution_count": 191,
   "metadata": {},
   "outputs": [
    {
     "data": {
      "text/plain": [
       "5853"
      ]
     },
     "execution_count": 191,
     "metadata": {},
     "output_type": "execute_result"
    }
   ],
   "source": [
    "precios_descripcion_filtado.notnull().sum()"
   ]
  },
  {
   "cell_type": "code",
   "execution_count": 192,
   "metadata": {},
   "outputs": [
    {
     "data": {
      "text/plain": [
       "6574"
      ]
     },
     "execution_count": 192,
     "metadata": {},
     "output_type": "execute_result"
    }
   ],
   "source": [
    "precios_tit_filtado.notnull().sum()"
   ]
  },
  {
   "cell_type": "code",
   "execution_count": 193,
   "metadata": {},
   "outputs": [
    {
     "data": {
      "text/plain": [
       "100810"
      ]
     },
     "execution_count": 193,
     "metadata": {},
     "output_type": "execute_result"
    }
   ],
   "source": [
    "data.price.notnull().sum()"
   ]
  },
  {
   "cell_type": "markdown",
   "metadata": {},
   "source": [
    "#### Price + Precios de descripción"
   ]
  },
  {
   "cell_type": "code",
   "execution_count": 228,
   "metadata": {},
   "outputs": [
    {
     "name": "stdout",
     "output_type": "stream",
     "text": [
      "precios vacíos en columna price: 20410\n",
      "precios a rellenar en columna price desde description: 424\n",
      "precios vacios tras relleno con precios de desc: 18027 \n",
      "20410 - 424 = 18027\n"
     ]
    }
   ],
   "source": [
    "print('precios vacíos en columna price:',data.price.isnull().sum())\n",
    "print('precios a rellenar en columna price desde description:', precios_descripcion_filtado.loc[data.price.isnull()].notnull().sum())\n",
    "\n",
    "# imputacion de valores extraídos de desc\n",
    "# data['price_desc'] = data['price']\n",
    "# data['price_desc'].loc[data.price.isnull()] = precios_descripcion_filtado.loc[data.price.isnull()]\n",
    "\n",
    "print('precios vacios tras relleno con precios de desc:',data.price_tit.isnull().sum(),'\\n20410 -','424 =',20410 - 2383)"
   ]
  },
  {
   "cell_type": "markdown",
   "metadata": {},
   "source": [
    "#### Price + Precios de titulo"
   ]
  },
  {
   "cell_type": "code",
   "execution_count": 229,
   "metadata": {},
   "outputs": [
    {
     "name": "stdout",
     "output_type": "stream",
     "text": [
      "precios vacíos en columna price: 20410\n",
      "precios a rellenar en columna price desde title: 2383\n",
      "precios vacios tras relleno con precios de tit: 18027 \n",
      "20410 - 2383 = 18027\n"
     ]
    }
   ],
   "source": [
    "print('precios vacíos en columna price:',data.price.isnull().sum())\n",
    "print('precios a rellenar en columna price desde title:', precios_tit_filtado.loc[data.price.isnull()].notnull().sum())\n",
    "\n",
    "# imputacion de valores extraídos de tit\n",
    "# data['price_tit'] = data['price']\n",
    "# data['price_tit'].loc[data.price.isnull()] = precios_tit_filtado.loc[data.price.isnull()]\n",
    "\n",
    "print('precios vacios tras relleno con precios de tit:',data.price_tit.isnull().sum(),'\\n20410 -','2383 =',20410 - 2383)"
   ]
  },
  {
   "cell_type": "markdown",
   "metadata": {},
   "source": [
    "### + Patrones"
   ]
  },
  {
   "cell_type": "code",
   "execution_count": 230,
   "metadata": {},
   "outputs": [],
   "source": [
    "# Metros inmueble\n",
    "metros_inmueble_pat = '(\\d{0,4}\\,?\\.?\\d{0,4})? ?(m2|mc|metros|mts)'\n",
    "metros_inmueble_reg = re.compile(metros_inmueble_pat, flags = re.IGNORECASE)\n",
    "\n",
    "# Cochera\n",
    "cochera_pat = '(?<!sin )(?<!no incluye )(?<!no posee )cochera(?! no incluye)(?! no incluida)'\n",
    "cochera_reg = re.compile(cochera_pat, flags = re.IGNORECASE)\n",
    "\n",
    "# Piscina/Pileta\n",
    "piscina_pat = 'piscina|pileta(?! de baño)(?! de cocina)'\n",
    "piscina_reg = re.compile(piscina_pat, flags = re.IGNORECASE)\n",
    "\n",
    "# Ambientes\n",
    "amb_pat = '(\\d{1,4})(?= ambientes)(?= amb)'\n",
    "amb_reg = re.compile(amb_pat, flags = re.IGNORECASE)"
   ]
  },
  {
   "cell_type": "code",
   "execution_count": null,
   "metadata": {},
   "outputs": [],
   "source": []
  }
 ],
 "metadata": {
  "kernelspec": {
   "display_name": "Python 3",
   "language": "python",
   "name": "python3"
  },
  "language_info": {
   "codemirror_mode": {
    "name": "ipython",
    "version": 3
   },
   "file_extension": ".py",
   "mimetype": "text/x-python",
   "name": "python",
   "nbconvert_exporter": "python",
   "pygments_lexer": "ipython3",
   "version": "3.7.7"
  }
 },
 "nbformat": 4,
 "nbformat_minor": 4
}
